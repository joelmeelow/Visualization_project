{
 "cells": [
  {
   "cell_type": "code",
   "execution_count": 3,
   "id": "91e19509",
   "metadata": {},
   "outputs": [],
   "source": [
    "import numpy as np \n",
    "import pandas as pd\n",
    "import plotly.express as px\n",
    "import matplotlib.pyplot as plt"
   ]
  },
  {
   "cell_type": "code",
   "execution_count": 4,
   "id": "1b2e0531",
   "metadata": {},
   "outputs": [],
   "source": [
    "df = df = pd.read_csv(\"C:Documents\\ds_salaries.csv\")"
   ]
  },
  {
   "cell_type": "code",
   "execution_count": 5,
   "id": "b0ff5199",
   "metadata": {},
   "outputs": [
    {
     "data": {
      "text/html": [
       "<div>\n",
       "<style scoped>\n",
       "    .dataframe tbody tr th:only-of-type {\n",
       "        vertical-align: middle;\n",
       "    }\n",
       "\n",
       "    .dataframe tbody tr th {\n",
       "        vertical-align: top;\n",
       "    }\n",
       "\n",
       "    .dataframe thead th {\n",
       "        text-align: right;\n",
       "    }\n",
       "</style>\n",
       "<table border=\"1\" class=\"dataframe\">\n",
       "  <thead>\n",
       "    <tr style=\"text-align: right;\">\n",
       "      <th></th>\n",
       "      <th>Unnamed: 0</th>\n",
       "      <th>work_year</th>\n",
       "      <th>experience_level</th>\n",
       "      <th>employment_type</th>\n",
       "      <th>job_title</th>\n",
       "      <th>salary</th>\n",
       "      <th>salary_currency</th>\n",
       "      <th>salary_in_usd</th>\n",
       "      <th>employee_residence</th>\n",
       "      <th>remote_ratio</th>\n",
       "      <th>company_location</th>\n",
       "      <th>company_size</th>\n",
       "    </tr>\n",
       "  </thead>\n",
       "  <tbody>\n",
       "    <tr>\n",
       "      <th>0</th>\n",
       "      <td>0</td>\n",
       "      <td>2020</td>\n",
       "      <td>MI</td>\n",
       "      <td>FT</td>\n",
       "      <td>Data Scientist</td>\n",
       "      <td>70000</td>\n",
       "      <td>EUR</td>\n",
       "      <td>79833</td>\n",
       "      <td>DE</td>\n",
       "      <td>0</td>\n",
       "      <td>DE</td>\n",
       "      <td>L</td>\n",
       "    </tr>\n",
       "    <tr>\n",
       "      <th>1</th>\n",
       "      <td>1</td>\n",
       "      <td>2020</td>\n",
       "      <td>SE</td>\n",
       "      <td>FT</td>\n",
       "      <td>Machine Learning Scientist</td>\n",
       "      <td>260000</td>\n",
       "      <td>USD</td>\n",
       "      <td>260000</td>\n",
       "      <td>JP</td>\n",
       "      <td>0</td>\n",
       "      <td>JP</td>\n",
       "      <td>S</td>\n",
       "    </tr>\n",
       "    <tr>\n",
       "      <th>2</th>\n",
       "      <td>2</td>\n",
       "      <td>2020</td>\n",
       "      <td>SE</td>\n",
       "      <td>FT</td>\n",
       "      <td>Big Data Engineer</td>\n",
       "      <td>85000</td>\n",
       "      <td>GBP</td>\n",
       "      <td>109024</td>\n",
       "      <td>GB</td>\n",
       "      <td>50</td>\n",
       "      <td>GB</td>\n",
       "      <td>M</td>\n",
       "    </tr>\n",
       "    <tr>\n",
       "      <th>3</th>\n",
       "      <td>3</td>\n",
       "      <td>2020</td>\n",
       "      <td>MI</td>\n",
       "      <td>FT</td>\n",
       "      <td>Product Data Analyst</td>\n",
       "      <td>20000</td>\n",
       "      <td>USD</td>\n",
       "      <td>20000</td>\n",
       "      <td>HN</td>\n",
       "      <td>0</td>\n",
       "      <td>HN</td>\n",
       "      <td>S</td>\n",
       "    </tr>\n",
       "    <tr>\n",
       "      <th>4</th>\n",
       "      <td>4</td>\n",
       "      <td>2020</td>\n",
       "      <td>SE</td>\n",
       "      <td>FT</td>\n",
       "      <td>Machine Learning Engineer</td>\n",
       "      <td>150000</td>\n",
       "      <td>USD</td>\n",
       "      <td>150000</td>\n",
       "      <td>US</td>\n",
       "      <td>50</td>\n",
       "      <td>US</td>\n",
       "      <td>L</td>\n",
       "    </tr>\n",
       "    <tr>\n",
       "      <th>5</th>\n",
       "      <td>5</td>\n",
       "      <td>2020</td>\n",
       "      <td>EN</td>\n",
       "      <td>FT</td>\n",
       "      <td>Data Analyst</td>\n",
       "      <td>72000</td>\n",
       "      <td>USD</td>\n",
       "      <td>72000</td>\n",
       "      <td>US</td>\n",
       "      <td>100</td>\n",
       "      <td>US</td>\n",
       "      <td>L</td>\n",
       "    </tr>\n",
       "    <tr>\n",
       "      <th>6</th>\n",
       "      <td>6</td>\n",
       "      <td>2020</td>\n",
       "      <td>SE</td>\n",
       "      <td>FT</td>\n",
       "      <td>Lead Data Scientist</td>\n",
       "      <td>190000</td>\n",
       "      <td>USD</td>\n",
       "      <td>190000</td>\n",
       "      <td>US</td>\n",
       "      <td>100</td>\n",
       "      <td>US</td>\n",
       "      <td>S</td>\n",
       "    </tr>\n",
       "    <tr>\n",
       "      <th>7</th>\n",
       "      <td>7</td>\n",
       "      <td>2020</td>\n",
       "      <td>MI</td>\n",
       "      <td>FT</td>\n",
       "      <td>Data Scientist</td>\n",
       "      <td>11000000</td>\n",
       "      <td>HUF</td>\n",
       "      <td>35735</td>\n",
       "      <td>HU</td>\n",
       "      <td>50</td>\n",
       "      <td>HU</td>\n",
       "      <td>L</td>\n",
       "    </tr>\n",
       "    <tr>\n",
       "      <th>8</th>\n",
       "      <td>8</td>\n",
       "      <td>2020</td>\n",
       "      <td>MI</td>\n",
       "      <td>FT</td>\n",
       "      <td>Business Data Analyst</td>\n",
       "      <td>135000</td>\n",
       "      <td>USD</td>\n",
       "      <td>135000</td>\n",
       "      <td>US</td>\n",
       "      <td>100</td>\n",
       "      <td>US</td>\n",
       "      <td>L</td>\n",
       "    </tr>\n",
       "    <tr>\n",
       "      <th>9</th>\n",
       "      <td>9</td>\n",
       "      <td>2020</td>\n",
       "      <td>SE</td>\n",
       "      <td>FT</td>\n",
       "      <td>Lead Data Engineer</td>\n",
       "      <td>125000</td>\n",
       "      <td>USD</td>\n",
       "      <td>125000</td>\n",
       "      <td>NZ</td>\n",
       "      <td>50</td>\n",
       "      <td>NZ</td>\n",
       "      <td>S</td>\n",
       "    </tr>\n",
       "  </tbody>\n",
       "</table>\n",
       "</div>"
      ],
      "text/plain": [
       "   Unnamed: 0  work_year experience_level employment_type  \\\n",
       "0           0       2020               MI              FT   \n",
       "1           1       2020               SE              FT   \n",
       "2           2       2020               SE              FT   \n",
       "3           3       2020               MI              FT   \n",
       "4           4       2020               SE              FT   \n",
       "5           5       2020               EN              FT   \n",
       "6           6       2020               SE              FT   \n",
       "7           7       2020               MI              FT   \n",
       "8           8       2020               MI              FT   \n",
       "9           9       2020               SE              FT   \n",
       "\n",
       "                    job_title    salary salary_currency  salary_in_usd  \\\n",
       "0              Data Scientist     70000             EUR          79833   \n",
       "1  Machine Learning Scientist    260000             USD         260000   \n",
       "2           Big Data Engineer     85000             GBP         109024   \n",
       "3        Product Data Analyst     20000             USD          20000   \n",
       "4   Machine Learning Engineer    150000             USD         150000   \n",
       "5                Data Analyst     72000             USD          72000   \n",
       "6         Lead Data Scientist    190000             USD         190000   \n",
       "7              Data Scientist  11000000             HUF          35735   \n",
       "8       Business Data Analyst    135000             USD         135000   \n",
       "9          Lead Data Engineer    125000             USD         125000   \n",
       "\n",
       "  employee_residence  remote_ratio company_location company_size  \n",
       "0                 DE             0               DE            L  \n",
       "1                 JP             0               JP            S  \n",
       "2                 GB            50               GB            M  \n",
       "3                 HN             0               HN            S  \n",
       "4                 US            50               US            L  \n",
       "5                 US           100               US            L  \n",
       "6                 US           100               US            S  \n",
       "7                 HU            50               HU            L  \n",
       "8                 US           100               US            L  \n",
       "9                 NZ            50               NZ            S  "
      ]
     },
     "execution_count": 5,
     "metadata": {},
     "output_type": "execute_result"
    }
   ],
   "source": [
    "df.head(10)"
   ]
  },
  {
   "cell_type": "markdown",
   "id": "d43f0091",
   "metadata": {},
   "source": [
    "Dataset Dictionary\n",
    "Dataset\n",
    "\n",
    "work_year - The year the salary was paid.\n",
    "\n",
    "experience_level - The experience level in the job during the year with the following possible values:\n",
    "EN = Entry-level / Junior\n",
    "MI = Mid-level / Intermediate\n",
    "SE = Senior-level / Expert\n",
    "EX = Executive-level / Director\n",
    "\n",
    "employment_type - The type of employement for the role:\n",
    "PT = Part-time\n",
    "FT = Full-time\n",
    "CT = Contract\n",
    "FL = Freelance\n",
    "\n",
    "job_title - The role worked in during the year.\n",
    "\n",
    "salary - The total gross salary amount paid.\n",
    "\n",
    "salary_currency - The currency of the salary paid as an ISO 4217 currency code.\n",
    "\n",
    "salary_in_usd - The salary in USD (FX rate divided by avg. USD rate for the respective year via fxdata.foorilla.com).\n",
    "\n",
    "employee_residence - Employee's primary country of residence in during the work year as an ISO 3166 country code(Alpha-2 code).\n",
    "\n",
    "remote_ratio - The overall amount of work done remotely, possible values are as follows:\n",
    "0 = No remote work (less than 20%)\n",
    "50 = Partially remote\n",
    "100 = Fully remote (more than 80%)\n",
    "\n",
    "company_location - The country of the employer's main office or contracting branch as an ISO 3166 country code(Alpha-2 code).\n",
    "\n",
    "company_size - The average number of people that worked for the company during the year:\n",
    "S = less than 50 employees (small)\n",
    "M = 50 to 250 employees (medium)\n",
    "L = more than 250 employees (large)"
   ]
  },
  {
   "cell_type": "markdown",
   "id": "48c08eab",
   "metadata": {},
   "source": [
    "Knowing the Dataset"
   ]
  },
  {
   "cell_type": "code",
   "execution_count": 6,
   "id": "e94606a4",
   "metadata": {},
   "outputs": [
    {
     "data": {
      "text/plain": [
       "Unnamed: 0             int64\n",
       "work_year              int64\n",
       "experience_level      object\n",
       "employment_type       object\n",
       "job_title             object\n",
       "salary                 int64\n",
       "salary_currency       object\n",
       "salary_in_usd          int64\n",
       "employee_residence    object\n",
       "remote_ratio           int64\n",
       "company_location      object\n",
       "company_size          object\n",
       "dtype: object"
      ]
     },
     "execution_count": 6,
     "metadata": {},
     "output_type": "execute_result"
    }
   ],
   "source": [
    "df.dtypes"
   ]
  },
  {
   "cell_type": "code",
   "execution_count": 7,
   "id": "6adf613b",
   "metadata": {},
   "outputs": [
    {
     "data": {
      "text/plain": [
       "Unnamed: 0            0\n",
       "work_year             0\n",
       "experience_level      0\n",
       "employment_type       0\n",
       "job_title             0\n",
       "salary                0\n",
       "salary_currency       0\n",
       "salary_in_usd         0\n",
       "employee_residence    0\n",
       "remote_ratio          0\n",
       "company_location      0\n",
       "company_size          0\n",
       "dtype: int64"
      ]
     },
     "execution_count": 7,
     "metadata": {},
     "output_type": "execute_result"
    }
   ],
   "source": [
    "#checking for null values\n",
    "df.isnull().sum()"
   ]
  },
  {
   "cell_type": "code",
   "execution_count": 8,
   "id": "3b417b4b",
   "metadata": {},
   "outputs": [
    {
     "data": {
      "text/plain": [
       "Unnamed: 0            607\n",
       "work_year               3\n",
       "experience_level        4\n",
       "employment_type         4\n",
       "job_title              50\n",
       "salary                272\n",
       "salary_currency        17\n",
       "salary_in_usd         369\n",
       "employee_residence     57\n",
       "remote_ratio            3\n",
       "company_location       50\n",
       "company_size            3\n",
       "dtype: int64"
      ]
     },
     "execution_count": 8,
     "metadata": {},
     "output_type": "execute_result"
    }
   ],
   "source": [
    "#checking for unique values\n",
    "df.nunique()"
   ]
  },
  {
   "cell_type": "code",
   "execution_count": 9,
   "id": "305bff00",
   "metadata": {},
   "outputs": [],
   "source": [
    "#Replacing some of the values to understand the graphs clearly\n",
    "df.remote_ratio.replace([100,50,0], ['Remote', 'Hybrid' ,'On-site'],inplace = True)\n",
    "df.experience_level.replace(['EN','MI','SE', 'EX'], ['Entry', 'Mid', 'Senior', 'Executive'], inplace = True)"
   ]
  },
  {
   "cell_type": "code",
   "execution_count": 10,
   "id": "ce96bdbf",
   "metadata": {},
   "outputs": [
    {
     "data": {
      "text/html": [
       "<div>\n",
       "<style scoped>\n",
       "    .dataframe tbody tr th:only-of-type {\n",
       "        vertical-align: middle;\n",
       "    }\n",
       "\n",
       "    .dataframe tbody tr th {\n",
       "        vertical-align: top;\n",
       "    }\n",
       "\n",
       "    .dataframe thead th {\n",
       "        text-align: right;\n",
       "    }\n",
       "</style>\n",
       "<table border=\"1\" class=\"dataframe\">\n",
       "  <thead>\n",
       "    <tr style=\"text-align: right;\">\n",
       "      <th></th>\n",
       "      <th>Unnamed: 0</th>\n",
       "      <th>work_year</th>\n",
       "      <th>experience_level</th>\n",
       "      <th>employment_type</th>\n",
       "      <th>job_title</th>\n",
       "      <th>salary</th>\n",
       "      <th>salary_currency</th>\n",
       "      <th>salary_in_usd</th>\n",
       "      <th>employee_residence</th>\n",
       "      <th>remote_ratio</th>\n",
       "      <th>company_location</th>\n",
       "      <th>company_size</th>\n",
       "    </tr>\n",
       "  </thead>\n",
       "  <tbody>\n",
       "    <tr>\n",
       "      <th>0</th>\n",
       "      <td>0</td>\n",
       "      <td>2020</td>\n",
       "      <td>Mid</td>\n",
       "      <td>FT</td>\n",
       "      <td>Data Scientist</td>\n",
       "      <td>70000</td>\n",
       "      <td>EUR</td>\n",
       "      <td>79833</td>\n",
       "      <td>DE</td>\n",
       "      <td>On-site</td>\n",
       "      <td>DE</td>\n",
       "      <td>L</td>\n",
       "    </tr>\n",
       "    <tr>\n",
       "      <th>1</th>\n",
       "      <td>1</td>\n",
       "      <td>2020</td>\n",
       "      <td>Senior</td>\n",
       "      <td>FT</td>\n",
       "      <td>Machine Learning Scientist</td>\n",
       "      <td>260000</td>\n",
       "      <td>USD</td>\n",
       "      <td>260000</td>\n",
       "      <td>JP</td>\n",
       "      <td>On-site</td>\n",
       "      <td>JP</td>\n",
       "      <td>S</td>\n",
       "    </tr>\n",
       "    <tr>\n",
       "      <th>2</th>\n",
       "      <td>2</td>\n",
       "      <td>2020</td>\n",
       "      <td>Senior</td>\n",
       "      <td>FT</td>\n",
       "      <td>Big Data Engineer</td>\n",
       "      <td>85000</td>\n",
       "      <td>GBP</td>\n",
       "      <td>109024</td>\n",
       "      <td>GB</td>\n",
       "      <td>Hybrid</td>\n",
       "      <td>GB</td>\n",
       "      <td>M</td>\n",
       "    </tr>\n",
       "    <tr>\n",
       "      <th>3</th>\n",
       "      <td>3</td>\n",
       "      <td>2020</td>\n",
       "      <td>Mid</td>\n",
       "      <td>FT</td>\n",
       "      <td>Product Data Analyst</td>\n",
       "      <td>20000</td>\n",
       "      <td>USD</td>\n",
       "      <td>20000</td>\n",
       "      <td>HN</td>\n",
       "      <td>On-site</td>\n",
       "      <td>HN</td>\n",
       "      <td>S</td>\n",
       "    </tr>\n",
       "    <tr>\n",
       "      <th>4</th>\n",
       "      <td>4</td>\n",
       "      <td>2020</td>\n",
       "      <td>Senior</td>\n",
       "      <td>FT</td>\n",
       "      <td>Machine Learning Engineer</td>\n",
       "      <td>150000</td>\n",
       "      <td>USD</td>\n",
       "      <td>150000</td>\n",
       "      <td>US</td>\n",
       "      <td>Hybrid</td>\n",
       "      <td>US</td>\n",
       "      <td>L</td>\n",
       "    </tr>\n",
       "  </tbody>\n",
       "</table>\n",
       "</div>"
      ],
      "text/plain": [
       "   Unnamed: 0  work_year experience_level employment_type  \\\n",
       "0           0       2020              Mid              FT   \n",
       "1           1       2020           Senior              FT   \n",
       "2           2       2020           Senior              FT   \n",
       "3           3       2020              Mid              FT   \n",
       "4           4       2020           Senior              FT   \n",
       "\n",
       "                    job_title  salary salary_currency  salary_in_usd  \\\n",
       "0              Data Scientist   70000             EUR          79833   \n",
       "1  Machine Learning Scientist  260000             USD         260000   \n",
       "2           Big Data Engineer   85000             GBP         109024   \n",
       "3        Product Data Analyst   20000             USD          20000   \n",
       "4   Machine Learning Engineer  150000             USD         150000   \n",
       "\n",
       "  employee_residence remote_ratio company_location company_size  \n",
       "0                 DE      On-site               DE            L  \n",
       "1                 JP      On-site               JP            S  \n",
       "2                 GB       Hybrid               GB            M  \n",
       "3                 HN      On-site               HN            S  \n",
       "4                 US       Hybrid               US            L  "
      ]
     },
     "execution_count": 10,
     "metadata": {},
     "output_type": "execute_result"
    }
   ],
   "source": [
    "df.head()"
   ]
  },
  {
   "cell_type": "markdown",
   "id": "14b47e85",
   "metadata": {},
   "source": [
    "                                EXPLORATORY DATA ANALYSIS"
   ]
  },
  {
   "cell_type": "code",
   "execution_count": 12,
   "id": "081d635f",
   "metadata": {},
   "outputs": [
    {
     "data": {
      "application/vnd.plotly.v1+json": {
       "config": {
        "plotlyServerURL": "https://plot.ly"
       },
       "data": [
        {
         "alignmentgroup": "True",
         "bingroup": "x",
         "histnorm": "percent",
         "hovertemplate": "employment_type=%{x}<br>percent=%{y}<extra></extra>",
         "legendgroup": "",
         "marker": {
          "color": "#F8766D",
          "pattern": {
           "shape": ""
          }
         },
         "name": "",
         "offsetgroup": "",
         "orientation": "v",
         "showlegend": false,
         "texttemplate": "%{value:.2f}",
         "type": "histogram",
         "x": [
          "FT",
          "FT",
          "FT",
          "FT",
          "FT",
          "FT",
          "FT",
          "FT",
          "FT",
          "FT",
          "FT",
          "FT",
          "FT",
          "FT",
          "FT",
          "FT",
          "FT",
          "FT",
          "FT",
          "FT",
          "FT",
          "FT",
          "FT",
          "FT",
          "FT",
          "FT",
          "FT",
          "FT",
          "CT",
          "FT",
          "FT",
          "FT",
          "FT",
          "FT",
          "FT",
          "FT",
          "FT",
          "FT",
          "FT",
          "FT",
          "FT",
          "FT",
          "FT",
          "FT",
          "FT",
          "PT",
          "FT",
          "FT",
          "FT",
          "FT",
          "FT",
          "FT",
          "FT",
          "FT",
          "FL",
          "FT",
          "FT",
          "FT",
          "FT",
          "FT",
          "FT",
          "FT",
          "PT",
          "FT",
          "FT",
          "FT",
          "FT",
          "FT",
          "FT",
          "FT",
          "FT",
          "FT",
          "FT",
          "FT",
          "FT",
          "FT",
          "FT",
          "PT",
          "CT",
          "FT",
          "FT",
          "FT",
          "FT",
          "FT",
          "FT",
          "FT",
          "FT",
          "FT",
          "FT",
          "FT",
          "FT",
          "FT",
          "FT",
          "FT",
          "FT",
          "FT",
          "PT",
          "FT",
          "FT",
          "FT",
          "FT",
          "FT",
          "FT",
          "FT",
          "FT",
          "FT",
          "FT",
          "FT",
          "FT",
          "FT",
          "FT",
          "FT",
          "FT",
          "PT",
          "FT",
          "FT",
          "FT",
          "FT",
          "FT",
          "FT",
          "FT",
          "FT",
          "FT",
          "FT",
          "PT",
          "FT",
          "FT",
          "FT",
          "FT",
          "FT",
          "FT",
          "FT",
          "FT",
          "FT",
          "FT",
          "FT",
          "FT",
          "FT",
          "FT",
          "FT",
          "FT",
          "FT",
          "FT",
          "FT",
          "FT",
          "FT",
          "FT",
          "FT",
          "FT",
          "FT",
          "FT",
          "FT",
          "FT",
          "FT",
          "FT",
          "FT",
          "FT",
          "FT",
          "FT",
          "FT",
          "FT",
          "FT",
          "FT",
          "FT",
          "FT",
          "FT",
          "FT",
          "FT",
          "FT",
          "FT",
          "FT",
          "FT",
          "FT",
          "FT",
          "FT",
          "FT",
          "FT",
          "FT",
          "FT",
          "FT",
          "FT",
          "FT",
          "FT",
          "FT",
          "FL",
          "FT",
          "FT",
          "FT",
          "FT",
          "FT",
          "FT",
          "FT",
          "FT",
          "FT",
          "FT",
          "FT",
          "FT",
          "FT",
          "FT",
          "FT",
          "FT",
          "FT",
          "FT",
          "FT",
          "FT",
          "FT",
          "FT",
          "FT",
          "FL",
          "FT",
          "FT",
          "FT",
          "FT",
          "FT",
          "FT",
          "FT",
          "PT",
          "FT",
          "FT",
          "FT",
          "FT",
          "FT",
          "FT",
          "FT",
          "FT",
          "CT",
          "FT",
          "FT",
          "FT",
          "FT",
          "FT",
          "FT",
          "FT",
          "FT",
          "FT",
          "FT",
          "FT",
          "FT",
          "FT",
          "FT",
          "FT",
          "FT",
          "FT",
          "FT",
          "FT",
          "FT",
          "FT",
          "FT",
          "FT",
          "FT",
          "FT",
          "FT",
          "FT",
          "FT",
          "FT",
          "FT",
          "FT",
          "FT",
          "FT",
          "FT",
          "FT",
          "FT",
          "FT",
          "FT",
          "FT",
          "FT",
          "FT",
          "FT",
          "FT",
          "FT",
          "FT",
          "FT",
          "FT",
          "FT",
          "FT",
          "FT",
          "FT",
          "FT",
          "FT",
          "FT",
          "FT",
          "FT",
          "PT",
          "CT",
          "FT",
          "FT",
          "FT",
          "FT",
          "FT",
          "FT",
          "FT",
          "FT",
          "FT",
          "FT",
          "FT",
          "FT",
          "FT",
          "FT",
          "FT",
          "FT",
          "FT",
          "FT",
          "FT",
          "FT",
          "FT",
          "FT",
          "FT",
          "FT",
          "FT",
          "FT",
          "FT",
          "FT",
          "FT",
          "FT",
          "FT",
          "FT",
          "FT",
          "FT",
          "FT",
          "FT",
          "FT",
          "FT",
          "FT",
          "FT",
          "FT",
          "FT",
          "FT",
          "FT",
          "FT",
          "FT",
          "FT",
          "FT",
          "FT",
          "FT",
          "FT",
          "FT",
          "FT",
          "FT",
          "FT",
          "FT",
          "FT",
          "FT",
          "FT",
          "FT",
          "FT",
          "FT",
          "FT",
          "FT",
          "FT",
          "FT",
          "FT",
          "FT",
          "FT",
          "FT",
          "FT",
          "FT",
          "FT",
          "FT",
          "FT",
          "FT",
          "FT",
          "FT",
          "FT",
          "FT",
          "FT",
          "FT",
          "FT",
          "FT",
          "FT",
          "FT",
          "FT",
          "FT",
          "FT",
          "FT",
          "FT",
          "FT",
          "FT",
          "FT",
          "FT",
          "FT",
          "FT",
          "FT",
          "FT",
          "FT",
          "FT",
          "FT",
          "FT",
          "FT",
          "FT",
          "FT",
          "FT",
          "FT",
          "FT",
          "FT",
          "FT",
          "FT",
          "FT",
          "FT",
          "FT",
          "FT",
          "FT",
          "FT",
          "FT",
          "FT",
          "FT",
          "FT",
          "FT",
          "FT",
          "FT",
          "FT",
          "FT",
          "FT",
          "FT",
          "FT",
          "FT",
          "FT",
          "FT",
          "FT",
          "FT",
          "FT",
          "FT",
          "FT",
          "FT",
          "FT",
          "FT",
          "FT",
          "FT",
          "FT",
          "FT",
          "FT",
          "FT",
          "FT",
          "FT",
          "FT",
          "FT",
          "FT",
          "FT",
          "FT",
          "FT",
          "FT",
          "FT",
          "FT",
          "FT",
          "FT",
          "FT",
          "FT",
          "FT",
          "FT",
          "FT",
          "FT",
          "FT",
          "FT",
          "FT",
          "FT",
          "FT",
          "FT",
          "FT",
          "FT",
          "FT",
          "FT",
          "FT",
          "FT",
          "PT",
          "FT",
          "FT",
          "FT",
          "FT",
          "FT",
          "FT",
          "FT",
          "FT",
          "FT",
          "FT",
          "FT",
          "FT",
          "FT",
          "FT",
          "FT",
          "FT",
          "FT",
          "FT",
          "FT",
          "FT",
          "FT",
          "FT",
          "FT",
          "FT",
          "PT",
          "FL",
          "CT",
          "FT",
          "FT",
          "FT",
          "FT",
          "FT",
          "FT",
          "FT",
          "FT",
          "FT",
          "FT",
          "FT",
          "FT",
          "FT",
          "FT",
          "FT",
          "FT",
          "FT",
          "FT",
          "FT",
          "FT",
          "FT",
          "FT",
          "FT",
          "FT",
          "FT",
          "FT",
          "FT",
          "FT",
          "FT",
          "FT",
          "FT",
          "FT",
          "FT",
          "FT",
          "FT",
          "FT",
          "FT",
          "FT",
          "FT",
          "FT",
          "FT",
          "FT",
          "FT",
          "FT",
          "FT",
          "FT",
          "FT",
          "FT",
          "FT",
          "FT",
          "FT",
          "FT",
          "FT",
          "FT",
          "FT",
          "FT",
          "FT",
          "FT",
          "FT",
          "FT",
          "FT",
          "FT",
          "FT",
          "FT",
          "FT",
          "FT",
          "FT",
          "FT",
          "FT",
          "FT",
          "FT",
          "FT",
          "FT",
          "FT",
          "FT",
          "FT",
          "FT",
          "FT",
          "FT",
          "FT",
          "FT",
          "FT",
          "FT",
          "FT",
          "FT",
          "FT",
          "FT",
          "FT",
          "FT",
          "FT",
          "FT",
          "FT",
          "FT",
          "FT",
          "FT",
          "FT",
          "FT",
          "FT",
          "FT",
          "FT",
          "FT",
          "FT",
          "FT",
          "FT",
          "FT",
          "FT",
          "FT",
          "FT",
          "FT",
          "FT",
          "FT",
          "FT",
          "FT",
          "FT",
          "FT",
          "FT",
          "FT"
         ],
         "xaxis": "x",
         "yaxis": "y"
        }
       ],
       "layout": {
        "barmode": "relative",
        "legend": {
         "tracegroupgap": 0
        },
        "template": {
         "data": {
          "bar": [
           {
            "error_x": {
             "color": "rgb(51,51,51)"
            },
            "error_y": {
             "color": "rgb(51,51,51)"
            },
            "marker": {
             "line": {
              "color": "rgb(237,237,237)",
              "width": 0.5
             },
             "pattern": {
              "fillmode": "overlay",
              "size": 10,
              "solidity": 0.2
             }
            },
            "type": "bar"
           }
          ],
          "barpolar": [
           {
            "marker": {
             "line": {
              "color": "rgb(237,237,237)",
              "width": 0.5
             },
             "pattern": {
              "fillmode": "overlay",
              "size": 10,
              "solidity": 0.2
             }
            },
            "type": "barpolar"
           }
          ],
          "carpet": [
           {
            "aaxis": {
             "endlinecolor": "rgb(51,51,51)",
             "gridcolor": "white",
             "linecolor": "white",
             "minorgridcolor": "white",
             "startlinecolor": "rgb(51,51,51)"
            },
            "baxis": {
             "endlinecolor": "rgb(51,51,51)",
             "gridcolor": "white",
             "linecolor": "white",
             "minorgridcolor": "white",
             "startlinecolor": "rgb(51,51,51)"
            },
            "type": "carpet"
           }
          ],
          "choropleth": [
           {
            "colorbar": {
             "outlinewidth": 0,
             "tickcolor": "rgb(237,237,237)",
             "ticklen": 6,
             "ticks": "inside"
            },
            "type": "choropleth"
           }
          ],
          "contour": [
           {
            "colorbar": {
             "outlinewidth": 0,
             "tickcolor": "rgb(237,237,237)",
             "ticklen": 6,
             "ticks": "inside"
            },
            "colorscale": [
             [
              0,
              "rgb(20,44,66)"
             ],
             [
              1,
              "rgb(90,179,244)"
             ]
            ],
            "type": "contour"
           }
          ],
          "contourcarpet": [
           {
            "colorbar": {
             "outlinewidth": 0,
             "tickcolor": "rgb(237,237,237)",
             "ticklen": 6,
             "ticks": "inside"
            },
            "type": "contourcarpet"
           }
          ],
          "heatmap": [
           {
            "colorbar": {
             "outlinewidth": 0,
             "tickcolor": "rgb(237,237,237)",
             "ticklen": 6,
             "ticks": "inside"
            },
            "colorscale": [
             [
              0,
              "rgb(20,44,66)"
             ],
             [
              1,
              "rgb(90,179,244)"
             ]
            ],
            "type": "heatmap"
           }
          ],
          "heatmapgl": [
           {
            "colorbar": {
             "outlinewidth": 0,
             "tickcolor": "rgb(237,237,237)",
             "ticklen": 6,
             "ticks": "inside"
            },
            "colorscale": [
             [
              0,
              "rgb(20,44,66)"
             ],
             [
              1,
              "rgb(90,179,244)"
             ]
            ],
            "type": "heatmapgl"
           }
          ],
          "histogram": [
           {
            "marker": {
             "pattern": {
              "fillmode": "overlay",
              "size": 10,
              "solidity": 0.2
             }
            },
            "type": "histogram"
           }
          ],
          "histogram2d": [
           {
            "colorbar": {
             "outlinewidth": 0,
             "tickcolor": "rgb(237,237,237)",
             "ticklen": 6,
             "ticks": "inside"
            },
            "colorscale": [
             [
              0,
              "rgb(20,44,66)"
             ],
             [
              1,
              "rgb(90,179,244)"
             ]
            ],
            "type": "histogram2d"
           }
          ],
          "histogram2dcontour": [
           {
            "colorbar": {
             "outlinewidth": 0,
             "tickcolor": "rgb(237,237,237)",
             "ticklen": 6,
             "ticks": "inside"
            },
            "colorscale": [
             [
              0,
              "rgb(20,44,66)"
             ],
             [
              1,
              "rgb(90,179,244)"
             ]
            ],
            "type": "histogram2dcontour"
           }
          ],
          "mesh3d": [
           {
            "colorbar": {
             "outlinewidth": 0,
             "tickcolor": "rgb(237,237,237)",
             "ticklen": 6,
             "ticks": "inside"
            },
            "type": "mesh3d"
           }
          ],
          "parcoords": [
           {
            "line": {
             "colorbar": {
              "outlinewidth": 0,
              "tickcolor": "rgb(237,237,237)",
              "ticklen": 6,
              "ticks": "inside"
             }
            },
            "type": "parcoords"
           }
          ],
          "pie": [
           {
            "automargin": true,
            "type": "pie"
           }
          ],
          "scatter": [
           {
            "marker": {
             "colorbar": {
              "outlinewidth": 0,
              "tickcolor": "rgb(237,237,237)",
              "ticklen": 6,
              "ticks": "inside"
             }
            },
            "type": "scatter"
           }
          ],
          "scatter3d": [
           {
            "line": {
             "colorbar": {
              "outlinewidth": 0,
              "tickcolor": "rgb(237,237,237)",
              "ticklen": 6,
              "ticks": "inside"
             }
            },
            "marker": {
             "colorbar": {
              "outlinewidth": 0,
              "tickcolor": "rgb(237,237,237)",
              "ticklen": 6,
              "ticks": "inside"
             }
            },
            "type": "scatter3d"
           }
          ],
          "scattercarpet": [
           {
            "marker": {
             "colorbar": {
              "outlinewidth": 0,
              "tickcolor": "rgb(237,237,237)",
              "ticklen": 6,
              "ticks": "inside"
             }
            },
            "type": "scattercarpet"
           }
          ],
          "scattergeo": [
           {
            "marker": {
             "colorbar": {
              "outlinewidth": 0,
              "tickcolor": "rgb(237,237,237)",
              "ticklen": 6,
              "ticks": "inside"
             }
            },
            "type": "scattergeo"
           }
          ],
          "scattergl": [
           {
            "marker": {
             "colorbar": {
              "outlinewidth": 0,
              "tickcolor": "rgb(237,237,237)",
              "ticklen": 6,
              "ticks": "inside"
             }
            },
            "type": "scattergl"
           }
          ],
          "scattermapbox": [
           {
            "marker": {
             "colorbar": {
              "outlinewidth": 0,
              "tickcolor": "rgb(237,237,237)",
              "ticklen": 6,
              "ticks": "inside"
             }
            },
            "type": "scattermapbox"
           }
          ],
          "scatterpolar": [
           {
            "marker": {
             "colorbar": {
              "outlinewidth": 0,
              "tickcolor": "rgb(237,237,237)",
              "ticklen": 6,
              "ticks": "inside"
             }
            },
            "type": "scatterpolar"
           }
          ],
          "scatterpolargl": [
           {
            "marker": {
             "colorbar": {
              "outlinewidth": 0,
              "tickcolor": "rgb(237,237,237)",
              "ticklen": 6,
              "ticks": "inside"
             }
            },
            "type": "scatterpolargl"
           }
          ],
          "scatterternary": [
           {
            "marker": {
             "colorbar": {
              "outlinewidth": 0,
              "tickcolor": "rgb(237,237,237)",
              "ticklen": 6,
              "ticks": "inside"
             }
            },
            "type": "scatterternary"
           }
          ],
          "surface": [
           {
            "colorbar": {
             "outlinewidth": 0,
             "tickcolor": "rgb(237,237,237)",
             "ticklen": 6,
             "ticks": "inside"
            },
            "colorscale": [
             [
              0,
              "rgb(20,44,66)"
             ],
             [
              1,
              "rgb(90,179,244)"
             ]
            ],
            "type": "surface"
           }
          ],
          "table": [
           {
            "cells": {
             "fill": {
              "color": "rgb(237,237,237)"
             },
             "line": {
              "color": "white"
             }
            },
            "header": {
             "fill": {
              "color": "rgb(217,217,217)"
             },
             "line": {
              "color": "white"
             }
            },
            "type": "table"
           }
          ]
         },
         "layout": {
          "annotationdefaults": {
           "arrowhead": 0,
           "arrowwidth": 1
          },
          "autotypenumbers": "strict",
          "coloraxis": {
           "colorbar": {
            "outlinewidth": 0,
            "tickcolor": "rgb(237,237,237)",
            "ticklen": 6,
            "ticks": "inside"
           }
          },
          "colorscale": {
           "sequential": [
            [
             0,
             "rgb(20,44,66)"
            ],
            [
             1,
             "rgb(90,179,244)"
            ]
           ],
           "sequentialminus": [
            [
             0,
             "rgb(20,44,66)"
            ],
            [
             1,
             "rgb(90,179,244)"
            ]
           ]
          },
          "colorway": [
           "#F8766D",
           "#A3A500",
           "#00BF7D",
           "#00B0F6",
           "#E76BF3"
          ],
          "font": {
           "color": "rgb(51,51,51)"
          },
          "geo": {
           "bgcolor": "white",
           "lakecolor": "white",
           "landcolor": "rgb(237,237,237)",
           "showlakes": true,
           "showland": true,
           "subunitcolor": "white"
          },
          "hoverlabel": {
           "align": "left"
          },
          "hovermode": "closest",
          "paper_bgcolor": "white",
          "plot_bgcolor": "rgb(237,237,237)",
          "polar": {
           "angularaxis": {
            "gridcolor": "white",
            "linecolor": "white",
            "showgrid": true,
            "tickcolor": "rgb(51,51,51)",
            "ticks": "outside"
           },
           "bgcolor": "rgb(237,237,237)",
           "radialaxis": {
            "gridcolor": "white",
            "linecolor": "white",
            "showgrid": true,
            "tickcolor": "rgb(51,51,51)",
            "ticks": "outside"
           }
          },
          "scene": {
           "xaxis": {
            "backgroundcolor": "rgb(237,237,237)",
            "gridcolor": "white",
            "gridwidth": 2,
            "linecolor": "white",
            "showbackground": true,
            "showgrid": true,
            "tickcolor": "rgb(51,51,51)",
            "ticks": "outside",
            "zerolinecolor": "white"
           },
           "yaxis": {
            "backgroundcolor": "rgb(237,237,237)",
            "gridcolor": "white",
            "gridwidth": 2,
            "linecolor": "white",
            "showbackground": true,
            "showgrid": true,
            "tickcolor": "rgb(51,51,51)",
            "ticks": "outside",
            "zerolinecolor": "white"
           },
           "zaxis": {
            "backgroundcolor": "rgb(237,237,237)",
            "gridcolor": "white",
            "gridwidth": 2,
            "linecolor": "white",
            "showbackground": true,
            "showgrid": true,
            "tickcolor": "rgb(51,51,51)",
            "ticks": "outside",
            "zerolinecolor": "white"
           }
          },
          "shapedefaults": {
           "fillcolor": "black",
           "line": {
            "width": 0
           },
           "opacity": 0.3
          },
          "ternary": {
           "aaxis": {
            "gridcolor": "white",
            "linecolor": "white",
            "showgrid": true,
            "tickcolor": "rgb(51,51,51)",
            "ticks": "outside"
           },
           "baxis": {
            "gridcolor": "white",
            "linecolor": "white",
            "showgrid": true,
            "tickcolor": "rgb(51,51,51)",
            "ticks": "outside"
           },
           "bgcolor": "rgb(237,237,237)",
           "caxis": {
            "gridcolor": "white",
            "linecolor": "white",
            "showgrid": true,
            "tickcolor": "rgb(51,51,51)",
            "ticks": "outside"
           }
          },
          "xaxis": {
           "automargin": true,
           "gridcolor": "white",
           "linecolor": "white",
           "showgrid": true,
           "tickcolor": "rgb(51,51,51)",
           "ticks": "outside",
           "title": {
            "standoff": 15
           },
           "zerolinecolor": "white"
          },
          "yaxis": {
           "automargin": true,
           "gridcolor": "white",
           "linecolor": "white",
           "showgrid": true,
           "tickcolor": "rgb(51,51,51)",
           "ticks": "outside",
           "title": {
            "standoff": 15
           },
           "zerolinecolor": "white"
          }
         }
        },
        "title": {
         "text": "Precentage of Employment Types"
        },
        "xaxis": {
         "anchor": "y",
         "domain": [
          0,
          1
         ],
         "title": {
          "text": "employment_type"
         }
        },
        "yaxis": {
         "anchor": "x",
         "domain": [
          0,
          1
         ],
         "title": {
          "text": "percent"
         }
        }
       }
      },
      "text/html": [
       "<div>                            <div id=\"d8625b51-f5ed-45e0-b611-c30a90ef11c6\" class=\"plotly-graph-div\" style=\"height:525px; width:100%;\"></div>            <script type=\"text/javascript\">                require([\"plotly\"], function(Plotly) {                    window.PLOTLYENV=window.PLOTLYENV || {};                                    if (document.getElementById(\"d8625b51-f5ed-45e0-b611-c30a90ef11c6\")) {                    Plotly.newPlot(                        \"d8625b51-f5ed-45e0-b611-c30a90ef11c6\",                        [{\"alignmentgroup\":\"True\",\"bingroup\":\"x\",\"histnorm\":\"percent\",\"hovertemplate\":\"employment_type=%{x}<br>percent=%{y}<extra></extra>\",\"legendgroup\":\"\",\"marker\":{\"color\":\"#F8766D\",\"pattern\":{\"shape\":\"\"}},\"name\":\"\",\"offsetgroup\":\"\",\"orientation\":\"v\",\"showlegend\":false,\"texttemplate\":\"%{value:.2f}\",\"x\":[\"FT\",\"FT\",\"FT\",\"FT\",\"FT\",\"FT\",\"FT\",\"FT\",\"FT\",\"FT\",\"FT\",\"FT\",\"FT\",\"FT\",\"FT\",\"FT\",\"FT\",\"FT\",\"FT\",\"FT\",\"FT\",\"FT\",\"FT\",\"FT\",\"FT\",\"FT\",\"FT\",\"FT\",\"CT\",\"FT\",\"FT\",\"FT\",\"FT\",\"FT\",\"FT\",\"FT\",\"FT\",\"FT\",\"FT\",\"FT\",\"FT\",\"FT\",\"FT\",\"FT\",\"FT\",\"PT\",\"FT\",\"FT\",\"FT\",\"FT\",\"FT\",\"FT\",\"FT\",\"FT\",\"FL\",\"FT\",\"FT\",\"FT\",\"FT\",\"FT\",\"FT\",\"FT\",\"PT\",\"FT\",\"FT\",\"FT\",\"FT\",\"FT\",\"FT\",\"FT\",\"FT\",\"FT\",\"FT\",\"FT\",\"FT\",\"FT\",\"FT\",\"PT\",\"CT\",\"FT\",\"FT\",\"FT\",\"FT\",\"FT\",\"FT\",\"FT\",\"FT\",\"FT\",\"FT\",\"FT\",\"FT\",\"FT\",\"FT\",\"FT\",\"FT\",\"FT\",\"PT\",\"FT\",\"FT\",\"FT\",\"FT\",\"FT\",\"FT\",\"FT\",\"FT\",\"FT\",\"FT\",\"FT\",\"FT\",\"FT\",\"FT\",\"FT\",\"FT\",\"PT\",\"FT\",\"FT\",\"FT\",\"FT\",\"FT\",\"FT\",\"FT\",\"FT\",\"FT\",\"FT\",\"PT\",\"FT\",\"FT\",\"FT\",\"FT\",\"FT\",\"FT\",\"FT\",\"FT\",\"FT\",\"FT\",\"FT\",\"FT\",\"FT\",\"FT\",\"FT\",\"FT\",\"FT\",\"FT\",\"FT\",\"FT\",\"FT\",\"FT\",\"FT\",\"FT\",\"FT\",\"FT\",\"FT\",\"FT\",\"FT\",\"FT\",\"FT\",\"FT\",\"FT\",\"FT\",\"FT\",\"FT\",\"FT\",\"FT\",\"FT\",\"FT\",\"FT\",\"FT\",\"FT\",\"FT\",\"FT\",\"FT\",\"FT\",\"FT\",\"FT\",\"FT\",\"FT\",\"FT\",\"FT\",\"FT\",\"FT\",\"FT\",\"FT\",\"FT\",\"FT\",\"FL\",\"FT\",\"FT\",\"FT\",\"FT\",\"FT\",\"FT\",\"FT\",\"FT\",\"FT\",\"FT\",\"FT\",\"FT\",\"FT\",\"FT\",\"FT\",\"FT\",\"FT\",\"FT\",\"FT\",\"FT\",\"FT\",\"FT\",\"FT\",\"FL\",\"FT\",\"FT\",\"FT\",\"FT\",\"FT\",\"FT\",\"FT\",\"PT\",\"FT\",\"FT\",\"FT\",\"FT\",\"FT\",\"FT\",\"FT\",\"FT\",\"CT\",\"FT\",\"FT\",\"FT\",\"FT\",\"FT\",\"FT\",\"FT\",\"FT\",\"FT\",\"FT\",\"FT\",\"FT\",\"FT\",\"FT\",\"FT\",\"FT\",\"FT\",\"FT\",\"FT\",\"FT\",\"FT\",\"FT\",\"FT\",\"FT\",\"FT\",\"FT\",\"FT\",\"FT\",\"FT\",\"FT\",\"FT\",\"FT\",\"FT\",\"FT\",\"FT\",\"FT\",\"FT\",\"FT\",\"FT\",\"FT\",\"FT\",\"FT\",\"FT\",\"FT\",\"FT\",\"FT\",\"FT\",\"FT\",\"FT\",\"FT\",\"FT\",\"FT\",\"FT\",\"FT\",\"FT\",\"FT\",\"PT\",\"CT\",\"FT\",\"FT\",\"FT\",\"FT\",\"FT\",\"FT\",\"FT\",\"FT\",\"FT\",\"FT\",\"FT\",\"FT\",\"FT\",\"FT\",\"FT\",\"FT\",\"FT\",\"FT\",\"FT\",\"FT\",\"FT\",\"FT\",\"FT\",\"FT\",\"FT\",\"FT\",\"FT\",\"FT\",\"FT\",\"FT\",\"FT\",\"FT\",\"FT\",\"FT\",\"FT\",\"FT\",\"FT\",\"FT\",\"FT\",\"FT\",\"FT\",\"FT\",\"FT\",\"FT\",\"FT\",\"FT\",\"FT\",\"FT\",\"FT\",\"FT\",\"FT\",\"FT\",\"FT\",\"FT\",\"FT\",\"FT\",\"FT\",\"FT\",\"FT\",\"FT\",\"FT\",\"FT\",\"FT\",\"FT\",\"FT\",\"FT\",\"FT\",\"FT\",\"FT\",\"FT\",\"FT\",\"FT\",\"FT\",\"FT\",\"FT\",\"FT\",\"FT\",\"FT\",\"FT\",\"FT\",\"FT\",\"FT\",\"FT\",\"FT\",\"FT\",\"FT\",\"FT\",\"FT\",\"FT\",\"FT\",\"FT\",\"FT\",\"FT\",\"FT\",\"FT\",\"FT\",\"FT\",\"FT\",\"FT\",\"FT\",\"FT\",\"FT\",\"FT\",\"FT\",\"FT\",\"FT\",\"FT\",\"FT\",\"FT\",\"FT\",\"FT\",\"FT\",\"FT\",\"FT\",\"FT\",\"FT\",\"FT\",\"FT\",\"FT\",\"FT\",\"FT\",\"FT\",\"FT\",\"FT\",\"FT\",\"FT\",\"FT\",\"FT\",\"FT\",\"FT\",\"FT\",\"FT\",\"FT\",\"FT\",\"FT\",\"FT\",\"FT\",\"FT\",\"FT\",\"FT\",\"FT\",\"FT\",\"FT\",\"FT\",\"FT\",\"FT\",\"FT\",\"FT\",\"FT\",\"FT\",\"FT\",\"FT\",\"FT\",\"FT\",\"FT\",\"FT\",\"FT\",\"FT\",\"FT\",\"FT\",\"FT\",\"FT\",\"FT\",\"FT\",\"FT\",\"FT\",\"FT\",\"FT\",\"FT\",\"FT\",\"FT\",\"FT\",\"FT\",\"FT\",\"FT\",\"FT\",\"FT\",\"FT\",\"PT\",\"FT\",\"FT\",\"FT\",\"FT\",\"FT\",\"FT\",\"FT\",\"FT\",\"FT\",\"FT\",\"FT\",\"FT\",\"FT\",\"FT\",\"FT\",\"FT\",\"FT\",\"FT\",\"FT\",\"FT\",\"FT\",\"FT\",\"FT\",\"FT\",\"PT\",\"FL\",\"CT\",\"FT\",\"FT\",\"FT\",\"FT\",\"FT\",\"FT\",\"FT\",\"FT\",\"FT\",\"FT\",\"FT\",\"FT\",\"FT\",\"FT\",\"FT\",\"FT\",\"FT\",\"FT\",\"FT\",\"FT\",\"FT\",\"FT\",\"FT\",\"FT\",\"FT\",\"FT\",\"FT\",\"FT\",\"FT\",\"FT\",\"FT\",\"FT\",\"FT\",\"FT\",\"FT\",\"FT\",\"FT\",\"FT\",\"FT\",\"FT\",\"FT\",\"FT\",\"FT\",\"FT\",\"FT\",\"FT\",\"FT\",\"FT\",\"FT\",\"FT\",\"FT\",\"FT\",\"FT\",\"FT\",\"FT\",\"FT\",\"FT\",\"FT\",\"FT\",\"FT\",\"FT\",\"FT\",\"FT\",\"FT\",\"FT\",\"FT\",\"FT\",\"FT\",\"FT\",\"FT\",\"FT\",\"FT\",\"FT\",\"FT\",\"FT\",\"FT\",\"FT\",\"FT\",\"FT\",\"FT\",\"FT\",\"FT\",\"FT\",\"FT\",\"FT\",\"FT\",\"FT\",\"FT\",\"FT\",\"FT\",\"FT\",\"FT\",\"FT\",\"FT\",\"FT\",\"FT\",\"FT\",\"FT\",\"FT\",\"FT\",\"FT\",\"FT\",\"FT\",\"FT\",\"FT\",\"FT\",\"FT\",\"FT\",\"FT\",\"FT\",\"FT\",\"FT\",\"FT\",\"FT\",\"FT\",\"FT\",\"FT\"],\"xaxis\":\"x\",\"yaxis\":\"y\",\"type\":\"histogram\"}],                        {\"template\":{\"data\":{\"barpolar\":[{\"marker\":{\"line\":{\"color\":\"rgb(237,237,237)\",\"width\":0.5},\"pattern\":{\"fillmode\":\"overlay\",\"size\":10,\"solidity\":0.2}},\"type\":\"barpolar\"}],\"bar\":[{\"error_x\":{\"color\":\"rgb(51,51,51)\"},\"error_y\":{\"color\":\"rgb(51,51,51)\"},\"marker\":{\"line\":{\"color\":\"rgb(237,237,237)\",\"width\":0.5},\"pattern\":{\"fillmode\":\"overlay\",\"size\":10,\"solidity\":0.2}},\"type\":\"bar\"}],\"carpet\":[{\"aaxis\":{\"endlinecolor\":\"rgb(51,51,51)\",\"gridcolor\":\"white\",\"linecolor\":\"white\",\"minorgridcolor\":\"white\",\"startlinecolor\":\"rgb(51,51,51)\"},\"baxis\":{\"endlinecolor\":\"rgb(51,51,51)\",\"gridcolor\":\"white\",\"linecolor\":\"white\",\"minorgridcolor\":\"white\",\"startlinecolor\":\"rgb(51,51,51)\"},\"type\":\"carpet\"}],\"choropleth\":[{\"colorbar\":{\"outlinewidth\":0,\"tickcolor\":\"rgb(237,237,237)\",\"ticklen\":6,\"ticks\":\"inside\"},\"type\":\"choropleth\"}],\"contourcarpet\":[{\"colorbar\":{\"outlinewidth\":0,\"tickcolor\":\"rgb(237,237,237)\",\"ticklen\":6,\"ticks\":\"inside\"},\"type\":\"contourcarpet\"}],\"contour\":[{\"colorbar\":{\"outlinewidth\":0,\"tickcolor\":\"rgb(237,237,237)\",\"ticklen\":6,\"ticks\":\"inside\"},\"colorscale\":[[0,\"rgb(20,44,66)\"],[1,\"rgb(90,179,244)\"]],\"type\":\"contour\"}],\"heatmapgl\":[{\"colorbar\":{\"outlinewidth\":0,\"tickcolor\":\"rgb(237,237,237)\",\"ticklen\":6,\"ticks\":\"inside\"},\"colorscale\":[[0,\"rgb(20,44,66)\"],[1,\"rgb(90,179,244)\"]],\"type\":\"heatmapgl\"}],\"heatmap\":[{\"colorbar\":{\"outlinewidth\":0,\"tickcolor\":\"rgb(237,237,237)\",\"ticklen\":6,\"ticks\":\"inside\"},\"colorscale\":[[0,\"rgb(20,44,66)\"],[1,\"rgb(90,179,244)\"]],\"type\":\"heatmap\"}],\"histogram2dcontour\":[{\"colorbar\":{\"outlinewidth\":0,\"tickcolor\":\"rgb(237,237,237)\",\"ticklen\":6,\"ticks\":\"inside\"},\"colorscale\":[[0,\"rgb(20,44,66)\"],[1,\"rgb(90,179,244)\"]],\"type\":\"histogram2dcontour\"}],\"histogram2d\":[{\"colorbar\":{\"outlinewidth\":0,\"tickcolor\":\"rgb(237,237,237)\",\"ticklen\":6,\"ticks\":\"inside\"},\"colorscale\":[[0,\"rgb(20,44,66)\"],[1,\"rgb(90,179,244)\"]],\"type\":\"histogram2d\"}],\"histogram\":[{\"marker\":{\"pattern\":{\"fillmode\":\"overlay\",\"size\":10,\"solidity\":0.2}},\"type\":\"histogram\"}],\"mesh3d\":[{\"colorbar\":{\"outlinewidth\":0,\"tickcolor\":\"rgb(237,237,237)\",\"ticklen\":6,\"ticks\":\"inside\"},\"type\":\"mesh3d\"}],\"parcoords\":[{\"line\":{\"colorbar\":{\"outlinewidth\":0,\"tickcolor\":\"rgb(237,237,237)\",\"ticklen\":6,\"ticks\":\"inside\"}},\"type\":\"parcoords\"}],\"pie\":[{\"automargin\":true,\"type\":\"pie\"}],\"scatter3d\":[{\"line\":{\"colorbar\":{\"outlinewidth\":0,\"tickcolor\":\"rgb(237,237,237)\",\"ticklen\":6,\"ticks\":\"inside\"}},\"marker\":{\"colorbar\":{\"outlinewidth\":0,\"tickcolor\":\"rgb(237,237,237)\",\"ticklen\":6,\"ticks\":\"inside\"}},\"type\":\"scatter3d\"}],\"scattercarpet\":[{\"marker\":{\"colorbar\":{\"outlinewidth\":0,\"tickcolor\":\"rgb(237,237,237)\",\"ticklen\":6,\"ticks\":\"inside\"}},\"type\":\"scattercarpet\"}],\"scattergeo\":[{\"marker\":{\"colorbar\":{\"outlinewidth\":0,\"tickcolor\":\"rgb(237,237,237)\",\"ticklen\":6,\"ticks\":\"inside\"}},\"type\":\"scattergeo\"}],\"scattergl\":[{\"marker\":{\"colorbar\":{\"outlinewidth\":0,\"tickcolor\":\"rgb(237,237,237)\",\"ticklen\":6,\"ticks\":\"inside\"}},\"type\":\"scattergl\"}],\"scattermapbox\":[{\"marker\":{\"colorbar\":{\"outlinewidth\":0,\"tickcolor\":\"rgb(237,237,237)\",\"ticklen\":6,\"ticks\":\"inside\"}},\"type\":\"scattermapbox\"}],\"scatterpolargl\":[{\"marker\":{\"colorbar\":{\"outlinewidth\":0,\"tickcolor\":\"rgb(237,237,237)\",\"ticklen\":6,\"ticks\":\"inside\"}},\"type\":\"scatterpolargl\"}],\"scatterpolar\":[{\"marker\":{\"colorbar\":{\"outlinewidth\":0,\"tickcolor\":\"rgb(237,237,237)\",\"ticklen\":6,\"ticks\":\"inside\"}},\"type\":\"scatterpolar\"}],\"scatter\":[{\"marker\":{\"colorbar\":{\"outlinewidth\":0,\"tickcolor\":\"rgb(237,237,237)\",\"ticklen\":6,\"ticks\":\"inside\"}},\"type\":\"scatter\"}],\"scatterternary\":[{\"marker\":{\"colorbar\":{\"outlinewidth\":0,\"tickcolor\":\"rgb(237,237,237)\",\"ticklen\":6,\"ticks\":\"inside\"}},\"type\":\"scatterternary\"}],\"surface\":[{\"colorbar\":{\"outlinewidth\":0,\"tickcolor\":\"rgb(237,237,237)\",\"ticklen\":6,\"ticks\":\"inside\"},\"colorscale\":[[0,\"rgb(20,44,66)\"],[1,\"rgb(90,179,244)\"]],\"type\":\"surface\"}],\"table\":[{\"cells\":{\"fill\":{\"color\":\"rgb(237,237,237)\"},\"line\":{\"color\":\"white\"}},\"header\":{\"fill\":{\"color\":\"rgb(217,217,217)\"},\"line\":{\"color\":\"white\"}},\"type\":\"table\"}]},\"layout\":{\"annotationdefaults\":{\"arrowhead\":0,\"arrowwidth\":1},\"autotypenumbers\":\"strict\",\"coloraxis\":{\"colorbar\":{\"outlinewidth\":0,\"tickcolor\":\"rgb(237,237,237)\",\"ticklen\":6,\"ticks\":\"inside\"}},\"colorscale\":{\"sequential\":[[0,\"rgb(20,44,66)\"],[1,\"rgb(90,179,244)\"]],\"sequentialminus\":[[0,\"rgb(20,44,66)\"],[1,\"rgb(90,179,244)\"]]},\"colorway\":[\"#F8766D\",\"#A3A500\",\"#00BF7D\",\"#00B0F6\",\"#E76BF3\"],\"font\":{\"color\":\"rgb(51,51,51)\"},\"geo\":{\"bgcolor\":\"white\",\"lakecolor\":\"white\",\"landcolor\":\"rgb(237,237,237)\",\"showlakes\":true,\"showland\":true,\"subunitcolor\":\"white\"},\"hoverlabel\":{\"align\":\"left\"},\"hovermode\":\"closest\",\"paper_bgcolor\":\"white\",\"plot_bgcolor\":\"rgb(237,237,237)\",\"polar\":{\"angularaxis\":{\"gridcolor\":\"white\",\"linecolor\":\"white\",\"showgrid\":true,\"tickcolor\":\"rgb(51,51,51)\",\"ticks\":\"outside\"},\"bgcolor\":\"rgb(237,237,237)\",\"radialaxis\":{\"gridcolor\":\"white\",\"linecolor\":\"white\",\"showgrid\":true,\"tickcolor\":\"rgb(51,51,51)\",\"ticks\":\"outside\"}},\"scene\":{\"xaxis\":{\"backgroundcolor\":\"rgb(237,237,237)\",\"gridcolor\":\"white\",\"gridwidth\":2,\"linecolor\":\"white\",\"showbackground\":true,\"showgrid\":true,\"tickcolor\":\"rgb(51,51,51)\",\"ticks\":\"outside\",\"zerolinecolor\":\"white\"},\"yaxis\":{\"backgroundcolor\":\"rgb(237,237,237)\",\"gridcolor\":\"white\",\"gridwidth\":2,\"linecolor\":\"white\",\"showbackground\":true,\"showgrid\":true,\"tickcolor\":\"rgb(51,51,51)\",\"ticks\":\"outside\",\"zerolinecolor\":\"white\"},\"zaxis\":{\"backgroundcolor\":\"rgb(237,237,237)\",\"gridcolor\":\"white\",\"gridwidth\":2,\"linecolor\":\"white\",\"showbackground\":true,\"showgrid\":true,\"tickcolor\":\"rgb(51,51,51)\",\"ticks\":\"outside\",\"zerolinecolor\":\"white\"}},\"shapedefaults\":{\"fillcolor\":\"black\",\"line\":{\"width\":0},\"opacity\":0.3},\"ternary\":{\"aaxis\":{\"gridcolor\":\"white\",\"linecolor\":\"white\",\"showgrid\":true,\"tickcolor\":\"rgb(51,51,51)\",\"ticks\":\"outside\"},\"baxis\":{\"gridcolor\":\"white\",\"linecolor\":\"white\",\"showgrid\":true,\"tickcolor\":\"rgb(51,51,51)\",\"ticks\":\"outside\"},\"bgcolor\":\"rgb(237,237,237)\",\"caxis\":{\"gridcolor\":\"white\",\"linecolor\":\"white\",\"showgrid\":true,\"tickcolor\":\"rgb(51,51,51)\",\"ticks\":\"outside\"}},\"xaxis\":{\"automargin\":true,\"gridcolor\":\"white\",\"linecolor\":\"white\",\"showgrid\":true,\"tickcolor\":\"rgb(51,51,51)\",\"ticks\":\"outside\",\"title\":{\"standoff\":15},\"zerolinecolor\":\"white\"},\"yaxis\":{\"automargin\":true,\"gridcolor\":\"white\",\"linecolor\":\"white\",\"showgrid\":true,\"tickcolor\":\"rgb(51,51,51)\",\"ticks\":\"outside\",\"title\":{\"standoff\":15},\"zerolinecolor\":\"white\"}}},\"xaxis\":{\"anchor\":\"y\",\"domain\":[0.0,1.0],\"title\":{\"text\":\"employment_type\"}},\"yaxis\":{\"anchor\":\"x\",\"domain\":[0.0,1.0],\"title\":{\"text\":\"percent\"}},\"legend\":{\"tracegroupgap\":0},\"title\":{\"text\":\"Precentage of Employment Types\"},\"barmode\":\"relative\"},                        {\"responsive\": true}                    ).then(function(){\n",
       "                            \n",
       "var gd = document.getElementById('d8625b51-f5ed-45e0-b611-c30a90ef11c6');\n",
       "var x = new MutationObserver(function (mutations, observer) {{\n",
       "        var display = window.getComputedStyle(gd).display;\n",
       "        if (!display || display === 'none') {{\n",
       "            console.log([gd, 'removed!']);\n",
       "            Plotly.purge(gd);\n",
       "            observer.disconnect();\n",
       "        }}\n",
       "}});\n",
       "\n",
       "// Listen for the removal of the full notebook cells\n",
       "var notebookContainer = gd.closest('#notebook-container');\n",
       "if (notebookContainer) {{\n",
       "    x.observe(notebookContainer, {childList: true});\n",
       "}}\n",
       "\n",
       "// Listen for the clearing of the current output cell\n",
       "var outputEl = gd.closest('.output');\n",
       "if (outputEl) {{\n",
       "    x.observe(outputEl, {childList: true});\n",
       "}}\n",
       "\n",
       "                        })                };                });            </script>        </div>"
      ]
     },
     "metadata": {},
     "output_type": "display_data"
    }
   ],
   "source": [
    "#Checking the distribution of employment_type\n",
    "px.histogram(df, x = 'employment_type',histnorm = 'percent', text_auto = '.2f',template = 'ggplot2',\n",
    "             title = 'Precentage of Employment Types')\n"
   ]
  },
  {
   "cell_type": "markdown",
   "id": "216e4353",
   "metadata": {},
   "source": [
    "most of the employees have full time job"
   ]
  },
  {
   "cell_type": "code",
   "execution_count": 13,
   "id": "83dfdfdf",
   "metadata": {},
   "outputs": [
    {
     "data": {
      "application/vnd.plotly.v1+json": {
       "config": {
        "plotlyServerURL": "https://plot.ly"
       },
       "data": [
        {
         "alignmentgroup": "True",
         "bingroup": "x",
         "hovertemplate": "work_year=2020<br>remote_ratio=%{x}<br>count=%{y}<extra></extra>",
         "legendgroup": "2020",
         "marker": {
          "color": "rgb(102, 197, 204)",
          "pattern": {
           "shape": ""
          }
         },
         "name": "2020",
         "offsetgroup": "2020",
         "orientation": "v",
         "showlegend": true,
         "type": "histogram",
         "x": [
          "On-site",
          "On-site",
          "Hybrid",
          "On-site",
          "Hybrid",
          "Remote",
          "Remote",
          "Hybrid",
          "Remote",
          "Hybrid",
          "On-site",
          "On-site",
          "On-site",
          "Remote",
          "Remote",
          "Hybrid",
          "Remote",
          "Remote",
          "Hybrid",
          "Remote",
          "On-site",
          "Remote",
          "Hybrid",
          "On-site",
          "On-site",
          "Remote",
          "Hybrid",
          "On-site",
          "Remote",
          "Hybrid",
          "Remote",
          "Remote",
          "Remote",
          "On-site",
          "Hybrid",
          "Hybrid",
          "Remote",
          "Hybrid",
          "Remote",
          "Remote",
          "Remote",
          "Hybrid",
          "On-site",
          "Remote",
          "Hybrid",
          "Remote",
          "Remote",
          "Remote",
          "Remote",
          "Hybrid",
          "On-site",
          "Remote",
          "Hybrid",
          "Remote",
          "Remote",
          "Remote",
          "Remote",
          "Remote",
          "Hybrid",
          "Remote",
          "Remote",
          "Remote",
          "Hybrid",
          "Remote",
          "Remote",
          "Hybrid",
          "On-site",
          "Remote",
          "Remote",
          "On-site",
          "Hybrid",
          "Hybrid"
         ],
         "xaxis": "x",
         "yaxis": "y"
        },
        {
         "alignmentgroup": "True",
         "bingroup": "x",
         "hovertemplate": "work_year=2021<br>remote_ratio=%{x}<br>count=%{y}<extra></extra>",
         "legendgroup": "2021",
         "marker": {
          "color": "rgb(246, 207, 113)",
          "pattern": {
           "shape": ""
          }
         },
         "name": "2021",
         "offsetgroup": "2021",
         "orientation": "v",
         "showlegend": true,
         "type": "histogram",
         "x": [
          "Hybrid",
          "Remote",
          "Remote",
          "Hybrid",
          "Remote",
          "Hybrid",
          "Remote",
          "Remote",
          "Remote",
          "Remote",
          "Hybrid",
          "Remote",
          "Remote",
          "Remote",
          "Hybrid",
          "Remote",
          "Remote",
          "Remote",
          "Remote",
          "Remote",
          "Remote",
          "On-site",
          "Hybrid",
          "Hybrid",
          "Remote",
          "Remote",
          "Remote",
          "Remote",
          "On-site",
          "Remote",
          "Hybrid",
          "On-site",
          "On-site",
          "Hybrid",
          "Remote",
          "Remote",
          "Remote",
          "Remote",
          "Hybrid",
          "Remote",
          "Remote",
          "Remote",
          "Remote",
          "Remote",
          "Remote",
          "Remote",
          "Remote",
          "Remote",
          "Hybrid",
          "Remote",
          "Remote",
          "On-site",
          "Hybrid",
          "Remote",
          "Hybrid",
          "On-site",
          "Remote",
          "Hybrid",
          "Hybrid",
          "Hybrid",
          "Remote",
          "Remote",
          "On-site",
          "Remote",
          "Hybrid",
          "Hybrid",
          "On-site",
          "Remote",
          "Remote",
          "On-site",
          "On-site",
          "Remote",
          "Remote",
          "Hybrid",
          "Hybrid",
          "Remote",
          "Remote",
          "Remote",
          "On-site",
          "Remote",
          "Remote",
          "Remote",
          "Remote",
          "Hybrid",
          "Remote",
          "Hybrid",
          "Remote",
          "Remote",
          "Hybrid",
          "On-site",
          "Hybrid",
          "Hybrid",
          "Hybrid",
          "Remote",
          "Remote",
          "On-site",
          "Hybrid",
          "Remote",
          "Remote",
          "Remote",
          "Remote",
          "Remote",
          "Hybrid",
          "Remote",
          "On-site",
          "Remote",
          "Hybrid",
          "Remote",
          "On-site",
          "Hybrid",
          "On-site",
          "Hybrid",
          "Hybrid",
          "Remote",
          "Remote",
          "Remote",
          "Hybrid",
          "Hybrid",
          "Remote",
          "Hybrid",
          "On-site",
          "Remote",
          "Hybrid",
          "Hybrid",
          "Remote",
          "Remote",
          "Hybrid",
          "Remote",
          "Hybrid",
          "Remote",
          "Remote",
          "Remote",
          "Remote",
          "On-site",
          "Remote",
          "On-site",
          "On-site",
          "On-site",
          "Hybrid",
          "Hybrid",
          "Hybrid",
          "On-site",
          "Hybrid",
          "Remote",
          "Hybrid",
          "Hybrid",
          "Remote",
          "Remote",
          "Remote",
          "Hybrid",
          "On-site",
          "Hybrid",
          "Remote",
          "Remote",
          "Remote",
          "Hybrid",
          "On-site",
          "Remote",
          "Remote",
          "Remote",
          "Remote",
          "Remote",
          "Remote",
          "On-site",
          "Remote",
          "Remote",
          "On-site",
          "Hybrid",
          "Remote",
          "Remote",
          "Remote",
          "Remote",
          "Remote",
          "Hybrid",
          "Hybrid",
          "On-site",
          "Hybrid",
          "Remote",
          "Hybrid",
          "Remote",
          "Remote",
          "Remote",
          "Remote",
          "Hybrid",
          "Remote",
          "Remote",
          "Hybrid",
          "On-site",
          "Hybrid",
          "Hybrid",
          "Remote",
          "On-site",
          "Remote",
          "Hybrid",
          "On-site",
          "On-site",
          "Remote",
          "Hybrid",
          "Remote",
          "On-site",
          "On-site",
          "Remote",
          "Hybrid",
          "Remote",
          "Hybrid",
          "Remote",
          "Hybrid",
          "Remote",
          "Remote",
          "On-site",
          "Remote",
          "Remote",
          "Hybrid",
          "Hybrid",
          "Remote",
          "Hybrid",
          "Hybrid"
         ],
         "xaxis": "x",
         "yaxis": "y"
        },
        {
         "alignmentgroup": "True",
         "bingroup": "x",
         "hovertemplate": "work_year=2022<br>remote_ratio=%{x}<br>count=%{y}<extra></extra>",
         "legendgroup": "2022",
         "marker": {
          "color": "rgb(248, 156, 116)",
          "pattern": {
           "shape": ""
          }
         },
         "name": "2022",
         "offsetgroup": "2022",
         "orientation": "v",
         "showlegend": true,
         "type": "histogram",
         "x": [
          "Remote",
          "Remote",
          "Remote",
          "On-site",
          "On-site",
          "Remote",
          "Remote",
          "Remote",
          "Remote",
          "Remote",
          "Remote",
          "On-site",
          "On-site",
          "Remote",
          "Remote",
          "Remote",
          "On-site",
          "On-site",
          "On-site",
          "On-site",
          "Remote",
          "Remote",
          "On-site",
          "On-site",
          "On-site",
          "On-site",
          "Remote",
          "Remote",
          "Remote",
          "Remote",
          "On-site",
          "On-site",
          "On-site",
          "On-site",
          "On-site",
          "On-site",
          "Remote",
          "Remote",
          "Remote",
          "Remote",
          "Remote",
          "Remote",
          "Remote",
          "Remote",
          "Remote",
          "Remote",
          "Remote",
          "Remote",
          "Remote",
          "Remote",
          "Remote",
          "Remote",
          "Remote",
          "Remote",
          "Remote",
          "Remote",
          "Remote",
          "On-site",
          "On-site",
          "On-site",
          "Remote",
          "Remote",
          "Remote",
          "Remote",
          "Remote",
          "On-site",
          "On-site",
          "On-site",
          "Remote",
          "Remote",
          "Remote",
          "Remote",
          "Remote",
          "Remote",
          "Remote",
          "On-site",
          "Remote",
          "On-site",
          "On-site",
          "Remote",
          "Remote",
          "Remote",
          "On-site",
          "On-site",
          "On-site",
          "On-site",
          "Remote",
          "On-site",
          "Remote",
          "Remote",
          "Remote",
          "Remote",
          "Remote",
          "Remote",
          "Remote",
          "Hybrid",
          "Remote",
          "Remote",
          "On-site",
          "Remote",
          "On-site",
          "On-site",
          "On-site",
          "Remote",
          "Remote",
          "Remote",
          "Remote",
          "Remote",
          "On-site",
          "Remote",
          "Remote",
          "Remote",
          "Remote",
          "On-site",
          "On-site",
          "Remote",
          "On-site",
          "On-site",
          "Remote",
          "Remote",
          "Remote",
          "On-site",
          "On-site",
          "Remote",
          "Remote",
          "Remote",
          "Remote",
          "Remote",
          "Remote",
          "On-site",
          "Remote",
          "Remote",
          "Remote",
          "Remote",
          "On-site",
          "On-site",
          "On-site",
          "Remote",
          "Remote",
          "On-site",
          "Remote",
          "Remote",
          "Remote",
          "Remote",
          "Remote",
          "Remote",
          "Remote",
          "Remote",
          "Remote",
          "On-site",
          "On-site",
          "Remote",
          "Remote",
          "Remote",
          "Remote",
          "On-site",
          "Remote",
          "Remote",
          "Remote",
          "Remote",
          "Remote",
          "Remote",
          "Remote",
          "Hybrid",
          "Remote",
          "On-site",
          "Hybrid",
          "Remote",
          "On-site",
          "Remote",
          "Remote",
          "Hybrid",
          "Hybrid",
          "Hybrid",
          "Remote",
          "Remote",
          "Remote",
          "Hybrid",
          "Remote",
          "Remote",
          "Remote",
          "Remote",
          "Remote",
          "Remote",
          "Remote",
          "On-site",
          "On-site",
          "Remote",
          "Remote",
          "Remote",
          "Remote",
          "Remote",
          "Remote",
          "Remote",
          "Remote",
          "Remote",
          "Remote",
          "Remote",
          "Hybrid",
          "Remote",
          "Remote",
          "Remote",
          "Remote",
          "Remote",
          "Remote",
          "Remote",
          "Hybrid",
          "Remote",
          "Remote",
          "Hybrid",
          "Remote",
          "Remote",
          "Remote",
          "Remote",
          "Remote",
          "Remote",
          "Hybrid",
          "Remote",
          "On-site",
          "Remote",
          "Remote",
          "Remote",
          "Hybrid",
          "Remote",
          "Remote",
          "On-site",
          "Remote",
          "Remote",
          "Remote",
          "On-site",
          "Remote",
          "Remote",
          "Remote",
          "Remote",
          "Remote",
          "Remote",
          "Remote",
          "Remote",
          "Remote",
          "Remote",
          "Remote",
          "On-site",
          "On-site",
          "Remote",
          "Remote",
          "Remote",
          "Remote",
          "Remote",
          "Remote",
          "On-site",
          "On-site",
          "Remote",
          "Remote",
          "On-site",
          "On-site",
          "Remote",
          "Remote",
          "Remote",
          "Remote",
          "Remote",
          "Remote",
          "On-site",
          "On-site",
          "Remote",
          "Remote",
          "Remote",
          "Remote",
          "Remote",
          "On-site",
          "On-site",
          "On-site",
          "On-site",
          "On-site",
          "Remote",
          "Remote",
          "Remote",
          "On-site",
          "Remote",
          "On-site",
          "Remote",
          "Remote",
          "Remote",
          "Remote",
          "Remote",
          "Remote",
          "Remote",
          "Remote",
          "Remote",
          "Remote",
          "Remote",
          "Remote",
          "Remote",
          "Remote",
          "Remote",
          "Remote",
          "Remote",
          "Remote",
          "On-site",
          "Remote",
          "On-site",
          "Remote",
          "Remote",
          "Remote",
          "Remote",
          "Remote",
          "Remote",
          "Remote",
          "Remote",
          "Remote",
          "Remote",
          "Remote",
          "On-site",
          "On-site",
          "Remote",
          "Remote",
          "On-site",
          "Remote",
          "Remote"
         ],
         "xaxis": "x",
         "yaxis": "y"
        }
       ],
       "layout": {
        "barmode": "group",
        "legend": {
         "title": {
          "text": "work_year"
         },
         "tracegroupgap": 0
        },
        "template": {
         "data": {
          "bar": [
           {
            "error_x": {
             "color": "rgb(51,51,51)"
            },
            "error_y": {
             "color": "rgb(51,51,51)"
            },
            "marker": {
             "line": {
              "color": "rgb(237,237,237)",
              "width": 0.5
             },
             "pattern": {
              "fillmode": "overlay",
              "size": 10,
              "solidity": 0.2
             }
            },
            "type": "bar"
           }
          ],
          "barpolar": [
           {
            "marker": {
             "line": {
              "color": "rgb(237,237,237)",
              "width": 0.5
             },
             "pattern": {
              "fillmode": "overlay",
              "size": 10,
              "solidity": 0.2
             }
            },
            "type": "barpolar"
           }
          ],
          "carpet": [
           {
            "aaxis": {
             "endlinecolor": "rgb(51,51,51)",
             "gridcolor": "white",
             "linecolor": "white",
             "minorgridcolor": "white",
             "startlinecolor": "rgb(51,51,51)"
            },
            "baxis": {
             "endlinecolor": "rgb(51,51,51)",
             "gridcolor": "white",
             "linecolor": "white",
             "minorgridcolor": "white",
             "startlinecolor": "rgb(51,51,51)"
            },
            "type": "carpet"
           }
          ],
          "choropleth": [
           {
            "colorbar": {
             "outlinewidth": 0,
             "tickcolor": "rgb(237,237,237)",
             "ticklen": 6,
             "ticks": "inside"
            },
            "type": "choropleth"
           }
          ],
          "contour": [
           {
            "colorbar": {
             "outlinewidth": 0,
             "tickcolor": "rgb(237,237,237)",
             "ticklen": 6,
             "ticks": "inside"
            },
            "colorscale": [
             [
              0,
              "rgb(20,44,66)"
             ],
             [
              1,
              "rgb(90,179,244)"
             ]
            ],
            "type": "contour"
           }
          ],
          "contourcarpet": [
           {
            "colorbar": {
             "outlinewidth": 0,
             "tickcolor": "rgb(237,237,237)",
             "ticklen": 6,
             "ticks": "inside"
            },
            "type": "contourcarpet"
           }
          ],
          "heatmap": [
           {
            "colorbar": {
             "outlinewidth": 0,
             "tickcolor": "rgb(237,237,237)",
             "ticklen": 6,
             "ticks": "inside"
            },
            "colorscale": [
             [
              0,
              "rgb(20,44,66)"
             ],
             [
              1,
              "rgb(90,179,244)"
             ]
            ],
            "type": "heatmap"
           }
          ],
          "heatmapgl": [
           {
            "colorbar": {
             "outlinewidth": 0,
             "tickcolor": "rgb(237,237,237)",
             "ticklen": 6,
             "ticks": "inside"
            },
            "colorscale": [
             [
              0,
              "rgb(20,44,66)"
             ],
             [
              1,
              "rgb(90,179,244)"
             ]
            ],
            "type": "heatmapgl"
           }
          ],
          "histogram": [
           {
            "marker": {
             "pattern": {
              "fillmode": "overlay",
              "size": 10,
              "solidity": 0.2
             }
            },
            "type": "histogram"
           }
          ],
          "histogram2d": [
           {
            "colorbar": {
             "outlinewidth": 0,
             "tickcolor": "rgb(237,237,237)",
             "ticklen": 6,
             "ticks": "inside"
            },
            "colorscale": [
             [
              0,
              "rgb(20,44,66)"
             ],
             [
              1,
              "rgb(90,179,244)"
             ]
            ],
            "type": "histogram2d"
           }
          ],
          "histogram2dcontour": [
           {
            "colorbar": {
             "outlinewidth": 0,
             "tickcolor": "rgb(237,237,237)",
             "ticklen": 6,
             "ticks": "inside"
            },
            "colorscale": [
             [
              0,
              "rgb(20,44,66)"
             ],
             [
              1,
              "rgb(90,179,244)"
             ]
            ],
            "type": "histogram2dcontour"
           }
          ],
          "mesh3d": [
           {
            "colorbar": {
             "outlinewidth": 0,
             "tickcolor": "rgb(237,237,237)",
             "ticklen": 6,
             "ticks": "inside"
            },
            "type": "mesh3d"
           }
          ],
          "parcoords": [
           {
            "line": {
             "colorbar": {
              "outlinewidth": 0,
              "tickcolor": "rgb(237,237,237)",
              "ticklen": 6,
              "ticks": "inside"
             }
            },
            "type": "parcoords"
           }
          ],
          "pie": [
           {
            "automargin": true,
            "type": "pie"
           }
          ],
          "scatter": [
           {
            "marker": {
             "colorbar": {
              "outlinewidth": 0,
              "tickcolor": "rgb(237,237,237)",
              "ticklen": 6,
              "ticks": "inside"
             }
            },
            "type": "scatter"
           }
          ],
          "scatter3d": [
           {
            "line": {
             "colorbar": {
              "outlinewidth": 0,
              "tickcolor": "rgb(237,237,237)",
              "ticklen": 6,
              "ticks": "inside"
             }
            },
            "marker": {
             "colorbar": {
              "outlinewidth": 0,
              "tickcolor": "rgb(237,237,237)",
              "ticklen": 6,
              "ticks": "inside"
             }
            },
            "type": "scatter3d"
           }
          ],
          "scattercarpet": [
           {
            "marker": {
             "colorbar": {
              "outlinewidth": 0,
              "tickcolor": "rgb(237,237,237)",
              "ticklen": 6,
              "ticks": "inside"
             }
            },
            "type": "scattercarpet"
           }
          ],
          "scattergeo": [
           {
            "marker": {
             "colorbar": {
              "outlinewidth": 0,
              "tickcolor": "rgb(237,237,237)",
              "ticklen": 6,
              "ticks": "inside"
             }
            },
            "type": "scattergeo"
           }
          ],
          "scattergl": [
           {
            "marker": {
             "colorbar": {
              "outlinewidth": 0,
              "tickcolor": "rgb(237,237,237)",
              "ticklen": 6,
              "ticks": "inside"
             }
            },
            "type": "scattergl"
           }
          ],
          "scattermapbox": [
           {
            "marker": {
             "colorbar": {
              "outlinewidth": 0,
              "tickcolor": "rgb(237,237,237)",
              "ticklen": 6,
              "ticks": "inside"
             }
            },
            "type": "scattermapbox"
           }
          ],
          "scatterpolar": [
           {
            "marker": {
             "colorbar": {
              "outlinewidth": 0,
              "tickcolor": "rgb(237,237,237)",
              "ticklen": 6,
              "ticks": "inside"
             }
            },
            "type": "scatterpolar"
           }
          ],
          "scatterpolargl": [
           {
            "marker": {
             "colorbar": {
              "outlinewidth": 0,
              "tickcolor": "rgb(237,237,237)",
              "ticklen": 6,
              "ticks": "inside"
             }
            },
            "type": "scatterpolargl"
           }
          ],
          "scatterternary": [
           {
            "marker": {
             "colorbar": {
              "outlinewidth": 0,
              "tickcolor": "rgb(237,237,237)",
              "ticklen": 6,
              "ticks": "inside"
             }
            },
            "type": "scatterternary"
           }
          ],
          "surface": [
           {
            "colorbar": {
             "outlinewidth": 0,
             "tickcolor": "rgb(237,237,237)",
             "ticklen": 6,
             "ticks": "inside"
            },
            "colorscale": [
             [
              0,
              "rgb(20,44,66)"
             ],
             [
              1,
              "rgb(90,179,244)"
             ]
            ],
            "type": "surface"
           }
          ],
          "table": [
           {
            "cells": {
             "fill": {
              "color": "rgb(237,237,237)"
             },
             "line": {
              "color": "white"
             }
            },
            "header": {
             "fill": {
              "color": "rgb(217,217,217)"
             },
             "line": {
              "color": "white"
             }
            },
            "type": "table"
           }
          ]
         },
         "layout": {
          "annotationdefaults": {
           "arrowhead": 0,
           "arrowwidth": 1
          },
          "autotypenumbers": "strict",
          "coloraxis": {
           "colorbar": {
            "outlinewidth": 0,
            "tickcolor": "rgb(237,237,237)",
            "ticklen": 6,
            "ticks": "inside"
           }
          },
          "colorscale": {
           "sequential": [
            [
             0,
             "rgb(20,44,66)"
            ],
            [
             1,
             "rgb(90,179,244)"
            ]
           ],
           "sequentialminus": [
            [
             0,
             "rgb(20,44,66)"
            ],
            [
             1,
             "rgb(90,179,244)"
            ]
           ]
          },
          "colorway": [
           "#F8766D",
           "#A3A500",
           "#00BF7D",
           "#00B0F6",
           "#E76BF3"
          ],
          "font": {
           "color": "rgb(51,51,51)"
          },
          "geo": {
           "bgcolor": "white",
           "lakecolor": "white",
           "landcolor": "rgb(237,237,237)",
           "showlakes": true,
           "showland": true,
           "subunitcolor": "white"
          },
          "hoverlabel": {
           "align": "left"
          },
          "hovermode": "closest",
          "paper_bgcolor": "white",
          "plot_bgcolor": "rgb(237,237,237)",
          "polar": {
           "angularaxis": {
            "gridcolor": "white",
            "linecolor": "white",
            "showgrid": true,
            "tickcolor": "rgb(51,51,51)",
            "ticks": "outside"
           },
           "bgcolor": "rgb(237,237,237)",
           "radialaxis": {
            "gridcolor": "white",
            "linecolor": "white",
            "showgrid": true,
            "tickcolor": "rgb(51,51,51)",
            "ticks": "outside"
           }
          },
          "scene": {
           "xaxis": {
            "backgroundcolor": "rgb(237,237,237)",
            "gridcolor": "white",
            "gridwidth": 2,
            "linecolor": "white",
            "showbackground": true,
            "showgrid": true,
            "tickcolor": "rgb(51,51,51)",
            "ticks": "outside",
            "zerolinecolor": "white"
           },
           "yaxis": {
            "backgroundcolor": "rgb(237,237,237)",
            "gridcolor": "white",
            "gridwidth": 2,
            "linecolor": "white",
            "showbackground": true,
            "showgrid": true,
            "tickcolor": "rgb(51,51,51)",
            "ticks": "outside",
            "zerolinecolor": "white"
           },
           "zaxis": {
            "backgroundcolor": "rgb(237,237,237)",
            "gridcolor": "white",
            "gridwidth": 2,
            "linecolor": "white",
            "showbackground": true,
            "showgrid": true,
            "tickcolor": "rgb(51,51,51)",
            "ticks": "outside",
            "zerolinecolor": "white"
           }
          },
          "shapedefaults": {
           "fillcolor": "black",
           "line": {
            "width": 0
           },
           "opacity": 0.3
          },
          "ternary": {
           "aaxis": {
            "gridcolor": "white",
            "linecolor": "white",
            "showgrid": true,
            "tickcolor": "rgb(51,51,51)",
            "ticks": "outside"
           },
           "baxis": {
            "gridcolor": "white",
            "linecolor": "white",
            "showgrid": true,
            "tickcolor": "rgb(51,51,51)",
            "ticks": "outside"
           },
           "bgcolor": "rgb(237,237,237)",
           "caxis": {
            "gridcolor": "white",
            "linecolor": "white",
            "showgrid": true,
            "tickcolor": "rgb(51,51,51)",
            "ticks": "outside"
           }
          },
          "xaxis": {
           "automargin": true,
           "gridcolor": "white",
           "linecolor": "white",
           "showgrid": true,
           "tickcolor": "rgb(51,51,51)",
           "ticks": "outside",
           "title": {
            "standoff": 15
           },
           "zerolinecolor": "white"
          },
          "yaxis": {
           "automargin": true,
           "gridcolor": "white",
           "linecolor": "white",
           "showgrid": true,
           "tickcolor": "rgb(51,51,51)",
           "ticks": "outside",
           "title": {
            "standoff": 15
           },
           "zerolinecolor": "white"
          }
         }
        },
        "title": {
         "text": "Count of each Work Type"
        },
        "xaxis": {
         "anchor": "y",
         "domain": [
          0,
          1
         ],
         "title": {
          "text": "remote_ratio"
         }
        },
        "yaxis": {
         "anchor": "x",
         "domain": [
          0,
          1
         ],
         "title": {
          "text": "count"
         }
        }
       }
      },
      "text/html": [
       "<div>                            <div id=\"ea45469c-2453-4a93-b2e9-3de8fec433a1\" class=\"plotly-graph-div\" style=\"height:525px; width:100%;\"></div>            <script type=\"text/javascript\">                require([\"plotly\"], function(Plotly) {                    window.PLOTLYENV=window.PLOTLYENV || {};                                    if (document.getElementById(\"ea45469c-2453-4a93-b2e9-3de8fec433a1\")) {                    Plotly.newPlot(                        \"ea45469c-2453-4a93-b2e9-3de8fec433a1\",                        [{\"alignmentgroup\":\"True\",\"bingroup\":\"x\",\"hovertemplate\":\"work_year=2020<br>remote_ratio=%{x}<br>count=%{y}<extra></extra>\",\"legendgroup\":\"2020\",\"marker\":{\"color\":\"rgb(102, 197, 204)\",\"pattern\":{\"shape\":\"\"}},\"name\":\"2020\",\"offsetgroup\":\"2020\",\"orientation\":\"v\",\"showlegend\":true,\"x\":[\"On-site\",\"On-site\",\"Hybrid\",\"On-site\",\"Hybrid\",\"Remote\",\"Remote\",\"Hybrid\",\"Remote\",\"Hybrid\",\"On-site\",\"On-site\",\"On-site\",\"Remote\",\"Remote\",\"Hybrid\",\"Remote\",\"Remote\",\"Hybrid\",\"Remote\",\"On-site\",\"Remote\",\"Hybrid\",\"On-site\",\"On-site\",\"Remote\",\"Hybrid\",\"On-site\",\"Remote\",\"Hybrid\",\"Remote\",\"Remote\",\"Remote\",\"On-site\",\"Hybrid\",\"Hybrid\",\"Remote\",\"Hybrid\",\"Remote\",\"Remote\",\"Remote\",\"Hybrid\",\"On-site\",\"Remote\",\"Hybrid\",\"Remote\",\"Remote\",\"Remote\",\"Remote\",\"Hybrid\",\"On-site\",\"Remote\",\"Hybrid\",\"Remote\",\"Remote\",\"Remote\",\"Remote\",\"Remote\",\"Hybrid\",\"Remote\",\"Remote\",\"Remote\",\"Hybrid\",\"Remote\",\"Remote\",\"Hybrid\",\"On-site\",\"Remote\",\"Remote\",\"On-site\",\"Hybrid\",\"Hybrid\"],\"xaxis\":\"x\",\"yaxis\":\"y\",\"type\":\"histogram\"},{\"alignmentgroup\":\"True\",\"bingroup\":\"x\",\"hovertemplate\":\"work_year=2021<br>remote_ratio=%{x}<br>count=%{y}<extra></extra>\",\"legendgroup\":\"2021\",\"marker\":{\"color\":\"rgb(246, 207, 113)\",\"pattern\":{\"shape\":\"\"}},\"name\":\"2021\",\"offsetgroup\":\"2021\",\"orientation\":\"v\",\"showlegend\":true,\"x\":[\"Hybrid\",\"Remote\",\"Remote\",\"Hybrid\",\"Remote\",\"Hybrid\",\"Remote\",\"Remote\",\"Remote\",\"Remote\",\"Hybrid\",\"Remote\",\"Remote\",\"Remote\",\"Hybrid\",\"Remote\",\"Remote\",\"Remote\",\"Remote\",\"Remote\",\"Remote\",\"On-site\",\"Hybrid\",\"Hybrid\",\"Remote\",\"Remote\",\"Remote\",\"Remote\",\"On-site\",\"Remote\",\"Hybrid\",\"On-site\",\"On-site\",\"Hybrid\",\"Remote\",\"Remote\",\"Remote\",\"Remote\",\"Hybrid\",\"Remote\",\"Remote\",\"Remote\",\"Remote\",\"Remote\",\"Remote\",\"Remote\",\"Remote\",\"Remote\",\"Hybrid\",\"Remote\",\"Remote\",\"On-site\",\"Hybrid\",\"Remote\",\"Hybrid\",\"On-site\",\"Remote\",\"Hybrid\",\"Hybrid\",\"Hybrid\",\"Remote\",\"Remote\",\"On-site\",\"Remote\",\"Hybrid\",\"Hybrid\",\"On-site\",\"Remote\",\"Remote\",\"On-site\",\"On-site\",\"Remote\",\"Remote\",\"Hybrid\",\"Hybrid\",\"Remote\",\"Remote\",\"Remote\",\"On-site\",\"Remote\",\"Remote\",\"Remote\",\"Remote\",\"Hybrid\",\"Remote\",\"Hybrid\",\"Remote\",\"Remote\",\"Hybrid\",\"On-site\",\"Hybrid\",\"Hybrid\",\"Hybrid\",\"Remote\",\"Remote\",\"On-site\",\"Hybrid\",\"Remote\",\"Remote\",\"Remote\",\"Remote\",\"Remote\",\"Hybrid\",\"Remote\",\"On-site\",\"Remote\",\"Hybrid\",\"Remote\",\"On-site\",\"Hybrid\",\"On-site\",\"Hybrid\",\"Hybrid\",\"Remote\",\"Remote\",\"Remote\",\"Hybrid\",\"Hybrid\",\"Remote\",\"Hybrid\",\"On-site\",\"Remote\",\"Hybrid\",\"Hybrid\",\"Remote\",\"Remote\",\"Hybrid\",\"Remote\",\"Hybrid\",\"Remote\",\"Remote\",\"Remote\",\"Remote\",\"On-site\",\"Remote\",\"On-site\",\"On-site\",\"On-site\",\"Hybrid\",\"Hybrid\",\"Hybrid\",\"On-site\",\"Hybrid\",\"Remote\",\"Hybrid\",\"Hybrid\",\"Remote\",\"Remote\",\"Remote\",\"Hybrid\",\"On-site\",\"Hybrid\",\"Remote\",\"Remote\",\"Remote\",\"Hybrid\",\"On-site\",\"Remote\",\"Remote\",\"Remote\",\"Remote\",\"Remote\",\"Remote\",\"On-site\",\"Remote\",\"Remote\",\"On-site\",\"Hybrid\",\"Remote\",\"Remote\",\"Remote\",\"Remote\",\"Remote\",\"Hybrid\",\"Hybrid\",\"On-site\",\"Hybrid\",\"Remote\",\"Hybrid\",\"Remote\",\"Remote\",\"Remote\",\"Remote\",\"Hybrid\",\"Remote\",\"Remote\",\"Hybrid\",\"On-site\",\"Hybrid\",\"Hybrid\",\"Remote\",\"On-site\",\"Remote\",\"Hybrid\",\"On-site\",\"On-site\",\"Remote\",\"Hybrid\",\"Remote\",\"On-site\",\"On-site\",\"Remote\",\"Hybrid\",\"Remote\",\"Hybrid\",\"Remote\",\"Hybrid\",\"Remote\",\"Remote\",\"On-site\",\"Remote\",\"Remote\",\"Hybrid\",\"Hybrid\",\"Remote\",\"Hybrid\",\"Hybrid\"],\"xaxis\":\"x\",\"yaxis\":\"y\",\"type\":\"histogram\"},{\"alignmentgroup\":\"True\",\"bingroup\":\"x\",\"hovertemplate\":\"work_year=2022<br>remote_ratio=%{x}<br>count=%{y}<extra></extra>\",\"legendgroup\":\"2022\",\"marker\":{\"color\":\"rgb(248, 156, 116)\",\"pattern\":{\"shape\":\"\"}},\"name\":\"2022\",\"offsetgroup\":\"2022\",\"orientation\":\"v\",\"showlegend\":true,\"x\":[\"Remote\",\"Remote\",\"Remote\",\"On-site\",\"On-site\",\"Remote\",\"Remote\",\"Remote\",\"Remote\",\"Remote\",\"Remote\",\"On-site\",\"On-site\",\"Remote\",\"Remote\",\"Remote\",\"On-site\",\"On-site\",\"On-site\",\"On-site\",\"Remote\",\"Remote\",\"On-site\",\"On-site\",\"On-site\",\"On-site\",\"Remote\",\"Remote\",\"Remote\",\"Remote\",\"On-site\",\"On-site\",\"On-site\",\"On-site\",\"On-site\",\"On-site\",\"Remote\",\"Remote\",\"Remote\",\"Remote\",\"Remote\",\"Remote\",\"Remote\",\"Remote\",\"Remote\",\"Remote\",\"Remote\",\"Remote\",\"Remote\",\"Remote\",\"Remote\",\"Remote\",\"Remote\",\"Remote\",\"Remote\",\"Remote\",\"Remote\",\"On-site\",\"On-site\",\"On-site\",\"Remote\",\"Remote\",\"Remote\",\"Remote\",\"Remote\",\"On-site\",\"On-site\",\"On-site\",\"Remote\",\"Remote\",\"Remote\",\"Remote\",\"Remote\",\"Remote\",\"Remote\",\"On-site\",\"Remote\",\"On-site\",\"On-site\",\"Remote\",\"Remote\",\"Remote\",\"On-site\",\"On-site\",\"On-site\",\"On-site\",\"Remote\",\"On-site\",\"Remote\",\"Remote\",\"Remote\",\"Remote\",\"Remote\",\"Remote\",\"Remote\",\"Hybrid\",\"Remote\",\"Remote\",\"On-site\",\"Remote\",\"On-site\",\"On-site\",\"On-site\",\"Remote\",\"Remote\",\"Remote\",\"Remote\",\"Remote\",\"On-site\",\"Remote\",\"Remote\",\"Remote\",\"Remote\",\"On-site\",\"On-site\",\"Remote\",\"On-site\",\"On-site\",\"Remote\",\"Remote\",\"Remote\",\"On-site\",\"On-site\",\"Remote\",\"Remote\",\"Remote\",\"Remote\",\"Remote\",\"Remote\",\"On-site\",\"Remote\",\"Remote\",\"Remote\",\"Remote\",\"On-site\",\"On-site\",\"On-site\",\"Remote\",\"Remote\",\"On-site\",\"Remote\",\"Remote\",\"Remote\",\"Remote\",\"Remote\",\"Remote\",\"Remote\",\"Remote\",\"Remote\",\"On-site\",\"On-site\",\"Remote\",\"Remote\",\"Remote\",\"Remote\",\"On-site\",\"Remote\",\"Remote\",\"Remote\",\"Remote\",\"Remote\",\"Remote\",\"Remote\",\"Hybrid\",\"Remote\",\"On-site\",\"Hybrid\",\"Remote\",\"On-site\",\"Remote\",\"Remote\",\"Hybrid\",\"Hybrid\",\"Hybrid\",\"Remote\",\"Remote\",\"Remote\",\"Hybrid\",\"Remote\",\"Remote\",\"Remote\",\"Remote\",\"Remote\",\"Remote\",\"Remote\",\"On-site\",\"On-site\",\"Remote\",\"Remote\",\"Remote\",\"Remote\",\"Remote\",\"Remote\",\"Remote\",\"Remote\",\"Remote\",\"Remote\",\"Remote\",\"Hybrid\",\"Remote\",\"Remote\",\"Remote\",\"Remote\",\"Remote\",\"Remote\",\"Remote\",\"Hybrid\",\"Remote\",\"Remote\",\"Hybrid\",\"Remote\",\"Remote\",\"Remote\",\"Remote\",\"Remote\",\"Remote\",\"Hybrid\",\"Remote\",\"On-site\",\"Remote\",\"Remote\",\"Remote\",\"Hybrid\",\"Remote\",\"Remote\",\"On-site\",\"Remote\",\"Remote\",\"Remote\",\"On-site\",\"Remote\",\"Remote\",\"Remote\",\"Remote\",\"Remote\",\"Remote\",\"Remote\",\"Remote\",\"Remote\",\"Remote\",\"Remote\",\"On-site\",\"On-site\",\"Remote\",\"Remote\",\"Remote\",\"Remote\",\"Remote\",\"Remote\",\"On-site\",\"On-site\",\"Remote\",\"Remote\",\"On-site\",\"On-site\",\"Remote\",\"Remote\",\"Remote\",\"Remote\",\"Remote\",\"Remote\",\"On-site\",\"On-site\",\"Remote\",\"Remote\",\"Remote\",\"Remote\",\"Remote\",\"On-site\",\"On-site\",\"On-site\",\"On-site\",\"On-site\",\"Remote\",\"Remote\",\"Remote\",\"On-site\",\"Remote\",\"On-site\",\"Remote\",\"Remote\",\"Remote\",\"Remote\",\"Remote\",\"Remote\",\"Remote\",\"Remote\",\"Remote\",\"Remote\",\"Remote\",\"Remote\",\"Remote\",\"Remote\",\"Remote\",\"Remote\",\"Remote\",\"Remote\",\"On-site\",\"Remote\",\"On-site\",\"Remote\",\"Remote\",\"Remote\",\"Remote\",\"Remote\",\"Remote\",\"Remote\",\"Remote\",\"Remote\",\"Remote\",\"Remote\",\"On-site\",\"On-site\",\"Remote\",\"Remote\",\"On-site\",\"Remote\",\"Remote\"],\"xaxis\":\"x\",\"yaxis\":\"y\",\"type\":\"histogram\"}],                        {\"template\":{\"data\":{\"barpolar\":[{\"marker\":{\"line\":{\"color\":\"rgb(237,237,237)\",\"width\":0.5},\"pattern\":{\"fillmode\":\"overlay\",\"size\":10,\"solidity\":0.2}},\"type\":\"barpolar\"}],\"bar\":[{\"error_x\":{\"color\":\"rgb(51,51,51)\"},\"error_y\":{\"color\":\"rgb(51,51,51)\"},\"marker\":{\"line\":{\"color\":\"rgb(237,237,237)\",\"width\":0.5},\"pattern\":{\"fillmode\":\"overlay\",\"size\":10,\"solidity\":0.2}},\"type\":\"bar\"}],\"carpet\":[{\"aaxis\":{\"endlinecolor\":\"rgb(51,51,51)\",\"gridcolor\":\"white\",\"linecolor\":\"white\",\"minorgridcolor\":\"white\",\"startlinecolor\":\"rgb(51,51,51)\"},\"baxis\":{\"endlinecolor\":\"rgb(51,51,51)\",\"gridcolor\":\"white\",\"linecolor\":\"white\",\"minorgridcolor\":\"white\",\"startlinecolor\":\"rgb(51,51,51)\"},\"type\":\"carpet\"}],\"choropleth\":[{\"colorbar\":{\"outlinewidth\":0,\"tickcolor\":\"rgb(237,237,237)\",\"ticklen\":6,\"ticks\":\"inside\"},\"type\":\"choropleth\"}],\"contourcarpet\":[{\"colorbar\":{\"outlinewidth\":0,\"tickcolor\":\"rgb(237,237,237)\",\"ticklen\":6,\"ticks\":\"inside\"},\"type\":\"contourcarpet\"}],\"contour\":[{\"colorbar\":{\"outlinewidth\":0,\"tickcolor\":\"rgb(237,237,237)\",\"ticklen\":6,\"ticks\":\"inside\"},\"colorscale\":[[0,\"rgb(20,44,66)\"],[1,\"rgb(90,179,244)\"]],\"type\":\"contour\"}],\"heatmapgl\":[{\"colorbar\":{\"outlinewidth\":0,\"tickcolor\":\"rgb(237,237,237)\",\"ticklen\":6,\"ticks\":\"inside\"},\"colorscale\":[[0,\"rgb(20,44,66)\"],[1,\"rgb(90,179,244)\"]],\"type\":\"heatmapgl\"}],\"heatmap\":[{\"colorbar\":{\"outlinewidth\":0,\"tickcolor\":\"rgb(237,237,237)\",\"ticklen\":6,\"ticks\":\"inside\"},\"colorscale\":[[0,\"rgb(20,44,66)\"],[1,\"rgb(90,179,244)\"]],\"type\":\"heatmap\"}],\"histogram2dcontour\":[{\"colorbar\":{\"outlinewidth\":0,\"tickcolor\":\"rgb(237,237,237)\",\"ticklen\":6,\"ticks\":\"inside\"},\"colorscale\":[[0,\"rgb(20,44,66)\"],[1,\"rgb(90,179,244)\"]],\"type\":\"histogram2dcontour\"}],\"histogram2d\":[{\"colorbar\":{\"outlinewidth\":0,\"tickcolor\":\"rgb(237,237,237)\",\"ticklen\":6,\"ticks\":\"inside\"},\"colorscale\":[[0,\"rgb(20,44,66)\"],[1,\"rgb(90,179,244)\"]],\"type\":\"histogram2d\"}],\"histogram\":[{\"marker\":{\"pattern\":{\"fillmode\":\"overlay\",\"size\":10,\"solidity\":0.2}},\"type\":\"histogram\"}],\"mesh3d\":[{\"colorbar\":{\"outlinewidth\":0,\"tickcolor\":\"rgb(237,237,237)\",\"ticklen\":6,\"ticks\":\"inside\"},\"type\":\"mesh3d\"}],\"parcoords\":[{\"line\":{\"colorbar\":{\"outlinewidth\":0,\"tickcolor\":\"rgb(237,237,237)\",\"ticklen\":6,\"ticks\":\"inside\"}},\"type\":\"parcoords\"}],\"pie\":[{\"automargin\":true,\"type\":\"pie\"}],\"scatter3d\":[{\"line\":{\"colorbar\":{\"outlinewidth\":0,\"tickcolor\":\"rgb(237,237,237)\",\"ticklen\":6,\"ticks\":\"inside\"}},\"marker\":{\"colorbar\":{\"outlinewidth\":0,\"tickcolor\":\"rgb(237,237,237)\",\"ticklen\":6,\"ticks\":\"inside\"}},\"type\":\"scatter3d\"}],\"scattercarpet\":[{\"marker\":{\"colorbar\":{\"outlinewidth\":0,\"tickcolor\":\"rgb(237,237,237)\",\"ticklen\":6,\"ticks\":\"inside\"}},\"type\":\"scattercarpet\"}],\"scattergeo\":[{\"marker\":{\"colorbar\":{\"outlinewidth\":0,\"tickcolor\":\"rgb(237,237,237)\",\"ticklen\":6,\"ticks\":\"inside\"}},\"type\":\"scattergeo\"}],\"scattergl\":[{\"marker\":{\"colorbar\":{\"outlinewidth\":0,\"tickcolor\":\"rgb(237,237,237)\",\"ticklen\":6,\"ticks\":\"inside\"}},\"type\":\"scattergl\"}],\"scattermapbox\":[{\"marker\":{\"colorbar\":{\"outlinewidth\":0,\"tickcolor\":\"rgb(237,237,237)\",\"ticklen\":6,\"ticks\":\"inside\"}},\"type\":\"scattermapbox\"}],\"scatterpolargl\":[{\"marker\":{\"colorbar\":{\"outlinewidth\":0,\"tickcolor\":\"rgb(237,237,237)\",\"ticklen\":6,\"ticks\":\"inside\"}},\"type\":\"scatterpolargl\"}],\"scatterpolar\":[{\"marker\":{\"colorbar\":{\"outlinewidth\":0,\"tickcolor\":\"rgb(237,237,237)\",\"ticklen\":6,\"ticks\":\"inside\"}},\"type\":\"scatterpolar\"}],\"scatter\":[{\"marker\":{\"colorbar\":{\"outlinewidth\":0,\"tickcolor\":\"rgb(237,237,237)\",\"ticklen\":6,\"ticks\":\"inside\"}},\"type\":\"scatter\"}],\"scatterternary\":[{\"marker\":{\"colorbar\":{\"outlinewidth\":0,\"tickcolor\":\"rgb(237,237,237)\",\"ticklen\":6,\"ticks\":\"inside\"}},\"type\":\"scatterternary\"}],\"surface\":[{\"colorbar\":{\"outlinewidth\":0,\"tickcolor\":\"rgb(237,237,237)\",\"ticklen\":6,\"ticks\":\"inside\"},\"colorscale\":[[0,\"rgb(20,44,66)\"],[1,\"rgb(90,179,244)\"]],\"type\":\"surface\"}],\"table\":[{\"cells\":{\"fill\":{\"color\":\"rgb(237,237,237)\"},\"line\":{\"color\":\"white\"}},\"header\":{\"fill\":{\"color\":\"rgb(217,217,217)\"},\"line\":{\"color\":\"white\"}},\"type\":\"table\"}]},\"layout\":{\"annotationdefaults\":{\"arrowhead\":0,\"arrowwidth\":1},\"autotypenumbers\":\"strict\",\"coloraxis\":{\"colorbar\":{\"outlinewidth\":0,\"tickcolor\":\"rgb(237,237,237)\",\"ticklen\":6,\"ticks\":\"inside\"}},\"colorscale\":{\"sequential\":[[0,\"rgb(20,44,66)\"],[1,\"rgb(90,179,244)\"]],\"sequentialminus\":[[0,\"rgb(20,44,66)\"],[1,\"rgb(90,179,244)\"]]},\"colorway\":[\"#F8766D\",\"#A3A500\",\"#00BF7D\",\"#00B0F6\",\"#E76BF3\"],\"font\":{\"color\":\"rgb(51,51,51)\"},\"geo\":{\"bgcolor\":\"white\",\"lakecolor\":\"white\",\"landcolor\":\"rgb(237,237,237)\",\"showlakes\":true,\"showland\":true,\"subunitcolor\":\"white\"},\"hoverlabel\":{\"align\":\"left\"},\"hovermode\":\"closest\",\"paper_bgcolor\":\"white\",\"plot_bgcolor\":\"rgb(237,237,237)\",\"polar\":{\"angularaxis\":{\"gridcolor\":\"white\",\"linecolor\":\"white\",\"showgrid\":true,\"tickcolor\":\"rgb(51,51,51)\",\"ticks\":\"outside\"},\"bgcolor\":\"rgb(237,237,237)\",\"radialaxis\":{\"gridcolor\":\"white\",\"linecolor\":\"white\",\"showgrid\":true,\"tickcolor\":\"rgb(51,51,51)\",\"ticks\":\"outside\"}},\"scene\":{\"xaxis\":{\"backgroundcolor\":\"rgb(237,237,237)\",\"gridcolor\":\"white\",\"gridwidth\":2,\"linecolor\":\"white\",\"showbackground\":true,\"showgrid\":true,\"tickcolor\":\"rgb(51,51,51)\",\"ticks\":\"outside\",\"zerolinecolor\":\"white\"},\"yaxis\":{\"backgroundcolor\":\"rgb(237,237,237)\",\"gridcolor\":\"white\",\"gridwidth\":2,\"linecolor\":\"white\",\"showbackground\":true,\"showgrid\":true,\"tickcolor\":\"rgb(51,51,51)\",\"ticks\":\"outside\",\"zerolinecolor\":\"white\"},\"zaxis\":{\"backgroundcolor\":\"rgb(237,237,237)\",\"gridcolor\":\"white\",\"gridwidth\":2,\"linecolor\":\"white\",\"showbackground\":true,\"showgrid\":true,\"tickcolor\":\"rgb(51,51,51)\",\"ticks\":\"outside\",\"zerolinecolor\":\"white\"}},\"shapedefaults\":{\"fillcolor\":\"black\",\"line\":{\"width\":0},\"opacity\":0.3},\"ternary\":{\"aaxis\":{\"gridcolor\":\"white\",\"linecolor\":\"white\",\"showgrid\":true,\"tickcolor\":\"rgb(51,51,51)\",\"ticks\":\"outside\"},\"baxis\":{\"gridcolor\":\"white\",\"linecolor\":\"white\",\"showgrid\":true,\"tickcolor\":\"rgb(51,51,51)\",\"ticks\":\"outside\"},\"bgcolor\":\"rgb(237,237,237)\",\"caxis\":{\"gridcolor\":\"white\",\"linecolor\":\"white\",\"showgrid\":true,\"tickcolor\":\"rgb(51,51,51)\",\"ticks\":\"outside\"}},\"xaxis\":{\"automargin\":true,\"gridcolor\":\"white\",\"linecolor\":\"white\",\"showgrid\":true,\"tickcolor\":\"rgb(51,51,51)\",\"ticks\":\"outside\",\"title\":{\"standoff\":15},\"zerolinecolor\":\"white\"},\"yaxis\":{\"automargin\":true,\"gridcolor\":\"white\",\"linecolor\":\"white\",\"showgrid\":true,\"tickcolor\":\"rgb(51,51,51)\",\"ticks\":\"outside\",\"title\":{\"standoff\":15},\"zerolinecolor\":\"white\"}}},\"xaxis\":{\"anchor\":\"y\",\"domain\":[0.0,1.0],\"title\":{\"text\":\"remote_ratio\"}},\"yaxis\":{\"anchor\":\"x\",\"domain\":[0.0,1.0],\"title\":{\"text\":\"count\"}},\"legend\":{\"title\":{\"text\":\"work_year\"},\"tracegroupgap\":0},\"title\":{\"text\":\"Count of each Work Type\"},\"barmode\":\"group\"},                        {\"responsive\": true}                    ).then(function(){\n",
       "                            \n",
       "var gd = document.getElementById('ea45469c-2453-4a93-b2e9-3de8fec433a1');\n",
       "var x = new MutationObserver(function (mutations, observer) {{\n",
       "        var display = window.getComputedStyle(gd).display;\n",
       "        if (!display || display === 'none') {{\n",
       "            console.log([gd, 'removed!']);\n",
       "            Plotly.purge(gd);\n",
       "            observer.disconnect();\n",
       "        }}\n",
       "}});\n",
       "\n",
       "// Listen for the removal of the full notebook cells\n",
       "var notebookContainer = gd.closest('#notebook-container');\n",
       "if (notebookContainer) {{\n",
       "    x.observe(notebookContainer, {childList: true});\n",
       "}}\n",
       "\n",
       "// Listen for the clearing of the current output cell\n",
       "var outputEl = gd.closest('.output');\n",
       "if (outputEl) {{\n",
       "    x.observe(outputEl, {childList: true});\n",
       "}}\n",
       "\n",
       "                        })                };                });            </script>        </div>"
      ]
     },
     "metadata": {},
     "output_type": "display_data"
    }
   ],
   "source": [
    "#checking the distribution of remote employees in different years\n",
    "px.histogram(df, x = 'remote_ratio',color = 'work_year', barmode = 'group',color_discrete_sequence=px.colors.qualitative.Pastel,\n",
    "             template = 'ggplot2',title='Count of each Work Type')\n"
   ]
  },
  {
   "cell_type": "markdown",
   "id": "dff1e537",
   "metadata": {},
   "source": [
    "the number of remote workers are more in 2022"
   ]
  },
  {
   "cell_type": "code",
   "execution_count": 17,
   "id": "89aa4f29",
   "metadata": {},
   "outputs": [
    {
     "data": {
      "application/vnd.plotly.v1+json": {
       "config": {
        "plotlyServerURL": "https://plot.ly"
       },
       "data": [
        {
         "alignmentgroup": "True",
         "bingroup": "x",
         "histnorm": "percent",
         "hovertemplate": "employee_ressidence=%{x}<br>percent=%{y}<extra></extra>",
         "legendgroup": "",
         "marker": {
          "color": "rgb(136, 204, 238)",
          "pattern": {
           "shape": ""
          }
         },
         "name": "",
         "offsetgroup": "",
         "orientation": "v",
         "showlegend": false,
         "texttemplate": "%{value:.1f}",
         "type": "histogram",
         "x": [
          "AE",
          "AE",
          "AE",
          "AR",
          "AT",
          "AT",
          "AT",
          "AU",
          "AU",
          "AU",
          "BE",
          "BE",
          "BG",
          "BO",
          "BR",
          "BR",
          "BR",
          "BR",
          "BR",
          "BR",
          "CA",
          "CA",
          "CA",
          "CA",
          "CA",
          "CA",
          "CA",
          "CA",
          "CA",
          "CA",
          "CA",
          "CA",
          "CA",
          "CA",
          "CA",
          "CA",
          "CA",
          "CA",
          "CA",
          "CA",
          "CA",
          "CA",
          "CA",
          "CA",
          "CA",
          "CA",
          "CA",
          "CA",
          "CA",
          "CH",
          "CL",
          "CN",
          "CO",
          "CZ",
          "DE",
          "DE",
          "DE",
          "DE",
          "DE",
          "DE",
          "DE",
          "DE",
          "DE",
          "DE",
          "DE",
          "DE",
          "DE",
          "DE",
          "DE",
          "DE",
          "DE",
          "DE",
          "DE",
          "DE",
          "DE",
          "DE",
          "DE",
          "DE",
          "DE",
          "DK",
          "DK",
          "DZ",
          "EE",
          "ES",
          "ES",
          "ES",
          "ES",
          "ES",
          "ES",
          "ES",
          "ES",
          "ES",
          "ES",
          "ES",
          "ES",
          "ES",
          "ES",
          "ES",
          "FR",
          "FR",
          "FR",
          "FR",
          "FR",
          "FR",
          "FR",
          "FR",
          "FR",
          "FR",
          "FR",
          "FR",
          "FR",
          "FR",
          "FR",
          "FR",
          "FR",
          "FR",
          "GB",
          "GB",
          "GB",
          "GB",
          "GB",
          "GB",
          "GB",
          "GB",
          "GB",
          "GB",
          "GB",
          "GB",
          "GB",
          "GB",
          "GB",
          "GB",
          "GB",
          "GB",
          "GB",
          "GB",
          "GB",
          "GB",
          "GB",
          "GB",
          "GB",
          "GB",
          "GB",
          "GB",
          "GB",
          "GB",
          "GB",
          "GB",
          "GB",
          "GB",
          "GB",
          "GB",
          "GB",
          "GB",
          "GB",
          "GB",
          "GB",
          "GB",
          "GB",
          "GB",
          "GR",
          "GR",
          "GR",
          "GR",
          "GR",
          "GR",
          "GR",
          "GR",
          "GR",
          "GR",
          "GR",
          "GR",
          "GR",
          "HK",
          "HN",
          "HR",
          "HU",
          "HU",
          "IE",
          "IN",
          "IN",
          "IN",
          "IN",
          "IN",
          "IN",
          "IN",
          "IN",
          "IN",
          "IN",
          "IN",
          "IN",
          "IN",
          "IN",
          "IN",
          "IN",
          "IN",
          "IN",
          "IN",
          "IN",
          "IN",
          "IN",
          "IN",
          "IN",
          "IN",
          "IN",
          "IN",
          "IN",
          "IN",
          "IN",
          "IQ",
          "IR",
          "IT",
          "IT",
          "IT",
          "IT",
          "JE",
          "JP",
          "JP",
          "JP",
          "JP",
          "JP",
          "JP",
          "JP",
          "KE",
          "LU",
          "MD",
          "MT",
          "MX",
          "MX",
          "MY",
          "NG",
          "NG",
          "NL",
          "NL",
          "NL",
          "NL",
          "NL",
          "NZ",
          "PH",
          "PK",
          "PK",
          "PK",
          "PK",
          "PK",
          "PK",
          "PL",
          "PL",
          "PL",
          "PL",
          "PR",
          "PT",
          "PT",
          "PT",
          "PT",
          "PT",
          "PT",
          "RO",
          "RO",
          "RS",
          "RU",
          "RU",
          "RU",
          "RU",
          "SG",
          "SG",
          "SI",
          "SI",
          "TN",
          "TR",
          "TR",
          "TR",
          "UA",
          "US",
          "US",
          "US",
          "US",
          "US",
          "US",
          "US",
          "US",
          "US",
          "US",
          "US",
          "US",
          "US",
          "US",
          "US",
          "US",
          "US",
          "US",
          "US",
          "US",
          "US",
          "US",
          "US",
          "US",
          "US",
          "US",
          "US",
          "US",
          "US",
          "US",
          "US",
          "US",
          "US",
          "US",
          "US",
          "US",
          "US",
          "US",
          "US",
          "US",
          "US",
          "US",
          "US",
          "US",
          "US",
          "US",
          "US",
          "US",
          "US",
          "US",
          "US",
          "US",
          "US",
          "US",
          "US",
          "US",
          "US",
          "US",
          "US",
          "US",
          "US",
          "US",
          "US",
          "US",
          "US",
          "US",
          "US",
          "US",
          "US",
          "US",
          "US",
          "US",
          "US",
          "US",
          "US",
          "US",
          "US",
          "US",
          "US",
          "US",
          "US",
          "US",
          "US",
          "US",
          "US",
          "US",
          "US",
          "US",
          "US",
          "US",
          "US",
          "US",
          "US",
          "US",
          "US",
          "US",
          "US",
          "US",
          "US",
          "US",
          "US",
          "US",
          "US",
          "US",
          "US",
          "US",
          "US",
          "US",
          "US",
          "US",
          "US",
          "US",
          "US",
          "US",
          "US",
          "US",
          "US",
          "US",
          "US",
          "US",
          "US",
          "US",
          "US",
          "US",
          "US",
          "US",
          "US",
          "US",
          "US",
          "US",
          "US",
          "US",
          "US",
          "US",
          "US",
          "US",
          "US",
          "US",
          "US",
          "US",
          "US",
          "US",
          "US",
          "US",
          "US",
          "US",
          "US",
          "US",
          "US",
          "US",
          "US",
          "US",
          "US",
          "US",
          "US",
          "US",
          "US",
          "US",
          "US",
          "US",
          "US",
          "US",
          "US",
          "US",
          "US",
          "US",
          "US",
          "US",
          "US",
          "US",
          "US",
          "US",
          "US",
          "US",
          "US",
          "US",
          "US",
          "US",
          "US",
          "US",
          "US",
          "US",
          "US",
          "US",
          "US",
          "US",
          "US",
          "US",
          "US",
          "US",
          "US",
          "US",
          "US",
          "US",
          "US",
          "US",
          "US",
          "US",
          "US",
          "US",
          "US",
          "US",
          "US",
          "US",
          "US",
          "US",
          "US",
          "US",
          "US",
          "US",
          "US",
          "US",
          "US",
          "US",
          "US",
          "US",
          "US",
          "US",
          "US",
          "US",
          "US",
          "US",
          "US",
          "US",
          "US",
          "US",
          "US",
          "US",
          "US",
          "US",
          "US",
          "US",
          "US",
          "US",
          "US",
          "US",
          "US",
          "US",
          "US",
          "US",
          "US",
          "US",
          "US",
          "US",
          "US",
          "US",
          "US",
          "US",
          "US",
          "US",
          "US",
          "US",
          "US",
          "US",
          "US",
          "US",
          "US",
          "US",
          "US",
          "US",
          "US",
          "US",
          "US",
          "US",
          "US",
          "US",
          "US",
          "US",
          "US",
          "US",
          "US",
          "US",
          "US",
          "US",
          "US",
          "US",
          "US",
          "US",
          "US",
          "US",
          "US",
          "US",
          "US",
          "US",
          "US",
          "US",
          "US",
          "US",
          "US",
          "US",
          "US",
          "US",
          "US",
          "US",
          "US",
          "US",
          "US",
          "US",
          "US",
          "US",
          "US",
          "US",
          "US",
          "US",
          "US",
          "US",
          "US",
          "US",
          "US",
          "US",
          "US",
          "US",
          "US",
          "US",
          "US",
          "US",
          "US",
          "US",
          "US",
          "US",
          "US",
          "US",
          "US",
          "US",
          "US",
          "US",
          "US",
          "US",
          "US",
          "US",
          "US",
          "US",
          "VN",
          "VN",
          "VN"
         ],
         "xaxis": "x",
         "yaxis": "y"
        }
       ],
       "layout": {
        "barmode": "relative",
        "legend": {
         "tracegroupgap": 0
        },
        "template": {
         "data": {
          "bar": [
           {
            "error_x": {
             "color": "rgb(51,51,51)"
            },
            "error_y": {
             "color": "rgb(51,51,51)"
            },
            "marker": {
             "line": {
              "color": "rgb(237,237,237)",
              "width": 0.5
             },
             "pattern": {
              "fillmode": "overlay",
              "size": 10,
              "solidity": 0.2
             }
            },
            "type": "bar"
           }
          ],
          "barpolar": [
           {
            "marker": {
             "line": {
              "color": "rgb(237,237,237)",
              "width": 0.5
             },
             "pattern": {
              "fillmode": "overlay",
              "size": 10,
              "solidity": 0.2
             }
            },
            "type": "barpolar"
           }
          ],
          "carpet": [
           {
            "aaxis": {
             "endlinecolor": "rgb(51,51,51)",
             "gridcolor": "white",
             "linecolor": "white",
             "minorgridcolor": "white",
             "startlinecolor": "rgb(51,51,51)"
            },
            "baxis": {
             "endlinecolor": "rgb(51,51,51)",
             "gridcolor": "white",
             "linecolor": "white",
             "minorgridcolor": "white",
             "startlinecolor": "rgb(51,51,51)"
            },
            "type": "carpet"
           }
          ],
          "choropleth": [
           {
            "colorbar": {
             "outlinewidth": 0,
             "tickcolor": "rgb(237,237,237)",
             "ticklen": 6,
             "ticks": "inside"
            },
            "type": "choropleth"
           }
          ],
          "contour": [
           {
            "colorbar": {
             "outlinewidth": 0,
             "tickcolor": "rgb(237,237,237)",
             "ticklen": 6,
             "ticks": "inside"
            },
            "colorscale": [
             [
              0,
              "rgb(20,44,66)"
             ],
             [
              1,
              "rgb(90,179,244)"
             ]
            ],
            "type": "contour"
           }
          ],
          "contourcarpet": [
           {
            "colorbar": {
             "outlinewidth": 0,
             "tickcolor": "rgb(237,237,237)",
             "ticklen": 6,
             "ticks": "inside"
            },
            "type": "contourcarpet"
           }
          ],
          "heatmap": [
           {
            "colorbar": {
             "outlinewidth": 0,
             "tickcolor": "rgb(237,237,237)",
             "ticklen": 6,
             "ticks": "inside"
            },
            "colorscale": [
             [
              0,
              "rgb(20,44,66)"
             ],
             [
              1,
              "rgb(90,179,244)"
             ]
            ],
            "type": "heatmap"
           }
          ],
          "heatmapgl": [
           {
            "colorbar": {
             "outlinewidth": 0,
             "tickcolor": "rgb(237,237,237)",
             "ticklen": 6,
             "ticks": "inside"
            },
            "colorscale": [
             [
              0,
              "rgb(20,44,66)"
             ],
             [
              1,
              "rgb(90,179,244)"
             ]
            ],
            "type": "heatmapgl"
           }
          ],
          "histogram": [
           {
            "marker": {
             "pattern": {
              "fillmode": "overlay",
              "size": 10,
              "solidity": 0.2
             }
            },
            "type": "histogram"
           }
          ],
          "histogram2d": [
           {
            "colorbar": {
             "outlinewidth": 0,
             "tickcolor": "rgb(237,237,237)",
             "ticklen": 6,
             "ticks": "inside"
            },
            "colorscale": [
             [
              0,
              "rgb(20,44,66)"
             ],
             [
              1,
              "rgb(90,179,244)"
             ]
            ],
            "type": "histogram2d"
           }
          ],
          "histogram2dcontour": [
           {
            "colorbar": {
             "outlinewidth": 0,
             "tickcolor": "rgb(237,237,237)",
             "ticklen": 6,
             "ticks": "inside"
            },
            "colorscale": [
             [
              0,
              "rgb(20,44,66)"
             ],
             [
              1,
              "rgb(90,179,244)"
             ]
            ],
            "type": "histogram2dcontour"
           }
          ],
          "mesh3d": [
           {
            "colorbar": {
             "outlinewidth": 0,
             "tickcolor": "rgb(237,237,237)",
             "ticklen": 6,
             "ticks": "inside"
            },
            "type": "mesh3d"
           }
          ],
          "parcoords": [
           {
            "line": {
             "colorbar": {
              "outlinewidth": 0,
              "tickcolor": "rgb(237,237,237)",
              "ticklen": 6,
              "ticks": "inside"
             }
            },
            "type": "parcoords"
           }
          ],
          "pie": [
           {
            "automargin": true,
            "type": "pie"
           }
          ],
          "scatter": [
           {
            "marker": {
             "colorbar": {
              "outlinewidth": 0,
              "tickcolor": "rgb(237,237,237)",
              "ticklen": 6,
              "ticks": "inside"
             }
            },
            "type": "scatter"
           }
          ],
          "scatter3d": [
           {
            "line": {
             "colorbar": {
              "outlinewidth": 0,
              "tickcolor": "rgb(237,237,237)",
              "ticklen": 6,
              "ticks": "inside"
             }
            },
            "marker": {
             "colorbar": {
              "outlinewidth": 0,
              "tickcolor": "rgb(237,237,237)",
              "ticklen": 6,
              "ticks": "inside"
             }
            },
            "type": "scatter3d"
           }
          ],
          "scattercarpet": [
           {
            "marker": {
             "colorbar": {
              "outlinewidth": 0,
              "tickcolor": "rgb(237,237,237)",
              "ticklen": 6,
              "ticks": "inside"
             }
            },
            "type": "scattercarpet"
           }
          ],
          "scattergeo": [
           {
            "marker": {
             "colorbar": {
              "outlinewidth": 0,
              "tickcolor": "rgb(237,237,237)",
              "ticklen": 6,
              "ticks": "inside"
             }
            },
            "type": "scattergeo"
           }
          ],
          "scattergl": [
           {
            "marker": {
             "colorbar": {
              "outlinewidth": 0,
              "tickcolor": "rgb(237,237,237)",
              "ticklen": 6,
              "ticks": "inside"
             }
            },
            "type": "scattergl"
           }
          ],
          "scattermapbox": [
           {
            "marker": {
             "colorbar": {
              "outlinewidth": 0,
              "tickcolor": "rgb(237,237,237)",
              "ticklen": 6,
              "ticks": "inside"
             }
            },
            "type": "scattermapbox"
           }
          ],
          "scatterpolar": [
           {
            "marker": {
             "colorbar": {
              "outlinewidth": 0,
              "tickcolor": "rgb(237,237,237)",
              "ticklen": 6,
              "ticks": "inside"
             }
            },
            "type": "scatterpolar"
           }
          ],
          "scatterpolargl": [
           {
            "marker": {
             "colorbar": {
              "outlinewidth": 0,
              "tickcolor": "rgb(237,237,237)",
              "ticklen": 6,
              "ticks": "inside"
             }
            },
            "type": "scatterpolargl"
           }
          ],
          "scatterternary": [
           {
            "marker": {
             "colorbar": {
              "outlinewidth": 0,
              "tickcolor": "rgb(237,237,237)",
              "ticklen": 6,
              "ticks": "inside"
             }
            },
            "type": "scatterternary"
           }
          ],
          "surface": [
           {
            "colorbar": {
             "outlinewidth": 0,
             "tickcolor": "rgb(237,237,237)",
             "ticklen": 6,
             "ticks": "inside"
            },
            "colorscale": [
             [
              0,
              "rgb(20,44,66)"
             ],
             [
              1,
              "rgb(90,179,244)"
             ]
            ],
            "type": "surface"
           }
          ],
          "table": [
           {
            "cells": {
             "fill": {
              "color": "rgb(237,237,237)"
             },
             "line": {
              "color": "white"
             }
            },
            "header": {
             "fill": {
              "color": "rgb(217,217,217)"
             },
             "line": {
              "color": "white"
             }
            },
            "type": "table"
           }
          ]
         },
         "layout": {
          "annotationdefaults": {
           "arrowhead": 0,
           "arrowwidth": 1
          },
          "autotypenumbers": "strict",
          "coloraxis": {
           "colorbar": {
            "outlinewidth": 0,
            "tickcolor": "rgb(237,237,237)",
            "ticklen": 6,
            "ticks": "inside"
           }
          },
          "colorscale": {
           "sequential": [
            [
             0,
             "rgb(20,44,66)"
            ],
            [
             1,
             "rgb(90,179,244)"
            ]
           ],
           "sequentialminus": [
            [
             0,
             "rgb(20,44,66)"
            ],
            [
             1,
             "rgb(90,179,244)"
            ]
           ]
          },
          "colorway": [
           "#F8766D",
           "#A3A500",
           "#00BF7D",
           "#00B0F6",
           "#E76BF3"
          ],
          "font": {
           "color": "rgb(51,51,51)"
          },
          "geo": {
           "bgcolor": "white",
           "lakecolor": "white",
           "landcolor": "rgb(237,237,237)",
           "showlakes": true,
           "showland": true,
           "subunitcolor": "white"
          },
          "hoverlabel": {
           "align": "left"
          },
          "hovermode": "closest",
          "paper_bgcolor": "white",
          "plot_bgcolor": "rgb(237,237,237)",
          "polar": {
           "angularaxis": {
            "gridcolor": "white",
            "linecolor": "white",
            "showgrid": true,
            "tickcolor": "rgb(51,51,51)",
            "ticks": "outside"
           },
           "bgcolor": "rgb(237,237,237)",
           "radialaxis": {
            "gridcolor": "white",
            "linecolor": "white",
            "showgrid": true,
            "tickcolor": "rgb(51,51,51)",
            "ticks": "outside"
           }
          },
          "scene": {
           "xaxis": {
            "backgroundcolor": "rgb(237,237,237)",
            "gridcolor": "white",
            "gridwidth": 2,
            "linecolor": "white",
            "showbackground": true,
            "showgrid": true,
            "tickcolor": "rgb(51,51,51)",
            "ticks": "outside",
            "zerolinecolor": "white"
           },
           "yaxis": {
            "backgroundcolor": "rgb(237,237,237)",
            "gridcolor": "white",
            "gridwidth": 2,
            "linecolor": "white",
            "showbackground": true,
            "showgrid": true,
            "tickcolor": "rgb(51,51,51)",
            "ticks": "outside",
            "zerolinecolor": "white"
           },
           "zaxis": {
            "backgroundcolor": "rgb(237,237,237)",
            "gridcolor": "white",
            "gridwidth": 2,
            "linecolor": "white",
            "showbackground": true,
            "showgrid": true,
            "tickcolor": "rgb(51,51,51)",
            "ticks": "outside",
            "zerolinecolor": "white"
           }
          },
          "shapedefaults": {
           "fillcolor": "black",
           "line": {
            "width": 0
           },
           "opacity": 0.3
          },
          "ternary": {
           "aaxis": {
            "gridcolor": "white",
            "linecolor": "white",
            "showgrid": true,
            "tickcolor": "rgb(51,51,51)",
            "ticks": "outside"
           },
           "baxis": {
            "gridcolor": "white",
            "linecolor": "white",
            "showgrid": true,
            "tickcolor": "rgb(51,51,51)",
            "ticks": "outside"
           },
           "bgcolor": "rgb(237,237,237)",
           "caxis": {
            "gridcolor": "white",
            "linecolor": "white",
            "showgrid": true,
            "tickcolor": "rgb(51,51,51)",
            "ticks": "outside"
           }
          },
          "xaxis": {
           "automargin": true,
           "gridcolor": "white",
           "linecolor": "white",
           "showgrid": true,
           "tickcolor": "rgb(51,51,51)",
           "ticks": "outside",
           "title": {
            "standoff": 15
           },
           "zerolinecolor": "white"
          },
          "yaxis": {
           "automargin": true,
           "gridcolor": "white",
           "linecolor": "white",
           "showgrid": true,
           "tickcolor": "rgb(51,51,51)",
           "ticks": "outside",
           "title": {
            "standoff": 15
           },
           "zerolinecolor": "white"
          }
         }
        },
        "title": {
         "text": "Count of Employee residence in each country"
        },
        "xaxis": {
         "anchor": "y",
         "domain": [
          0,
          1
         ],
         "title": {
          "text": "employee_ressidence"
         }
        },
        "yaxis": {
         "anchor": "x",
         "domain": [
          0,
          1
         ],
         "title": {
          "text": "percent"
         }
        }
       }
      },
      "text/html": [
       "<div>                            <div id=\"16e6d00d-30ac-488c-b380-db9fc672dc05\" class=\"plotly-graph-div\" style=\"height:525px; width:100%;\"></div>            <script type=\"text/javascript\">                require([\"plotly\"], function(Plotly) {                    window.PLOTLYENV=window.PLOTLYENV || {};                                    if (document.getElementById(\"16e6d00d-30ac-488c-b380-db9fc672dc05\")) {                    Plotly.newPlot(                        \"16e6d00d-30ac-488c-b380-db9fc672dc05\",                        [{\"alignmentgroup\":\"True\",\"bingroup\":\"x\",\"histnorm\":\"percent\",\"hovertemplate\":\"employee_ressidence=%{x}<br>percent=%{y}<extra></extra>\",\"legendgroup\":\"\",\"marker\":{\"color\":\"rgb(136, 204, 238)\",\"pattern\":{\"shape\":\"\"}},\"name\":\"\",\"offsetgroup\":\"\",\"orientation\":\"v\",\"showlegend\":false,\"texttemplate\":\"%{value:.1f}\",\"x\":[\"AE\",\"AE\",\"AE\",\"AR\",\"AT\",\"AT\",\"AT\",\"AU\",\"AU\",\"AU\",\"BE\",\"BE\",\"BG\",\"BO\",\"BR\",\"BR\",\"BR\",\"BR\",\"BR\",\"BR\",\"CA\",\"CA\",\"CA\",\"CA\",\"CA\",\"CA\",\"CA\",\"CA\",\"CA\",\"CA\",\"CA\",\"CA\",\"CA\",\"CA\",\"CA\",\"CA\",\"CA\",\"CA\",\"CA\",\"CA\",\"CA\",\"CA\",\"CA\",\"CA\",\"CA\",\"CA\",\"CA\",\"CA\",\"CA\",\"CH\",\"CL\",\"CN\",\"CO\",\"CZ\",\"DE\",\"DE\",\"DE\",\"DE\",\"DE\",\"DE\",\"DE\",\"DE\",\"DE\",\"DE\",\"DE\",\"DE\",\"DE\",\"DE\",\"DE\",\"DE\",\"DE\",\"DE\",\"DE\",\"DE\",\"DE\",\"DE\",\"DE\",\"DE\",\"DE\",\"DK\",\"DK\",\"DZ\",\"EE\",\"ES\",\"ES\",\"ES\",\"ES\",\"ES\",\"ES\",\"ES\",\"ES\",\"ES\",\"ES\",\"ES\",\"ES\",\"ES\",\"ES\",\"ES\",\"FR\",\"FR\",\"FR\",\"FR\",\"FR\",\"FR\",\"FR\",\"FR\",\"FR\",\"FR\",\"FR\",\"FR\",\"FR\",\"FR\",\"FR\",\"FR\",\"FR\",\"FR\",\"GB\",\"GB\",\"GB\",\"GB\",\"GB\",\"GB\",\"GB\",\"GB\",\"GB\",\"GB\",\"GB\",\"GB\",\"GB\",\"GB\",\"GB\",\"GB\",\"GB\",\"GB\",\"GB\",\"GB\",\"GB\",\"GB\",\"GB\",\"GB\",\"GB\",\"GB\",\"GB\",\"GB\",\"GB\",\"GB\",\"GB\",\"GB\",\"GB\",\"GB\",\"GB\",\"GB\",\"GB\",\"GB\",\"GB\",\"GB\",\"GB\",\"GB\",\"GB\",\"GB\",\"GR\",\"GR\",\"GR\",\"GR\",\"GR\",\"GR\",\"GR\",\"GR\",\"GR\",\"GR\",\"GR\",\"GR\",\"GR\",\"HK\",\"HN\",\"HR\",\"HU\",\"HU\",\"IE\",\"IN\",\"IN\",\"IN\",\"IN\",\"IN\",\"IN\",\"IN\",\"IN\",\"IN\",\"IN\",\"IN\",\"IN\",\"IN\",\"IN\",\"IN\",\"IN\",\"IN\",\"IN\",\"IN\",\"IN\",\"IN\",\"IN\",\"IN\",\"IN\",\"IN\",\"IN\",\"IN\",\"IN\",\"IN\",\"IN\",\"IQ\",\"IR\",\"IT\",\"IT\",\"IT\",\"IT\",\"JE\",\"JP\",\"JP\",\"JP\",\"JP\",\"JP\",\"JP\",\"JP\",\"KE\",\"LU\",\"MD\",\"MT\",\"MX\",\"MX\",\"MY\",\"NG\",\"NG\",\"NL\",\"NL\",\"NL\",\"NL\",\"NL\",\"NZ\",\"PH\",\"PK\",\"PK\",\"PK\",\"PK\",\"PK\",\"PK\",\"PL\",\"PL\",\"PL\",\"PL\",\"PR\",\"PT\",\"PT\",\"PT\",\"PT\",\"PT\",\"PT\",\"RO\",\"RO\",\"RS\",\"RU\",\"RU\",\"RU\",\"RU\",\"SG\",\"SG\",\"SI\",\"SI\",\"TN\",\"TR\",\"TR\",\"TR\",\"UA\",\"US\",\"US\",\"US\",\"US\",\"US\",\"US\",\"US\",\"US\",\"US\",\"US\",\"US\",\"US\",\"US\",\"US\",\"US\",\"US\",\"US\",\"US\",\"US\",\"US\",\"US\",\"US\",\"US\",\"US\",\"US\",\"US\",\"US\",\"US\",\"US\",\"US\",\"US\",\"US\",\"US\",\"US\",\"US\",\"US\",\"US\",\"US\",\"US\",\"US\",\"US\",\"US\",\"US\",\"US\",\"US\",\"US\",\"US\",\"US\",\"US\",\"US\",\"US\",\"US\",\"US\",\"US\",\"US\",\"US\",\"US\",\"US\",\"US\",\"US\",\"US\",\"US\",\"US\",\"US\",\"US\",\"US\",\"US\",\"US\",\"US\",\"US\",\"US\",\"US\",\"US\",\"US\",\"US\",\"US\",\"US\",\"US\",\"US\",\"US\",\"US\",\"US\",\"US\",\"US\",\"US\",\"US\",\"US\",\"US\",\"US\",\"US\",\"US\",\"US\",\"US\",\"US\",\"US\",\"US\",\"US\",\"US\",\"US\",\"US\",\"US\",\"US\",\"US\",\"US\",\"US\",\"US\",\"US\",\"US\",\"US\",\"US\",\"US\",\"US\",\"US\",\"US\",\"US\",\"US\",\"US\",\"US\",\"US\",\"US\",\"US\",\"US\",\"US\",\"US\",\"US\",\"US\",\"US\",\"US\",\"US\",\"US\",\"US\",\"US\",\"US\",\"US\",\"US\",\"US\",\"US\",\"US\",\"US\",\"US\",\"US\",\"US\",\"US\",\"US\",\"US\",\"US\",\"US\",\"US\",\"US\",\"US\",\"US\",\"US\",\"US\",\"US\",\"US\",\"US\",\"US\",\"US\",\"US\",\"US\",\"US\",\"US\",\"US\",\"US\",\"US\",\"US\",\"US\",\"US\",\"US\",\"US\",\"US\",\"US\",\"US\",\"US\",\"US\",\"US\",\"US\",\"US\",\"US\",\"US\",\"US\",\"US\",\"US\",\"US\",\"US\",\"US\",\"US\",\"US\",\"US\",\"US\",\"US\",\"US\",\"US\",\"US\",\"US\",\"US\",\"US\",\"US\",\"US\",\"US\",\"US\",\"US\",\"US\",\"US\",\"US\",\"US\",\"US\",\"US\",\"US\",\"US\",\"US\",\"US\",\"US\",\"US\",\"US\",\"US\",\"US\",\"US\",\"US\",\"US\",\"US\",\"US\",\"US\",\"US\",\"US\",\"US\",\"US\",\"US\",\"US\",\"US\",\"US\",\"US\",\"US\",\"US\",\"US\",\"US\",\"US\",\"US\",\"US\",\"US\",\"US\",\"US\",\"US\",\"US\",\"US\",\"US\",\"US\",\"US\",\"US\",\"US\",\"US\",\"US\",\"US\",\"US\",\"US\",\"US\",\"US\",\"US\",\"US\",\"US\",\"US\",\"US\",\"US\",\"US\",\"US\",\"US\",\"US\",\"US\",\"US\",\"US\",\"US\",\"US\",\"US\",\"US\",\"US\",\"US\",\"US\",\"US\",\"US\",\"US\",\"US\",\"US\",\"US\",\"US\",\"US\",\"US\",\"US\",\"US\",\"US\",\"US\",\"US\",\"US\",\"US\",\"US\",\"US\",\"US\",\"US\",\"US\",\"US\",\"US\",\"US\",\"US\",\"US\",\"US\",\"US\",\"US\",\"US\",\"US\",\"US\",\"US\",\"US\",\"US\",\"US\",\"US\",\"US\",\"US\",\"US\",\"US\",\"US\",\"US\",\"US\",\"US\",\"US\",\"US\",\"US\",\"US\",\"US\",\"US\",\"US\",\"US\",\"US\",\"US\",\"VN\",\"VN\",\"VN\"],\"xaxis\":\"x\",\"yaxis\":\"y\",\"type\":\"histogram\"}],                        {\"template\":{\"data\":{\"barpolar\":[{\"marker\":{\"line\":{\"color\":\"rgb(237,237,237)\",\"width\":0.5},\"pattern\":{\"fillmode\":\"overlay\",\"size\":10,\"solidity\":0.2}},\"type\":\"barpolar\"}],\"bar\":[{\"error_x\":{\"color\":\"rgb(51,51,51)\"},\"error_y\":{\"color\":\"rgb(51,51,51)\"},\"marker\":{\"line\":{\"color\":\"rgb(237,237,237)\",\"width\":0.5},\"pattern\":{\"fillmode\":\"overlay\",\"size\":10,\"solidity\":0.2}},\"type\":\"bar\"}],\"carpet\":[{\"aaxis\":{\"endlinecolor\":\"rgb(51,51,51)\",\"gridcolor\":\"white\",\"linecolor\":\"white\",\"minorgridcolor\":\"white\",\"startlinecolor\":\"rgb(51,51,51)\"},\"baxis\":{\"endlinecolor\":\"rgb(51,51,51)\",\"gridcolor\":\"white\",\"linecolor\":\"white\",\"minorgridcolor\":\"white\",\"startlinecolor\":\"rgb(51,51,51)\"},\"type\":\"carpet\"}],\"choropleth\":[{\"colorbar\":{\"outlinewidth\":0,\"tickcolor\":\"rgb(237,237,237)\",\"ticklen\":6,\"ticks\":\"inside\"},\"type\":\"choropleth\"}],\"contourcarpet\":[{\"colorbar\":{\"outlinewidth\":0,\"tickcolor\":\"rgb(237,237,237)\",\"ticklen\":6,\"ticks\":\"inside\"},\"type\":\"contourcarpet\"}],\"contour\":[{\"colorbar\":{\"outlinewidth\":0,\"tickcolor\":\"rgb(237,237,237)\",\"ticklen\":6,\"ticks\":\"inside\"},\"colorscale\":[[0,\"rgb(20,44,66)\"],[1,\"rgb(90,179,244)\"]],\"type\":\"contour\"}],\"heatmapgl\":[{\"colorbar\":{\"outlinewidth\":0,\"tickcolor\":\"rgb(237,237,237)\",\"ticklen\":6,\"ticks\":\"inside\"},\"colorscale\":[[0,\"rgb(20,44,66)\"],[1,\"rgb(90,179,244)\"]],\"type\":\"heatmapgl\"}],\"heatmap\":[{\"colorbar\":{\"outlinewidth\":0,\"tickcolor\":\"rgb(237,237,237)\",\"ticklen\":6,\"ticks\":\"inside\"},\"colorscale\":[[0,\"rgb(20,44,66)\"],[1,\"rgb(90,179,244)\"]],\"type\":\"heatmap\"}],\"histogram2dcontour\":[{\"colorbar\":{\"outlinewidth\":0,\"tickcolor\":\"rgb(237,237,237)\",\"ticklen\":6,\"ticks\":\"inside\"},\"colorscale\":[[0,\"rgb(20,44,66)\"],[1,\"rgb(90,179,244)\"]],\"type\":\"histogram2dcontour\"}],\"histogram2d\":[{\"colorbar\":{\"outlinewidth\":0,\"tickcolor\":\"rgb(237,237,237)\",\"ticklen\":6,\"ticks\":\"inside\"},\"colorscale\":[[0,\"rgb(20,44,66)\"],[1,\"rgb(90,179,244)\"]],\"type\":\"histogram2d\"}],\"histogram\":[{\"marker\":{\"pattern\":{\"fillmode\":\"overlay\",\"size\":10,\"solidity\":0.2}},\"type\":\"histogram\"}],\"mesh3d\":[{\"colorbar\":{\"outlinewidth\":0,\"tickcolor\":\"rgb(237,237,237)\",\"ticklen\":6,\"ticks\":\"inside\"},\"type\":\"mesh3d\"}],\"parcoords\":[{\"line\":{\"colorbar\":{\"outlinewidth\":0,\"tickcolor\":\"rgb(237,237,237)\",\"ticklen\":6,\"ticks\":\"inside\"}},\"type\":\"parcoords\"}],\"pie\":[{\"automargin\":true,\"type\":\"pie\"}],\"scatter3d\":[{\"line\":{\"colorbar\":{\"outlinewidth\":0,\"tickcolor\":\"rgb(237,237,237)\",\"ticklen\":6,\"ticks\":\"inside\"}},\"marker\":{\"colorbar\":{\"outlinewidth\":0,\"tickcolor\":\"rgb(237,237,237)\",\"ticklen\":6,\"ticks\":\"inside\"}},\"type\":\"scatter3d\"}],\"scattercarpet\":[{\"marker\":{\"colorbar\":{\"outlinewidth\":0,\"tickcolor\":\"rgb(237,237,237)\",\"ticklen\":6,\"ticks\":\"inside\"}},\"type\":\"scattercarpet\"}],\"scattergeo\":[{\"marker\":{\"colorbar\":{\"outlinewidth\":0,\"tickcolor\":\"rgb(237,237,237)\",\"ticklen\":6,\"ticks\":\"inside\"}},\"type\":\"scattergeo\"}],\"scattergl\":[{\"marker\":{\"colorbar\":{\"outlinewidth\":0,\"tickcolor\":\"rgb(237,237,237)\",\"ticklen\":6,\"ticks\":\"inside\"}},\"type\":\"scattergl\"}],\"scattermapbox\":[{\"marker\":{\"colorbar\":{\"outlinewidth\":0,\"tickcolor\":\"rgb(237,237,237)\",\"ticklen\":6,\"ticks\":\"inside\"}},\"type\":\"scattermapbox\"}],\"scatterpolargl\":[{\"marker\":{\"colorbar\":{\"outlinewidth\":0,\"tickcolor\":\"rgb(237,237,237)\",\"ticklen\":6,\"ticks\":\"inside\"}},\"type\":\"scatterpolargl\"}],\"scatterpolar\":[{\"marker\":{\"colorbar\":{\"outlinewidth\":0,\"tickcolor\":\"rgb(237,237,237)\",\"ticklen\":6,\"ticks\":\"inside\"}},\"type\":\"scatterpolar\"}],\"scatter\":[{\"marker\":{\"colorbar\":{\"outlinewidth\":0,\"tickcolor\":\"rgb(237,237,237)\",\"ticklen\":6,\"ticks\":\"inside\"}},\"type\":\"scatter\"}],\"scatterternary\":[{\"marker\":{\"colorbar\":{\"outlinewidth\":0,\"tickcolor\":\"rgb(237,237,237)\",\"ticklen\":6,\"ticks\":\"inside\"}},\"type\":\"scatterternary\"}],\"surface\":[{\"colorbar\":{\"outlinewidth\":0,\"tickcolor\":\"rgb(237,237,237)\",\"ticklen\":6,\"ticks\":\"inside\"},\"colorscale\":[[0,\"rgb(20,44,66)\"],[1,\"rgb(90,179,244)\"]],\"type\":\"surface\"}],\"table\":[{\"cells\":{\"fill\":{\"color\":\"rgb(237,237,237)\"},\"line\":{\"color\":\"white\"}},\"header\":{\"fill\":{\"color\":\"rgb(217,217,217)\"},\"line\":{\"color\":\"white\"}},\"type\":\"table\"}]},\"layout\":{\"annotationdefaults\":{\"arrowhead\":0,\"arrowwidth\":1},\"autotypenumbers\":\"strict\",\"coloraxis\":{\"colorbar\":{\"outlinewidth\":0,\"tickcolor\":\"rgb(237,237,237)\",\"ticklen\":6,\"ticks\":\"inside\"}},\"colorscale\":{\"sequential\":[[0,\"rgb(20,44,66)\"],[1,\"rgb(90,179,244)\"]],\"sequentialminus\":[[0,\"rgb(20,44,66)\"],[1,\"rgb(90,179,244)\"]]},\"colorway\":[\"#F8766D\",\"#A3A500\",\"#00BF7D\",\"#00B0F6\",\"#E76BF3\"],\"font\":{\"color\":\"rgb(51,51,51)\"},\"geo\":{\"bgcolor\":\"white\",\"lakecolor\":\"white\",\"landcolor\":\"rgb(237,237,237)\",\"showlakes\":true,\"showland\":true,\"subunitcolor\":\"white\"},\"hoverlabel\":{\"align\":\"left\"},\"hovermode\":\"closest\",\"paper_bgcolor\":\"white\",\"plot_bgcolor\":\"rgb(237,237,237)\",\"polar\":{\"angularaxis\":{\"gridcolor\":\"white\",\"linecolor\":\"white\",\"showgrid\":true,\"tickcolor\":\"rgb(51,51,51)\",\"ticks\":\"outside\"},\"bgcolor\":\"rgb(237,237,237)\",\"radialaxis\":{\"gridcolor\":\"white\",\"linecolor\":\"white\",\"showgrid\":true,\"tickcolor\":\"rgb(51,51,51)\",\"ticks\":\"outside\"}},\"scene\":{\"xaxis\":{\"backgroundcolor\":\"rgb(237,237,237)\",\"gridcolor\":\"white\",\"gridwidth\":2,\"linecolor\":\"white\",\"showbackground\":true,\"showgrid\":true,\"tickcolor\":\"rgb(51,51,51)\",\"ticks\":\"outside\",\"zerolinecolor\":\"white\"},\"yaxis\":{\"backgroundcolor\":\"rgb(237,237,237)\",\"gridcolor\":\"white\",\"gridwidth\":2,\"linecolor\":\"white\",\"showbackground\":true,\"showgrid\":true,\"tickcolor\":\"rgb(51,51,51)\",\"ticks\":\"outside\",\"zerolinecolor\":\"white\"},\"zaxis\":{\"backgroundcolor\":\"rgb(237,237,237)\",\"gridcolor\":\"white\",\"gridwidth\":2,\"linecolor\":\"white\",\"showbackground\":true,\"showgrid\":true,\"tickcolor\":\"rgb(51,51,51)\",\"ticks\":\"outside\",\"zerolinecolor\":\"white\"}},\"shapedefaults\":{\"fillcolor\":\"black\",\"line\":{\"width\":0},\"opacity\":0.3},\"ternary\":{\"aaxis\":{\"gridcolor\":\"white\",\"linecolor\":\"white\",\"showgrid\":true,\"tickcolor\":\"rgb(51,51,51)\",\"ticks\":\"outside\"},\"baxis\":{\"gridcolor\":\"white\",\"linecolor\":\"white\",\"showgrid\":true,\"tickcolor\":\"rgb(51,51,51)\",\"ticks\":\"outside\"},\"bgcolor\":\"rgb(237,237,237)\",\"caxis\":{\"gridcolor\":\"white\",\"linecolor\":\"white\",\"showgrid\":true,\"tickcolor\":\"rgb(51,51,51)\",\"ticks\":\"outside\"}},\"xaxis\":{\"automargin\":true,\"gridcolor\":\"white\",\"linecolor\":\"white\",\"showgrid\":true,\"tickcolor\":\"rgb(51,51,51)\",\"ticks\":\"outside\",\"title\":{\"standoff\":15},\"zerolinecolor\":\"white\"},\"yaxis\":{\"automargin\":true,\"gridcolor\":\"white\",\"linecolor\":\"white\",\"showgrid\":true,\"tickcolor\":\"rgb(51,51,51)\",\"ticks\":\"outside\",\"title\":{\"standoff\":15},\"zerolinecolor\":\"white\"}}},\"xaxis\":{\"anchor\":\"y\",\"domain\":[0.0,1.0],\"title\":{\"text\":\"employee_ressidence\"}},\"yaxis\":{\"anchor\":\"x\",\"domain\":[0.0,1.0],\"title\":{\"text\":\"percent\"}},\"legend\":{\"tracegroupgap\":0},\"title\":{\"text\":\"Count of Employee residence in each country\"},\"barmode\":\"relative\"},                        {\"responsive\": true}                    ).then(function(){\n",
       "                            \n",
       "var gd = document.getElementById('16e6d00d-30ac-488c-b380-db9fc672dc05');\n",
       "var x = new MutationObserver(function (mutations, observer) {{\n",
       "        var display = window.getComputedStyle(gd).display;\n",
       "        if (!display || display === 'none') {{\n",
       "            console.log([gd, 'removed!']);\n",
       "            Plotly.purge(gd);\n",
       "            observer.disconnect();\n",
       "        }}\n",
       "}});\n",
       "\n",
       "// Listen for the removal of the full notebook cells\n",
       "var notebookContainer = gd.closest('#notebook-container');\n",
       "if (notebookContainer) {{\n",
       "    x.observe(notebookContainer, {childList: true});\n",
       "}}\n",
       "\n",
       "// Listen for the clearing of the current output cell\n",
       "var outputEl = gd.closest('.output');\n",
       "if (outputEl) {{\n",
       "    x.observe(outputEl, {childList: true});\n",
       "}}\n",
       "\n",
       "                        })                };                });            </script>        </div>"
      ]
     },
     "metadata": {},
     "output_type": "display_data"
    }
   ],
   "source": [
    "#checking the distribution of employee's residence\n",
    "px.histogram(df, x = df.employee_residence.sort_values(),histnorm = 'percent', text_auto = '.1f',\n",
    "             labels={\n",
    "                 \"x\": \"employee_ressidence\",\n",
    "                 \"percent\": \"percent(%)\"\n",
    "             },\n",
    "             color_discrete_sequence=px.colors.qualitative.Safe, template = 'ggplot2', \n",
    "             title='Count of Employee residence in each country')"
   ]
  },
  {
   "cell_type": "markdown",
   "id": "6d0851ed",
   "metadata": {},
   "source": [
    "most of the employees are from United States, United Kingdom, India, and Canada"
   ]
  },
  {
   "cell_type": "code",
   "execution_count": 19,
   "id": "eab3906e",
   "metadata": {},
   "outputs": [
    {
     "data": {
      "application/vnd.plotly.v1+json": {
       "config": {
        "plotlyServerURL": "https://plot.ly"
       },
       "data": [
        {
         "alignmentgroup": "True",
         "bingroup": "x",
         "histnorm": "percent",
         "hovertemplate": "company_location=%{x}<br>percent=%{y}<extra></extra>",
         "legendgroup": "",
         "marker": {
          "color": "rgb(136, 204, 238)",
          "pattern": {
           "shape": ""
          }
         },
         "name": "",
         "offsetgroup": "",
         "orientation": "v",
         "showlegend": false,
         "texttemplate": "%{value:.1f}",
         "type": "histogram",
         "x": [
          "AE",
          "AE",
          "AE",
          "AS",
          "AT",
          "AT",
          "AT",
          "AT",
          "AU",
          "AU",
          "AU",
          "BE",
          "BE",
          "BR",
          "BR",
          "BR",
          "CA",
          "CA",
          "CA",
          "CA",
          "CA",
          "CA",
          "CA",
          "CA",
          "CA",
          "CA",
          "CA",
          "CA",
          "CA",
          "CA",
          "CA",
          "CA",
          "CA",
          "CA",
          "CA",
          "CA",
          "CA",
          "CA",
          "CA",
          "CA",
          "CA",
          "CA",
          "CA",
          "CA",
          "CA",
          "CA",
          "CH",
          "CH",
          "CL",
          "CN",
          "CN",
          "CO",
          "CZ",
          "CZ",
          "DE",
          "DE",
          "DE",
          "DE",
          "DE",
          "DE",
          "DE",
          "DE",
          "DE",
          "DE",
          "DE",
          "DE",
          "DE",
          "DE",
          "DE",
          "DE",
          "DE",
          "DE",
          "DE",
          "DE",
          "DE",
          "DE",
          "DE",
          "DE",
          "DE",
          "DE",
          "DE",
          "DE",
          "DK",
          "DK",
          "DK",
          "DZ",
          "EE",
          "ES",
          "ES",
          "ES",
          "ES",
          "ES",
          "ES",
          "ES",
          "ES",
          "ES",
          "ES",
          "ES",
          "ES",
          "ES",
          "ES",
          "FR",
          "FR",
          "FR",
          "FR",
          "FR",
          "FR",
          "FR",
          "FR",
          "FR",
          "FR",
          "FR",
          "FR",
          "FR",
          "FR",
          "FR",
          "GB",
          "GB",
          "GB",
          "GB",
          "GB",
          "GB",
          "GB",
          "GB",
          "GB",
          "GB",
          "GB",
          "GB",
          "GB",
          "GB",
          "GB",
          "GB",
          "GB",
          "GB",
          "GB",
          "GB",
          "GB",
          "GB",
          "GB",
          "GB",
          "GB",
          "GB",
          "GB",
          "GB",
          "GB",
          "GB",
          "GB",
          "GB",
          "GB",
          "GB",
          "GB",
          "GB",
          "GB",
          "GB",
          "GB",
          "GB",
          "GB",
          "GB",
          "GB",
          "GB",
          "GB",
          "GB",
          "GB",
          "GR",
          "GR",
          "GR",
          "GR",
          "GR",
          "GR",
          "GR",
          "GR",
          "GR",
          "GR",
          "GR",
          "HN",
          "HR",
          "HU",
          "IE",
          "IL",
          "IN",
          "IN",
          "IN",
          "IN",
          "IN",
          "IN",
          "IN",
          "IN",
          "IN",
          "IN",
          "IN",
          "IN",
          "IN",
          "IN",
          "IN",
          "IN",
          "IN",
          "IN",
          "IN",
          "IN",
          "IN",
          "IN",
          "IN",
          "IN",
          "IQ",
          "IR",
          "IT",
          "IT",
          "JP",
          "JP",
          "JP",
          "JP",
          "JP",
          "JP",
          "KE",
          "LU",
          "LU",
          "LU",
          "MD",
          "MT",
          "MX",
          "MX",
          "MX",
          "MY",
          "NG",
          "NG",
          "NL",
          "NL",
          "NL",
          "NL",
          "NZ",
          "PK",
          "PK",
          "PK",
          "PL",
          "PL",
          "PL",
          "PL",
          "PT",
          "PT",
          "PT",
          "PT",
          "RO",
          "RU",
          "RU",
          "SG",
          "SI",
          "SI",
          "TR",
          "TR",
          "TR",
          "UA",
          "US",
          "US",
          "US",
          "US",
          "US",
          "US",
          "US",
          "US",
          "US",
          "US",
          "US",
          "US",
          "US",
          "US",
          "US",
          "US",
          "US",
          "US",
          "US",
          "US",
          "US",
          "US",
          "US",
          "US",
          "US",
          "US",
          "US",
          "US",
          "US",
          "US",
          "US",
          "US",
          "US",
          "US",
          "US",
          "US",
          "US",
          "US",
          "US",
          "US",
          "US",
          "US",
          "US",
          "US",
          "US",
          "US",
          "US",
          "US",
          "US",
          "US",
          "US",
          "US",
          "US",
          "US",
          "US",
          "US",
          "US",
          "US",
          "US",
          "US",
          "US",
          "US",
          "US",
          "US",
          "US",
          "US",
          "US",
          "US",
          "US",
          "US",
          "US",
          "US",
          "US",
          "US",
          "US",
          "US",
          "US",
          "US",
          "US",
          "US",
          "US",
          "US",
          "US",
          "US",
          "US",
          "US",
          "US",
          "US",
          "US",
          "US",
          "US",
          "US",
          "US",
          "US",
          "US",
          "US",
          "US",
          "US",
          "US",
          "US",
          "US",
          "US",
          "US",
          "US",
          "US",
          "US",
          "US",
          "US",
          "US",
          "US",
          "US",
          "US",
          "US",
          "US",
          "US",
          "US",
          "US",
          "US",
          "US",
          "US",
          "US",
          "US",
          "US",
          "US",
          "US",
          "US",
          "US",
          "US",
          "US",
          "US",
          "US",
          "US",
          "US",
          "US",
          "US",
          "US",
          "US",
          "US",
          "US",
          "US",
          "US",
          "US",
          "US",
          "US",
          "US",
          "US",
          "US",
          "US",
          "US",
          "US",
          "US",
          "US",
          "US",
          "US",
          "US",
          "US",
          "US",
          "US",
          "US",
          "US",
          "US",
          "US",
          "US",
          "US",
          "US",
          "US",
          "US",
          "US",
          "US",
          "US",
          "US",
          "US",
          "US",
          "US",
          "US",
          "US",
          "US",
          "US",
          "US",
          "US",
          "US",
          "US",
          "US",
          "US",
          "US",
          "US",
          "US",
          "US",
          "US",
          "US",
          "US",
          "US",
          "US",
          "US",
          "US",
          "US",
          "US",
          "US",
          "US",
          "US",
          "US",
          "US",
          "US",
          "US",
          "US",
          "US",
          "US",
          "US",
          "US",
          "US",
          "US",
          "US",
          "US",
          "US",
          "US",
          "US",
          "US",
          "US",
          "US",
          "US",
          "US",
          "US",
          "US",
          "US",
          "US",
          "US",
          "US",
          "US",
          "US",
          "US",
          "US",
          "US",
          "US",
          "US",
          "US",
          "US",
          "US",
          "US",
          "US",
          "US",
          "US",
          "US",
          "US",
          "US",
          "US",
          "US",
          "US",
          "US",
          "US",
          "US",
          "US",
          "US",
          "US",
          "US",
          "US",
          "US",
          "US",
          "US",
          "US",
          "US",
          "US",
          "US",
          "US",
          "US",
          "US",
          "US",
          "US",
          "US",
          "US",
          "US",
          "US",
          "US",
          "US",
          "US",
          "US",
          "US",
          "US",
          "US",
          "US",
          "US",
          "US",
          "US",
          "US",
          "US",
          "US",
          "US",
          "US",
          "US",
          "US",
          "US",
          "US",
          "US",
          "US",
          "US",
          "US",
          "US",
          "US",
          "US",
          "US",
          "US",
          "US",
          "US",
          "US",
          "US",
          "US",
          "US",
          "US",
          "US",
          "US",
          "US",
          "US",
          "US",
          "US",
          "US",
          "US",
          "US",
          "US",
          "US",
          "US",
          "US",
          "US",
          "US",
          "US",
          "US",
          "US",
          "US",
          "US",
          "US",
          "US",
          "US",
          "US",
          "US",
          "US",
          "US",
          "US",
          "US",
          "US",
          "US",
          "US",
          "US",
          "US",
          "US",
          "US",
          "US",
          "US",
          "US",
          "US",
          "US",
          "US",
          "US",
          "US",
          "US",
          "US",
          "US",
          "US",
          "VN"
         ],
         "xaxis": "x",
         "yaxis": "y"
        }
       ],
       "layout": {
        "barmode": "relative",
        "legend": {
         "tracegroupgap": 0
        },
        "template": {
         "data": {
          "bar": [
           {
            "error_x": {
             "color": "rgb(51,51,51)"
            },
            "error_y": {
             "color": "rgb(51,51,51)"
            },
            "marker": {
             "line": {
              "color": "rgb(237,237,237)",
              "width": 0.5
             },
             "pattern": {
              "fillmode": "overlay",
              "size": 10,
              "solidity": 0.2
             }
            },
            "type": "bar"
           }
          ],
          "barpolar": [
           {
            "marker": {
             "line": {
              "color": "rgb(237,237,237)",
              "width": 0.5
             },
             "pattern": {
              "fillmode": "overlay",
              "size": 10,
              "solidity": 0.2
             }
            },
            "type": "barpolar"
           }
          ],
          "carpet": [
           {
            "aaxis": {
             "endlinecolor": "rgb(51,51,51)",
             "gridcolor": "white",
             "linecolor": "white",
             "minorgridcolor": "white",
             "startlinecolor": "rgb(51,51,51)"
            },
            "baxis": {
             "endlinecolor": "rgb(51,51,51)",
             "gridcolor": "white",
             "linecolor": "white",
             "minorgridcolor": "white",
             "startlinecolor": "rgb(51,51,51)"
            },
            "type": "carpet"
           }
          ],
          "choropleth": [
           {
            "colorbar": {
             "outlinewidth": 0,
             "tickcolor": "rgb(237,237,237)",
             "ticklen": 6,
             "ticks": "inside"
            },
            "type": "choropleth"
           }
          ],
          "contour": [
           {
            "colorbar": {
             "outlinewidth": 0,
             "tickcolor": "rgb(237,237,237)",
             "ticklen": 6,
             "ticks": "inside"
            },
            "colorscale": [
             [
              0,
              "rgb(20,44,66)"
             ],
             [
              1,
              "rgb(90,179,244)"
             ]
            ],
            "type": "contour"
           }
          ],
          "contourcarpet": [
           {
            "colorbar": {
             "outlinewidth": 0,
             "tickcolor": "rgb(237,237,237)",
             "ticklen": 6,
             "ticks": "inside"
            },
            "type": "contourcarpet"
           }
          ],
          "heatmap": [
           {
            "colorbar": {
             "outlinewidth": 0,
             "tickcolor": "rgb(237,237,237)",
             "ticklen": 6,
             "ticks": "inside"
            },
            "colorscale": [
             [
              0,
              "rgb(20,44,66)"
             ],
             [
              1,
              "rgb(90,179,244)"
             ]
            ],
            "type": "heatmap"
           }
          ],
          "heatmapgl": [
           {
            "colorbar": {
             "outlinewidth": 0,
             "tickcolor": "rgb(237,237,237)",
             "ticklen": 6,
             "ticks": "inside"
            },
            "colorscale": [
             [
              0,
              "rgb(20,44,66)"
             ],
             [
              1,
              "rgb(90,179,244)"
             ]
            ],
            "type": "heatmapgl"
           }
          ],
          "histogram": [
           {
            "marker": {
             "pattern": {
              "fillmode": "overlay",
              "size": 10,
              "solidity": 0.2
             }
            },
            "type": "histogram"
           }
          ],
          "histogram2d": [
           {
            "colorbar": {
             "outlinewidth": 0,
             "tickcolor": "rgb(237,237,237)",
             "ticklen": 6,
             "ticks": "inside"
            },
            "colorscale": [
             [
              0,
              "rgb(20,44,66)"
             ],
             [
              1,
              "rgb(90,179,244)"
             ]
            ],
            "type": "histogram2d"
           }
          ],
          "histogram2dcontour": [
           {
            "colorbar": {
             "outlinewidth": 0,
             "tickcolor": "rgb(237,237,237)",
             "ticklen": 6,
             "ticks": "inside"
            },
            "colorscale": [
             [
              0,
              "rgb(20,44,66)"
             ],
             [
              1,
              "rgb(90,179,244)"
             ]
            ],
            "type": "histogram2dcontour"
           }
          ],
          "mesh3d": [
           {
            "colorbar": {
             "outlinewidth": 0,
             "tickcolor": "rgb(237,237,237)",
             "ticklen": 6,
             "ticks": "inside"
            },
            "type": "mesh3d"
           }
          ],
          "parcoords": [
           {
            "line": {
             "colorbar": {
              "outlinewidth": 0,
              "tickcolor": "rgb(237,237,237)",
              "ticklen": 6,
              "ticks": "inside"
             }
            },
            "type": "parcoords"
           }
          ],
          "pie": [
           {
            "automargin": true,
            "type": "pie"
           }
          ],
          "scatter": [
           {
            "marker": {
             "colorbar": {
              "outlinewidth": 0,
              "tickcolor": "rgb(237,237,237)",
              "ticklen": 6,
              "ticks": "inside"
             }
            },
            "type": "scatter"
           }
          ],
          "scatter3d": [
           {
            "line": {
             "colorbar": {
              "outlinewidth": 0,
              "tickcolor": "rgb(237,237,237)",
              "ticklen": 6,
              "ticks": "inside"
             }
            },
            "marker": {
             "colorbar": {
              "outlinewidth": 0,
              "tickcolor": "rgb(237,237,237)",
              "ticklen": 6,
              "ticks": "inside"
             }
            },
            "type": "scatter3d"
           }
          ],
          "scattercarpet": [
           {
            "marker": {
             "colorbar": {
              "outlinewidth": 0,
              "tickcolor": "rgb(237,237,237)",
              "ticklen": 6,
              "ticks": "inside"
             }
            },
            "type": "scattercarpet"
           }
          ],
          "scattergeo": [
           {
            "marker": {
             "colorbar": {
              "outlinewidth": 0,
              "tickcolor": "rgb(237,237,237)",
              "ticklen": 6,
              "ticks": "inside"
             }
            },
            "type": "scattergeo"
           }
          ],
          "scattergl": [
           {
            "marker": {
             "colorbar": {
              "outlinewidth": 0,
              "tickcolor": "rgb(237,237,237)",
              "ticklen": 6,
              "ticks": "inside"
             }
            },
            "type": "scattergl"
           }
          ],
          "scattermapbox": [
           {
            "marker": {
             "colorbar": {
              "outlinewidth": 0,
              "tickcolor": "rgb(237,237,237)",
              "ticklen": 6,
              "ticks": "inside"
             }
            },
            "type": "scattermapbox"
           }
          ],
          "scatterpolar": [
           {
            "marker": {
             "colorbar": {
              "outlinewidth": 0,
              "tickcolor": "rgb(237,237,237)",
              "ticklen": 6,
              "ticks": "inside"
             }
            },
            "type": "scatterpolar"
           }
          ],
          "scatterpolargl": [
           {
            "marker": {
             "colorbar": {
              "outlinewidth": 0,
              "tickcolor": "rgb(237,237,237)",
              "ticklen": 6,
              "ticks": "inside"
             }
            },
            "type": "scatterpolargl"
           }
          ],
          "scatterternary": [
           {
            "marker": {
             "colorbar": {
              "outlinewidth": 0,
              "tickcolor": "rgb(237,237,237)",
              "ticklen": 6,
              "ticks": "inside"
             }
            },
            "type": "scatterternary"
           }
          ],
          "surface": [
           {
            "colorbar": {
             "outlinewidth": 0,
             "tickcolor": "rgb(237,237,237)",
             "ticklen": 6,
             "ticks": "inside"
            },
            "colorscale": [
             [
              0,
              "rgb(20,44,66)"
             ],
             [
              1,
              "rgb(90,179,244)"
             ]
            ],
            "type": "surface"
           }
          ],
          "table": [
           {
            "cells": {
             "fill": {
              "color": "rgb(237,237,237)"
             },
             "line": {
              "color": "white"
             }
            },
            "header": {
             "fill": {
              "color": "rgb(217,217,217)"
             },
             "line": {
              "color": "white"
             }
            },
            "type": "table"
           }
          ]
         },
         "layout": {
          "annotationdefaults": {
           "arrowhead": 0,
           "arrowwidth": 1
          },
          "autotypenumbers": "strict",
          "coloraxis": {
           "colorbar": {
            "outlinewidth": 0,
            "tickcolor": "rgb(237,237,237)",
            "ticklen": 6,
            "ticks": "inside"
           }
          },
          "colorscale": {
           "sequential": [
            [
             0,
             "rgb(20,44,66)"
            ],
            [
             1,
             "rgb(90,179,244)"
            ]
           ],
           "sequentialminus": [
            [
             0,
             "rgb(20,44,66)"
            ],
            [
             1,
             "rgb(90,179,244)"
            ]
           ]
          },
          "colorway": [
           "#F8766D",
           "#A3A500",
           "#00BF7D",
           "#00B0F6",
           "#E76BF3"
          ],
          "font": {
           "color": "rgb(51,51,51)"
          },
          "geo": {
           "bgcolor": "white",
           "lakecolor": "white",
           "landcolor": "rgb(237,237,237)",
           "showlakes": true,
           "showland": true,
           "subunitcolor": "white"
          },
          "hoverlabel": {
           "align": "left"
          },
          "hovermode": "closest",
          "paper_bgcolor": "white",
          "plot_bgcolor": "rgb(237,237,237)",
          "polar": {
           "angularaxis": {
            "gridcolor": "white",
            "linecolor": "white",
            "showgrid": true,
            "tickcolor": "rgb(51,51,51)",
            "ticks": "outside"
           },
           "bgcolor": "rgb(237,237,237)",
           "radialaxis": {
            "gridcolor": "white",
            "linecolor": "white",
            "showgrid": true,
            "tickcolor": "rgb(51,51,51)",
            "ticks": "outside"
           }
          },
          "scene": {
           "xaxis": {
            "backgroundcolor": "rgb(237,237,237)",
            "gridcolor": "white",
            "gridwidth": 2,
            "linecolor": "white",
            "showbackground": true,
            "showgrid": true,
            "tickcolor": "rgb(51,51,51)",
            "ticks": "outside",
            "zerolinecolor": "white"
           },
           "yaxis": {
            "backgroundcolor": "rgb(237,237,237)",
            "gridcolor": "white",
            "gridwidth": 2,
            "linecolor": "white",
            "showbackground": true,
            "showgrid": true,
            "tickcolor": "rgb(51,51,51)",
            "ticks": "outside",
            "zerolinecolor": "white"
           },
           "zaxis": {
            "backgroundcolor": "rgb(237,237,237)",
            "gridcolor": "white",
            "gridwidth": 2,
            "linecolor": "white",
            "showbackground": true,
            "showgrid": true,
            "tickcolor": "rgb(51,51,51)",
            "ticks": "outside",
            "zerolinecolor": "white"
           }
          },
          "shapedefaults": {
           "fillcolor": "black",
           "line": {
            "width": 0
           },
           "opacity": 0.3
          },
          "ternary": {
           "aaxis": {
            "gridcolor": "white",
            "linecolor": "white",
            "showgrid": true,
            "tickcolor": "rgb(51,51,51)",
            "ticks": "outside"
           },
           "baxis": {
            "gridcolor": "white",
            "linecolor": "white",
            "showgrid": true,
            "tickcolor": "rgb(51,51,51)",
            "ticks": "outside"
           },
           "bgcolor": "rgb(237,237,237)",
           "caxis": {
            "gridcolor": "white",
            "linecolor": "white",
            "showgrid": true,
            "tickcolor": "rgb(51,51,51)",
            "ticks": "outside"
           }
          },
          "xaxis": {
           "automargin": true,
           "gridcolor": "white",
           "linecolor": "white",
           "showgrid": true,
           "tickcolor": "rgb(51,51,51)",
           "ticks": "outside",
           "title": {
            "standoff": 15
           },
           "zerolinecolor": "white"
          },
          "yaxis": {
           "automargin": true,
           "gridcolor": "white",
           "linecolor": "white",
           "showgrid": true,
           "tickcolor": "rgb(51,51,51)",
           "ticks": "outside",
           "title": {
            "standoff": 15
           },
           "zerolinecolor": "white"
          }
         }
        },
        "title": {
         "text": "Count of Company Location in each country"
        },
        "xaxis": {
         "anchor": "y",
         "domain": [
          0,
          1
         ],
         "title": {
          "text": "company_location"
         }
        },
        "yaxis": {
         "anchor": "x",
         "domain": [
          0,
          1
         ],
         "title": {
          "text": "percent"
         }
        }
       }
      },
      "text/html": [
       "<div>                            <div id=\"8404d219-b35e-44f0-a3dd-0a5f3d5fe916\" class=\"plotly-graph-div\" style=\"height:525px; width:100%;\"></div>            <script type=\"text/javascript\">                require([\"plotly\"], function(Plotly) {                    window.PLOTLYENV=window.PLOTLYENV || {};                                    if (document.getElementById(\"8404d219-b35e-44f0-a3dd-0a5f3d5fe916\")) {                    Plotly.newPlot(                        \"8404d219-b35e-44f0-a3dd-0a5f3d5fe916\",                        [{\"alignmentgroup\":\"True\",\"bingroup\":\"x\",\"histnorm\":\"percent\",\"hovertemplate\":\"company_location=%{x}<br>percent=%{y}<extra></extra>\",\"legendgroup\":\"\",\"marker\":{\"color\":\"rgb(136, 204, 238)\",\"pattern\":{\"shape\":\"\"}},\"name\":\"\",\"offsetgroup\":\"\",\"orientation\":\"v\",\"showlegend\":false,\"texttemplate\":\"%{value:.1f}\",\"x\":[\"AE\",\"AE\",\"AE\",\"AS\",\"AT\",\"AT\",\"AT\",\"AT\",\"AU\",\"AU\",\"AU\",\"BE\",\"BE\",\"BR\",\"BR\",\"BR\",\"CA\",\"CA\",\"CA\",\"CA\",\"CA\",\"CA\",\"CA\",\"CA\",\"CA\",\"CA\",\"CA\",\"CA\",\"CA\",\"CA\",\"CA\",\"CA\",\"CA\",\"CA\",\"CA\",\"CA\",\"CA\",\"CA\",\"CA\",\"CA\",\"CA\",\"CA\",\"CA\",\"CA\",\"CA\",\"CA\",\"CH\",\"CH\",\"CL\",\"CN\",\"CN\",\"CO\",\"CZ\",\"CZ\",\"DE\",\"DE\",\"DE\",\"DE\",\"DE\",\"DE\",\"DE\",\"DE\",\"DE\",\"DE\",\"DE\",\"DE\",\"DE\",\"DE\",\"DE\",\"DE\",\"DE\",\"DE\",\"DE\",\"DE\",\"DE\",\"DE\",\"DE\",\"DE\",\"DE\",\"DE\",\"DE\",\"DE\",\"DK\",\"DK\",\"DK\",\"DZ\",\"EE\",\"ES\",\"ES\",\"ES\",\"ES\",\"ES\",\"ES\",\"ES\",\"ES\",\"ES\",\"ES\",\"ES\",\"ES\",\"ES\",\"ES\",\"FR\",\"FR\",\"FR\",\"FR\",\"FR\",\"FR\",\"FR\",\"FR\",\"FR\",\"FR\",\"FR\",\"FR\",\"FR\",\"FR\",\"FR\",\"GB\",\"GB\",\"GB\",\"GB\",\"GB\",\"GB\",\"GB\",\"GB\",\"GB\",\"GB\",\"GB\",\"GB\",\"GB\",\"GB\",\"GB\",\"GB\",\"GB\",\"GB\",\"GB\",\"GB\",\"GB\",\"GB\",\"GB\",\"GB\",\"GB\",\"GB\",\"GB\",\"GB\",\"GB\",\"GB\",\"GB\",\"GB\",\"GB\",\"GB\",\"GB\",\"GB\",\"GB\",\"GB\",\"GB\",\"GB\",\"GB\",\"GB\",\"GB\",\"GB\",\"GB\",\"GB\",\"GB\",\"GR\",\"GR\",\"GR\",\"GR\",\"GR\",\"GR\",\"GR\",\"GR\",\"GR\",\"GR\",\"GR\",\"HN\",\"HR\",\"HU\",\"IE\",\"IL\",\"IN\",\"IN\",\"IN\",\"IN\",\"IN\",\"IN\",\"IN\",\"IN\",\"IN\",\"IN\",\"IN\",\"IN\",\"IN\",\"IN\",\"IN\",\"IN\",\"IN\",\"IN\",\"IN\",\"IN\",\"IN\",\"IN\",\"IN\",\"IN\",\"IQ\",\"IR\",\"IT\",\"IT\",\"JP\",\"JP\",\"JP\",\"JP\",\"JP\",\"JP\",\"KE\",\"LU\",\"LU\",\"LU\",\"MD\",\"MT\",\"MX\",\"MX\",\"MX\",\"MY\",\"NG\",\"NG\",\"NL\",\"NL\",\"NL\",\"NL\",\"NZ\",\"PK\",\"PK\",\"PK\",\"PL\",\"PL\",\"PL\",\"PL\",\"PT\",\"PT\",\"PT\",\"PT\",\"RO\",\"RU\",\"RU\",\"SG\",\"SI\",\"SI\",\"TR\",\"TR\",\"TR\",\"UA\",\"US\",\"US\",\"US\",\"US\",\"US\",\"US\",\"US\",\"US\",\"US\",\"US\",\"US\",\"US\",\"US\",\"US\",\"US\",\"US\",\"US\",\"US\",\"US\",\"US\",\"US\",\"US\",\"US\",\"US\",\"US\",\"US\",\"US\",\"US\",\"US\",\"US\",\"US\",\"US\",\"US\",\"US\",\"US\",\"US\",\"US\",\"US\",\"US\",\"US\",\"US\",\"US\",\"US\",\"US\",\"US\",\"US\",\"US\",\"US\",\"US\",\"US\",\"US\",\"US\",\"US\",\"US\",\"US\",\"US\",\"US\",\"US\",\"US\",\"US\",\"US\",\"US\",\"US\",\"US\",\"US\",\"US\",\"US\",\"US\",\"US\",\"US\",\"US\",\"US\",\"US\",\"US\",\"US\",\"US\",\"US\",\"US\",\"US\",\"US\",\"US\",\"US\",\"US\",\"US\",\"US\",\"US\",\"US\",\"US\",\"US\",\"US\",\"US\",\"US\",\"US\",\"US\",\"US\",\"US\",\"US\",\"US\",\"US\",\"US\",\"US\",\"US\",\"US\",\"US\",\"US\",\"US\",\"US\",\"US\",\"US\",\"US\",\"US\",\"US\",\"US\",\"US\",\"US\",\"US\",\"US\",\"US\",\"US\",\"US\",\"US\",\"US\",\"US\",\"US\",\"US\",\"US\",\"US\",\"US\",\"US\",\"US\",\"US\",\"US\",\"US\",\"US\",\"US\",\"US\",\"US\",\"US\",\"US\",\"US\",\"US\",\"US\",\"US\",\"US\",\"US\",\"US\",\"US\",\"US\",\"US\",\"US\",\"US\",\"US\",\"US\",\"US\",\"US\",\"US\",\"US\",\"US\",\"US\",\"US\",\"US\",\"US\",\"US\",\"US\",\"US\",\"US\",\"US\",\"US\",\"US\",\"US\",\"US\",\"US\",\"US\",\"US\",\"US\",\"US\",\"US\",\"US\",\"US\",\"US\",\"US\",\"US\",\"US\",\"US\",\"US\",\"US\",\"US\",\"US\",\"US\",\"US\",\"US\",\"US\",\"US\",\"US\",\"US\",\"US\",\"US\",\"US\",\"US\",\"US\",\"US\",\"US\",\"US\",\"US\",\"US\",\"US\",\"US\",\"US\",\"US\",\"US\",\"US\",\"US\",\"US\",\"US\",\"US\",\"US\",\"US\",\"US\",\"US\",\"US\",\"US\",\"US\",\"US\",\"US\",\"US\",\"US\",\"US\",\"US\",\"US\",\"US\",\"US\",\"US\",\"US\",\"US\",\"US\",\"US\",\"US\",\"US\",\"US\",\"US\",\"US\",\"US\",\"US\",\"US\",\"US\",\"US\",\"US\",\"US\",\"US\",\"US\",\"US\",\"US\",\"US\",\"US\",\"US\",\"US\",\"US\",\"US\",\"US\",\"US\",\"US\",\"US\",\"US\",\"US\",\"US\",\"US\",\"US\",\"US\",\"US\",\"US\",\"US\",\"US\",\"US\",\"US\",\"US\",\"US\",\"US\",\"US\",\"US\",\"US\",\"US\",\"US\",\"US\",\"US\",\"US\",\"US\",\"US\",\"US\",\"US\",\"US\",\"US\",\"US\",\"US\",\"US\",\"US\",\"US\",\"US\",\"US\",\"US\",\"US\",\"US\",\"US\",\"US\",\"US\",\"US\",\"US\",\"US\",\"US\",\"US\",\"US\",\"US\",\"US\",\"US\",\"US\",\"US\",\"US\",\"US\",\"US\",\"US\",\"US\",\"US\",\"US\",\"US\",\"US\",\"US\",\"US\",\"US\",\"US\",\"US\",\"US\",\"US\",\"US\",\"US\",\"US\",\"US\",\"US\",\"US\",\"US\",\"US\",\"US\",\"US\",\"US\",\"US\",\"US\",\"US\",\"US\",\"US\",\"US\",\"US\",\"US\",\"US\",\"US\",\"US\",\"US\",\"US\",\"VN\"],\"xaxis\":\"x\",\"yaxis\":\"y\",\"type\":\"histogram\"}],                        {\"template\":{\"data\":{\"barpolar\":[{\"marker\":{\"line\":{\"color\":\"rgb(237,237,237)\",\"width\":0.5},\"pattern\":{\"fillmode\":\"overlay\",\"size\":10,\"solidity\":0.2}},\"type\":\"barpolar\"}],\"bar\":[{\"error_x\":{\"color\":\"rgb(51,51,51)\"},\"error_y\":{\"color\":\"rgb(51,51,51)\"},\"marker\":{\"line\":{\"color\":\"rgb(237,237,237)\",\"width\":0.5},\"pattern\":{\"fillmode\":\"overlay\",\"size\":10,\"solidity\":0.2}},\"type\":\"bar\"}],\"carpet\":[{\"aaxis\":{\"endlinecolor\":\"rgb(51,51,51)\",\"gridcolor\":\"white\",\"linecolor\":\"white\",\"minorgridcolor\":\"white\",\"startlinecolor\":\"rgb(51,51,51)\"},\"baxis\":{\"endlinecolor\":\"rgb(51,51,51)\",\"gridcolor\":\"white\",\"linecolor\":\"white\",\"minorgridcolor\":\"white\",\"startlinecolor\":\"rgb(51,51,51)\"},\"type\":\"carpet\"}],\"choropleth\":[{\"colorbar\":{\"outlinewidth\":0,\"tickcolor\":\"rgb(237,237,237)\",\"ticklen\":6,\"ticks\":\"inside\"},\"type\":\"choropleth\"}],\"contourcarpet\":[{\"colorbar\":{\"outlinewidth\":0,\"tickcolor\":\"rgb(237,237,237)\",\"ticklen\":6,\"ticks\":\"inside\"},\"type\":\"contourcarpet\"}],\"contour\":[{\"colorbar\":{\"outlinewidth\":0,\"tickcolor\":\"rgb(237,237,237)\",\"ticklen\":6,\"ticks\":\"inside\"},\"colorscale\":[[0,\"rgb(20,44,66)\"],[1,\"rgb(90,179,244)\"]],\"type\":\"contour\"}],\"heatmapgl\":[{\"colorbar\":{\"outlinewidth\":0,\"tickcolor\":\"rgb(237,237,237)\",\"ticklen\":6,\"ticks\":\"inside\"},\"colorscale\":[[0,\"rgb(20,44,66)\"],[1,\"rgb(90,179,244)\"]],\"type\":\"heatmapgl\"}],\"heatmap\":[{\"colorbar\":{\"outlinewidth\":0,\"tickcolor\":\"rgb(237,237,237)\",\"ticklen\":6,\"ticks\":\"inside\"},\"colorscale\":[[0,\"rgb(20,44,66)\"],[1,\"rgb(90,179,244)\"]],\"type\":\"heatmap\"}],\"histogram2dcontour\":[{\"colorbar\":{\"outlinewidth\":0,\"tickcolor\":\"rgb(237,237,237)\",\"ticklen\":6,\"ticks\":\"inside\"},\"colorscale\":[[0,\"rgb(20,44,66)\"],[1,\"rgb(90,179,244)\"]],\"type\":\"histogram2dcontour\"}],\"histogram2d\":[{\"colorbar\":{\"outlinewidth\":0,\"tickcolor\":\"rgb(237,237,237)\",\"ticklen\":6,\"ticks\":\"inside\"},\"colorscale\":[[0,\"rgb(20,44,66)\"],[1,\"rgb(90,179,244)\"]],\"type\":\"histogram2d\"}],\"histogram\":[{\"marker\":{\"pattern\":{\"fillmode\":\"overlay\",\"size\":10,\"solidity\":0.2}},\"type\":\"histogram\"}],\"mesh3d\":[{\"colorbar\":{\"outlinewidth\":0,\"tickcolor\":\"rgb(237,237,237)\",\"ticklen\":6,\"ticks\":\"inside\"},\"type\":\"mesh3d\"}],\"parcoords\":[{\"line\":{\"colorbar\":{\"outlinewidth\":0,\"tickcolor\":\"rgb(237,237,237)\",\"ticklen\":6,\"ticks\":\"inside\"}},\"type\":\"parcoords\"}],\"pie\":[{\"automargin\":true,\"type\":\"pie\"}],\"scatter3d\":[{\"line\":{\"colorbar\":{\"outlinewidth\":0,\"tickcolor\":\"rgb(237,237,237)\",\"ticklen\":6,\"ticks\":\"inside\"}},\"marker\":{\"colorbar\":{\"outlinewidth\":0,\"tickcolor\":\"rgb(237,237,237)\",\"ticklen\":6,\"ticks\":\"inside\"}},\"type\":\"scatter3d\"}],\"scattercarpet\":[{\"marker\":{\"colorbar\":{\"outlinewidth\":0,\"tickcolor\":\"rgb(237,237,237)\",\"ticklen\":6,\"ticks\":\"inside\"}},\"type\":\"scattercarpet\"}],\"scattergeo\":[{\"marker\":{\"colorbar\":{\"outlinewidth\":0,\"tickcolor\":\"rgb(237,237,237)\",\"ticklen\":6,\"ticks\":\"inside\"}},\"type\":\"scattergeo\"}],\"scattergl\":[{\"marker\":{\"colorbar\":{\"outlinewidth\":0,\"tickcolor\":\"rgb(237,237,237)\",\"ticklen\":6,\"ticks\":\"inside\"}},\"type\":\"scattergl\"}],\"scattermapbox\":[{\"marker\":{\"colorbar\":{\"outlinewidth\":0,\"tickcolor\":\"rgb(237,237,237)\",\"ticklen\":6,\"ticks\":\"inside\"}},\"type\":\"scattermapbox\"}],\"scatterpolargl\":[{\"marker\":{\"colorbar\":{\"outlinewidth\":0,\"tickcolor\":\"rgb(237,237,237)\",\"ticklen\":6,\"ticks\":\"inside\"}},\"type\":\"scatterpolargl\"}],\"scatterpolar\":[{\"marker\":{\"colorbar\":{\"outlinewidth\":0,\"tickcolor\":\"rgb(237,237,237)\",\"ticklen\":6,\"ticks\":\"inside\"}},\"type\":\"scatterpolar\"}],\"scatter\":[{\"marker\":{\"colorbar\":{\"outlinewidth\":0,\"tickcolor\":\"rgb(237,237,237)\",\"ticklen\":6,\"ticks\":\"inside\"}},\"type\":\"scatter\"}],\"scatterternary\":[{\"marker\":{\"colorbar\":{\"outlinewidth\":0,\"tickcolor\":\"rgb(237,237,237)\",\"ticklen\":6,\"ticks\":\"inside\"}},\"type\":\"scatterternary\"}],\"surface\":[{\"colorbar\":{\"outlinewidth\":0,\"tickcolor\":\"rgb(237,237,237)\",\"ticklen\":6,\"ticks\":\"inside\"},\"colorscale\":[[0,\"rgb(20,44,66)\"],[1,\"rgb(90,179,244)\"]],\"type\":\"surface\"}],\"table\":[{\"cells\":{\"fill\":{\"color\":\"rgb(237,237,237)\"},\"line\":{\"color\":\"white\"}},\"header\":{\"fill\":{\"color\":\"rgb(217,217,217)\"},\"line\":{\"color\":\"white\"}},\"type\":\"table\"}]},\"layout\":{\"annotationdefaults\":{\"arrowhead\":0,\"arrowwidth\":1},\"autotypenumbers\":\"strict\",\"coloraxis\":{\"colorbar\":{\"outlinewidth\":0,\"tickcolor\":\"rgb(237,237,237)\",\"ticklen\":6,\"ticks\":\"inside\"}},\"colorscale\":{\"sequential\":[[0,\"rgb(20,44,66)\"],[1,\"rgb(90,179,244)\"]],\"sequentialminus\":[[0,\"rgb(20,44,66)\"],[1,\"rgb(90,179,244)\"]]},\"colorway\":[\"#F8766D\",\"#A3A500\",\"#00BF7D\",\"#00B0F6\",\"#E76BF3\"],\"font\":{\"color\":\"rgb(51,51,51)\"},\"geo\":{\"bgcolor\":\"white\",\"lakecolor\":\"white\",\"landcolor\":\"rgb(237,237,237)\",\"showlakes\":true,\"showland\":true,\"subunitcolor\":\"white\"},\"hoverlabel\":{\"align\":\"left\"},\"hovermode\":\"closest\",\"paper_bgcolor\":\"white\",\"plot_bgcolor\":\"rgb(237,237,237)\",\"polar\":{\"angularaxis\":{\"gridcolor\":\"white\",\"linecolor\":\"white\",\"showgrid\":true,\"tickcolor\":\"rgb(51,51,51)\",\"ticks\":\"outside\"},\"bgcolor\":\"rgb(237,237,237)\",\"radialaxis\":{\"gridcolor\":\"white\",\"linecolor\":\"white\",\"showgrid\":true,\"tickcolor\":\"rgb(51,51,51)\",\"ticks\":\"outside\"}},\"scene\":{\"xaxis\":{\"backgroundcolor\":\"rgb(237,237,237)\",\"gridcolor\":\"white\",\"gridwidth\":2,\"linecolor\":\"white\",\"showbackground\":true,\"showgrid\":true,\"tickcolor\":\"rgb(51,51,51)\",\"ticks\":\"outside\",\"zerolinecolor\":\"white\"},\"yaxis\":{\"backgroundcolor\":\"rgb(237,237,237)\",\"gridcolor\":\"white\",\"gridwidth\":2,\"linecolor\":\"white\",\"showbackground\":true,\"showgrid\":true,\"tickcolor\":\"rgb(51,51,51)\",\"ticks\":\"outside\",\"zerolinecolor\":\"white\"},\"zaxis\":{\"backgroundcolor\":\"rgb(237,237,237)\",\"gridcolor\":\"white\",\"gridwidth\":2,\"linecolor\":\"white\",\"showbackground\":true,\"showgrid\":true,\"tickcolor\":\"rgb(51,51,51)\",\"ticks\":\"outside\",\"zerolinecolor\":\"white\"}},\"shapedefaults\":{\"fillcolor\":\"black\",\"line\":{\"width\":0},\"opacity\":0.3},\"ternary\":{\"aaxis\":{\"gridcolor\":\"white\",\"linecolor\":\"white\",\"showgrid\":true,\"tickcolor\":\"rgb(51,51,51)\",\"ticks\":\"outside\"},\"baxis\":{\"gridcolor\":\"white\",\"linecolor\":\"white\",\"showgrid\":true,\"tickcolor\":\"rgb(51,51,51)\",\"ticks\":\"outside\"},\"bgcolor\":\"rgb(237,237,237)\",\"caxis\":{\"gridcolor\":\"white\",\"linecolor\":\"white\",\"showgrid\":true,\"tickcolor\":\"rgb(51,51,51)\",\"ticks\":\"outside\"}},\"xaxis\":{\"automargin\":true,\"gridcolor\":\"white\",\"linecolor\":\"white\",\"showgrid\":true,\"tickcolor\":\"rgb(51,51,51)\",\"ticks\":\"outside\",\"title\":{\"standoff\":15},\"zerolinecolor\":\"white\"},\"yaxis\":{\"automargin\":true,\"gridcolor\":\"white\",\"linecolor\":\"white\",\"showgrid\":true,\"tickcolor\":\"rgb(51,51,51)\",\"ticks\":\"outside\",\"title\":{\"standoff\":15},\"zerolinecolor\":\"white\"}}},\"xaxis\":{\"anchor\":\"y\",\"domain\":[0.0,1.0],\"title\":{\"text\":\"company_location\"}},\"yaxis\":{\"anchor\":\"x\",\"domain\":[0.0,1.0],\"title\":{\"text\":\"percent\"}},\"legend\":{\"tracegroupgap\":0},\"title\":{\"text\":\"Count of Company Location in each country\"},\"barmode\":\"relative\"},                        {\"responsive\": true}                    ).then(function(){\n",
       "                            \n",
       "var gd = document.getElementById('8404d219-b35e-44f0-a3dd-0a5f3d5fe916');\n",
       "var x = new MutationObserver(function (mutations, observer) {{\n",
       "        var display = window.getComputedStyle(gd).display;\n",
       "        if (!display || display === 'none') {{\n",
       "            console.log([gd, 'removed!']);\n",
       "            Plotly.purge(gd);\n",
       "            observer.disconnect();\n",
       "        }}\n",
       "}});\n",
       "\n",
       "// Listen for the removal of the full notebook cells\n",
       "var notebookContainer = gd.closest('#notebook-container');\n",
       "if (notebookContainer) {{\n",
       "    x.observe(notebookContainer, {childList: true});\n",
       "}}\n",
       "\n",
       "// Listen for the clearing of the current output cell\n",
       "var outputEl = gd.closest('.output');\n",
       "if (outputEl) {{\n",
       "    x.observe(outputEl, {childList: true});\n",
       "}}\n",
       "\n",
       "                        })                };                });            </script>        </div>"
      ]
     },
     "metadata": {},
     "output_type": "display_data"
    }
   ],
   "source": [
    "#checking the distribution of company's location\n",
    "px.histogram(df, x = df.company_location.sort_values(),histnorm = 'percent', text_auto = '.1f',\n",
    "             labels={ \"x\": \"company_location\",\n",
    "                 \"percent\": \"percent(%)\"\n",
    "                 \n",
    "             },\n",
    "             color_discrete_sequence=px.colors.qualitative.Safe, template = 'ggplot2',\n",
    "             title='Count of Company Location in each country')"
   ]
  },
  {
   "cell_type": "markdown",
   "id": "17d5df29",
   "metadata": {},
   "source": [
    "most of the companies are located in United State, United Kingdom, Canada, Germany and India"
   ]
  },
  {
   "cell_type": "code",
   "execution_count": 20,
   "id": "e288778b",
   "metadata": {},
   "outputs": [
    {
     "data": {
      "application/vnd.plotly.v1+json": {
       "config": {
        "plotlyServerURL": "https://plot.ly"
       },
       "data": [
        {
         "alignmentgroup": "True",
         "bingroup": "x",
         "hovertemplate": "experience_level=Mid<br>job_title=%{x}<br>count=%{y}<extra></extra>",
         "legendgroup": "Mid",
         "marker": {
          "color": "#2E91E5",
          "pattern": {
           "shape": ""
          }
         },
         "name": "Mid",
         "offsetgroup": "Mid",
         "orientation": "v",
         "showlegend": true,
         "texttemplate": "%{value}",
         "type": "histogram",
         "x": [
          "3D Computer Vision Researcher",
          "AI Scientist",
          "AI Scientist",
          "Analytics Engineer",
          "Analytics Engineer",
          "Applied Data Scientist",
          "Applied Data Scientist",
          "Applied Data Scientist",
          "Applied Machine Learning Scientist",
          "Applied Machine Learning Scientist",
          "BI Data Analyst",
          "BI Data Analyst",
          "BI Data Analyst",
          "Big Data Engineer",
          "Big Data Engineer",
          "Big Data Engineer",
          "Big Data Engineer",
          "Business Data Analyst",
          "Business Data Analyst",
          "Cloud Data Engineer",
          "Computer Vision Engineer",
          "Computer Vision Engineer",
          "Computer Vision Engineer",
          "Computer Vision Engineer",
          "Computer Vision Software Engineer",
          "Data Analyst",
          "Data Analyst",
          "Data Analyst",
          "Data Analyst",
          "Data Analyst",
          "Data Analyst",
          "Data Analyst",
          "Data Analyst",
          "Data Analyst",
          "Data Analyst",
          "Data Analyst",
          "Data Analyst",
          "Data Analyst",
          "Data Analyst",
          "Data Analyst",
          "Data Analyst",
          "Data Analyst",
          "Data Analyst",
          "Data Analyst",
          "Data Analyst",
          "Data Analyst",
          "Data Analyst",
          "Data Analyst",
          "Data Analyst",
          "Data Analyst",
          "Data Analyst",
          "Data Analyst",
          "Data Analyst",
          "Data Analyst",
          "Data Analyst",
          "Data Analyst",
          "Data Analyst",
          "Data Analyst",
          "Data Analyst",
          "Data Analyst",
          "Data Analyst",
          "Data Analyst",
          "Data Analyst",
          "Data Analyst",
          "Data Analyst",
          "Data Analyst",
          "Data Analytics Engineer",
          "Data Analytics Engineer",
          "Data Analytics Manager",
          "Data Analytics Manager",
          "Data Architect",
          "Data Architect",
          "Data Architect",
          "Data Architect",
          "Data Engineer",
          "Data Engineer",
          "Data Engineer",
          "Data Engineer",
          "Data Engineer",
          "Data Engineer",
          "Data Engineer",
          "Data Engineer",
          "Data Engineer",
          "Data Engineer",
          "Data Engineer",
          "Data Engineer",
          "Data Engineer",
          "Data Engineer",
          "Data Engineer",
          "Data Engineer",
          "Data Engineer",
          "Data Engineer",
          "Data Engineer",
          "Data Engineer",
          "Data Engineer",
          "Data Engineer",
          "Data Engineer",
          "Data Engineer",
          "Data Engineer",
          "Data Engineer",
          "Data Engineer",
          "Data Engineer",
          "Data Engineer",
          "Data Engineer",
          "Data Engineer",
          "Data Engineer",
          "Data Engineer",
          "Data Engineer",
          "Data Engineer",
          "Data Engineer",
          "Data Engineer",
          "Data Engineer",
          "Data Engineer",
          "Data Engineer",
          "Data Engineer",
          "Data Engineer",
          "Data Engineer",
          "Data Engineer",
          "Data Engineer",
          "Data Engineer",
          "Data Engineer",
          "Data Engineer",
          "Data Engineer",
          "Data Engineer",
          "Data Engineer",
          "Data Engineer",
          "Data Engineering Manager",
          "Data Engineering Manager",
          "Data Science Consultant",
          "Data Science Consultant",
          "Data Science Consultant",
          "Data Science Consultant",
          "Data Science Manager",
          "Data Scientist",
          "Data Scientist",
          "Data Scientist",
          "Data Scientist",
          "Data Scientist",
          "Data Scientist",
          "Data Scientist",
          "Data Scientist",
          "Data Scientist",
          "Data Scientist",
          "Data Scientist",
          "Data Scientist",
          "Data Scientist",
          "Data Scientist",
          "Data Scientist",
          "Data Scientist",
          "Data Scientist",
          "Data Scientist",
          "Data Scientist",
          "Data Scientist",
          "Data Scientist",
          "Data Scientist",
          "Data Scientist",
          "Data Scientist",
          "Data Scientist",
          "Data Scientist",
          "Data Scientist",
          "Data Scientist",
          "Data Scientist",
          "Data Scientist",
          "Data Scientist",
          "Data Scientist",
          "Data Scientist",
          "Data Scientist",
          "Data Scientist",
          "Data Scientist",
          "Data Scientist",
          "Data Scientist",
          "Data Scientist",
          "Data Scientist",
          "Data Scientist",
          "Data Scientist",
          "Data Scientist",
          "Data Scientist",
          "Data Scientist",
          "Data Scientist",
          "Data Scientist",
          "Data Scientist",
          "Data Specialist",
          "Director of Data Engineering",
          "Director of Data Science",
          "Director of Data Science",
          "Financial Data Analyst",
          "Head of Data",
          "Head of Data",
          "Head of Data Science",
          "Lead Data Analyst",
          "Lead Data Engineer",
          "Lead Data Engineer",
          "Lead Data Engineer",
          "Lead Data Scientist",
          "Lead Machine Learning Engineer",
          "ML Engineer",
          "ML Engineer",
          "Machine Learning Developer",
          "Machine Learning Developer",
          "Machine Learning Engineer",
          "Machine Learning Engineer",
          "Machine Learning Engineer",
          "Machine Learning Engineer",
          "Machine Learning Engineer",
          "Machine Learning Engineer",
          "Machine Learning Engineer",
          "Machine Learning Engineer",
          "Machine Learning Engineer",
          "Machine Learning Scientist",
          "Principal Data Scientist",
          "Research Scientist",
          "Research Scientist",
          "Staff Data Scientist"
         ],
         "xaxis": "x",
         "yaxis": "y"
        },
        {
         "alignmentgroup": "True",
         "bingroup": "x",
         "hovertemplate": "experience_level=Senior<br>job_title=%{x}<br>count=%{y}<extra></extra>",
         "legendgroup": "Senior",
         "marker": {
          "color": "#E15F99",
          "pattern": {
           "shape": ""
          }
         },
         "name": "Senior",
         "offsetgroup": "Senior",
         "orientation": "v",
         "showlegend": true,
         "texttemplate": "%{value}",
         "type": "histogram",
         "x": [
          "AI Scientist",
          "AI Scientist",
          "AI Scientist",
          "AI Scientist",
          "Analytics Engineer",
          "Applied Machine Learning Scientist",
          "BI Data Analyst",
          "Big Data Architect",
          "Big Data Engineer",
          "Big Data Engineer",
          "Computer Vision Engineer",
          "Data Analyst",
          "Data Analyst",
          "Data Analyst",
          "Data Analyst",
          "Data Analyst",
          "Data Analyst",
          "Data Analyst",
          "Data Analyst",
          "Data Analyst",
          "Data Analyst",
          "Data Analyst",
          "Data Analyst",
          "Data Analyst",
          "Data Analyst",
          "Data Analyst",
          "Data Analyst",
          "Data Analyst",
          "Data Analyst",
          "Data Analyst",
          "Data Analyst",
          "Data Analyst",
          "Data Analyst",
          "Data Analyst",
          "Data Analyst",
          "Data Analyst",
          "Data Analyst",
          "Data Analyst",
          "Data Analyst",
          "Data Analytics Engineer",
          "Data Analytics Engineer",
          "Data Analytics Manager",
          "Data Analytics Manager",
          "Data Analytics Manager",
          "Data Architect",
          "Data Engineer",
          "Data Engineer",
          "Data Engineer",
          "Data Engineer",
          "Data Engineer",
          "Data Engineer",
          "Data Engineer",
          "Data Engineer",
          "Data Engineer",
          "Data Engineer",
          "Data Engineer",
          "Data Engineer",
          "Data Engineer",
          "Data Engineer",
          "Data Engineer",
          "Data Engineer",
          "Data Engineer",
          "Data Engineer",
          "Data Engineer",
          "Data Engineer",
          "Data Engineer",
          "Data Engineer",
          "Data Engineer",
          "Data Engineer",
          "Data Engineer",
          "Data Engineer",
          "Data Engineer",
          "Data Engineer",
          "Data Engineer",
          "Data Engineer",
          "Data Engineer",
          "Data Engineer",
          "Data Engineer",
          "Data Engineer",
          "Data Engineer",
          "Data Engineer",
          "Data Engineer",
          "Data Engineer",
          "Data Engineer",
          "Data Engineer",
          "Data Engineer",
          "Data Engineer",
          "Data Engineer",
          "Data Engineer",
          "Data Engineer",
          "Data Engineer",
          "Data Engineer",
          "Data Engineer",
          "Data Engineer",
          "Data Engineer",
          "Data Engineer",
          "Data Engineer",
          "Data Engineer",
          "Data Engineering Manager",
          "Data Engineering Manager",
          "Data Science Consultant",
          "Data Science Engineer",
          "Data Science Engineer",
          "Data Science Manager",
          "Data Science Manager",
          "Data Science Manager",
          "Data Science Manager",
          "Data Science Manager",
          "Data Science Manager",
          "Data Science Manager",
          "Data Science Manager",
          "Data Science Manager",
          "Data Scientist",
          "Data Scientist",
          "Data Scientist",
          "Data Scientist",
          "Data Scientist",
          "Data Scientist",
          "Data Scientist",
          "Data Scientist",
          "Data Scientist",
          "Data Scientist",
          "Data Scientist",
          "Data Scientist",
          "Data Scientist",
          "Data Scientist",
          "Data Scientist",
          "Data Scientist",
          "Data Scientist",
          "Data Scientist",
          "Data Scientist",
          "Data Scientist",
          "Data Scientist",
          "Data Scientist",
          "Data Scientist",
          "Data Scientist",
          "Data Scientist",
          "Data Scientist",
          "Data Scientist",
          "Data Scientist",
          "Data Scientist",
          "Data Scientist",
          "Data Scientist",
          "Data Scientist",
          "Data Scientist",
          "Data Scientist",
          "Data Scientist",
          "Data Scientist",
          "Data Scientist",
          "Data Scientist",
          "Data Scientist",
          "Data Scientist",
          "Data Scientist",
          "Data Scientist",
          "Data Scientist",
          "Data Scientist",
          "Data Scientist",
          "Data Scientist",
          "Data Scientist",
          "Data Scientist",
          "Data Scientist",
          "Data Scientist",
          "Data Scientist",
          "Data Scientist",
          "Data Scientist",
          "Data Scientist",
          "Data Scientist",
          "Data Scientist",
          "Data Scientist",
          "Data Scientist",
          "Data Scientist",
          "Data Scientist",
          "Data Scientist",
          "Data Scientist",
          "Data Scientist",
          "Data Scientist",
          "Data Scientist",
          "Data Scientist",
          "Data Scientist",
          "Data Scientist",
          "Data Scientist",
          "Data Scientist",
          "Data Scientist",
          "Data Scientist",
          "Data Scientist",
          "Data Scientist",
          "Data Scientist",
          "Data Scientist",
          "Data Scientist",
          "Data Scientist",
          "Data Scientist",
          "Data Scientist",
          "Data Scientist",
          "Data Scientist",
          "Director of Data Engineering",
          "Director of Data Science",
          "Director of Data Science",
          "Director of Data Science",
          "ETL Developer",
          "ETL Developer",
          "Finance Data Analyst",
          "Head of Data",
          "Head of Data",
          "Head of Data Science",
          "Head of Data Science",
          "Head of Machine Learning",
          "Lead Data Analyst",
          "Lead Data Engineer",
          "ML Engineer",
          "ML Engineer",
          "Machine Learning Developer",
          "Machine Learning Engineer",
          "Machine Learning Engineer",
          "Machine Learning Engineer",
          "Machine Learning Engineer",
          "Machine Learning Engineer",
          "Machine Learning Engineer",
          "Machine Learning Engineer",
          "Machine Learning Engineer",
          "Machine Learning Engineer",
          "Machine Learning Engineer",
          "Machine Learning Engineer",
          "Machine Learning Engineer",
          "Machine Learning Engineer",
          "Machine Learning Engineer",
          "Machine Learning Engineer",
          "Machine Learning Engineer",
          "Machine Learning Engineer",
          "Machine Learning Engineer",
          "Machine Learning Engineer",
          "Machine Learning Engineer",
          "Machine Learning Engineer",
          "Machine Learning Engineer",
          "Machine Learning Engineer",
          "Machine Learning Engineer",
          "Machine Learning Engineer",
          "Machine Learning Engineer",
          "Machine Learning Engineer",
          "Machine Learning Engineer",
          "Machine Learning Engineer",
          "Machine Learning Engineer",
          "Machine Learning Engineer",
          "Machine Learning Infrastructure Engineer",
          "Machine Learning Infrastructure Engineer",
          "Machine Learning Infrastructure Engineer",
          "Machine Learning Manager",
          "Machine Learning Scientist",
          "Machine Learning Scientist",
          "Machine Learning Scientist",
          "Machine Learning Scientist",
          "Machine Learning Scientist",
          "Machine Learning Scientist",
          "Machine Learning Scientist",
          "Marketing Data Analyst",
          "NLP Engineer",
          "Principal Data Analyst",
          "Principal Data Analyst",
          "Principal Data Engineer",
          "Principal Data Engineer",
          "Principal Data Engineer",
          "Principal Data Scientist",
          "Principal Data Scientist",
          "Principal Data Scientist",
          "Principal Data Scientist",
          "Principal Data Scientist",
          "Principal Data Scientist",
          "Product Data Analyst",
          "Product Data Analyst",
          "Research Scientist",
          "Research Scientist",
          "Research Scientist",
          "Research Scientist",
          "Research Scientist",
          "Research Scientist",
          "Research Scientist",
          "Research Scientist",
          "Research Scientist",
          "Research Scientist",
          "Research Scientist",
          "Research Scientist"
         ],
         "xaxis": "x",
         "yaxis": "y"
        },
        {
         "alignmentgroup": "True",
         "bingroup": "x",
         "hovertemplate": "experience_level=Entry<br>job_title=%{x}<br>count=%{y}<extra></extra>",
         "legendgroup": "Entry",
         "marker": {
          "color": "#1CA71C",
          "pattern": {
           "shape": ""
          }
         },
         "name": "Entry",
         "offsetgroup": "Entry",
         "orientation": "v",
         "showlegend": true,
         "texttemplate": "%{value}",
         "type": "histogram",
         "x": [
          "AI Scientist",
          "Analytics Engineer",
          "Applied Data Scientist",
          "Applied Data Scientist",
          "Applied Machine Learning Scientist",
          "BI Data Analyst",
          "Big Data Engineer",
          "Big Data Engineer",
          "Business Data Analyst",
          "Business Data Analyst",
          "Business Data Analyst",
          "Computer Vision Engineer",
          "Computer Vision Software Engineer",
          "Computer Vision Software Engineer",
          "Data Analyst",
          "Data Analyst",
          "Data Analyst",
          "Data Analyst",
          "Data Analyst",
          "Data Analyst",
          "Data Analyst",
          "Data Analyst",
          "Data Analyst",
          "Data Analyst",
          "Data Analyst",
          "Data Analyst",
          "Data Analyst",
          "Data Analyst",
          "Data Analyst",
          "Data Analyst",
          "Data Analyst",
          "Data Analyst",
          "Data Analyst",
          "Data Analyst",
          "Data Analyst",
          "Data Analyst",
          "Data Analyst",
          "Data Analyst",
          "Data Analyst",
          "Data Analytics Lead",
          "Data Analytics Manager",
          "Data Architect",
          "Data Architect",
          "Data Architect",
          "Data Engineer",
          "Data Engineer",
          "Data Engineer",
          "Data Engineer",
          "Data Engineer",
          "Data Engineer",
          "Data Engineer",
          "Data Engineer",
          "Data Engineer",
          "Data Engineer",
          "Data Engineer",
          "Data Engineer",
          "Data Engineer",
          "Data Engineer",
          "Data Engineer",
          "Data Engineer",
          "Data Engineer",
          "Data Engineer",
          "Data Engineer",
          "Data Engineer",
          "Data Engineer",
          "Data Engineer",
          "Data Engineer",
          "Data Engineering Manager",
          "Data Science Engineer",
          "Data Scientist",
          "Data Scientist",
          "Data Scientist",
          "Data Scientist",
          "Data Scientist",
          "Data Scientist",
          "Financial Data Analyst",
          "Head of Data",
          "Head of Data Science",
          "Lead Data Analyst",
          "Lead Data Engineer",
          "Lead Data Engineer",
          "Lead Data Scientist",
          "Lead Data Scientist",
          "ML Engineer",
          "ML Engineer",
          "Machine Learning Engineer",
          "Research Scientist",
          "Research Scientist"
         ],
         "xaxis": "x",
         "yaxis": "y"
        },
        {
         "alignmentgroup": "True",
         "bingroup": "x",
         "hovertemplate": "experience_level=Executive<br>job_title=%{x}<br>count=%{y}<extra></extra>",
         "legendgroup": "Executive",
         "marker": {
          "color": "#FB0D0D",
          "pattern": {
           "shape": ""
          }
         },
         "name": "Executive",
         "offsetgroup": "Executive",
         "orientation": "v",
         "showlegend": true,
         "texttemplate": "%{value}",
         "type": "histogram",
         "x": [
          "BI Data Analyst",
          "Cloud Data Engineer",
          "Data Analyst",
          "Data Analyst",
          "Data Analyst",
          "Data Analytics Manager",
          "Data Architect",
          "Data Architect",
          "Data Architect",
          "Data Engineer",
          "Data Engineer",
          "Data Engineer",
          "Data Engineer",
          "Data Science Consultant",
          "Data Science Consultant",
          "Data Science Manager",
          "Data Science Manager",
          "Data Scientist",
          "Data Scientist",
          "Data Scientist",
          "Data Scientist",
          "Data Scientist",
          "Data Scientist",
          "Data Scientist",
          "Director of Data Science",
          "Director of Data Science"
         ],
         "xaxis": "x",
         "yaxis": "y"
        }
       ],
       "layout": {
        "barmode": "group",
        "height": 800,
        "legend": {
         "title": {
          "text": "experience_level"
         },
         "tracegroupgap": 0
        },
        "template": {
         "data": {
          "bar": [
           {
            "error_x": {
             "color": "rgb(51,51,51)"
            },
            "error_y": {
             "color": "rgb(51,51,51)"
            },
            "marker": {
             "line": {
              "color": "rgb(237,237,237)",
              "width": 0.5
             },
             "pattern": {
              "fillmode": "overlay",
              "size": 10,
              "solidity": 0.2
             }
            },
            "type": "bar"
           }
          ],
          "barpolar": [
           {
            "marker": {
             "line": {
              "color": "rgb(237,237,237)",
              "width": 0.5
             },
             "pattern": {
              "fillmode": "overlay",
              "size": 10,
              "solidity": 0.2
             }
            },
            "type": "barpolar"
           }
          ],
          "carpet": [
           {
            "aaxis": {
             "endlinecolor": "rgb(51,51,51)",
             "gridcolor": "white",
             "linecolor": "white",
             "minorgridcolor": "white",
             "startlinecolor": "rgb(51,51,51)"
            },
            "baxis": {
             "endlinecolor": "rgb(51,51,51)",
             "gridcolor": "white",
             "linecolor": "white",
             "minorgridcolor": "white",
             "startlinecolor": "rgb(51,51,51)"
            },
            "type": "carpet"
           }
          ],
          "choropleth": [
           {
            "colorbar": {
             "outlinewidth": 0,
             "tickcolor": "rgb(237,237,237)",
             "ticklen": 6,
             "ticks": "inside"
            },
            "type": "choropleth"
           }
          ],
          "contour": [
           {
            "colorbar": {
             "outlinewidth": 0,
             "tickcolor": "rgb(237,237,237)",
             "ticklen": 6,
             "ticks": "inside"
            },
            "colorscale": [
             [
              0,
              "rgb(20,44,66)"
             ],
             [
              1,
              "rgb(90,179,244)"
             ]
            ],
            "type": "contour"
           }
          ],
          "contourcarpet": [
           {
            "colorbar": {
             "outlinewidth": 0,
             "tickcolor": "rgb(237,237,237)",
             "ticklen": 6,
             "ticks": "inside"
            },
            "type": "contourcarpet"
           }
          ],
          "heatmap": [
           {
            "colorbar": {
             "outlinewidth": 0,
             "tickcolor": "rgb(237,237,237)",
             "ticklen": 6,
             "ticks": "inside"
            },
            "colorscale": [
             [
              0,
              "rgb(20,44,66)"
             ],
             [
              1,
              "rgb(90,179,244)"
             ]
            ],
            "type": "heatmap"
           }
          ],
          "heatmapgl": [
           {
            "colorbar": {
             "outlinewidth": 0,
             "tickcolor": "rgb(237,237,237)",
             "ticklen": 6,
             "ticks": "inside"
            },
            "colorscale": [
             [
              0,
              "rgb(20,44,66)"
             ],
             [
              1,
              "rgb(90,179,244)"
             ]
            ],
            "type": "heatmapgl"
           }
          ],
          "histogram": [
           {
            "marker": {
             "pattern": {
              "fillmode": "overlay",
              "size": 10,
              "solidity": 0.2
             }
            },
            "type": "histogram"
           }
          ],
          "histogram2d": [
           {
            "colorbar": {
             "outlinewidth": 0,
             "tickcolor": "rgb(237,237,237)",
             "ticklen": 6,
             "ticks": "inside"
            },
            "colorscale": [
             [
              0,
              "rgb(20,44,66)"
             ],
             [
              1,
              "rgb(90,179,244)"
             ]
            ],
            "type": "histogram2d"
           }
          ],
          "histogram2dcontour": [
           {
            "colorbar": {
             "outlinewidth": 0,
             "tickcolor": "rgb(237,237,237)",
             "ticklen": 6,
             "ticks": "inside"
            },
            "colorscale": [
             [
              0,
              "rgb(20,44,66)"
             ],
             [
              1,
              "rgb(90,179,244)"
             ]
            ],
            "type": "histogram2dcontour"
           }
          ],
          "mesh3d": [
           {
            "colorbar": {
             "outlinewidth": 0,
             "tickcolor": "rgb(237,237,237)",
             "ticklen": 6,
             "ticks": "inside"
            },
            "type": "mesh3d"
           }
          ],
          "parcoords": [
           {
            "line": {
             "colorbar": {
              "outlinewidth": 0,
              "tickcolor": "rgb(237,237,237)",
              "ticklen": 6,
              "ticks": "inside"
             }
            },
            "type": "parcoords"
           }
          ],
          "pie": [
           {
            "automargin": true,
            "type": "pie"
           }
          ],
          "scatter": [
           {
            "marker": {
             "colorbar": {
              "outlinewidth": 0,
              "tickcolor": "rgb(237,237,237)",
              "ticklen": 6,
              "ticks": "inside"
             }
            },
            "type": "scatter"
           }
          ],
          "scatter3d": [
           {
            "line": {
             "colorbar": {
              "outlinewidth": 0,
              "tickcolor": "rgb(237,237,237)",
              "ticklen": 6,
              "ticks": "inside"
             }
            },
            "marker": {
             "colorbar": {
              "outlinewidth": 0,
              "tickcolor": "rgb(237,237,237)",
              "ticklen": 6,
              "ticks": "inside"
             }
            },
            "type": "scatter3d"
           }
          ],
          "scattercarpet": [
           {
            "marker": {
             "colorbar": {
              "outlinewidth": 0,
              "tickcolor": "rgb(237,237,237)",
              "ticklen": 6,
              "ticks": "inside"
             }
            },
            "type": "scattercarpet"
           }
          ],
          "scattergeo": [
           {
            "marker": {
             "colorbar": {
              "outlinewidth": 0,
              "tickcolor": "rgb(237,237,237)",
              "ticklen": 6,
              "ticks": "inside"
             }
            },
            "type": "scattergeo"
           }
          ],
          "scattergl": [
           {
            "marker": {
             "colorbar": {
              "outlinewidth": 0,
              "tickcolor": "rgb(237,237,237)",
              "ticklen": 6,
              "ticks": "inside"
             }
            },
            "type": "scattergl"
           }
          ],
          "scattermapbox": [
           {
            "marker": {
             "colorbar": {
              "outlinewidth": 0,
              "tickcolor": "rgb(237,237,237)",
              "ticklen": 6,
              "ticks": "inside"
             }
            },
            "type": "scattermapbox"
           }
          ],
          "scatterpolar": [
           {
            "marker": {
             "colorbar": {
              "outlinewidth": 0,
              "tickcolor": "rgb(237,237,237)",
              "ticklen": 6,
              "ticks": "inside"
             }
            },
            "type": "scatterpolar"
           }
          ],
          "scatterpolargl": [
           {
            "marker": {
             "colorbar": {
              "outlinewidth": 0,
              "tickcolor": "rgb(237,237,237)",
              "ticklen": 6,
              "ticks": "inside"
             }
            },
            "type": "scatterpolargl"
           }
          ],
          "scatterternary": [
           {
            "marker": {
             "colorbar": {
              "outlinewidth": 0,
              "tickcolor": "rgb(237,237,237)",
              "ticklen": 6,
              "ticks": "inside"
             }
            },
            "type": "scatterternary"
           }
          ],
          "surface": [
           {
            "colorbar": {
             "outlinewidth": 0,
             "tickcolor": "rgb(237,237,237)",
             "ticklen": 6,
             "ticks": "inside"
            },
            "colorscale": [
             [
              0,
              "rgb(20,44,66)"
             ],
             [
              1,
              "rgb(90,179,244)"
             ]
            ],
            "type": "surface"
           }
          ],
          "table": [
           {
            "cells": {
             "fill": {
              "color": "rgb(237,237,237)"
             },
             "line": {
              "color": "white"
             }
            },
            "header": {
             "fill": {
              "color": "rgb(217,217,217)"
             },
             "line": {
              "color": "white"
             }
            },
            "type": "table"
           }
          ]
         },
         "layout": {
          "annotationdefaults": {
           "arrowhead": 0,
           "arrowwidth": 1
          },
          "autotypenumbers": "strict",
          "coloraxis": {
           "colorbar": {
            "outlinewidth": 0,
            "tickcolor": "rgb(237,237,237)",
            "ticklen": 6,
            "ticks": "inside"
           }
          },
          "colorscale": {
           "sequential": [
            [
             0,
             "rgb(20,44,66)"
            ],
            [
             1,
             "rgb(90,179,244)"
            ]
           ],
           "sequentialminus": [
            [
             0,
             "rgb(20,44,66)"
            ],
            [
             1,
             "rgb(90,179,244)"
            ]
           ]
          },
          "colorway": [
           "#F8766D",
           "#A3A500",
           "#00BF7D",
           "#00B0F6",
           "#E76BF3"
          ],
          "font": {
           "color": "rgb(51,51,51)"
          },
          "geo": {
           "bgcolor": "white",
           "lakecolor": "white",
           "landcolor": "rgb(237,237,237)",
           "showlakes": true,
           "showland": true,
           "subunitcolor": "white"
          },
          "hoverlabel": {
           "align": "left"
          },
          "hovermode": "closest",
          "paper_bgcolor": "white",
          "plot_bgcolor": "rgb(237,237,237)",
          "polar": {
           "angularaxis": {
            "gridcolor": "white",
            "linecolor": "white",
            "showgrid": true,
            "tickcolor": "rgb(51,51,51)",
            "ticks": "outside"
           },
           "bgcolor": "rgb(237,237,237)",
           "radialaxis": {
            "gridcolor": "white",
            "linecolor": "white",
            "showgrid": true,
            "tickcolor": "rgb(51,51,51)",
            "ticks": "outside"
           }
          },
          "scene": {
           "xaxis": {
            "backgroundcolor": "rgb(237,237,237)",
            "gridcolor": "white",
            "gridwidth": 2,
            "linecolor": "white",
            "showbackground": true,
            "showgrid": true,
            "tickcolor": "rgb(51,51,51)",
            "ticks": "outside",
            "zerolinecolor": "white"
           },
           "yaxis": {
            "backgroundcolor": "rgb(237,237,237)",
            "gridcolor": "white",
            "gridwidth": 2,
            "linecolor": "white",
            "showbackground": true,
            "showgrid": true,
            "tickcolor": "rgb(51,51,51)",
            "ticks": "outside",
            "zerolinecolor": "white"
           },
           "zaxis": {
            "backgroundcolor": "rgb(237,237,237)",
            "gridcolor": "white",
            "gridwidth": 2,
            "linecolor": "white",
            "showbackground": true,
            "showgrid": true,
            "tickcolor": "rgb(51,51,51)",
            "ticks": "outside",
            "zerolinecolor": "white"
           }
          },
          "shapedefaults": {
           "fillcolor": "black",
           "line": {
            "width": 0
           },
           "opacity": 0.3
          },
          "ternary": {
           "aaxis": {
            "gridcolor": "white",
            "linecolor": "white",
            "showgrid": true,
            "tickcolor": "rgb(51,51,51)",
            "ticks": "outside"
           },
           "baxis": {
            "gridcolor": "white",
            "linecolor": "white",
            "showgrid": true,
            "tickcolor": "rgb(51,51,51)",
            "ticks": "outside"
           },
           "bgcolor": "rgb(237,237,237)",
           "caxis": {
            "gridcolor": "white",
            "linecolor": "white",
            "showgrid": true,
            "tickcolor": "rgb(51,51,51)",
            "ticks": "outside"
           }
          },
          "xaxis": {
           "automargin": true,
           "gridcolor": "white",
           "linecolor": "white",
           "showgrid": true,
           "tickcolor": "rgb(51,51,51)",
           "ticks": "outside",
           "title": {
            "standoff": 15
           },
           "zerolinecolor": "white"
          },
          "yaxis": {
           "automargin": true,
           "gridcolor": "white",
           "linecolor": "white",
           "showgrid": true,
           "tickcolor": "rgb(51,51,51)",
           "ticks": "outside",
           "title": {
            "standoff": 15
           },
           "zerolinecolor": "white"
          }
         }
        },
        "title": {
         "text": "Count of number of people with all experience levels in each job"
        },
        "xaxis": {
         "anchor": "y",
         "domain": [
          0,
          1
         ],
         "title": {
          "text": "job_title"
         }
        },
        "yaxis": {
         "anchor": "x",
         "domain": [
          0,
          1
         ],
         "title": {
          "text": "count"
         }
        }
       }
      },
      "text/html": [
       "<div>                            <div id=\"9c2c7772-a7b1-447c-8eae-f3687ab14b68\" class=\"plotly-graph-div\" style=\"height:800px; width:100%;\"></div>            <script type=\"text/javascript\">                require([\"plotly\"], function(Plotly) {                    window.PLOTLYENV=window.PLOTLYENV || {};                                    if (document.getElementById(\"9c2c7772-a7b1-447c-8eae-f3687ab14b68\")) {                    Plotly.newPlot(                        \"9c2c7772-a7b1-447c-8eae-f3687ab14b68\",                        [{\"alignmentgroup\":\"True\",\"bingroup\":\"x\",\"hovertemplate\":\"experience_level=Mid<br>job_title=%{x}<br>count=%{y}<extra></extra>\",\"legendgroup\":\"Mid\",\"marker\":{\"color\":\"#2E91E5\",\"pattern\":{\"shape\":\"\"}},\"name\":\"Mid\",\"offsetgroup\":\"Mid\",\"orientation\":\"v\",\"showlegend\":true,\"texttemplate\":\"%{value}\",\"x\":[\"3D Computer Vision Researcher\",\"AI Scientist\",\"AI Scientist\",\"Analytics Engineer\",\"Analytics Engineer\",\"Applied Data Scientist\",\"Applied Data Scientist\",\"Applied Data Scientist\",\"Applied Machine Learning Scientist\",\"Applied Machine Learning Scientist\",\"BI Data Analyst\",\"BI Data Analyst\",\"BI Data Analyst\",\"Big Data Engineer\",\"Big Data Engineer\",\"Big Data Engineer\",\"Big Data Engineer\",\"Business Data Analyst\",\"Business Data Analyst\",\"Cloud Data Engineer\",\"Computer Vision Engineer\",\"Computer Vision Engineer\",\"Computer Vision Engineer\",\"Computer Vision Engineer\",\"Computer Vision Software Engineer\",\"Data Analyst\",\"Data Analyst\",\"Data Analyst\",\"Data Analyst\",\"Data Analyst\",\"Data Analyst\",\"Data Analyst\",\"Data Analyst\",\"Data Analyst\",\"Data Analyst\",\"Data Analyst\",\"Data Analyst\",\"Data Analyst\",\"Data Analyst\",\"Data Analyst\",\"Data Analyst\",\"Data Analyst\",\"Data Analyst\",\"Data Analyst\",\"Data Analyst\",\"Data Analyst\",\"Data Analyst\",\"Data Analyst\",\"Data Analyst\",\"Data Analyst\",\"Data Analyst\",\"Data Analyst\",\"Data Analyst\",\"Data Analyst\",\"Data Analyst\",\"Data Analyst\",\"Data Analyst\",\"Data Analyst\",\"Data Analyst\",\"Data Analyst\",\"Data Analyst\",\"Data Analyst\",\"Data Analyst\",\"Data Analyst\",\"Data Analyst\",\"Data Analyst\",\"Data Analytics Engineer\",\"Data Analytics Engineer\",\"Data Analytics Manager\",\"Data Analytics Manager\",\"Data Architect\",\"Data Architect\",\"Data Architect\",\"Data Architect\",\"Data Engineer\",\"Data Engineer\",\"Data Engineer\",\"Data Engineer\",\"Data Engineer\",\"Data Engineer\",\"Data Engineer\",\"Data Engineer\",\"Data Engineer\",\"Data Engineer\",\"Data Engineer\",\"Data Engineer\",\"Data Engineer\",\"Data Engineer\",\"Data Engineer\",\"Data Engineer\",\"Data Engineer\",\"Data Engineer\",\"Data Engineer\",\"Data Engineer\",\"Data Engineer\",\"Data Engineer\",\"Data Engineer\",\"Data Engineer\",\"Data Engineer\",\"Data Engineer\",\"Data Engineer\",\"Data Engineer\",\"Data Engineer\",\"Data Engineer\",\"Data Engineer\",\"Data Engineer\",\"Data Engineer\",\"Data Engineer\",\"Data Engineer\",\"Data Engineer\",\"Data Engineer\",\"Data Engineer\",\"Data Engineer\",\"Data Engineer\",\"Data Engineer\",\"Data Engineer\",\"Data Engineer\",\"Data Engineer\",\"Data Engineer\",\"Data Engineer\",\"Data Engineer\",\"Data Engineer\",\"Data Engineer\",\"Data Engineer\",\"Data Engineer\",\"Data Engineer\",\"Data Engineering Manager\",\"Data Engineering Manager\",\"Data Science Consultant\",\"Data Science Consultant\",\"Data Science Consultant\",\"Data Science Consultant\",\"Data Science Manager\",\"Data Scientist\",\"Data Scientist\",\"Data Scientist\",\"Data Scientist\",\"Data Scientist\",\"Data Scientist\",\"Data Scientist\",\"Data Scientist\",\"Data Scientist\",\"Data Scientist\",\"Data Scientist\",\"Data Scientist\",\"Data Scientist\",\"Data Scientist\",\"Data Scientist\",\"Data Scientist\",\"Data Scientist\",\"Data Scientist\",\"Data Scientist\",\"Data Scientist\",\"Data Scientist\",\"Data Scientist\",\"Data Scientist\",\"Data Scientist\",\"Data Scientist\",\"Data Scientist\",\"Data Scientist\",\"Data Scientist\",\"Data Scientist\",\"Data Scientist\",\"Data Scientist\",\"Data Scientist\",\"Data Scientist\",\"Data Scientist\",\"Data Scientist\",\"Data Scientist\",\"Data Scientist\",\"Data Scientist\",\"Data Scientist\",\"Data Scientist\",\"Data Scientist\",\"Data Scientist\",\"Data Scientist\",\"Data Scientist\",\"Data Scientist\",\"Data Scientist\",\"Data Scientist\",\"Data Scientist\",\"Data Specialist\",\"Director of Data Engineering\",\"Director of Data Science\",\"Director of Data Science\",\"Financial Data Analyst\",\"Head of Data\",\"Head of Data\",\"Head of Data Science\",\"Lead Data Analyst\",\"Lead Data Engineer\",\"Lead Data Engineer\",\"Lead Data Engineer\",\"Lead Data Scientist\",\"Lead Machine Learning Engineer\",\"ML Engineer\",\"ML Engineer\",\"Machine Learning Developer\",\"Machine Learning Developer\",\"Machine Learning Engineer\",\"Machine Learning Engineer\",\"Machine Learning Engineer\",\"Machine Learning Engineer\",\"Machine Learning Engineer\",\"Machine Learning Engineer\",\"Machine Learning Engineer\",\"Machine Learning Engineer\",\"Machine Learning Engineer\",\"Machine Learning Scientist\",\"Principal Data Scientist\",\"Research Scientist\",\"Research Scientist\",\"Staff Data Scientist\"],\"xaxis\":\"x\",\"yaxis\":\"y\",\"type\":\"histogram\"},{\"alignmentgroup\":\"True\",\"bingroup\":\"x\",\"hovertemplate\":\"experience_level=Senior<br>job_title=%{x}<br>count=%{y}<extra></extra>\",\"legendgroup\":\"Senior\",\"marker\":{\"color\":\"#E15F99\",\"pattern\":{\"shape\":\"\"}},\"name\":\"Senior\",\"offsetgroup\":\"Senior\",\"orientation\":\"v\",\"showlegend\":true,\"texttemplate\":\"%{value}\",\"x\":[\"AI Scientist\",\"AI Scientist\",\"AI Scientist\",\"AI Scientist\",\"Analytics Engineer\",\"Applied Machine Learning Scientist\",\"BI Data Analyst\",\"Big Data Architect\",\"Big Data Engineer\",\"Big Data Engineer\",\"Computer Vision Engineer\",\"Data Analyst\",\"Data Analyst\",\"Data Analyst\",\"Data Analyst\",\"Data Analyst\",\"Data Analyst\",\"Data Analyst\",\"Data Analyst\",\"Data Analyst\",\"Data Analyst\",\"Data Analyst\",\"Data Analyst\",\"Data Analyst\",\"Data Analyst\",\"Data Analyst\",\"Data Analyst\",\"Data Analyst\",\"Data Analyst\",\"Data Analyst\",\"Data Analyst\",\"Data Analyst\",\"Data Analyst\",\"Data Analyst\",\"Data Analyst\",\"Data Analyst\",\"Data Analyst\",\"Data Analyst\",\"Data Analyst\",\"Data Analytics Engineer\",\"Data Analytics Engineer\",\"Data Analytics Manager\",\"Data Analytics Manager\",\"Data Analytics Manager\",\"Data Architect\",\"Data Engineer\",\"Data Engineer\",\"Data Engineer\",\"Data Engineer\",\"Data Engineer\",\"Data Engineer\",\"Data Engineer\",\"Data Engineer\",\"Data Engineer\",\"Data Engineer\",\"Data Engineer\",\"Data Engineer\",\"Data Engineer\",\"Data Engineer\",\"Data Engineer\",\"Data Engineer\",\"Data Engineer\",\"Data Engineer\",\"Data Engineer\",\"Data Engineer\",\"Data Engineer\",\"Data Engineer\",\"Data Engineer\",\"Data Engineer\",\"Data Engineer\",\"Data Engineer\",\"Data Engineer\",\"Data Engineer\",\"Data Engineer\",\"Data Engineer\",\"Data Engineer\",\"Data Engineer\",\"Data Engineer\",\"Data Engineer\",\"Data Engineer\",\"Data Engineer\",\"Data Engineer\",\"Data Engineer\",\"Data Engineer\",\"Data Engineer\",\"Data Engineer\",\"Data Engineer\",\"Data Engineer\",\"Data Engineer\",\"Data Engineer\",\"Data Engineer\",\"Data Engineer\",\"Data Engineer\",\"Data Engineer\",\"Data Engineer\",\"Data Engineer\",\"Data Engineer\",\"Data Engineer\",\"Data Engineering Manager\",\"Data Engineering Manager\",\"Data Science Consultant\",\"Data Science Engineer\",\"Data Science Engineer\",\"Data Science Manager\",\"Data Science Manager\",\"Data Science Manager\",\"Data Science Manager\",\"Data Science Manager\",\"Data Science Manager\",\"Data Science Manager\",\"Data Science Manager\",\"Data Science Manager\",\"Data Scientist\",\"Data Scientist\",\"Data Scientist\",\"Data Scientist\",\"Data Scientist\",\"Data Scientist\",\"Data Scientist\",\"Data Scientist\",\"Data Scientist\",\"Data Scientist\",\"Data Scientist\",\"Data Scientist\",\"Data Scientist\",\"Data Scientist\",\"Data Scientist\",\"Data Scientist\",\"Data Scientist\",\"Data Scientist\",\"Data Scientist\",\"Data Scientist\",\"Data Scientist\",\"Data Scientist\",\"Data Scientist\",\"Data Scientist\",\"Data Scientist\",\"Data Scientist\",\"Data Scientist\",\"Data Scientist\",\"Data Scientist\",\"Data Scientist\",\"Data Scientist\",\"Data Scientist\",\"Data Scientist\",\"Data Scientist\",\"Data Scientist\",\"Data Scientist\",\"Data Scientist\",\"Data Scientist\",\"Data Scientist\",\"Data Scientist\",\"Data Scientist\",\"Data Scientist\",\"Data Scientist\",\"Data Scientist\",\"Data Scientist\",\"Data Scientist\",\"Data Scientist\",\"Data Scientist\",\"Data Scientist\",\"Data Scientist\",\"Data Scientist\",\"Data Scientist\",\"Data Scientist\",\"Data Scientist\",\"Data Scientist\",\"Data Scientist\",\"Data Scientist\",\"Data Scientist\",\"Data Scientist\",\"Data Scientist\",\"Data Scientist\",\"Data Scientist\",\"Data Scientist\",\"Data Scientist\",\"Data Scientist\",\"Data Scientist\",\"Data Scientist\",\"Data Scientist\",\"Data Scientist\",\"Data Scientist\",\"Data Scientist\",\"Data Scientist\",\"Data Scientist\",\"Data Scientist\",\"Data Scientist\",\"Data Scientist\",\"Data Scientist\",\"Data Scientist\",\"Data Scientist\",\"Data Scientist\",\"Data Scientist\",\"Data Scientist\",\"Director of Data Engineering\",\"Director of Data Science\",\"Director of Data Science\",\"Director of Data Science\",\"ETL Developer\",\"ETL Developer\",\"Finance Data Analyst\",\"Head of Data\",\"Head of Data\",\"Head of Data Science\",\"Head of Data Science\",\"Head of Machine Learning\",\"Lead Data Analyst\",\"Lead Data Engineer\",\"ML Engineer\",\"ML Engineer\",\"Machine Learning Developer\",\"Machine Learning Engineer\",\"Machine Learning Engineer\",\"Machine Learning Engineer\",\"Machine Learning Engineer\",\"Machine Learning Engineer\",\"Machine Learning Engineer\",\"Machine Learning Engineer\",\"Machine Learning Engineer\",\"Machine Learning Engineer\",\"Machine Learning Engineer\",\"Machine Learning Engineer\",\"Machine Learning Engineer\",\"Machine Learning Engineer\",\"Machine Learning Engineer\",\"Machine Learning Engineer\",\"Machine Learning Engineer\",\"Machine Learning Engineer\",\"Machine Learning Engineer\",\"Machine Learning Engineer\",\"Machine Learning Engineer\",\"Machine Learning Engineer\",\"Machine Learning Engineer\",\"Machine Learning Engineer\",\"Machine Learning Engineer\",\"Machine Learning Engineer\",\"Machine Learning Engineer\",\"Machine Learning Engineer\",\"Machine Learning Engineer\",\"Machine Learning Engineer\",\"Machine Learning Engineer\",\"Machine Learning Engineer\",\"Machine Learning Infrastructure Engineer\",\"Machine Learning Infrastructure Engineer\",\"Machine Learning Infrastructure Engineer\",\"Machine Learning Manager\",\"Machine Learning Scientist\",\"Machine Learning Scientist\",\"Machine Learning Scientist\",\"Machine Learning Scientist\",\"Machine Learning Scientist\",\"Machine Learning Scientist\",\"Machine Learning Scientist\",\"Marketing Data Analyst\",\"NLP Engineer\",\"Principal Data Analyst\",\"Principal Data Analyst\",\"Principal Data Engineer\",\"Principal Data Engineer\",\"Principal Data Engineer\",\"Principal Data Scientist\",\"Principal Data Scientist\",\"Principal Data Scientist\",\"Principal Data Scientist\",\"Principal Data Scientist\",\"Principal Data Scientist\",\"Product Data Analyst\",\"Product Data Analyst\",\"Research Scientist\",\"Research Scientist\",\"Research Scientist\",\"Research Scientist\",\"Research Scientist\",\"Research Scientist\",\"Research Scientist\",\"Research Scientist\",\"Research Scientist\",\"Research Scientist\",\"Research Scientist\",\"Research Scientist\"],\"xaxis\":\"x\",\"yaxis\":\"y\",\"type\":\"histogram\"},{\"alignmentgroup\":\"True\",\"bingroup\":\"x\",\"hovertemplate\":\"experience_level=Entry<br>job_title=%{x}<br>count=%{y}<extra></extra>\",\"legendgroup\":\"Entry\",\"marker\":{\"color\":\"#1CA71C\",\"pattern\":{\"shape\":\"\"}},\"name\":\"Entry\",\"offsetgroup\":\"Entry\",\"orientation\":\"v\",\"showlegend\":true,\"texttemplate\":\"%{value}\",\"x\":[\"AI Scientist\",\"Analytics Engineer\",\"Applied Data Scientist\",\"Applied Data Scientist\",\"Applied Machine Learning Scientist\",\"BI Data Analyst\",\"Big Data Engineer\",\"Big Data Engineer\",\"Business Data Analyst\",\"Business Data Analyst\",\"Business Data Analyst\",\"Computer Vision Engineer\",\"Computer Vision Software Engineer\",\"Computer Vision Software Engineer\",\"Data Analyst\",\"Data Analyst\",\"Data Analyst\",\"Data Analyst\",\"Data Analyst\",\"Data Analyst\",\"Data Analyst\",\"Data Analyst\",\"Data Analyst\",\"Data Analyst\",\"Data Analyst\",\"Data Analyst\",\"Data Analyst\",\"Data Analyst\",\"Data Analyst\",\"Data Analyst\",\"Data Analyst\",\"Data Analyst\",\"Data Analyst\",\"Data Analyst\",\"Data Analyst\",\"Data Analyst\",\"Data Analyst\",\"Data Analyst\",\"Data Analyst\",\"Data Analytics Lead\",\"Data Analytics Manager\",\"Data Architect\",\"Data Architect\",\"Data Architect\",\"Data Engineer\",\"Data Engineer\",\"Data Engineer\",\"Data Engineer\",\"Data Engineer\",\"Data Engineer\",\"Data Engineer\",\"Data Engineer\",\"Data Engineer\",\"Data Engineer\",\"Data Engineer\",\"Data Engineer\",\"Data Engineer\",\"Data Engineer\",\"Data Engineer\",\"Data Engineer\",\"Data Engineer\",\"Data Engineer\",\"Data Engineer\",\"Data Engineer\",\"Data Engineer\",\"Data Engineer\",\"Data Engineer\",\"Data Engineering Manager\",\"Data Science Engineer\",\"Data Scientist\",\"Data Scientist\",\"Data Scientist\",\"Data Scientist\",\"Data Scientist\",\"Data Scientist\",\"Financial Data Analyst\",\"Head of Data\",\"Head of Data Science\",\"Lead Data Analyst\",\"Lead Data Engineer\",\"Lead Data Engineer\",\"Lead Data Scientist\",\"Lead Data Scientist\",\"ML Engineer\",\"ML Engineer\",\"Machine Learning Engineer\",\"Research Scientist\",\"Research Scientist\"],\"xaxis\":\"x\",\"yaxis\":\"y\",\"type\":\"histogram\"},{\"alignmentgroup\":\"True\",\"bingroup\":\"x\",\"hovertemplate\":\"experience_level=Executive<br>job_title=%{x}<br>count=%{y}<extra></extra>\",\"legendgroup\":\"Executive\",\"marker\":{\"color\":\"#FB0D0D\",\"pattern\":{\"shape\":\"\"}},\"name\":\"Executive\",\"offsetgroup\":\"Executive\",\"orientation\":\"v\",\"showlegend\":true,\"texttemplate\":\"%{value}\",\"x\":[\"BI Data Analyst\",\"Cloud Data Engineer\",\"Data Analyst\",\"Data Analyst\",\"Data Analyst\",\"Data Analytics Manager\",\"Data Architect\",\"Data Architect\",\"Data Architect\",\"Data Engineer\",\"Data Engineer\",\"Data Engineer\",\"Data Engineer\",\"Data Science Consultant\",\"Data Science Consultant\",\"Data Science Manager\",\"Data Science Manager\",\"Data Scientist\",\"Data Scientist\",\"Data Scientist\",\"Data Scientist\",\"Data Scientist\",\"Data Scientist\",\"Data Scientist\",\"Director of Data Science\",\"Director of Data Science\"],\"xaxis\":\"x\",\"yaxis\":\"y\",\"type\":\"histogram\"}],                        {\"template\":{\"data\":{\"barpolar\":[{\"marker\":{\"line\":{\"color\":\"rgb(237,237,237)\",\"width\":0.5},\"pattern\":{\"fillmode\":\"overlay\",\"size\":10,\"solidity\":0.2}},\"type\":\"barpolar\"}],\"bar\":[{\"error_x\":{\"color\":\"rgb(51,51,51)\"},\"error_y\":{\"color\":\"rgb(51,51,51)\"},\"marker\":{\"line\":{\"color\":\"rgb(237,237,237)\",\"width\":0.5},\"pattern\":{\"fillmode\":\"overlay\",\"size\":10,\"solidity\":0.2}},\"type\":\"bar\"}],\"carpet\":[{\"aaxis\":{\"endlinecolor\":\"rgb(51,51,51)\",\"gridcolor\":\"white\",\"linecolor\":\"white\",\"minorgridcolor\":\"white\",\"startlinecolor\":\"rgb(51,51,51)\"},\"baxis\":{\"endlinecolor\":\"rgb(51,51,51)\",\"gridcolor\":\"white\",\"linecolor\":\"white\",\"minorgridcolor\":\"white\",\"startlinecolor\":\"rgb(51,51,51)\"},\"type\":\"carpet\"}],\"choropleth\":[{\"colorbar\":{\"outlinewidth\":0,\"tickcolor\":\"rgb(237,237,237)\",\"ticklen\":6,\"ticks\":\"inside\"},\"type\":\"choropleth\"}],\"contourcarpet\":[{\"colorbar\":{\"outlinewidth\":0,\"tickcolor\":\"rgb(237,237,237)\",\"ticklen\":6,\"ticks\":\"inside\"},\"type\":\"contourcarpet\"}],\"contour\":[{\"colorbar\":{\"outlinewidth\":0,\"tickcolor\":\"rgb(237,237,237)\",\"ticklen\":6,\"ticks\":\"inside\"},\"colorscale\":[[0,\"rgb(20,44,66)\"],[1,\"rgb(90,179,244)\"]],\"type\":\"contour\"}],\"heatmapgl\":[{\"colorbar\":{\"outlinewidth\":0,\"tickcolor\":\"rgb(237,237,237)\",\"ticklen\":6,\"ticks\":\"inside\"},\"colorscale\":[[0,\"rgb(20,44,66)\"],[1,\"rgb(90,179,244)\"]],\"type\":\"heatmapgl\"}],\"heatmap\":[{\"colorbar\":{\"outlinewidth\":0,\"tickcolor\":\"rgb(237,237,237)\",\"ticklen\":6,\"ticks\":\"inside\"},\"colorscale\":[[0,\"rgb(20,44,66)\"],[1,\"rgb(90,179,244)\"]],\"type\":\"heatmap\"}],\"histogram2dcontour\":[{\"colorbar\":{\"outlinewidth\":0,\"tickcolor\":\"rgb(237,237,237)\",\"ticklen\":6,\"ticks\":\"inside\"},\"colorscale\":[[0,\"rgb(20,44,66)\"],[1,\"rgb(90,179,244)\"]],\"type\":\"histogram2dcontour\"}],\"histogram2d\":[{\"colorbar\":{\"outlinewidth\":0,\"tickcolor\":\"rgb(237,237,237)\",\"ticklen\":6,\"ticks\":\"inside\"},\"colorscale\":[[0,\"rgb(20,44,66)\"],[1,\"rgb(90,179,244)\"]],\"type\":\"histogram2d\"}],\"histogram\":[{\"marker\":{\"pattern\":{\"fillmode\":\"overlay\",\"size\":10,\"solidity\":0.2}},\"type\":\"histogram\"}],\"mesh3d\":[{\"colorbar\":{\"outlinewidth\":0,\"tickcolor\":\"rgb(237,237,237)\",\"ticklen\":6,\"ticks\":\"inside\"},\"type\":\"mesh3d\"}],\"parcoords\":[{\"line\":{\"colorbar\":{\"outlinewidth\":0,\"tickcolor\":\"rgb(237,237,237)\",\"ticklen\":6,\"ticks\":\"inside\"}},\"type\":\"parcoords\"}],\"pie\":[{\"automargin\":true,\"type\":\"pie\"}],\"scatter3d\":[{\"line\":{\"colorbar\":{\"outlinewidth\":0,\"tickcolor\":\"rgb(237,237,237)\",\"ticklen\":6,\"ticks\":\"inside\"}},\"marker\":{\"colorbar\":{\"outlinewidth\":0,\"tickcolor\":\"rgb(237,237,237)\",\"ticklen\":6,\"ticks\":\"inside\"}},\"type\":\"scatter3d\"}],\"scattercarpet\":[{\"marker\":{\"colorbar\":{\"outlinewidth\":0,\"tickcolor\":\"rgb(237,237,237)\",\"ticklen\":6,\"ticks\":\"inside\"}},\"type\":\"scattercarpet\"}],\"scattergeo\":[{\"marker\":{\"colorbar\":{\"outlinewidth\":0,\"tickcolor\":\"rgb(237,237,237)\",\"ticklen\":6,\"ticks\":\"inside\"}},\"type\":\"scattergeo\"}],\"scattergl\":[{\"marker\":{\"colorbar\":{\"outlinewidth\":0,\"tickcolor\":\"rgb(237,237,237)\",\"ticklen\":6,\"ticks\":\"inside\"}},\"type\":\"scattergl\"}],\"scattermapbox\":[{\"marker\":{\"colorbar\":{\"outlinewidth\":0,\"tickcolor\":\"rgb(237,237,237)\",\"ticklen\":6,\"ticks\":\"inside\"}},\"type\":\"scattermapbox\"}],\"scatterpolargl\":[{\"marker\":{\"colorbar\":{\"outlinewidth\":0,\"tickcolor\":\"rgb(237,237,237)\",\"ticklen\":6,\"ticks\":\"inside\"}},\"type\":\"scatterpolargl\"}],\"scatterpolar\":[{\"marker\":{\"colorbar\":{\"outlinewidth\":0,\"tickcolor\":\"rgb(237,237,237)\",\"ticklen\":6,\"ticks\":\"inside\"}},\"type\":\"scatterpolar\"}],\"scatter\":[{\"marker\":{\"colorbar\":{\"outlinewidth\":0,\"tickcolor\":\"rgb(237,237,237)\",\"ticklen\":6,\"ticks\":\"inside\"}},\"type\":\"scatter\"}],\"scatterternary\":[{\"marker\":{\"colorbar\":{\"outlinewidth\":0,\"tickcolor\":\"rgb(237,237,237)\",\"ticklen\":6,\"ticks\":\"inside\"}},\"type\":\"scatterternary\"}],\"surface\":[{\"colorbar\":{\"outlinewidth\":0,\"tickcolor\":\"rgb(237,237,237)\",\"ticklen\":6,\"ticks\":\"inside\"},\"colorscale\":[[0,\"rgb(20,44,66)\"],[1,\"rgb(90,179,244)\"]],\"type\":\"surface\"}],\"table\":[{\"cells\":{\"fill\":{\"color\":\"rgb(237,237,237)\"},\"line\":{\"color\":\"white\"}},\"header\":{\"fill\":{\"color\":\"rgb(217,217,217)\"},\"line\":{\"color\":\"white\"}},\"type\":\"table\"}]},\"layout\":{\"annotationdefaults\":{\"arrowhead\":0,\"arrowwidth\":1},\"autotypenumbers\":\"strict\",\"coloraxis\":{\"colorbar\":{\"outlinewidth\":0,\"tickcolor\":\"rgb(237,237,237)\",\"ticklen\":6,\"ticks\":\"inside\"}},\"colorscale\":{\"sequential\":[[0,\"rgb(20,44,66)\"],[1,\"rgb(90,179,244)\"]],\"sequentialminus\":[[0,\"rgb(20,44,66)\"],[1,\"rgb(90,179,244)\"]]},\"colorway\":[\"#F8766D\",\"#A3A500\",\"#00BF7D\",\"#00B0F6\",\"#E76BF3\"],\"font\":{\"color\":\"rgb(51,51,51)\"},\"geo\":{\"bgcolor\":\"white\",\"lakecolor\":\"white\",\"landcolor\":\"rgb(237,237,237)\",\"showlakes\":true,\"showland\":true,\"subunitcolor\":\"white\"},\"hoverlabel\":{\"align\":\"left\"},\"hovermode\":\"closest\",\"paper_bgcolor\":\"white\",\"plot_bgcolor\":\"rgb(237,237,237)\",\"polar\":{\"angularaxis\":{\"gridcolor\":\"white\",\"linecolor\":\"white\",\"showgrid\":true,\"tickcolor\":\"rgb(51,51,51)\",\"ticks\":\"outside\"},\"bgcolor\":\"rgb(237,237,237)\",\"radialaxis\":{\"gridcolor\":\"white\",\"linecolor\":\"white\",\"showgrid\":true,\"tickcolor\":\"rgb(51,51,51)\",\"ticks\":\"outside\"}},\"scene\":{\"xaxis\":{\"backgroundcolor\":\"rgb(237,237,237)\",\"gridcolor\":\"white\",\"gridwidth\":2,\"linecolor\":\"white\",\"showbackground\":true,\"showgrid\":true,\"tickcolor\":\"rgb(51,51,51)\",\"ticks\":\"outside\",\"zerolinecolor\":\"white\"},\"yaxis\":{\"backgroundcolor\":\"rgb(237,237,237)\",\"gridcolor\":\"white\",\"gridwidth\":2,\"linecolor\":\"white\",\"showbackground\":true,\"showgrid\":true,\"tickcolor\":\"rgb(51,51,51)\",\"ticks\":\"outside\",\"zerolinecolor\":\"white\"},\"zaxis\":{\"backgroundcolor\":\"rgb(237,237,237)\",\"gridcolor\":\"white\",\"gridwidth\":2,\"linecolor\":\"white\",\"showbackground\":true,\"showgrid\":true,\"tickcolor\":\"rgb(51,51,51)\",\"ticks\":\"outside\",\"zerolinecolor\":\"white\"}},\"shapedefaults\":{\"fillcolor\":\"black\",\"line\":{\"width\":0},\"opacity\":0.3},\"ternary\":{\"aaxis\":{\"gridcolor\":\"white\",\"linecolor\":\"white\",\"showgrid\":true,\"tickcolor\":\"rgb(51,51,51)\",\"ticks\":\"outside\"},\"baxis\":{\"gridcolor\":\"white\",\"linecolor\":\"white\",\"showgrid\":true,\"tickcolor\":\"rgb(51,51,51)\",\"ticks\":\"outside\"},\"bgcolor\":\"rgb(237,237,237)\",\"caxis\":{\"gridcolor\":\"white\",\"linecolor\":\"white\",\"showgrid\":true,\"tickcolor\":\"rgb(51,51,51)\",\"ticks\":\"outside\"}},\"xaxis\":{\"automargin\":true,\"gridcolor\":\"white\",\"linecolor\":\"white\",\"showgrid\":true,\"tickcolor\":\"rgb(51,51,51)\",\"ticks\":\"outside\",\"title\":{\"standoff\":15},\"zerolinecolor\":\"white\"},\"yaxis\":{\"automargin\":true,\"gridcolor\":\"white\",\"linecolor\":\"white\",\"showgrid\":true,\"tickcolor\":\"rgb(51,51,51)\",\"ticks\":\"outside\",\"title\":{\"standoff\":15},\"zerolinecolor\":\"white\"}}},\"xaxis\":{\"anchor\":\"y\",\"domain\":[0.0,1.0],\"title\":{\"text\":\"job_title\"}},\"yaxis\":{\"anchor\":\"x\",\"domain\":[0.0,1.0],\"title\":{\"text\":\"count\"}},\"legend\":{\"title\":{\"text\":\"experience_level\"},\"tracegroupgap\":0},\"title\":{\"text\":\"Count of number of people with all experience levels in each job\"},\"barmode\":\"group\",\"height\":800},                        {\"responsive\": true}                    ).then(function(){\n",
       "                            \n",
       "var gd = document.getElementById('9c2c7772-a7b1-447c-8eae-f3687ab14b68');\n",
       "var x = new MutationObserver(function (mutations, observer) {{\n",
       "        var display = window.getComputedStyle(gd).display;\n",
       "        if (!display || display === 'none') {{\n",
       "            console.log([gd, 'removed!']);\n",
       "            Plotly.purge(gd);\n",
       "            observer.disconnect();\n",
       "        }}\n",
       "}});\n",
       "\n",
       "// Listen for the removal of the full notebook cells\n",
       "var notebookContainer = gd.closest('#notebook-container');\n",
       "if (notebookContainer) {{\n",
       "    x.observe(notebookContainer, {childList: true});\n",
       "}}\n",
       "\n",
       "// Listen for the clearing of the current output cell\n",
       "var outputEl = gd.closest('.output');\n",
       "if (outputEl) {{\n",
       "    x.observe(outputEl, {childList: true});\n",
       "}}\n",
       "\n",
       "                        })                };                });            </script>        </div>"
      ]
     },
     "metadata": {},
     "output_type": "display_data"
    }
   ],
   "source": [
    "#checking the distribution of different job titles and theexperince level\n",
    "px.histogram(df, x=df.job_title.sort_values(), color = 'experience_level', height = 800, barmode = 'group',\n",
    "             labels={\"x\": \"job_title\",\n",
    "                 \"y\": \"count\"\n",
    "                 \n",
    "             },\n",
    "             color_discrete_sequence=px.colors.qualitative.Dark24, template = 'ggplot2',\n",
    "             text_auto  = True, title = 'Count of number of people with all experience levels in each job')"
   ]
  },
  {
   "cell_type": "markdown",
   "id": "eabaaaae",
   "metadata": {},
   "source": [
    "* Employees with title 'Data Scientist' is high.\n",
    "* Very less jobs for Entry and Executive level.\n",
    "* Most of the jobs are for Senior and Mid level in almost Job Titles"
   ]
  },
  {
   "cell_type": "code",
   "execution_count": 21,
   "id": "59c9292e",
   "metadata": {},
   "outputs": [
    {
     "data": {
      "application/vnd.plotly.v1+json": {
       "config": {
        "plotlyServerURL": "https://plot.ly"
       },
       "data": [
        {
         "hovertemplate": "Work Type=On-site<br>Employee Residence=%{x}<br>Company Location=%{y}<extra></extra>",
         "legendgroup": "On-site",
         "marker": {
          "color": "#FD3216",
          "symbol": "circle"
         },
         "mode": "markers",
         "name": "On-site",
         "orientation": "v",
         "showlegend": true,
         "type": "scatter",
         "x": [
          "AE",
          "AE",
          "AR",
          "BE",
          "BE",
          "BG",
          "CA",
          "CA",
          "CA",
          "CA",
          "CA",
          "CA",
          "CL",
          "DE",
          "DE",
          "ES",
          "FR",
          "FR",
          "FR",
          "GB",
          "GB",
          "GB",
          "GB",
          "GB",
          "GB",
          "GB",
          "GR",
          "GR",
          "HU",
          "IN",
          "IN",
          "IN",
          "IN",
          "IN",
          "IN",
          "IQ",
          "IT",
          "JP",
          "MX",
          "NL",
          "PH",
          "PL",
          "RU",
          "SG",
          "SI",
          "TN",
          "UA",
          "US",
          "US",
          "US",
          "US",
          "US",
          "US",
          "US",
          "US",
          "US",
          "US",
          "US",
          "US",
          "US",
          "US",
          "US",
          "US",
          "US",
          "US",
          "US",
          "US",
          "US",
          "US",
          "US",
          "US",
          "US",
          "US",
          "US",
          "US",
          "US",
          "US",
          "US",
          "US",
          "US",
          "US",
          "US",
          "US",
          "US",
          "US",
          "US",
          "US",
          "US",
          "US",
          "US",
          "US",
          "US",
          "US",
          "US",
          "US",
          "US",
          "US",
          "US",
          "US",
          "US",
          "US",
          "US",
          "US",
          "US",
          "US",
          "US",
          "US",
          "US",
          "US",
          "US",
          "US",
          "US",
          "US",
          "US",
          "US",
          "US",
          "US",
          "US",
          "US",
          "US",
          "US",
          "US",
          "US",
          "US",
          "US",
          "US",
          "VN"
         ],
         "xaxis": "x",
         "y": [
          "AE",
          "AE",
          "AS",
          "AU",
          "BE",
          "BE",
          "CA",
          "CA",
          "CA",
          "CA",
          "CA",
          "CA",
          "CN",
          "DE",
          "DE",
          "ES",
          "ES",
          "FR",
          "FR",
          "GB",
          "GB",
          "GB",
          "GB",
          "GB",
          "GB",
          "GB",
          "GB",
          "GR",
          "HU",
          "IN",
          "IN",
          "IN",
          "IT",
          "JP",
          "JP",
          "JP",
          "KE",
          "MY",
          "NL",
          "PL",
          "PT",
          "TR",
          "US",
          "US",
          "US",
          "US",
          "US",
          "US",
          "US",
          "US",
          "US",
          "US",
          "US",
          "US",
          "US",
          "US",
          "US",
          "US",
          "US",
          "US",
          "US",
          "US",
          "US",
          "US",
          "US",
          "US",
          "US",
          "US",
          "US",
          "US",
          "US",
          "US",
          "US",
          "US",
          "US",
          "US",
          "US",
          "US",
          "US",
          "US",
          "US",
          "US",
          "US",
          "US",
          "US",
          "US",
          "US",
          "US",
          "US",
          "US",
          "US",
          "US",
          "US",
          "US",
          "US",
          "US",
          "US",
          "US",
          "US",
          "US",
          "US",
          "US",
          "US",
          "US",
          "US",
          "US",
          "US",
          "US",
          "US",
          "US",
          "US",
          "US",
          "US",
          "US",
          "US",
          "US",
          "US",
          "US",
          "US",
          "US",
          "US",
          "US",
          "US",
          "US",
          "US",
          "US",
          "US"
         ],
         "yaxis": "y"
        },
        {
         "hovertemplate": "Work Type=Hybrid<br>Employee Residence=%{x}<br>Company Location=%{y}<extra></extra>",
         "legendgroup": "Hybrid",
         "marker": {
          "color": "#00FE35",
          "symbol": "circle"
         },
         "mode": "markers",
         "name": "Hybrid",
         "orientation": "v",
         "showlegend": true,
         "type": "scatter",
         "x": [
          "AE",
          "AT",
          "AU",
          "AU",
          "BR",
          "BR",
          "CA",
          "CA",
          "CA",
          "CA",
          "CA",
          "CA",
          "CA",
          "CA",
          "CH",
          "CO",
          "DE",
          "DE",
          "DE",
          "DE",
          "DE",
          "DE",
          "DE",
          "DE",
          "EE",
          "ES",
          "ES",
          "ES",
          "FR",
          "FR",
          "FR",
          "GB",
          "GB",
          "GB",
          "GB",
          "GB",
          "GB",
          "GB",
          "GB",
          "GB",
          "GB",
          "GB",
          "GB",
          "GR",
          "GR",
          "GR",
          "GR",
          "GR",
          "HN",
          "IE",
          "IN",
          "IN",
          "IN",
          "IN",
          "IN",
          "IN",
          "IN",
          "IN",
          "IN",
          "IN",
          "IR",
          "IT",
          "IT",
          "IT",
          "JP",
          "JP",
          "JP",
          "KE",
          "MX",
          "PK",
          "PL",
          "PL",
          "PL",
          "PT",
          "PT",
          "RS",
          "RU",
          "RU",
          "SI",
          "TR",
          "US",
          "US",
          "US",
          "US",
          "US",
          "US",
          "US",
          "US",
          "US",
          "US",
          "US",
          "US",
          "US",
          "US",
          "US",
          "US",
          "US",
          "US",
          "US"
         ],
         "xaxis": "x",
         "y": [
          "AE",
          "AT",
          "AT",
          "AU",
          "BR",
          "CA",
          "CA",
          "CA",
          "CA",
          "CA",
          "CA",
          "CA",
          "CA",
          "CA",
          "CN",
          "CZ",
          "DE",
          "DE",
          "DE",
          "DE",
          "DE",
          "DE",
          "DE",
          "DE",
          "DK",
          "EE",
          "ES",
          "ES",
          "FR",
          "FR",
          "FR",
          "GB",
          "GB",
          "GB",
          "GB",
          "GB",
          "GB",
          "GB",
          "GB",
          "GB",
          "GB",
          "GB",
          "GB",
          "GB",
          "GB",
          "GR",
          "GR",
          "GR",
          "HN",
          "IL",
          "IN",
          "IN",
          "IN",
          "IN",
          "IN",
          "IN",
          "IN",
          "IN",
          "IN",
          "IN",
          "JP",
          "JP",
          "JP",
          "LU",
          "LU",
          "MD",
          "MX",
          "NG",
          "NL",
          "PT",
          "SI",
          "SI",
          "TR",
          "UA",
          "US",
          "US",
          "US",
          "US",
          "US",
          "US",
          "US",
          "US",
          "US",
          "US",
          "US",
          "US",
          "US",
          "US",
          "US",
          "US",
          "US",
          "US",
          "US",
          "US",
          "US",
          "US",
          "US",
          "US",
          "US"
         ],
         "yaxis": "y"
        },
        {
         "hovertemplate": "Work Type=Remote<br>Employee Residence=%{x}<br>Company Location=%{y}<extra></extra>",
         "legendgroup": "Remote",
         "marker": {
          "color": "#6A76FC",
          "symbol": "circle"
         },
         "mode": "markers",
         "name": "Remote",
         "orientation": "v",
         "showlegend": true,
         "type": "scatter",
         "x": [
          "AT",
          "AT",
          "AU",
          "BO",
          "BR",
          "BR",
          "BR",
          "BR",
          "CA",
          "CA",
          "CA",
          "CA",
          "CA",
          "CA",
          "CA",
          "CA",
          "CA",
          "CA",
          "CA",
          "CA",
          "CA",
          "CA",
          "CA",
          "CN",
          "CZ",
          "DE",
          "DE",
          "DE",
          "DE",
          "DE",
          "DE",
          "DE",
          "DE",
          "DE",
          "DE",
          "DE",
          "DE",
          "DE",
          "DE",
          "DE",
          "DK",
          "DK",
          "DZ",
          "ES",
          "ES",
          "ES",
          "ES",
          "ES",
          "ES",
          "ES",
          "ES",
          "ES",
          "ES",
          "ES",
          "FR",
          "FR",
          "FR",
          "FR",
          "FR",
          "FR",
          "FR",
          "FR",
          "FR",
          "FR",
          "FR",
          "FR",
          "GB",
          "GB",
          "GB",
          "GB",
          "GB",
          "GB",
          "GB",
          "GB",
          "GB",
          "GB",
          "GB",
          "GB",
          "GB",
          "GB",
          "GB",
          "GB",
          "GB",
          "GB",
          "GB",
          "GB",
          "GB",
          "GB",
          "GB",
          "GB",
          "GB",
          "GR",
          "GR",
          "GR",
          "GR",
          "GR",
          "GR",
          "HK",
          "HR",
          "HU",
          "IN",
          "IN",
          "IN",
          "IN",
          "IN",
          "IN",
          "IN",
          "IN",
          "IN",
          "IN",
          "IN",
          "IN",
          "IN",
          "IN",
          "JE",
          "JP",
          "JP",
          "JP",
          "LU",
          "MD",
          "MT",
          "MY",
          "NG",
          "NG",
          "NL",
          "NL",
          "NL",
          "NL",
          "NZ",
          "PK",
          "PK",
          "PK",
          "PK",
          "PK",
          "PR",
          "PT",
          "PT",
          "PT",
          "PT",
          "RO",
          "RO",
          "RU",
          "SG",
          "TR",
          "TR",
          "US",
          "US",
          "US",
          "US",
          "US",
          "US",
          "US",
          "US",
          "US",
          "US",
          "US",
          "US",
          "US",
          "US",
          "US",
          "US",
          "US",
          "US",
          "US",
          "US",
          "US",
          "US",
          "US",
          "US",
          "US",
          "US",
          "US",
          "US",
          "US",
          "US",
          "US",
          "US",
          "US",
          "US",
          "US",
          "US",
          "US",
          "US",
          "US",
          "US",
          "US",
          "US",
          "US",
          "US",
          "US",
          "US",
          "US",
          "US",
          "US",
          "US",
          "US",
          "US",
          "US",
          "US",
          "US",
          "US",
          "US",
          "US",
          "US",
          "US",
          "US",
          "US",
          "US",
          "US",
          "US",
          "US",
          "US",
          "US",
          "US",
          "US",
          "US",
          "US",
          "US",
          "US",
          "US",
          "US",
          "US",
          "US",
          "US",
          "US",
          "US",
          "US",
          "US",
          "US",
          "US",
          "US",
          "US",
          "US",
          "US",
          "US",
          "US",
          "US",
          "US",
          "US",
          "US",
          "US",
          "US",
          "US",
          "US",
          "US",
          "US",
          "US",
          "US",
          "US",
          "US",
          "US",
          "US",
          "US",
          "US",
          "US",
          "US",
          "US",
          "US",
          "US",
          "US",
          "US",
          "US",
          "US",
          "US",
          "US",
          "US",
          "US",
          "US",
          "US",
          "US",
          "US",
          "US",
          "US",
          "US",
          "US",
          "US",
          "US",
          "US",
          "US",
          "US",
          "US",
          "US",
          "US",
          "US",
          "US",
          "US",
          "US",
          "US",
          "US",
          "US",
          "US",
          "US",
          "US",
          "US",
          "US",
          "US",
          "US",
          "US",
          "US",
          "US",
          "US",
          "US",
          "US",
          "US",
          "US",
          "US",
          "US",
          "US",
          "US",
          "US",
          "US",
          "US",
          "US",
          "US",
          "US",
          "US",
          "US",
          "US",
          "US",
          "US",
          "US",
          "US",
          "US",
          "US",
          "US",
          "US",
          "US",
          "US",
          "US",
          "US",
          "US",
          "US",
          "US",
          "US",
          "US",
          "US",
          "US",
          "US",
          "US",
          "US",
          "US",
          "US",
          "US",
          "US",
          "US",
          "US",
          "US",
          "US",
          "US",
          "US",
          "US",
          "US",
          "US",
          "US",
          "US",
          "US",
          "US",
          "US",
          "US",
          "US",
          "US",
          "US",
          "US",
          "US",
          "US",
          "US",
          "US",
          "US",
          "US",
          "US",
          "US",
          "US",
          "US",
          "US",
          "US",
          "US",
          "US",
          "US",
          "US",
          "VN",
          "VN"
         ],
         "xaxis": "x",
         "y": [
          "AT",
          "AT",
          "AU",
          "BR",
          "BR",
          "CA",
          "CA",
          "CA",
          "CA",
          "CA",
          "CA",
          "CA",
          "CA",
          "CA",
          "CA",
          "CA",
          "CA",
          "CA",
          "CA",
          "CA",
          "CH",
          "CH",
          "CL",
          "CO",
          "CZ",
          "DE",
          "DE",
          "DE",
          "DE",
          "DE",
          "DE",
          "DE",
          "DE",
          "DE",
          "DE",
          "DE",
          "DE",
          "DE",
          "DE",
          "DE",
          "DE",
          "DE",
          "DE",
          "DK",
          "DK",
          "DZ",
          "ES",
          "ES",
          "ES",
          "ES",
          "ES",
          "ES",
          "ES",
          "ES",
          "ES",
          "ES",
          "FR",
          "FR",
          "FR",
          "FR",
          "FR",
          "FR",
          "FR",
          "FR",
          "FR",
          "FR",
          "GB",
          "GB",
          "GB",
          "GB",
          "GB",
          "GB",
          "GB",
          "GB",
          "GB",
          "GB",
          "GB",
          "GB",
          "GB",
          "GB",
          "GB",
          "GB",
          "GB",
          "GB",
          "GB",
          "GB",
          "GB",
          "GB",
          "GB",
          "GB",
          "GB",
          "GR",
          "GR",
          "GR",
          "GR",
          "GR",
          "GR",
          "GR",
          "HR",
          "IE",
          "IN",
          "IN",
          "IN",
          "IN",
          "IN",
          "IN",
          "IN",
          "IN",
          "IN",
          "IN",
          "IN",
          "IQ",
          "IR",
          "IT",
          "LU",
          "MT",
          "MX",
          "MX",
          "NG",
          "NL",
          "NL",
          "NZ",
          "PK",
          "PK",
          "PK",
          "PL",
          "PL",
          "PL",
          "PT",
          "PT",
          "RO",
          "RU",
          "RU",
          "SG",
          "TR",
          "US",
          "US",
          "US",
          "US",
          "US",
          "US",
          "US",
          "US",
          "US",
          "US",
          "US",
          "US",
          "US",
          "US",
          "US",
          "US",
          "US",
          "US",
          "US",
          "US",
          "US",
          "US",
          "US",
          "US",
          "US",
          "US",
          "US",
          "US",
          "US",
          "US",
          "US",
          "US",
          "US",
          "US",
          "US",
          "US",
          "US",
          "US",
          "US",
          "US",
          "US",
          "US",
          "US",
          "US",
          "US",
          "US",
          "US",
          "US",
          "US",
          "US",
          "US",
          "US",
          "US",
          "US",
          "US",
          "US",
          "US",
          "US",
          "US",
          "US",
          "US",
          "US",
          "US",
          "US",
          "US",
          "US",
          "US",
          "US",
          "US",
          "US",
          "US",
          "US",
          "US",
          "US",
          "US",
          "US",
          "US",
          "US",
          "US",
          "US",
          "US",
          "US",
          "US",
          "US",
          "US",
          "US",
          "US",
          "US",
          "US",
          "US",
          "US",
          "US",
          "US",
          "US",
          "US",
          "US",
          "US",
          "US",
          "US",
          "US",
          "US",
          "US",
          "US",
          "US",
          "US",
          "US",
          "US",
          "US",
          "US",
          "US",
          "US",
          "US",
          "US",
          "US",
          "US",
          "US",
          "US",
          "US",
          "US",
          "US",
          "US",
          "US",
          "US",
          "US",
          "US",
          "US",
          "US",
          "US",
          "US",
          "US",
          "US",
          "US",
          "US",
          "US",
          "US",
          "US",
          "US",
          "US",
          "US",
          "US",
          "US",
          "US",
          "US",
          "US",
          "US",
          "US",
          "US",
          "US",
          "US",
          "US",
          "US",
          "US",
          "US",
          "US",
          "US",
          "US",
          "US",
          "US",
          "US",
          "US",
          "US",
          "US",
          "US",
          "US",
          "US",
          "US",
          "US",
          "US",
          "US",
          "US",
          "US",
          "US",
          "US",
          "US",
          "US",
          "US",
          "US",
          "US",
          "US",
          "US",
          "US",
          "US",
          "US",
          "US",
          "US",
          "US",
          "US",
          "US",
          "US",
          "US",
          "US",
          "US",
          "US",
          "US",
          "US",
          "US",
          "US",
          "US",
          "US",
          "US",
          "US",
          "US",
          "US",
          "US",
          "US",
          "US",
          "US",
          "US",
          "US",
          "US",
          "US",
          "US",
          "US",
          "US",
          "US",
          "US",
          "US",
          "US",
          "US",
          "US",
          "US",
          "US",
          "US",
          "US",
          "US",
          "US",
          "US",
          "US",
          "US",
          "US",
          "US",
          "US",
          "US",
          "US",
          "US",
          "US",
          "US",
          "US",
          "US",
          "US",
          "US",
          "US",
          "US",
          "US",
          "US",
          "VN"
         ],
         "yaxis": "y"
        }
       ],
       "layout": {
        "legend": {
         "title": {
          "text": "Work Type"
         },
         "tracegroupgap": 0
        },
        "template": {
         "data": {
          "bar": [
           {
            "error_x": {
             "color": "rgb(51,51,51)"
            },
            "error_y": {
             "color": "rgb(51,51,51)"
            },
            "marker": {
             "line": {
              "color": "rgb(237,237,237)",
              "width": 0.5
             },
             "pattern": {
              "fillmode": "overlay",
              "size": 10,
              "solidity": 0.2
             }
            },
            "type": "bar"
           }
          ],
          "barpolar": [
           {
            "marker": {
             "line": {
              "color": "rgb(237,237,237)",
              "width": 0.5
             },
             "pattern": {
              "fillmode": "overlay",
              "size": 10,
              "solidity": 0.2
             }
            },
            "type": "barpolar"
           }
          ],
          "carpet": [
           {
            "aaxis": {
             "endlinecolor": "rgb(51,51,51)",
             "gridcolor": "white",
             "linecolor": "white",
             "minorgridcolor": "white",
             "startlinecolor": "rgb(51,51,51)"
            },
            "baxis": {
             "endlinecolor": "rgb(51,51,51)",
             "gridcolor": "white",
             "linecolor": "white",
             "minorgridcolor": "white",
             "startlinecolor": "rgb(51,51,51)"
            },
            "type": "carpet"
           }
          ],
          "choropleth": [
           {
            "colorbar": {
             "outlinewidth": 0,
             "tickcolor": "rgb(237,237,237)",
             "ticklen": 6,
             "ticks": "inside"
            },
            "type": "choropleth"
           }
          ],
          "contour": [
           {
            "colorbar": {
             "outlinewidth": 0,
             "tickcolor": "rgb(237,237,237)",
             "ticklen": 6,
             "ticks": "inside"
            },
            "colorscale": [
             [
              0,
              "rgb(20,44,66)"
             ],
             [
              1,
              "rgb(90,179,244)"
             ]
            ],
            "type": "contour"
           }
          ],
          "contourcarpet": [
           {
            "colorbar": {
             "outlinewidth": 0,
             "tickcolor": "rgb(237,237,237)",
             "ticklen": 6,
             "ticks": "inside"
            },
            "type": "contourcarpet"
           }
          ],
          "heatmap": [
           {
            "colorbar": {
             "outlinewidth": 0,
             "tickcolor": "rgb(237,237,237)",
             "ticklen": 6,
             "ticks": "inside"
            },
            "colorscale": [
             [
              0,
              "rgb(20,44,66)"
             ],
             [
              1,
              "rgb(90,179,244)"
             ]
            ],
            "type": "heatmap"
           }
          ],
          "heatmapgl": [
           {
            "colorbar": {
             "outlinewidth": 0,
             "tickcolor": "rgb(237,237,237)",
             "ticklen": 6,
             "ticks": "inside"
            },
            "colorscale": [
             [
              0,
              "rgb(20,44,66)"
             ],
             [
              1,
              "rgb(90,179,244)"
             ]
            ],
            "type": "heatmapgl"
           }
          ],
          "histogram": [
           {
            "marker": {
             "pattern": {
              "fillmode": "overlay",
              "size": 10,
              "solidity": 0.2
             }
            },
            "type": "histogram"
           }
          ],
          "histogram2d": [
           {
            "colorbar": {
             "outlinewidth": 0,
             "tickcolor": "rgb(237,237,237)",
             "ticklen": 6,
             "ticks": "inside"
            },
            "colorscale": [
             [
              0,
              "rgb(20,44,66)"
             ],
             [
              1,
              "rgb(90,179,244)"
             ]
            ],
            "type": "histogram2d"
           }
          ],
          "histogram2dcontour": [
           {
            "colorbar": {
             "outlinewidth": 0,
             "tickcolor": "rgb(237,237,237)",
             "ticklen": 6,
             "ticks": "inside"
            },
            "colorscale": [
             [
              0,
              "rgb(20,44,66)"
             ],
             [
              1,
              "rgb(90,179,244)"
             ]
            ],
            "type": "histogram2dcontour"
           }
          ],
          "mesh3d": [
           {
            "colorbar": {
             "outlinewidth": 0,
             "tickcolor": "rgb(237,237,237)",
             "ticklen": 6,
             "ticks": "inside"
            },
            "type": "mesh3d"
           }
          ],
          "parcoords": [
           {
            "line": {
             "colorbar": {
              "outlinewidth": 0,
              "tickcolor": "rgb(237,237,237)",
              "ticklen": 6,
              "ticks": "inside"
             }
            },
            "type": "parcoords"
           }
          ],
          "pie": [
           {
            "automargin": true,
            "type": "pie"
           }
          ],
          "scatter": [
           {
            "marker": {
             "colorbar": {
              "outlinewidth": 0,
              "tickcolor": "rgb(237,237,237)",
              "ticklen": 6,
              "ticks": "inside"
             }
            },
            "type": "scatter"
           }
          ],
          "scatter3d": [
           {
            "line": {
             "colorbar": {
              "outlinewidth": 0,
              "tickcolor": "rgb(237,237,237)",
              "ticklen": 6,
              "ticks": "inside"
             }
            },
            "marker": {
             "colorbar": {
              "outlinewidth": 0,
              "tickcolor": "rgb(237,237,237)",
              "ticklen": 6,
              "ticks": "inside"
             }
            },
            "type": "scatter3d"
           }
          ],
          "scattercarpet": [
           {
            "marker": {
             "colorbar": {
              "outlinewidth": 0,
              "tickcolor": "rgb(237,237,237)",
              "ticklen": 6,
              "ticks": "inside"
             }
            },
            "type": "scattercarpet"
           }
          ],
          "scattergeo": [
           {
            "marker": {
             "colorbar": {
              "outlinewidth": 0,
              "tickcolor": "rgb(237,237,237)",
              "ticklen": 6,
              "ticks": "inside"
             }
            },
            "type": "scattergeo"
           }
          ],
          "scattergl": [
           {
            "marker": {
             "colorbar": {
              "outlinewidth": 0,
              "tickcolor": "rgb(237,237,237)",
              "ticklen": 6,
              "ticks": "inside"
             }
            },
            "type": "scattergl"
           }
          ],
          "scattermapbox": [
           {
            "marker": {
             "colorbar": {
              "outlinewidth": 0,
              "tickcolor": "rgb(237,237,237)",
              "ticklen": 6,
              "ticks": "inside"
             }
            },
            "type": "scattermapbox"
           }
          ],
          "scatterpolar": [
           {
            "marker": {
             "colorbar": {
              "outlinewidth": 0,
              "tickcolor": "rgb(237,237,237)",
              "ticklen": 6,
              "ticks": "inside"
             }
            },
            "type": "scatterpolar"
           }
          ],
          "scatterpolargl": [
           {
            "marker": {
             "colorbar": {
              "outlinewidth": 0,
              "tickcolor": "rgb(237,237,237)",
              "ticklen": 6,
              "ticks": "inside"
             }
            },
            "type": "scatterpolargl"
           }
          ],
          "scatterternary": [
           {
            "marker": {
             "colorbar": {
              "outlinewidth": 0,
              "tickcolor": "rgb(237,237,237)",
              "ticklen": 6,
              "ticks": "inside"
             }
            },
            "type": "scatterternary"
           }
          ],
          "surface": [
           {
            "colorbar": {
             "outlinewidth": 0,
             "tickcolor": "rgb(237,237,237)",
             "ticklen": 6,
             "ticks": "inside"
            },
            "colorscale": [
             [
              0,
              "rgb(20,44,66)"
             ],
             [
              1,
              "rgb(90,179,244)"
             ]
            ],
            "type": "surface"
           }
          ],
          "table": [
           {
            "cells": {
             "fill": {
              "color": "rgb(237,237,237)"
             },
             "line": {
              "color": "white"
             }
            },
            "header": {
             "fill": {
              "color": "rgb(217,217,217)"
             },
             "line": {
              "color": "white"
             }
            },
            "type": "table"
           }
          ]
         },
         "layout": {
          "annotationdefaults": {
           "arrowhead": 0,
           "arrowwidth": 1
          },
          "autotypenumbers": "strict",
          "coloraxis": {
           "colorbar": {
            "outlinewidth": 0,
            "tickcolor": "rgb(237,237,237)",
            "ticklen": 6,
            "ticks": "inside"
           }
          },
          "colorscale": {
           "sequential": [
            [
             0,
             "rgb(20,44,66)"
            ],
            [
             1,
             "rgb(90,179,244)"
            ]
           ],
           "sequentialminus": [
            [
             0,
             "rgb(20,44,66)"
            ],
            [
             1,
             "rgb(90,179,244)"
            ]
           ]
          },
          "colorway": [
           "#F8766D",
           "#A3A500",
           "#00BF7D",
           "#00B0F6",
           "#E76BF3"
          ],
          "font": {
           "color": "rgb(51,51,51)"
          },
          "geo": {
           "bgcolor": "white",
           "lakecolor": "white",
           "landcolor": "rgb(237,237,237)",
           "showlakes": true,
           "showland": true,
           "subunitcolor": "white"
          },
          "hoverlabel": {
           "align": "left"
          },
          "hovermode": "closest",
          "paper_bgcolor": "white",
          "plot_bgcolor": "rgb(237,237,237)",
          "polar": {
           "angularaxis": {
            "gridcolor": "white",
            "linecolor": "white",
            "showgrid": true,
            "tickcolor": "rgb(51,51,51)",
            "ticks": "outside"
           },
           "bgcolor": "rgb(237,237,237)",
           "radialaxis": {
            "gridcolor": "white",
            "linecolor": "white",
            "showgrid": true,
            "tickcolor": "rgb(51,51,51)",
            "ticks": "outside"
           }
          },
          "scene": {
           "xaxis": {
            "backgroundcolor": "rgb(237,237,237)",
            "gridcolor": "white",
            "gridwidth": 2,
            "linecolor": "white",
            "showbackground": true,
            "showgrid": true,
            "tickcolor": "rgb(51,51,51)",
            "ticks": "outside",
            "zerolinecolor": "white"
           },
           "yaxis": {
            "backgroundcolor": "rgb(237,237,237)",
            "gridcolor": "white",
            "gridwidth": 2,
            "linecolor": "white",
            "showbackground": true,
            "showgrid": true,
            "tickcolor": "rgb(51,51,51)",
            "ticks": "outside",
            "zerolinecolor": "white"
           },
           "zaxis": {
            "backgroundcolor": "rgb(237,237,237)",
            "gridcolor": "white",
            "gridwidth": 2,
            "linecolor": "white",
            "showbackground": true,
            "showgrid": true,
            "tickcolor": "rgb(51,51,51)",
            "ticks": "outside",
            "zerolinecolor": "white"
           }
          },
          "shapedefaults": {
           "fillcolor": "black",
           "line": {
            "width": 0
           },
           "opacity": 0.3
          },
          "ternary": {
           "aaxis": {
            "gridcolor": "white",
            "linecolor": "white",
            "showgrid": true,
            "tickcolor": "rgb(51,51,51)",
            "ticks": "outside"
           },
           "baxis": {
            "gridcolor": "white",
            "linecolor": "white",
            "showgrid": true,
            "tickcolor": "rgb(51,51,51)",
            "ticks": "outside"
           },
           "bgcolor": "rgb(237,237,237)",
           "caxis": {
            "gridcolor": "white",
            "linecolor": "white",
            "showgrid": true,
            "tickcolor": "rgb(51,51,51)",
            "ticks": "outside"
           }
          },
          "xaxis": {
           "automargin": true,
           "gridcolor": "white",
           "linecolor": "white",
           "showgrid": true,
           "tickcolor": "rgb(51,51,51)",
           "ticks": "outside",
           "title": {
            "standoff": 15
           },
           "zerolinecolor": "white"
          },
          "yaxis": {
           "automargin": true,
           "gridcolor": "white",
           "linecolor": "white",
           "showgrid": true,
           "tickcolor": "rgb(51,51,51)",
           "ticks": "outside",
           "title": {
            "standoff": 15
           },
           "zerolinecolor": "white"
          }
         }
        },
        "title": {
         "text": "Company Location VS Employee Residence for type of work(Remote, Hybrid or On-site)"
        },
        "xaxis": {
         "anchor": "y",
         "domain": [
          0,
          1
         ],
         "title": {
          "text": "Employee Residence"
         }
        },
        "yaxis": {
         "anchor": "x",
         "domain": [
          0,
          1
         ],
         "title": {
          "text": "Company Location"
         }
        }
       }
      },
      "text/html": [
       "<div>                            <div id=\"d71beddf-380a-402e-8fc2-5468e0fd2709\" class=\"plotly-graph-div\" style=\"height:525px; width:100%;\"></div>            <script type=\"text/javascript\">                require([\"plotly\"], function(Plotly) {                    window.PLOTLYENV=window.PLOTLYENV || {};                                    if (document.getElementById(\"d71beddf-380a-402e-8fc2-5468e0fd2709\")) {                    Plotly.newPlot(                        \"d71beddf-380a-402e-8fc2-5468e0fd2709\",                        [{\"hovertemplate\":\"Work Type=On-site<br>Employee Residence=%{x}<br>Company Location=%{y}<extra></extra>\",\"legendgroup\":\"On-site\",\"marker\":{\"color\":\"#FD3216\",\"symbol\":\"circle\"},\"mode\":\"markers\",\"name\":\"On-site\",\"orientation\":\"v\",\"showlegend\":true,\"x\":[\"AE\",\"AE\",\"AR\",\"BE\",\"BE\",\"BG\",\"CA\",\"CA\",\"CA\",\"CA\",\"CA\",\"CA\",\"CL\",\"DE\",\"DE\",\"ES\",\"FR\",\"FR\",\"FR\",\"GB\",\"GB\",\"GB\",\"GB\",\"GB\",\"GB\",\"GB\",\"GR\",\"GR\",\"HU\",\"IN\",\"IN\",\"IN\",\"IN\",\"IN\",\"IN\",\"IQ\",\"IT\",\"JP\",\"MX\",\"NL\",\"PH\",\"PL\",\"RU\",\"SG\",\"SI\",\"TN\",\"UA\",\"US\",\"US\",\"US\",\"US\",\"US\",\"US\",\"US\",\"US\",\"US\",\"US\",\"US\",\"US\",\"US\",\"US\",\"US\",\"US\",\"US\",\"US\",\"US\",\"US\",\"US\",\"US\",\"US\",\"US\",\"US\",\"US\",\"US\",\"US\",\"US\",\"US\",\"US\",\"US\",\"US\",\"US\",\"US\",\"US\",\"US\",\"US\",\"US\",\"US\",\"US\",\"US\",\"US\",\"US\",\"US\",\"US\",\"US\",\"US\",\"US\",\"US\",\"US\",\"US\",\"US\",\"US\",\"US\",\"US\",\"US\",\"US\",\"US\",\"US\",\"US\",\"US\",\"US\",\"US\",\"US\",\"US\",\"US\",\"US\",\"US\",\"US\",\"US\",\"US\",\"US\",\"US\",\"US\",\"US\",\"US\",\"US\",\"US\",\"VN\"],\"xaxis\":\"x\",\"y\":[\"AE\",\"AE\",\"AS\",\"AU\",\"BE\",\"BE\",\"CA\",\"CA\",\"CA\",\"CA\",\"CA\",\"CA\",\"CN\",\"DE\",\"DE\",\"ES\",\"ES\",\"FR\",\"FR\",\"GB\",\"GB\",\"GB\",\"GB\",\"GB\",\"GB\",\"GB\",\"GB\",\"GR\",\"HU\",\"IN\",\"IN\",\"IN\",\"IT\",\"JP\",\"JP\",\"JP\",\"KE\",\"MY\",\"NL\",\"PL\",\"PT\",\"TR\",\"US\",\"US\",\"US\",\"US\",\"US\",\"US\",\"US\",\"US\",\"US\",\"US\",\"US\",\"US\",\"US\",\"US\",\"US\",\"US\",\"US\",\"US\",\"US\",\"US\",\"US\",\"US\",\"US\",\"US\",\"US\",\"US\",\"US\",\"US\",\"US\",\"US\",\"US\",\"US\",\"US\",\"US\",\"US\",\"US\",\"US\",\"US\",\"US\",\"US\",\"US\",\"US\",\"US\",\"US\",\"US\",\"US\",\"US\",\"US\",\"US\",\"US\",\"US\",\"US\",\"US\",\"US\",\"US\",\"US\",\"US\",\"US\",\"US\",\"US\",\"US\",\"US\",\"US\",\"US\",\"US\",\"US\",\"US\",\"US\",\"US\",\"US\",\"US\",\"US\",\"US\",\"US\",\"US\",\"US\",\"US\",\"US\",\"US\",\"US\",\"US\",\"US\",\"US\",\"US\",\"US\"],\"yaxis\":\"y\",\"type\":\"scatter\"},{\"hovertemplate\":\"Work Type=Hybrid<br>Employee Residence=%{x}<br>Company Location=%{y}<extra></extra>\",\"legendgroup\":\"Hybrid\",\"marker\":{\"color\":\"#00FE35\",\"symbol\":\"circle\"},\"mode\":\"markers\",\"name\":\"Hybrid\",\"orientation\":\"v\",\"showlegend\":true,\"x\":[\"AE\",\"AT\",\"AU\",\"AU\",\"BR\",\"BR\",\"CA\",\"CA\",\"CA\",\"CA\",\"CA\",\"CA\",\"CA\",\"CA\",\"CH\",\"CO\",\"DE\",\"DE\",\"DE\",\"DE\",\"DE\",\"DE\",\"DE\",\"DE\",\"EE\",\"ES\",\"ES\",\"ES\",\"FR\",\"FR\",\"FR\",\"GB\",\"GB\",\"GB\",\"GB\",\"GB\",\"GB\",\"GB\",\"GB\",\"GB\",\"GB\",\"GB\",\"GB\",\"GR\",\"GR\",\"GR\",\"GR\",\"GR\",\"HN\",\"IE\",\"IN\",\"IN\",\"IN\",\"IN\",\"IN\",\"IN\",\"IN\",\"IN\",\"IN\",\"IN\",\"IR\",\"IT\",\"IT\",\"IT\",\"JP\",\"JP\",\"JP\",\"KE\",\"MX\",\"PK\",\"PL\",\"PL\",\"PL\",\"PT\",\"PT\",\"RS\",\"RU\",\"RU\",\"SI\",\"TR\",\"US\",\"US\",\"US\",\"US\",\"US\",\"US\",\"US\",\"US\",\"US\",\"US\",\"US\",\"US\",\"US\",\"US\",\"US\",\"US\",\"US\",\"US\",\"US\"],\"xaxis\":\"x\",\"y\":[\"AE\",\"AT\",\"AT\",\"AU\",\"BR\",\"CA\",\"CA\",\"CA\",\"CA\",\"CA\",\"CA\",\"CA\",\"CA\",\"CA\",\"CN\",\"CZ\",\"DE\",\"DE\",\"DE\",\"DE\",\"DE\",\"DE\",\"DE\",\"DE\",\"DK\",\"EE\",\"ES\",\"ES\",\"FR\",\"FR\",\"FR\",\"GB\",\"GB\",\"GB\",\"GB\",\"GB\",\"GB\",\"GB\",\"GB\",\"GB\",\"GB\",\"GB\",\"GB\",\"GB\",\"GB\",\"GR\",\"GR\",\"GR\",\"HN\",\"IL\",\"IN\",\"IN\",\"IN\",\"IN\",\"IN\",\"IN\",\"IN\",\"IN\",\"IN\",\"IN\",\"JP\",\"JP\",\"JP\",\"LU\",\"LU\",\"MD\",\"MX\",\"NG\",\"NL\",\"PT\",\"SI\",\"SI\",\"TR\",\"UA\",\"US\",\"US\",\"US\",\"US\",\"US\",\"US\",\"US\",\"US\",\"US\",\"US\",\"US\",\"US\",\"US\",\"US\",\"US\",\"US\",\"US\",\"US\",\"US\",\"US\",\"US\",\"US\",\"US\",\"US\",\"US\"],\"yaxis\":\"y\",\"type\":\"scatter\"},{\"hovertemplate\":\"Work Type=Remote<br>Employee Residence=%{x}<br>Company Location=%{y}<extra></extra>\",\"legendgroup\":\"Remote\",\"marker\":{\"color\":\"#6A76FC\",\"symbol\":\"circle\"},\"mode\":\"markers\",\"name\":\"Remote\",\"orientation\":\"v\",\"showlegend\":true,\"x\":[\"AT\",\"AT\",\"AU\",\"BO\",\"BR\",\"BR\",\"BR\",\"BR\",\"CA\",\"CA\",\"CA\",\"CA\",\"CA\",\"CA\",\"CA\",\"CA\",\"CA\",\"CA\",\"CA\",\"CA\",\"CA\",\"CA\",\"CA\",\"CN\",\"CZ\",\"DE\",\"DE\",\"DE\",\"DE\",\"DE\",\"DE\",\"DE\",\"DE\",\"DE\",\"DE\",\"DE\",\"DE\",\"DE\",\"DE\",\"DE\",\"DK\",\"DK\",\"DZ\",\"ES\",\"ES\",\"ES\",\"ES\",\"ES\",\"ES\",\"ES\",\"ES\",\"ES\",\"ES\",\"ES\",\"FR\",\"FR\",\"FR\",\"FR\",\"FR\",\"FR\",\"FR\",\"FR\",\"FR\",\"FR\",\"FR\",\"FR\",\"GB\",\"GB\",\"GB\",\"GB\",\"GB\",\"GB\",\"GB\",\"GB\",\"GB\",\"GB\",\"GB\",\"GB\",\"GB\",\"GB\",\"GB\",\"GB\",\"GB\",\"GB\",\"GB\",\"GB\",\"GB\",\"GB\",\"GB\",\"GB\",\"GB\",\"GR\",\"GR\",\"GR\",\"GR\",\"GR\",\"GR\",\"HK\",\"HR\",\"HU\",\"IN\",\"IN\",\"IN\",\"IN\",\"IN\",\"IN\",\"IN\",\"IN\",\"IN\",\"IN\",\"IN\",\"IN\",\"IN\",\"IN\",\"JE\",\"JP\",\"JP\",\"JP\",\"LU\",\"MD\",\"MT\",\"MY\",\"NG\",\"NG\",\"NL\",\"NL\",\"NL\",\"NL\",\"NZ\",\"PK\",\"PK\",\"PK\",\"PK\",\"PK\",\"PR\",\"PT\",\"PT\",\"PT\",\"PT\",\"RO\",\"RO\",\"RU\",\"SG\",\"TR\",\"TR\",\"US\",\"US\",\"US\",\"US\",\"US\",\"US\",\"US\",\"US\",\"US\",\"US\",\"US\",\"US\",\"US\",\"US\",\"US\",\"US\",\"US\",\"US\",\"US\",\"US\",\"US\",\"US\",\"US\",\"US\",\"US\",\"US\",\"US\",\"US\",\"US\",\"US\",\"US\",\"US\",\"US\",\"US\",\"US\",\"US\",\"US\",\"US\",\"US\",\"US\",\"US\",\"US\",\"US\",\"US\",\"US\",\"US\",\"US\",\"US\",\"US\",\"US\",\"US\",\"US\",\"US\",\"US\",\"US\",\"US\",\"US\",\"US\",\"US\",\"US\",\"US\",\"US\",\"US\",\"US\",\"US\",\"US\",\"US\",\"US\",\"US\",\"US\",\"US\",\"US\",\"US\",\"US\",\"US\",\"US\",\"US\",\"US\",\"US\",\"US\",\"US\",\"US\",\"US\",\"US\",\"US\",\"US\",\"US\",\"US\",\"US\",\"US\",\"US\",\"US\",\"US\",\"US\",\"US\",\"US\",\"US\",\"US\",\"US\",\"US\",\"US\",\"US\",\"US\",\"US\",\"US\",\"US\",\"US\",\"US\",\"US\",\"US\",\"US\",\"US\",\"US\",\"US\",\"US\",\"US\",\"US\",\"US\",\"US\",\"US\",\"US\",\"US\",\"US\",\"US\",\"US\",\"US\",\"US\",\"US\",\"US\",\"US\",\"US\",\"US\",\"US\",\"US\",\"US\",\"US\",\"US\",\"US\",\"US\",\"US\",\"US\",\"US\",\"US\",\"US\",\"US\",\"US\",\"US\",\"US\",\"US\",\"US\",\"US\",\"US\",\"US\",\"US\",\"US\",\"US\",\"US\",\"US\",\"US\",\"US\",\"US\",\"US\",\"US\",\"US\",\"US\",\"US\",\"US\",\"US\",\"US\",\"US\",\"US\",\"US\",\"US\",\"US\",\"US\",\"US\",\"US\",\"US\",\"US\",\"US\",\"US\",\"US\",\"US\",\"US\",\"US\",\"US\",\"US\",\"US\",\"US\",\"US\",\"US\",\"US\",\"US\",\"US\",\"US\",\"US\",\"US\",\"US\",\"US\",\"US\",\"US\",\"US\",\"US\",\"US\",\"US\",\"US\",\"US\",\"US\",\"US\",\"US\",\"US\",\"US\",\"US\",\"US\",\"US\",\"US\",\"US\",\"US\",\"US\",\"US\",\"US\",\"US\",\"US\",\"US\",\"US\",\"US\",\"US\",\"US\",\"US\",\"US\",\"US\",\"US\",\"US\",\"US\",\"VN\",\"VN\"],\"xaxis\":\"x\",\"y\":[\"AT\",\"AT\",\"AU\",\"BR\",\"BR\",\"CA\",\"CA\",\"CA\",\"CA\",\"CA\",\"CA\",\"CA\",\"CA\",\"CA\",\"CA\",\"CA\",\"CA\",\"CA\",\"CA\",\"CA\",\"CH\",\"CH\",\"CL\",\"CO\",\"CZ\",\"DE\",\"DE\",\"DE\",\"DE\",\"DE\",\"DE\",\"DE\",\"DE\",\"DE\",\"DE\",\"DE\",\"DE\",\"DE\",\"DE\",\"DE\",\"DE\",\"DE\",\"DE\",\"DK\",\"DK\",\"DZ\",\"ES\",\"ES\",\"ES\",\"ES\",\"ES\",\"ES\",\"ES\",\"ES\",\"ES\",\"ES\",\"FR\",\"FR\",\"FR\",\"FR\",\"FR\",\"FR\",\"FR\",\"FR\",\"FR\",\"FR\",\"GB\",\"GB\",\"GB\",\"GB\",\"GB\",\"GB\",\"GB\",\"GB\",\"GB\",\"GB\",\"GB\",\"GB\",\"GB\",\"GB\",\"GB\",\"GB\",\"GB\",\"GB\",\"GB\",\"GB\",\"GB\",\"GB\",\"GB\",\"GB\",\"GB\",\"GR\",\"GR\",\"GR\",\"GR\",\"GR\",\"GR\",\"GR\",\"HR\",\"IE\",\"IN\",\"IN\",\"IN\",\"IN\",\"IN\",\"IN\",\"IN\",\"IN\",\"IN\",\"IN\",\"IN\",\"IQ\",\"IR\",\"IT\",\"LU\",\"MT\",\"MX\",\"MX\",\"NG\",\"NL\",\"NL\",\"NZ\",\"PK\",\"PK\",\"PK\",\"PL\",\"PL\",\"PL\",\"PT\",\"PT\",\"RO\",\"RU\",\"RU\",\"SG\",\"TR\",\"US\",\"US\",\"US\",\"US\",\"US\",\"US\",\"US\",\"US\",\"US\",\"US\",\"US\",\"US\",\"US\",\"US\",\"US\",\"US\",\"US\",\"US\",\"US\",\"US\",\"US\",\"US\",\"US\",\"US\",\"US\",\"US\",\"US\",\"US\",\"US\",\"US\",\"US\",\"US\",\"US\",\"US\",\"US\",\"US\",\"US\",\"US\",\"US\",\"US\",\"US\",\"US\",\"US\",\"US\",\"US\",\"US\",\"US\",\"US\",\"US\",\"US\",\"US\",\"US\",\"US\",\"US\",\"US\",\"US\",\"US\",\"US\",\"US\",\"US\",\"US\",\"US\",\"US\",\"US\",\"US\",\"US\",\"US\",\"US\",\"US\",\"US\",\"US\",\"US\",\"US\",\"US\",\"US\",\"US\",\"US\",\"US\",\"US\",\"US\",\"US\",\"US\",\"US\",\"US\",\"US\",\"US\",\"US\",\"US\",\"US\",\"US\",\"US\",\"US\",\"US\",\"US\",\"US\",\"US\",\"US\",\"US\",\"US\",\"US\",\"US\",\"US\",\"US\",\"US\",\"US\",\"US\",\"US\",\"US\",\"US\",\"US\",\"US\",\"US\",\"US\",\"US\",\"US\",\"US\",\"US\",\"US\",\"US\",\"US\",\"US\",\"US\",\"US\",\"US\",\"US\",\"US\",\"US\",\"US\",\"US\",\"US\",\"US\",\"US\",\"US\",\"US\",\"US\",\"US\",\"US\",\"US\",\"US\",\"US\",\"US\",\"US\",\"US\",\"US\",\"US\",\"US\",\"US\",\"US\",\"US\",\"US\",\"US\",\"US\",\"US\",\"US\",\"US\",\"US\",\"US\",\"US\",\"US\",\"US\",\"US\",\"US\",\"US\",\"US\",\"US\",\"US\",\"US\",\"US\",\"US\",\"US\",\"US\",\"US\",\"US\",\"US\",\"US\",\"US\",\"US\",\"US\",\"US\",\"US\",\"US\",\"US\",\"US\",\"US\",\"US\",\"US\",\"US\",\"US\",\"US\",\"US\",\"US\",\"US\",\"US\",\"US\",\"US\",\"US\",\"US\",\"US\",\"US\",\"US\",\"US\",\"US\",\"US\",\"US\",\"US\",\"US\",\"US\",\"US\",\"US\",\"US\",\"US\",\"US\",\"US\",\"US\",\"US\",\"US\",\"US\",\"US\",\"US\",\"US\",\"US\",\"US\",\"US\",\"US\",\"US\",\"US\",\"US\",\"US\",\"US\",\"US\",\"US\",\"US\",\"US\",\"US\",\"US\",\"US\",\"US\",\"US\",\"US\",\"US\",\"US\",\"US\",\"US\",\"US\",\"US\",\"VN\"],\"yaxis\":\"y\",\"type\":\"scatter\"}],                        {\"template\":{\"data\":{\"barpolar\":[{\"marker\":{\"line\":{\"color\":\"rgb(237,237,237)\",\"width\":0.5},\"pattern\":{\"fillmode\":\"overlay\",\"size\":10,\"solidity\":0.2}},\"type\":\"barpolar\"}],\"bar\":[{\"error_x\":{\"color\":\"rgb(51,51,51)\"},\"error_y\":{\"color\":\"rgb(51,51,51)\"},\"marker\":{\"line\":{\"color\":\"rgb(237,237,237)\",\"width\":0.5},\"pattern\":{\"fillmode\":\"overlay\",\"size\":10,\"solidity\":0.2}},\"type\":\"bar\"}],\"carpet\":[{\"aaxis\":{\"endlinecolor\":\"rgb(51,51,51)\",\"gridcolor\":\"white\",\"linecolor\":\"white\",\"minorgridcolor\":\"white\",\"startlinecolor\":\"rgb(51,51,51)\"},\"baxis\":{\"endlinecolor\":\"rgb(51,51,51)\",\"gridcolor\":\"white\",\"linecolor\":\"white\",\"minorgridcolor\":\"white\",\"startlinecolor\":\"rgb(51,51,51)\"},\"type\":\"carpet\"}],\"choropleth\":[{\"colorbar\":{\"outlinewidth\":0,\"tickcolor\":\"rgb(237,237,237)\",\"ticklen\":6,\"ticks\":\"inside\"},\"type\":\"choropleth\"}],\"contourcarpet\":[{\"colorbar\":{\"outlinewidth\":0,\"tickcolor\":\"rgb(237,237,237)\",\"ticklen\":6,\"ticks\":\"inside\"},\"type\":\"contourcarpet\"}],\"contour\":[{\"colorbar\":{\"outlinewidth\":0,\"tickcolor\":\"rgb(237,237,237)\",\"ticklen\":6,\"ticks\":\"inside\"},\"colorscale\":[[0,\"rgb(20,44,66)\"],[1,\"rgb(90,179,244)\"]],\"type\":\"contour\"}],\"heatmapgl\":[{\"colorbar\":{\"outlinewidth\":0,\"tickcolor\":\"rgb(237,237,237)\",\"ticklen\":6,\"ticks\":\"inside\"},\"colorscale\":[[0,\"rgb(20,44,66)\"],[1,\"rgb(90,179,244)\"]],\"type\":\"heatmapgl\"}],\"heatmap\":[{\"colorbar\":{\"outlinewidth\":0,\"tickcolor\":\"rgb(237,237,237)\",\"ticklen\":6,\"ticks\":\"inside\"},\"colorscale\":[[0,\"rgb(20,44,66)\"],[1,\"rgb(90,179,244)\"]],\"type\":\"heatmap\"}],\"histogram2dcontour\":[{\"colorbar\":{\"outlinewidth\":0,\"tickcolor\":\"rgb(237,237,237)\",\"ticklen\":6,\"ticks\":\"inside\"},\"colorscale\":[[0,\"rgb(20,44,66)\"],[1,\"rgb(90,179,244)\"]],\"type\":\"histogram2dcontour\"}],\"histogram2d\":[{\"colorbar\":{\"outlinewidth\":0,\"tickcolor\":\"rgb(237,237,237)\",\"ticklen\":6,\"ticks\":\"inside\"},\"colorscale\":[[0,\"rgb(20,44,66)\"],[1,\"rgb(90,179,244)\"]],\"type\":\"histogram2d\"}],\"histogram\":[{\"marker\":{\"pattern\":{\"fillmode\":\"overlay\",\"size\":10,\"solidity\":0.2}},\"type\":\"histogram\"}],\"mesh3d\":[{\"colorbar\":{\"outlinewidth\":0,\"tickcolor\":\"rgb(237,237,237)\",\"ticklen\":6,\"ticks\":\"inside\"},\"type\":\"mesh3d\"}],\"parcoords\":[{\"line\":{\"colorbar\":{\"outlinewidth\":0,\"tickcolor\":\"rgb(237,237,237)\",\"ticklen\":6,\"ticks\":\"inside\"}},\"type\":\"parcoords\"}],\"pie\":[{\"automargin\":true,\"type\":\"pie\"}],\"scatter3d\":[{\"line\":{\"colorbar\":{\"outlinewidth\":0,\"tickcolor\":\"rgb(237,237,237)\",\"ticklen\":6,\"ticks\":\"inside\"}},\"marker\":{\"colorbar\":{\"outlinewidth\":0,\"tickcolor\":\"rgb(237,237,237)\",\"ticklen\":6,\"ticks\":\"inside\"}},\"type\":\"scatter3d\"}],\"scattercarpet\":[{\"marker\":{\"colorbar\":{\"outlinewidth\":0,\"tickcolor\":\"rgb(237,237,237)\",\"ticklen\":6,\"ticks\":\"inside\"}},\"type\":\"scattercarpet\"}],\"scattergeo\":[{\"marker\":{\"colorbar\":{\"outlinewidth\":0,\"tickcolor\":\"rgb(237,237,237)\",\"ticklen\":6,\"ticks\":\"inside\"}},\"type\":\"scattergeo\"}],\"scattergl\":[{\"marker\":{\"colorbar\":{\"outlinewidth\":0,\"tickcolor\":\"rgb(237,237,237)\",\"ticklen\":6,\"ticks\":\"inside\"}},\"type\":\"scattergl\"}],\"scattermapbox\":[{\"marker\":{\"colorbar\":{\"outlinewidth\":0,\"tickcolor\":\"rgb(237,237,237)\",\"ticklen\":6,\"ticks\":\"inside\"}},\"type\":\"scattermapbox\"}],\"scatterpolargl\":[{\"marker\":{\"colorbar\":{\"outlinewidth\":0,\"tickcolor\":\"rgb(237,237,237)\",\"ticklen\":6,\"ticks\":\"inside\"}},\"type\":\"scatterpolargl\"}],\"scatterpolar\":[{\"marker\":{\"colorbar\":{\"outlinewidth\":0,\"tickcolor\":\"rgb(237,237,237)\",\"ticklen\":6,\"ticks\":\"inside\"}},\"type\":\"scatterpolar\"}],\"scatter\":[{\"marker\":{\"colorbar\":{\"outlinewidth\":0,\"tickcolor\":\"rgb(237,237,237)\",\"ticklen\":6,\"ticks\":\"inside\"}},\"type\":\"scatter\"}],\"scatterternary\":[{\"marker\":{\"colorbar\":{\"outlinewidth\":0,\"tickcolor\":\"rgb(237,237,237)\",\"ticklen\":6,\"ticks\":\"inside\"}},\"type\":\"scatterternary\"}],\"surface\":[{\"colorbar\":{\"outlinewidth\":0,\"tickcolor\":\"rgb(237,237,237)\",\"ticklen\":6,\"ticks\":\"inside\"},\"colorscale\":[[0,\"rgb(20,44,66)\"],[1,\"rgb(90,179,244)\"]],\"type\":\"surface\"}],\"table\":[{\"cells\":{\"fill\":{\"color\":\"rgb(237,237,237)\"},\"line\":{\"color\":\"white\"}},\"header\":{\"fill\":{\"color\":\"rgb(217,217,217)\"},\"line\":{\"color\":\"white\"}},\"type\":\"table\"}]},\"layout\":{\"annotationdefaults\":{\"arrowhead\":0,\"arrowwidth\":1},\"autotypenumbers\":\"strict\",\"coloraxis\":{\"colorbar\":{\"outlinewidth\":0,\"tickcolor\":\"rgb(237,237,237)\",\"ticklen\":6,\"ticks\":\"inside\"}},\"colorscale\":{\"sequential\":[[0,\"rgb(20,44,66)\"],[1,\"rgb(90,179,244)\"]],\"sequentialminus\":[[0,\"rgb(20,44,66)\"],[1,\"rgb(90,179,244)\"]]},\"colorway\":[\"#F8766D\",\"#A3A500\",\"#00BF7D\",\"#00B0F6\",\"#E76BF3\"],\"font\":{\"color\":\"rgb(51,51,51)\"},\"geo\":{\"bgcolor\":\"white\",\"lakecolor\":\"white\",\"landcolor\":\"rgb(237,237,237)\",\"showlakes\":true,\"showland\":true,\"subunitcolor\":\"white\"},\"hoverlabel\":{\"align\":\"left\"},\"hovermode\":\"closest\",\"paper_bgcolor\":\"white\",\"plot_bgcolor\":\"rgb(237,237,237)\",\"polar\":{\"angularaxis\":{\"gridcolor\":\"white\",\"linecolor\":\"white\",\"showgrid\":true,\"tickcolor\":\"rgb(51,51,51)\",\"ticks\":\"outside\"},\"bgcolor\":\"rgb(237,237,237)\",\"radialaxis\":{\"gridcolor\":\"white\",\"linecolor\":\"white\",\"showgrid\":true,\"tickcolor\":\"rgb(51,51,51)\",\"ticks\":\"outside\"}},\"scene\":{\"xaxis\":{\"backgroundcolor\":\"rgb(237,237,237)\",\"gridcolor\":\"white\",\"gridwidth\":2,\"linecolor\":\"white\",\"showbackground\":true,\"showgrid\":true,\"tickcolor\":\"rgb(51,51,51)\",\"ticks\":\"outside\",\"zerolinecolor\":\"white\"},\"yaxis\":{\"backgroundcolor\":\"rgb(237,237,237)\",\"gridcolor\":\"white\",\"gridwidth\":2,\"linecolor\":\"white\",\"showbackground\":true,\"showgrid\":true,\"tickcolor\":\"rgb(51,51,51)\",\"ticks\":\"outside\",\"zerolinecolor\":\"white\"},\"zaxis\":{\"backgroundcolor\":\"rgb(237,237,237)\",\"gridcolor\":\"white\",\"gridwidth\":2,\"linecolor\":\"white\",\"showbackground\":true,\"showgrid\":true,\"tickcolor\":\"rgb(51,51,51)\",\"ticks\":\"outside\",\"zerolinecolor\":\"white\"}},\"shapedefaults\":{\"fillcolor\":\"black\",\"line\":{\"width\":0},\"opacity\":0.3},\"ternary\":{\"aaxis\":{\"gridcolor\":\"white\",\"linecolor\":\"white\",\"showgrid\":true,\"tickcolor\":\"rgb(51,51,51)\",\"ticks\":\"outside\"},\"baxis\":{\"gridcolor\":\"white\",\"linecolor\":\"white\",\"showgrid\":true,\"tickcolor\":\"rgb(51,51,51)\",\"ticks\":\"outside\"},\"bgcolor\":\"rgb(237,237,237)\",\"caxis\":{\"gridcolor\":\"white\",\"linecolor\":\"white\",\"showgrid\":true,\"tickcolor\":\"rgb(51,51,51)\",\"ticks\":\"outside\"}},\"xaxis\":{\"automargin\":true,\"gridcolor\":\"white\",\"linecolor\":\"white\",\"showgrid\":true,\"tickcolor\":\"rgb(51,51,51)\",\"ticks\":\"outside\",\"title\":{\"standoff\":15},\"zerolinecolor\":\"white\"},\"yaxis\":{\"automargin\":true,\"gridcolor\":\"white\",\"linecolor\":\"white\",\"showgrid\":true,\"tickcolor\":\"rgb(51,51,51)\",\"ticks\":\"outside\",\"title\":{\"standoff\":15},\"zerolinecolor\":\"white\"}}},\"xaxis\":{\"anchor\":\"y\",\"domain\":[0.0,1.0],\"title\":{\"text\":\"Employee Residence\"}},\"yaxis\":{\"anchor\":\"x\",\"domain\":[0.0,1.0],\"title\":{\"text\":\"Company Location\"}},\"legend\":{\"title\":{\"text\":\"Work Type\"},\"tracegroupgap\":0},\"title\":{\"text\":\"Company Location VS Employee Residence for type of work(Remote, Hybrid or On-site)\"}},                        {\"responsive\": true}                    ).then(function(){\n",
       "                            \n",
       "var gd = document.getElementById('d71beddf-380a-402e-8fc2-5468e0fd2709');\n",
       "var x = new MutationObserver(function (mutations, observer) {{\n",
       "        var display = window.getComputedStyle(gd).display;\n",
       "        if (!display || display === 'none') {{\n",
       "            console.log([gd, 'removed!']);\n",
       "            Plotly.purge(gd);\n",
       "            observer.disconnect();\n",
       "        }}\n",
       "}});\n",
       "\n",
       "// Listen for the removal of the full notebook cells\n",
       "var notebookContainer = gd.closest('#notebook-container');\n",
       "if (notebookContainer) {{\n",
       "    x.observe(notebookContainer, {childList: true});\n",
       "}}\n",
       "\n",
       "// Listen for the clearing of the current output cell\n",
       "var outputEl = gd.closest('.output');\n",
       "if (outputEl) {{\n",
       "    x.observe(outputEl, {childList: true});\n",
       "}}\n",
       "\n",
       "                        })                };                });            </script>        </div>"
      ]
     },
     "metadata": {},
     "output_type": "display_data"
    }
   ],
   "source": [
    "#checking the distribution of employees across company location and conutry\n",
    "px.scatter(df, x=df.employee_residence.sort_values(), y = df.company_location.sort_values(), color = 'remote_ratio',\n",
    "           labels ={\"x\":'Employee Residence', \"y\":'Company Location', \"remote_ratio\":'Work Type'},\n",
    "           color_discrete_sequence=px.colors.qualitative.Light24, template = 'ggplot2',\n",
    "           title = 'Company Location VS Employee Residence for type of work(Remote, Hybrid or On-site)')"
   ]
  },
  {
   "cell_type": "code",
   "execution_count": 22,
   "id": "63302daa",
   "metadata": {},
   "outputs": [
    {
     "data": {
      "application/vnd.plotly.v1+json": {
       "config": {
        "plotlyServerURL": "https://plot.ly"
       },
       "data": [
        {
         "hovertemplate": "<b>%{hovertext}</b><br><br>job_title=Data Scientist<br>work_year=2020<br>salary_in_usd=%{marker.size}<br>experience_level=%{y}<extra></extra>",
         "hovertext": [
          "Data Scientist",
          "Data Scientist",
          "Data Scientist",
          "Data Scientist",
          "Data Scientist",
          "Data Scientist",
          "Data Scientist",
          "Data Scientist",
          "Data Scientist",
          "Data Scientist",
          "Data Scientist",
          "Data Scientist",
          "Data Scientist",
          "Data Scientist",
          "Data Scientist",
          "Data Scientist",
          "Data Scientist",
          "Data Scientist",
          "Data Scientist",
          "Data Scientist",
          "Data Scientist"
         ],
         "legendgroup": "Data Scientist",
         "marker": {
          "color": "#AA0DFE",
          "size": [
           79833,
           35735,
           51321,
           40481,
           39916,
           68428,
           45760,
           76958,
           105000,
           38776,
           118000,
           120000,
           138350,
           21669,
           412000,
           62726,
           49268,
           105000,
           91237,
           62726,
           42197
          ],
          "sizemode": "area",
          "sizeref": 1500,
          "symbol": "circle"
         },
         "mode": "markers",
         "name": "Data Scientist",
         "orientation": "h",
         "showlegend": true,
         "type": "scatter",
         "x": [
          79833,
          35735,
          51321,
          40481,
          39916,
          68428,
          45760,
          76958,
          105000,
          38776,
          118000,
          120000,
          138350,
          21669,
          412000,
          62726,
          49268,
          105000,
          91237,
          62726,
          42197
         ],
         "xaxis": "x",
         "y": [
          "Mid",
          "Mid",
          "Entry",
          "Mid",
          "Entry",
          "Senior",
          "Mid",
          "Mid",
          "Mid",
          "Mid",
          "Mid",
          "Senior",
          "Mid",
          "Entry",
          "Senior",
          "Entry",
          "Entry",
          "Entry",
          "Senior",
          "Mid",
          "Mid"
         ],
         "yaxis": "y"
        },
        {
         "hovertemplate": "<b>%{hovertext}</b><br><br>job_title=Machine Learning Scientist<br>work_year=2020<br>salary_in_usd=%{marker.size}<br>experience_level=%{y}<extra></extra>",
         "hovertext": [
          "Machine Learning Scientist"
         ],
         "legendgroup": "Machine Learning Scientist",
         "marker": {
          "color": "#3283FE",
          "size": [
           260000
          ],
          "sizemode": "area",
          "sizeref": 1500,
          "symbol": "circle"
         },
         "mode": "markers",
         "name": "Machine Learning Scientist",
         "orientation": "h",
         "showlegend": true,
         "type": "scatter",
         "x": [
          260000
         ],
         "xaxis": "x",
         "y": [
          "Senior"
         ],
         "yaxis": "y"
        },
        {
         "hovertemplate": "<b>%{hovertext}</b><br><br>job_title=Big Data Engineer<br>work_year=2020<br>salary_in_usd=%{marker.size}<br>experience_level=%{y}<extra></extra>",
         "hovertext": [
          "Big Data Engineer",
          "Big Data Engineer",
          "Big Data Engineer"
         ],
         "legendgroup": "Big Data Engineer",
         "marker": {
          "color": "#85660D",
          "size": [
           109024,
           114047,
           70000
          ],
          "sizemode": "area",
          "sizeref": 1500,
          "symbol": "circle"
         },
         "mode": "markers",
         "name": "Big Data Engineer",
         "orientation": "h",
         "showlegend": true,
         "type": "scatter",
         "x": [
          109024,
          114047,
          70000
         ],
         "xaxis": "x",
         "y": [
          "Senior",
          "Senior",
          "Entry"
         ],
         "yaxis": "y"
        },
        {
         "hovertemplate": "<b>%{hovertext}</b><br><br>job_title=Product Data Analyst<br>work_year=2020<br>salary_in_usd=%{marker.size}<br>experience_level=%{y}<extra></extra>",
         "hovertext": [
          "Product Data Analyst",
          "Product Data Analyst"
         ],
         "legendgroup": "Product Data Analyst",
         "marker": {
          "color": "#782AB6",
          "size": [
           20000,
           6072
          ],
          "sizemode": "area",
          "sizeref": 1500,
          "symbol": "circle"
         },
         "mode": "markers",
         "name": "Product Data Analyst",
         "orientation": "h",
         "showlegend": true,
         "type": "scatter",
         "x": [
          20000,
          6072
         ],
         "xaxis": "x",
         "y": [
          "Mid",
          "Mid"
         ],
         "yaxis": "y"
        },
        {
         "hovertemplate": "<b>%{hovertext}</b><br><br>job_title=Machine Learning Engineer<br>work_year=2020<br>salary_in_usd=%{marker.size}<br>experience_level=%{y}<extra></extra>",
         "hovertext": [
          "Machine Learning Engineer",
          "Machine Learning Engineer",
          "Machine Learning Engineer",
          "Machine Learning Engineer",
          "Machine Learning Engineer"
         ],
         "legendgroup": "Machine Learning Engineer",
         "marker": {
          "color": "#565656",
          "size": [
           150000,
           43331,
           250000,
           138000,
           45618
          ],
          "sizemode": "area",
          "sizeref": 1500,
          "symbol": "circle"
         },
         "mode": "markers",
         "name": "Machine Learning Engineer",
         "orientation": "h",
         "showlegend": true,
         "type": "scatter",
         "x": [
          150000,
          43331,
          250000,
          138000,
          45618
         ],
         "xaxis": "x",
         "y": [
          "Senior",
          "Mid",
          "Entry",
          "Entry",
          "Senior"
         ],
         "yaxis": "y"
        },
        {
         "hovertemplate": "<b>%{hovertext}</b><br><br>job_title=Data Analyst<br>work_year=2020<br>salary_in_usd=%{marker.size}<br>experience_level=%{y}<extra></extra>",
         "hovertext": [
          "Data Analyst",
          "Data Analyst",
          "Data Analyst",
          "Data Analyst",
          "Data Analyst",
          "Data Analyst",
          "Data Analyst"
         ],
         "legendgroup": "Data Analyst",
         "marker": {
          "color": "#1C8356",
          "size": [
           72000,
           85000,
           8000,
           46759,
           10000,
           6072,
           91000
          ],
          "sizemode": "area",
          "sizeref": 1500,
          "symbol": "circle"
         },
         "mode": "markers",
         "name": "Data Analyst",
         "orientation": "h",
         "showlegend": true,
         "type": "scatter",
         "x": [
          72000,
          85000,
          8000,
          46759,
          10000,
          6072,
          91000
         ],
         "xaxis": "x",
         "y": [
          "Entry",
          "Mid",
          "Mid",
          "Mid",
          "Entry",
          "Entry",
          "Entry"
         ],
         "yaxis": "y"
        },
        {
         "hovertemplate": "<b>%{hovertext}</b><br><br>job_title=Lead Data Scientist<br>work_year=2020<br>salary_in_usd=%{marker.size}<br>experience_level=%{y}<extra></extra>",
         "hovertext": [
          "Lead Data Scientist",
          "Lead Data Scientist"
         ],
         "legendgroup": "Lead Data Scientist",
         "marker": {
          "color": "#16FF32",
          "size": [
           190000,
           115000
          ],
          "sizemode": "area",
          "sizeref": 1500,
          "symbol": "circle"
         },
         "mode": "markers",
         "name": "Lead Data Scientist",
         "orientation": "h",
         "showlegend": true,
         "type": "scatter",
         "x": [
          190000,
          115000
         ],
         "xaxis": "x",
         "y": [
          "Senior",
          "Mid"
         ],
         "yaxis": "y"
        },
        {
         "hovertemplate": "<b>%{hovertext}</b><br><br>job_title=Business Data Analyst<br>work_year=2020<br>salary_in_usd=%{marker.size}<br>experience_level=%{y}<extra></extra>",
         "hovertext": [
          "Business Data Analyst",
          "Business Data Analyst"
         ],
         "legendgroup": "Business Data Analyst",
         "marker": {
          "color": "#F7E1A0",
          "size": [
           135000,
           100000
          ],
          "sizemode": "area",
          "sizeref": 1500,
          "symbol": "circle"
         },
         "mode": "markers",
         "name": "Business Data Analyst",
         "orientation": "h",
         "showlegend": true,
         "type": "scatter",
         "x": [
          135000,
          100000
         ],
         "xaxis": "x",
         "y": [
          "Mid",
          "Entry"
         ],
         "yaxis": "y"
        },
        {
         "hovertemplate": "<b>%{hovertext}</b><br><br>job_title=Lead Data Engineer<br>work_year=2020<br>salary_in_usd=%{marker.size}<br>experience_level=%{y}<extra></extra>",
         "hovertext": [
          "Lead Data Engineer",
          "Lead Data Engineer"
         ],
         "legendgroup": "Lead Data Engineer",
         "marker": {
          "color": "#E2E2E2",
          "size": [
           125000,
           56000
          ],
          "sizemode": "area",
          "sizeref": 1500,
          "symbol": "circle"
         },
         "mode": "markers",
         "name": "Lead Data Engineer",
         "orientation": "h",
         "showlegend": true,
         "type": "scatter",
         "x": [
          125000,
          56000
         ],
         "xaxis": "x",
         "y": [
          "Senior",
          "Mid"
         ],
         "yaxis": "y"
        },
        {
         "hovertemplate": "<b>%{hovertext}</b><br><br>job_title=Lead Data Analyst<br>work_year=2020<br>salary_in_usd=%{marker.size}<br>experience_level=%{y}<extra></extra>",
         "hovertext": [
          "Lead Data Analyst"
         ],
         "legendgroup": "Lead Data Analyst",
         "marker": {
          "color": "#1CBE4F",
          "size": [
           87000
          ],
          "sizemode": "area",
          "sizeref": 1500,
          "symbol": "circle"
         },
         "mode": "markers",
         "name": "Lead Data Analyst",
         "orientation": "h",
         "showlegend": true,
         "type": "scatter",
         "x": [
          87000
         ],
         "xaxis": "x",
         "y": [
          "Mid"
         ],
         "yaxis": "y"
        },
        {
         "hovertemplate": "<b>%{hovertext}</b><br><br>job_title=Data Engineer<br>work_year=2020<br>salary_in_usd=%{marker.size}<br>experience_level=%{y}<extra></extra>",
         "hovertext": [
          "Data Engineer",
          "Data Engineer",
          "Data Engineer",
          "Data Engineer",
          "Data Engineer",
          "Data Engineer",
          "Data Engineer",
          "Data Engineer",
          "Data Engineer",
          "Data Engineer",
          "Data Engineer"
         ],
         "legendgroup": "Data Engineer",
         "marker": {
          "color": "#C4451C",
          "size": [
           41689,
           47899,
           33511,
           74130,
           106000,
           112872,
           188000,
           70139,
           54742,
           110000,
           130800
          ],
          "sizemode": "area",
          "sizeref": 1500,
          "symbol": "circle"
         },
         "mode": "markers",
         "name": "Data Engineer",
         "orientation": "h",
         "showlegend": true,
         "type": "scatter",
         "x": [
          41689,
          47899,
          33511,
          74130,
          106000,
          112872,
          188000,
          70139,
          54742,
          110000,
          130800
         ],
         "xaxis": "x",
         "y": [
          "Entry",
          "Senior",
          "Senior",
          "Mid",
          "Mid",
          "Mid",
          "Senior",
          "Mid",
          "Entry",
          "Mid",
          "Mid"
         ],
         "yaxis": "y"
        },
        {
         "hovertemplate": "<b>%{hovertext}</b><br><br>job_title=Data Science Consultant<br>work_year=2020<br>salary_in_usd=%{marker.size}<br>experience_level=%{y}<extra></extra>",
         "hovertext": [
          "Data Science Consultant",
          "Data Science Consultant"
         ],
         "legendgroup": "Data Science Consultant",
         "marker": {
          "color": "#DEA0FD",
          "size": [
           5707,
           103000
          ],
          "sizemode": "area",
          "sizeref": 1500,
          "symbol": "circle"
         },
         "mode": "markers",
         "name": "Data Science Consultant",
         "orientation": "h",
         "showlegend": true,
         "type": "scatter",
         "x": [
          5707,
          103000
         ],
         "xaxis": "x",
         "y": [
          "Entry",
          "Mid"
         ],
         "yaxis": "y"
        },
        {
         "hovertemplate": "<b>%{hovertext}</b><br><br>job_title=BI Data Analyst<br>work_year=2020<br>salary_in_usd=%{marker.size}<br>experience_level=%{y}<extra></extra>",
         "hovertext": [
          "BI Data Analyst"
         ],
         "legendgroup": "BI Data Analyst",
         "marker": {
          "color": "#FE00FA",
          "size": [
           98000
          ],
          "sizemode": "area",
          "sizeref": 1500,
          "symbol": "circle"
         },
         "mode": "markers",
         "name": "BI Data Analyst",
         "orientation": "h",
         "showlegend": true,
         "type": "scatter",
         "x": [
          98000
         ],
         "xaxis": "x",
         "y": [
          "Mid"
         ],
         "yaxis": "y"
        },
        {
         "hovertemplate": "<b>%{hovertext}</b><br><br>job_title=Director of Data Science<br>work_year=2020<br>salary_in_usd=%{marker.size}<br>experience_level=%{y}<extra></extra>",
         "hovertext": [
          "Director of Data Science"
         ],
         "legendgroup": "Director of Data Science",
         "marker": {
          "color": "#325A9B",
          "size": [
           325000
          ],
          "sizemode": "area",
          "sizeref": 1500,
          "symbol": "circle"
         },
         "mode": "markers",
         "name": "Director of Data Science",
         "orientation": "h",
         "showlegend": true,
         "type": "scatter",
         "x": [
          325000
         ],
         "xaxis": "x",
         "y": [
          "Executive"
         ],
         "yaxis": "y"
        },
        {
         "hovertemplate": "<b>%{hovertext}</b><br><br>job_title=Research Scientist<br>work_year=2020<br>salary_in_usd=%{marker.size}<br>experience_level=%{y}<extra></extra>",
         "hovertext": [
          "Research Scientist",
          "Research Scientist"
         ],
         "legendgroup": "Research Scientist",
         "marker": {
          "color": "#FEAF16",
          "size": [
           42000,
           450000
          ],
          "sizemode": "area",
          "sizeref": 1500,
          "symbol": "circle"
         },
         "mode": "markers",
         "name": "Research Scientist",
         "orientation": "h",
         "showlegend": true,
         "type": "scatter",
         "x": [
          42000,
          450000
         ],
         "xaxis": "x",
         "y": [
          "Entry",
          "Mid"
         ],
         "yaxis": "y"
        },
        {
         "hovertemplate": "<b>%{hovertext}</b><br><br>job_title=Machine Learning Manager<br>work_year=2020<br>salary_in_usd=%{marker.size}<br>experience_level=%{y}<extra></extra>",
         "hovertext": [
          "Machine Learning Manager"
         ],
         "legendgroup": "Machine Learning Manager",
         "marker": {
          "color": "#F8A19F",
          "size": [
           117104
          ],
          "sizemode": "area",
          "sizeref": 1500,
          "symbol": "circle"
         },
         "mode": "markers",
         "name": "Machine Learning Manager",
         "orientation": "h",
         "showlegend": true,
         "type": "scatter",
         "x": [
          117104
         ],
         "xaxis": "x",
         "y": [
          "Senior"
         ],
         "yaxis": "y"
        },
        {
         "hovertemplate": "<b>%{hovertext}</b><br><br>job_title=Data Engineering Manager<br>work_year=2020<br>salary_in_usd=%{marker.size}<br>experience_level=%{y}<extra></extra>",
         "hovertext": [
          "Data Engineering Manager",
          "Data Engineering Manager"
         ],
         "legendgroup": "Data Engineering Manager",
         "marker": {
          "color": "#90AD1C",
          "size": [
           59303,
           79833
          ],
          "sizemode": "area",
          "sizeref": 1500,
          "symbol": "circle"
         },
         "mode": "markers",
         "name": "Data Engineering Manager",
         "orientation": "h",
         "showlegend": true,
         "type": "scatter",
         "x": [
          59303,
          79833
         ],
         "xaxis": "x",
         "y": [
          "Mid",
          "Executive"
         ],
         "yaxis": "y"
        },
        {
         "hovertemplate": "<b>%{hovertext}</b><br><br>job_title=Machine Learning Infrastructure Engineer<br>work_year=2020<br>salary_in_usd=%{marker.size}<br>experience_level=%{y}<extra></extra>",
         "hovertext": [
          "Machine Learning Infrastructure Engineer"
         ],
         "legendgroup": "Machine Learning Infrastructure Engineer",
         "marker": {
          "color": "#F6222E",
          "size": [
           50180
          ],
          "sizemode": "area",
          "sizeref": 1500,
          "symbol": "circle"
         },
         "mode": "markers",
         "name": "Machine Learning Infrastructure Engineer",
         "orientation": "h",
         "showlegend": true,
         "type": "scatter",
         "x": [
          50180
         ],
         "xaxis": "x",
         "y": [
          "Mid"
         ],
         "yaxis": "y"
        },
        {
         "hovertemplate": "<b>%{hovertext}</b><br><br>job_title=ML Engineer<br>work_year=2020<br>salary_in_usd=%{marker.size}<br>experience_level=%{y}<extra></extra>",
         "hovertext": [
          "ML Engineer"
         ],
         "legendgroup": "ML Engineer",
         "marker": {
          "color": "#1CFFCE",
          "size": [
           15966
          ],
          "sizemode": "area",
          "sizeref": 1500,
          "symbol": "circle"
         },
         "mode": "markers",
         "name": "ML Engineer",
         "orientation": "h",
         "showlegend": true,
         "type": "scatter",
         "x": [
          15966
         ],
         "xaxis": "x",
         "y": [
          "Entry"
         ],
         "yaxis": "y"
        },
        {
         "hovertemplate": "<b>%{hovertext}</b><br><br>job_title=AI Scientist<br>work_year=2020<br>salary_in_usd=%{marker.size}<br>experience_level=%{y}<extra></extra>",
         "hovertext": [
          "AI Scientist"
         ],
         "legendgroup": "AI Scientist",
         "marker": {
          "color": "#2ED9FF",
          "size": [
           45896
          ],
          "sizemode": "area",
          "sizeref": 1500,
          "symbol": "circle"
         },
         "mode": "markers",
         "name": "AI Scientist",
         "orientation": "h",
         "showlegend": true,
         "type": "scatter",
         "x": [
          45896
         ],
         "xaxis": "x",
         "y": [
          "Entry"
         ],
         "yaxis": "y"
        },
        {
         "hovertemplate": "<b>%{hovertext}</b><br><br>job_title=Computer Vision Engineer<br>work_year=2020<br>salary_in_usd=%{marker.size}<br>experience_level=%{y}<extra></extra>",
         "hovertext": [
          "Computer Vision Engineer"
         ],
         "legendgroup": "Computer Vision Engineer",
         "marker": {
          "color": "#B10DA1",
          "size": [
           60000
          ],
          "sizemode": "area",
          "sizeref": 1500,
          "symbol": "circle"
         },
         "mode": "markers",
         "name": "Computer Vision Engineer",
         "orientation": "h",
         "showlegend": true,
         "type": "scatter",
         "x": [
          60000
         ],
         "xaxis": "x",
         "y": [
          "Senior"
         ],
         "yaxis": "y"
        },
        {
         "hovertemplate": "<b>%{hovertext}</b><br><br>job_title=Principal Data Scientist<br>work_year=2020<br>salary_in_usd=%{marker.size}<br>experience_level=%{y}<extra></extra>",
         "hovertext": [
          "Principal Data Scientist"
         ],
         "legendgroup": "Principal Data Scientist",
         "marker": {
          "color": "#C075A6",
          "size": [
           148261
          ],
          "sizemode": "area",
          "sizeref": 1500,
          "symbol": "circle"
         },
         "mode": "markers",
         "name": "Principal Data Scientist",
         "orientation": "h",
         "showlegend": true,
         "type": "scatter",
         "x": [
          148261
         ],
         "xaxis": "x",
         "y": [
          "Senior"
         ],
         "yaxis": "y"
        },
        {
         "hovertemplate": "<b>%{hovertext}</b><br><br>job_title=Data Science Manager<br>work_year=2020<br>salary_in_usd=%{marker.size}<br>experience_level=%{y}<extra></extra>",
         "hovertext": [
          "Data Science Manager"
         ],
         "legendgroup": "Data Science Manager",
         "marker": {
          "color": "#FC1CBF",
          "size": [
           190200
          ],
          "sizemode": "area",
          "sizeref": 1500,
          "symbol": "circle"
         },
         "mode": "markers",
         "name": "Data Science Manager",
         "orientation": "h",
         "showlegend": true,
         "type": "scatter",
         "x": [
          190200
         ],
         "xaxis": "x",
         "y": [
          "Senior"
         ],
         "yaxis": "y"
        }
       ],
       "frames": [
        {
         "data": [
          {
           "hovertemplate": "<b>%{hovertext}</b><br><br>job_title=Data Scientist<br>work_year=2020<br>salary_in_usd=%{marker.size}<br>experience_level=%{y}<extra></extra>",
           "hovertext": [
            "Data Scientist",
            "Data Scientist",
            "Data Scientist",
            "Data Scientist",
            "Data Scientist",
            "Data Scientist",
            "Data Scientist",
            "Data Scientist",
            "Data Scientist",
            "Data Scientist",
            "Data Scientist",
            "Data Scientist",
            "Data Scientist",
            "Data Scientist",
            "Data Scientist",
            "Data Scientist",
            "Data Scientist",
            "Data Scientist",
            "Data Scientist",
            "Data Scientist",
            "Data Scientist"
           ],
           "legendgroup": "Data Scientist",
           "marker": {
            "color": "#AA0DFE",
            "size": [
             79833,
             35735,
             51321,
             40481,
             39916,
             68428,
             45760,
             76958,
             105000,
             38776,
             118000,
             120000,
             138350,
             21669,
             412000,
             62726,
             49268,
             105000,
             91237,
             62726,
             42197
            ],
            "sizemode": "area",
            "sizeref": 1500,
            "symbol": "circle"
           },
           "mode": "markers",
           "name": "Data Scientist",
           "orientation": "h",
           "showlegend": true,
           "type": "scatter",
           "x": [
            79833,
            35735,
            51321,
            40481,
            39916,
            68428,
            45760,
            76958,
            105000,
            38776,
            118000,
            120000,
            138350,
            21669,
            412000,
            62726,
            49268,
            105000,
            91237,
            62726,
            42197
           ],
           "xaxis": "x",
           "y": [
            "Mid",
            "Mid",
            "Entry",
            "Mid",
            "Entry",
            "Senior",
            "Mid",
            "Mid",
            "Mid",
            "Mid",
            "Mid",
            "Senior",
            "Mid",
            "Entry",
            "Senior",
            "Entry",
            "Entry",
            "Entry",
            "Senior",
            "Mid",
            "Mid"
           ],
           "yaxis": "y"
          },
          {
           "hovertemplate": "<b>%{hovertext}</b><br><br>job_title=Machine Learning Scientist<br>work_year=2020<br>salary_in_usd=%{marker.size}<br>experience_level=%{y}<extra></extra>",
           "hovertext": [
            "Machine Learning Scientist"
           ],
           "legendgroup": "Machine Learning Scientist",
           "marker": {
            "color": "#3283FE",
            "size": [
             260000
            ],
            "sizemode": "area",
            "sizeref": 1500,
            "symbol": "circle"
           },
           "mode": "markers",
           "name": "Machine Learning Scientist",
           "orientation": "h",
           "showlegend": true,
           "type": "scatter",
           "x": [
            260000
           ],
           "xaxis": "x",
           "y": [
            "Senior"
           ],
           "yaxis": "y"
          },
          {
           "hovertemplate": "<b>%{hovertext}</b><br><br>job_title=Big Data Engineer<br>work_year=2020<br>salary_in_usd=%{marker.size}<br>experience_level=%{y}<extra></extra>",
           "hovertext": [
            "Big Data Engineer",
            "Big Data Engineer",
            "Big Data Engineer"
           ],
           "legendgroup": "Big Data Engineer",
           "marker": {
            "color": "#85660D",
            "size": [
             109024,
             114047,
             70000
            ],
            "sizemode": "area",
            "sizeref": 1500,
            "symbol": "circle"
           },
           "mode": "markers",
           "name": "Big Data Engineer",
           "orientation": "h",
           "showlegend": true,
           "type": "scatter",
           "x": [
            109024,
            114047,
            70000
           ],
           "xaxis": "x",
           "y": [
            "Senior",
            "Senior",
            "Entry"
           ],
           "yaxis": "y"
          },
          {
           "hovertemplate": "<b>%{hovertext}</b><br><br>job_title=Product Data Analyst<br>work_year=2020<br>salary_in_usd=%{marker.size}<br>experience_level=%{y}<extra></extra>",
           "hovertext": [
            "Product Data Analyst",
            "Product Data Analyst"
           ],
           "legendgroup": "Product Data Analyst",
           "marker": {
            "color": "#782AB6",
            "size": [
             20000,
             6072
            ],
            "sizemode": "area",
            "sizeref": 1500,
            "symbol": "circle"
           },
           "mode": "markers",
           "name": "Product Data Analyst",
           "orientation": "h",
           "showlegend": true,
           "type": "scatter",
           "x": [
            20000,
            6072
           ],
           "xaxis": "x",
           "y": [
            "Mid",
            "Mid"
           ],
           "yaxis": "y"
          },
          {
           "hovertemplate": "<b>%{hovertext}</b><br><br>job_title=Machine Learning Engineer<br>work_year=2020<br>salary_in_usd=%{marker.size}<br>experience_level=%{y}<extra></extra>",
           "hovertext": [
            "Machine Learning Engineer",
            "Machine Learning Engineer",
            "Machine Learning Engineer",
            "Machine Learning Engineer",
            "Machine Learning Engineer"
           ],
           "legendgroup": "Machine Learning Engineer",
           "marker": {
            "color": "#565656",
            "size": [
             150000,
             43331,
             250000,
             138000,
             45618
            ],
            "sizemode": "area",
            "sizeref": 1500,
            "symbol": "circle"
           },
           "mode": "markers",
           "name": "Machine Learning Engineer",
           "orientation": "h",
           "showlegend": true,
           "type": "scatter",
           "x": [
            150000,
            43331,
            250000,
            138000,
            45618
           ],
           "xaxis": "x",
           "y": [
            "Senior",
            "Mid",
            "Entry",
            "Entry",
            "Senior"
           ],
           "yaxis": "y"
          },
          {
           "hovertemplate": "<b>%{hovertext}</b><br><br>job_title=Data Analyst<br>work_year=2020<br>salary_in_usd=%{marker.size}<br>experience_level=%{y}<extra></extra>",
           "hovertext": [
            "Data Analyst",
            "Data Analyst",
            "Data Analyst",
            "Data Analyst",
            "Data Analyst",
            "Data Analyst",
            "Data Analyst"
           ],
           "legendgroup": "Data Analyst",
           "marker": {
            "color": "#1C8356",
            "size": [
             72000,
             85000,
             8000,
             46759,
             10000,
             6072,
             91000
            ],
            "sizemode": "area",
            "sizeref": 1500,
            "symbol": "circle"
           },
           "mode": "markers",
           "name": "Data Analyst",
           "orientation": "h",
           "showlegend": true,
           "type": "scatter",
           "x": [
            72000,
            85000,
            8000,
            46759,
            10000,
            6072,
            91000
           ],
           "xaxis": "x",
           "y": [
            "Entry",
            "Mid",
            "Mid",
            "Mid",
            "Entry",
            "Entry",
            "Entry"
           ],
           "yaxis": "y"
          },
          {
           "hovertemplate": "<b>%{hovertext}</b><br><br>job_title=Lead Data Scientist<br>work_year=2020<br>salary_in_usd=%{marker.size}<br>experience_level=%{y}<extra></extra>",
           "hovertext": [
            "Lead Data Scientist",
            "Lead Data Scientist"
           ],
           "legendgroup": "Lead Data Scientist",
           "marker": {
            "color": "#16FF32",
            "size": [
             190000,
             115000
            ],
            "sizemode": "area",
            "sizeref": 1500,
            "symbol": "circle"
           },
           "mode": "markers",
           "name": "Lead Data Scientist",
           "orientation": "h",
           "showlegend": true,
           "type": "scatter",
           "x": [
            190000,
            115000
           ],
           "xaxis": "x",
           "y": [
            "Senior",
            "Mid"
           ],
           "yaxis": "y"
          },
          {
           "hovertemplate": "<b>%{hovertext}</b><br><br>job_title=Business Data Analyst<br>work_year=2020<br>salary_in_usd=%{marker.size}<br>experience_level=%{y}<extra></extra>",
           "hovertext": [
            "Business Data Analyst",
            "Business Data Analyst"
           ],
           "legendgroup": "Business Data Analyst",
           "marker": {
            "color": "#F7E1A0",
            "size": [
             135000,
             100000
            ],
            "sizemode": "area",
            "sizeref": 1500,
            "symbol": "circle"
           },
           "mode": "markers",
           "name": "Business Data Analyst",
           "orientation": "h",
           "showlegend": true,
           "type": "scatter",
           "x": [
            135000,
            100000
           ],
           "xaxis": "x",
           "y": [
            "Mid",
            "Entry"
           ],
           "yaxis": "y"
          },
          {
           "hovertemplate": "<b>%{hovertext}</b><br><br>job_title=Lead Data Engineer<br>work_year=2020<br>salary_in_usd=%{marker.size}<br>experience_level=%{y}<extra></extra>",
           "hovertext": [
            "Lead Data Engineer",
            "Lead Data Engineer"
           ],
           "legendgroup": "Lead Data Engineer",
           "marker": {
            "color": "#E2E2E2",
            "size": [
             125000,
             56000
            ],
            "sizemode": "area",
            "sizeref": 1500,
            "symbol": "circle"
           },
           "mode": "markers",
           "name": "Lead Data Engineer",
           "orientation": "h",
           "showlegend": true,
           "type": "scatter",
           "x": [
            125000,
            56000
           ],
           "xaxis": "x",
           "y": [
            "Senior",
            "Mid"
           ],
           "yaxis": "y"
          },
          {
           "hovertemplate": "<b>%{hovertext}</b><br><br>job_title=Lead Data Analyst<br>work_year=2020<br>salary_in_usd=%{marker.size}<br>experience_level=%{y}<extra></extra>",
           "hovertext": [
            "Lead Data Analyst"
           ],
           "legendgroup": "Lead Data Analyst",
           "marker": {
            "color": "#1CBE4F",
            "size": [
             87000
            ],
            "sizemode": "area",
            "sizeref": 1500,
            "symbol": "circle"
           },
           "mode": "markers",
           "name": "Lead Data Analyst",
           "orientation": "h",
           "showlegend": true,
           "type": "scatter",
           "x": [
            87000
           ],
           "xaxis": "x",
           "y": [
            "Mid"
           ],
           "yaxis": "y"
          },
          {
           "hovertemplate": "<b>%{hovertext}</b><br><br>job_title=Data Engineer<br>work_year=2020<br>salary_in_usd=%{marker.size}<br>experience_level=%{y}<extra></extra>",
           "hovertext": [
            "Data Engineer",
            "Data Engineer",
            "Data Engineer",
            "Data Engineer",
            "Data Engineer",
            "Data Engineer",
            "Data Engineer",
            "Data Engineer",
            "Data Engineer",
            "Data Engineer",
            "Data Engineer"
           ],
           "legendgroup": "Data Engineer",
           "marker": {
            "color": "#C4451C",
            "size": [
             41689,
             47899,
             33511,
             74130,
             106000,
             112872,
             188000,
             70139,
             54742,
             110000,
             130800
            ],
            "sizemode": "area",
            "sizeref": 1500,
            "symbol": "circle"
           },
           "mode": "markers",
           "name": "Data Engineer",
           "orientation": "h",
           "showlegend": true,
           "type": "scatter",
           "x": [
            41689,
            47899,
            33511,
            74130,
            106000,
            112872,
            188000,
            70139,
            54742,
            110000,
            130800
           ],
           "xaxis": "x",
           "y": [
            "Entry",
            "Senior",
            "Senior",
            "Mid",
            "Mid",
            "Mid",
            "Senior",
            "Mid",
            "Entry",
            "Mid",
            "Mid"
           ],
           "yaxis": "y"
          },
          {
           "hovertemplate": "<b>%{hovertext}</b><br><br>job_title=Data Science Consultant<br>work_year=2020<br>salary_in_usd=%{marker.size}<br>experience_level=%{y}<extra></extra>",
           "hovertext": [
            "Data Science Consultant",
            "Data Science Consultant"
           ],
           "legendgroup": "Data Science Consultant",
           "marker": {
            "color": "#DEA0FD",
            "size": [
             5707,
             103000
            ],
            "sizemode": "area",
            "sizeref": 1500,
            "symbol": "circle"
           },
           "mode": "markers",
           "name": "Data Science Consultant",
           "orientation": "h",
           "showlegend": true,
           "type": "scatter",
           "x": [
            5707,
            103000
           ],
           "xaxis": "x",
           "y": [
            "Entry",
            "Mid"
           ],
           "yaxis": "y"
          },
          {
           "hovertemplate": "<b>%{hovertext}</b><br><br>job_title=BI Data Analyst<br>work_year=2020<br>salary_in_usd=%{marker.size}<br>experience_level=%{y}<extra></extra>",
           "hovertext": [
            "BI Data Analyst"
           ],
           "legendgroup": "BI Data Analyst",
           "marker": {
            "color": "#FE00FA",
            "size": [
             98000
            ],
            "sizemode": "area",
            "sizeref": 1500,
            "symbol": "circle"
           },
           "mode": "markers",
           "name": "BI Data Analyst",
           "orientation": "h",
           "showlegend": true,
           "type": "scatter",
           "x": [
            98000
           ],
           "xaxis": "x",
           "y": [
            "Mid"
           ],
           "yaxis": "y"
          },
          {
           "hovertemplate": "<b>%{hovertext}</b><br><br>job_title=Director of Data Science<br>work_year=2020<br>salary_in_usd=%{marker.size}<br>experience_level=%{y}<extra></extra>",
           "hovertext": [
            "Director of Data Science"
           ],
           "legendgroup": "Director of Data Science",
           "marker": {
            "color": "#325A9B",
            "size": [
             325000
            ],
            "sizemode": "area",
            "sizeref": 1500,
            "symbol": "circle"
           },
           "mode": "markers",
           "name": "Director of Data Science",
           "orientation": "h",
           "showlegend": true,
           "type": "scatter",
           "x": [
            325000
           ],
           "xaxis": "x",
           "y": [
            "Executive"
           ],
           "yaxis": "y"
          },
          {
           "hovertemplate": "<b>%{hovertext}</b><br><br>job_title=Research Scientist<br>work_year=2020<br>salary_in_usd=%{marker.size}<br>experience_level=%{y}<extra></extra>",
           "hovertext": [
            "Research Scientist",
            "Research Scientist"
           ],
           "legendgroup": "Research Scientist",
           "marker": {
            "color": "#FEAF16",
            "size": [
             42000,
             450000
            ],
            "sizemode": "area",
            "sizeref": 1500,
            "symbol": "circle"
           },
           "mode": "markers",
           "name": "Research Scientist",
           "orientation": "h",
           "showlegend": true,
           "type": "scatter",
           "x": [
            42000,
            450000
           ],
           "xaxis": "x",
           "y": [
            "Entry",
            "Mid"
           ],
           "yaxis": "y"
          },
          {
           "hovertemplate": "<b>%{hovertext}</b><br><br>job_title=Machine Learning Manager<br>work_year=2020<br>salary_in_usd=%{marker.size}<br>experience_level=%{y}<extra></extra>",
           "hovertext": [
            "Machine Learning Manager"
           ],
           "legendgroup": "Machine Learning Manager",
           "marker": {
            "color": "#F8A19F",
            "size": [
             117104
            ],
            "sizemode": "area",
            "sizeref": 1500,
            "symbol": "circle"
           },
           "mode": "markers",
           "name": "Machine Learning Manager",
           "orientation": "h",
           "showlegend": true,
           "type": "scatter",
           "x": [
            117104
           ],
           "xaxis": "x",
           "y": [
            "Senior"
           ],
           "yaxis": "y"
          },
          {
           "hovertemplate": "<b>%{hovertext}</b><br><br>job_title=Data Engineering Manager<br>work_year=2020<br>salary_in_usd=%{marker.size}<br>experience_level=%{y}<extra></extra>",
           "hovertext": [
            "Data Engineering Manager",
            "Data Engineering Manager"
           ],
           "legendgroup": "Data Engineering Manager",
           "marker": {
            "color": "#90AD1C",
            "size": [
             59303,
             79833
            ],
            "sizemode": "area",
            "sizeref": 1500,
            "symbol": "circle"
           },
           "mode": "markers",
           "name": "Data Engineering Manager",
           "orientation": "h",
           "showlegend": true,
           "type": "scatter",
           "x": [
            59303,
            79833
           ],
           "xaxis": "x",
           "y": [
            "Mid",
            "Executive"
           ],
           "yaxis": "y"
          },
          {
           "hovertemplate": "<b>%{hovertext}</b><br><br>job_title=Machine Learning Infrastructure Engineer<br>work_year=2020<br>salary_in_usd=%{marker.size}<br>experience_level=%{y}<extra></extra>",
           "hovertext": [
            "Machine Learning Infrastructure Engineer"
           ],
           "legendgroup": "Machine Learning Infrastructure Engineer",
           "marker": {
            "color": "#F6222E",
            "size": [
             50180
            ],
            "sizemode": "area",
            "sizeref": 1500,
            "symbol": "circle"
           },
           "mode": "markers",
           "name": "Machine Learning Infrastructure Engineer",
           "orientation": "h",
           "showlegend": true,
           "type": "scatter",
           "x": [
            50180
           ],
           "xaxis": "x",
           "y": [
            "Mid"
           ],
           "yaxis": "y"
          },
          {
           "hovertemplate": "<b>%{hovertext}</b><br><br>job_title=ML Engineer<br>work_year=2020<br>salary_in_usd=%{marker.size}<br>experience_level=%{y}<extra></extra>",
           "hovertext": [
            "ML Engineer"
           ],
           "legendgroup": "ML Engineer",
           "marker": {
            "color": "#1CFFCE",
            "size": [
             15966
            ],
            "sizemode": "area",
            "sizeref": 1500,
            "symbol": "circle"
           },
           "mode": "markers",
           "name": "ML Engineer",
           "orientation": "h",
           "showlegend": true,
           "type": "scatter",
           "x": [
            15966
           ],
           "xaxis": "x",
           "y": [
            "Entry"
           ],
           "yaxis": "y"
          },
          {
           "hovertemplate": "<b>%{hovertext}</b><br><br>job_title=AI Scientist<br>work_year=2020<br>salary_in_usd=%{marker.size}<br>experience_level=%{y}<extra></extra>",
           "hovertext": [
            "AI Scientist"
           ],
           "legendgroup": "AI Scientist",
           "marker": {
            "color": "#2ED9FF",
            "size": [
             45896
            ],
            "sizemode": "area",
            "sizeref": 1500,
            "symbol": "circle"
           },
           "mode": "markers",
           "name": "AI Scientist",
           "orientation": "h",
           "showlegend": true,
           "type": "scatter",
           "x": [
            45896
           ],
           "xaxis": "x",
           "y": [
            "Entry"
           ],
           "yaxis": "y"
          },
          {
           "hovertemplate": "<b>%{hovertext}</b><br><br>job_title=Computer Vision Engineer<br>work_year=2020<br>salary_in_usd=%{marker.size}<br>experience_level=%{y}<extra></extra>",
           "hovertext": [
            "Computer Vision Engineer"
           ],
           "legendgroup": "Computer Vision Engineer",
           "marker": {
            "color": "#B10DA1",
            "size": [
             60000
            ],
            "sizemode": "area",
            "sizeref": 1500,
            "symbol": "circle"
           },
           "mode": "markers",
           "name": "Computer Vision Engineer",
           "orientation": "h",
           "showlegend": true,
           "type": "scatter",
           "x": [
            60000
           ],
           "xaxis": "x",
           "y": [
            "Senior"
           ],
           "yaxis": "y"
          },
          {
           "hovertemplate": "<b>%{hovertext}</b><br><br>job_title=Principal Data Scientist<br>work_year=2020<br>salary_in_usd=%{marker.size}<br>experience_level=%{y}<extra></extra>",
           "hovertext": [
            "Principal Data Scientist"
           ],
           "legendgroup": "Principal Data Scientist",
           "marker": {
            "color": "#C075A6",
            "size": [
             148261
            ],
            "sizemode": "area",
            "sizeref": 1500,
            "symbol": "circle"
           },
           "mode": "markers",
           "name": "Principal Data Scientist",
           "orientation": "h",
           "showlegend": true,
           "type": "scatter",
           "x": [
            148261
           ],
           "xaxis": "x",
           "y": [
            "Senior"
           ],
           "yaxis": "y"
          },
          {
           "hovertemplate": "<b>%{hovertext}</b><br><br>job_title=Data Science Manager<br>work_year=2020<br>salary_in_usd=%{marker.size}<br>experience_level=%{y}<extra></extra>",
           "hovertext": [
            "Data Science Manager"
           ],
           "legendgroup": "Data Science Manager",
           "marker": {
            "color": "#FC1CBF",
            "size": [
             190200
            ],
            "sizemode": "area",
            "sizeref": 1500,
            "symbol": "circle"
           },
           "mode": "markers",
           "name": "Data Science Manager",
           "orientation": "h",
           "showlegend": true,
           "type": "scatter",
           "x": [
            190200
           ],
           "xaxis": "x",
           "y": [
            "Senior"
           ],
           "yaxis": "y"
          }
         ],
         "name": "2020"
        },
        {
         "data": [
          {
           "hovertemplate": "<b>%{hovertext}</b><br><br>job_title=Data Scientist<br>work_year=2021<br>salary_in_usd=%{marker.size}<br>experience_level=%{y}<extra></extra>",
           "hovertext": [
            "Data Scientist",
            "Data Scientist",
            "Data Scientist",
            "Data Scientist",
            "Data Scientist",
            "Data Scientist",
            "Data Scientist",
            "Data Scientist",
            "Data Scientist",
            "Data Scientist",
            "Data Scientist",
            "Data Scientist",
            "Data Scientist",
            "Data Scientist",
            "Data Scientist",
            "Data Scientist",
            "Data Scientist",
            "Data Scientist",
            "Data Scientist",
            "Data Scientist",
            "Data Scientist",
            "Data Scientist",
            "Data Scientist",
            "Data Scientist",
            "Data Scientist",
            "Data Scientist",
            "Data Scientist",
            "Data Scientist",
            "Data Scientist",
            "Data Scientist",
            "Data Scientist",
            "Data Scientist",
            "Data Scientist",
            "Data Scientist",
            "Data Scientist",
            "Data Scientist",
            "Data Scientist",
            "Data Scientist",
            "Data Scientist",
            "Data Scientist",
            "Data Scientist",
            "Data Scientist",
            "Data Scientist",
            "Data Scientist",
            "Data Scientist"
           ],
           "legendgroup": "Data Scientist",
           "marker": {
            "color": "#AA0DFE",
            "size": [
             53192,
             29751,
             73000,
             50000,
             9466,
             49646,
             100000,
             80000,
             82500,
             150000,
             75774,
             13400,
             119059,
             2859,
             40038,
             5679,
             90734,
             147000,
             61467,
             37825,
             160000,
             12901,
             90734,
             116914,
             33808,
             56256,
             87738,
             88654,
             135000,
             46809,
             4000,
             103691,
             165000,
             36643,
             115000,
             90000,
             28399,
             130000,
             16904,
             25532,
             77684,
             100000,
             58000,
             20171,
             109000
            ],
            "sizemode": "area",
            "sizeref": 1500,
            "symbol": "circle"
           },
           "mode": "markers",
           "name": "Data Scientist",
           "orientation": "h",
           "showlegend": true,
           "type": "scatter",
           "x": [
            53192,
            29751,
            73000,
            50000,
            9466,
            49646,
            100000,
            80000,
            82500,
            150000,
            75774,
            13400,
            119059,
            2859,
            40038,
            5679,
            90734,
            147000,
            61467,
            37825,
            160000,
            12901,
            90734,
            116914,
            33808,
            56256,
            87738,
            88654,
            135000,
            46809,
            4000,
            103691,
            165000,
            36643,
            115000,
            90000,
            28399,
            130000,
            16904,
            25532,
            77684,
            100000,
            58000,
            20171,
            109000
           ],
           "xaxis": "x",
           "y": [
            "Senior",
            "Entry",
            "Mid",
            "Mid",
            "Mid",
            "Entry",
            "Entry",
            "Entry",
            "Mid",
            "Mid",
            "Mid",
            "Entry",
            "Mid",
            "Mid",
            "Mid",
            "Mid",
            "Mid",
            "Mid",
            "Mid",
            "Mid",
            "Mid",
            "Mid",
            "Mid",
            "Mid",
            "Mid",
            "Mid",
            "Senior",
            "Mid",
            "Senior",
            "Mid",
            "Entry",
            "Senior",
            "Senior",
            "Entry",
            "Mid",
            "Entry",
            "Entry",
            "Mid",
            "Mid",
            "Mid",
            "Senior",
            "Entry",
            "Entry",
            "Senior",
            "Mid"
           ],
           "yaxis": "y"
          },
          {
           "hovertemplate": "<b>%{hovertext}</b><br><br>job_title=Machine Learning Scientist<br>work_year=2021<br>salary_in_usd=%{marker.size}<br>experience_level=%{y}<extra></extra>",
           "hovertext": [
            "Machine Learning Scientist",
            "Machine Learning Scientist",
            "Machine Learning Scientist",
            "Machine Learning Scientist"
           ],
           "legendgroup": "Machine Learning Scientist",
           "marker": {
            "color": "#3283FE",
            "size": [
             225000,
             120000,
             12000,
             225000
            ],
            "sizemode": "area",
            "sizeref": 1500,
            "symbol": "circle"
           },
           "mode": "markers",
           "name": "Machine Learning Scientist",
           "orientation": "h",
           "showlegend": true,
           "type": "scatter",
           "x": [
            225000,
            120000,
            12000,
            225000
           ],
           "xaxis": "x",
           "y": [
            "Entry",
            "Senior",
            "Mid",
            "Senior"
           ],
           "yaxis": "y"
          },
          {
           "hovertemplate": "<b>%{hovertext}</b><br><br>job_title=Big Data Engineer<br>work_year=2021<br>salary_in_usd=%{marker.size}<br>experience_level=%{y}<extra></extra>",
           "hovertext": [
            "Big Data Engineer",
            "Big Data Engineer",
            "Big Data Engineer",
            "Big Data Engineer",
            "Big Data Engineer"
           ],
           "legendgroup": "Big Data Engineer",
           "marker": {
            "color": "#85660D",
            "size": [
             60000,
             22611,
             18000,
             5882,
             16228
            ],
            "sizemode": "area",
            "sizeref": 1500,
            "symbol": "circle"
           },
           "mode": "markers",
           "name": "Big Data Engineer",
           "orientation": "h",
           "showlegend": true,
           "type": "scatter",
           "x": [
            60000,
            22611,
            18000,
            5882,
            16228
           ],
           "xaxis": "x",
           "y": [
            "Mid",
            "Mid",
            "Mid",
            "Entry",
            "Entry"
           ],
           "yaxis": "y"
          },
          {
           "hovertemplate": "<b>%{hovertext}</b><br><br>job_title=Machine Learning Engineer<br>work_year=2021<br>salary_in_usd=%{marker.size}<br>experience_level=%{y}<extra></extra>",
           "hovertext": [
            "Machine Learning Engineer",
            "Machine Learning Engineer",
            "Machine Learning Engineer",
            "Machine Learning Engineer",
            "Machine Learning Engineer",
            "Machine Learning Engineer",
            "Machine Learning Engineer",
            "Machine Learning Engineer",
            "Machine Learning Engineer",
            "Machine Learning Engineer",
            "Machine Learning Engineer",
            "Machine Learning Engineer",
            "Machine Learning Engineer",
            "Machine Learning Engineer",
            "Machine Learning Engineer",
            "Machine Learning Engineer",
            "Machine Learning Engineer",
            "Machine Learning Engineer"
           ],
           "legendgroup": "Machine Learning Engineer",
           "marker": {
            "color": "#565656",
            "size": [
             47282,
             94564,
             20000,
             82744,
             125000,
             81000,
             74000,
             21844,
             24342,
             200000,
             24823,
             24823,
             88654,
             46597,
             185000,
             66265,
             85000,
             51064
            ],
            "sizemode": "area",
            "sizeref": 1500,
            "symbol": "circle"
           },
           "mode": "markers",
           "name": "Machine Learning Engineer",
           "orientation": "h",
           "showlegend": true,
           "type": "scatter",
           "x": [
            47282,
            94564,
            20000,
            82744,
            125000,
            81000,
            74000,
            21844,
            24342,
            200000,
            24823,
            24823,
            88654,
            46597,
            185000,
            66265,
            85000,
            51064
           ],
           "xaxis": "x",
           "y": [
            "Mid",
            "Senior",
            "Entry",
            "Senior",
            "Entry",
            "Entry",
            "Mid",
            "Entry",
            "Senior",
            "Senior",
            "Mid",
            "Entry",
            "Mid",
            "Mid",
            "Senior",
            "Senior",
            "Entry",
            "Mid"
           ],
           "yaxis": "y"
          },
          {
           "hovertemplate": "<b>%{hovertext}</b><br><br>job_title=Data Analyst<br>work_year=2021<br>salary_in_usd=%{marker.size}<br>experience_level=%{y}<extra></extra>",
           "hovertext": [
            "Data Analyst",
            "Data Analyst",
            "Data Analyst",
            "Data Analyst",
            "Data Analyst",
            "Data Analyst",
            "Data Analyst",
            "Data Analyst",
            "Data Analyst",
            "Data Analyst",
            "Data Analyst",
            "Data Analyst",
            "Data Analyst",
            "Data Analyst",
            "Data Analyst",
            "Data Analyst",
            "Data Analyst"
           ],
           "legendgroup": "Data Analyst",
           "marker": {
            "color": "#1C8356",
            "size": [
             80000,
             59102,
             80000,
             75000,
             62000,
             51519,
             90000,
             50000,
             10354,
             90000,
             135000,
             60000,
             71786,
             200000,
             80000,
             93000,
             63831
            ],
            "sizemode": "area",
            "sizeref": 1500,
            "symbol": "circle"
           },
           "mode": "markers",
           "name": "Data Analyst",
           "orientation": "h",
           "showlegend": true,
           "type": "scatter",
           "x": [
            80000,
            59102,
            80000,
            75000,
            62000,
            51519,
            90000,
            50000,
            10354,
            90000,
            135000,
            60000,
            71786,
            200000,
            80000,
            93000,
            63831
           ],
           "xaxis": "x",
           "y": [
            "Entry",
            "Entry",
            "Senior",
            "Mid",
            "Mid",
            "Mid",
            "Entry",
            "Entry",
            "Entry",
            "Mid",
            "Mid",
            "Entry",
            "Senior",
            "Senior",
            "Mid",
            "Mid",
            "Senior"
           ],
           "yaxis": "y"
          },
          {
           "hovertemplate": "<b>%{hovertext}</b><br><br>job_title=Lead Data Scientist<br>work_year=2021<br>salary_in_usd=%{marker.size}<br>experience_level=%{y}<extra></extra>",
           "hovertext": [
            "Lead Data Scientist"
           ],
           "legendgroup": "Lead Data Scientist",
           "marker": {
            "color": "#16FF32",
            "size": [
             40570
            ],
            "sizemode": "area",
            "sizeref": 1500,
            "symbol": "circle"
           },
           "mode": "markers",
           "name": "Lead Data Scientist",
           "orientation": "h",
           "showlegend": true,
           "type": "scatter",
           "x": [
            40570
           ],
           "xaxis": "x",
           "y": [
            "Senior"
           ],
           "yaxis": "y"
          },
          {
           "hovertemplate": "<b>%{hovertext}</b><br><br>job_title=Business Data Analyst<br>work_year=2021<br>salary_in_usd=%{marker.size}<br>experience_level=%{y}<extra></extra>",
           "hovertext": [
            "Business Data Analyst"
           ],
           "legendgroup": "Business Data Analyst",
           "marker": {
            "color": "#F7E1A0",
            "size": [
             59102
            ],
            "sizemode": "area",
            "sizeref": 1500,
            "symbol": "circle"
           },
           "mode": "markers",
           "name": "Business Data Analyst",
           "orientation": "h",
           "showlegend": true,
           "type": "scatter",
           "x": [
            59102
           ],
           "xaxis": "x",
           "y": [
            "Entry"
           ],
           "yaxis": "y"
          },
          {
           "hovertemplate": "<b>%{hovertext}</b><br><br>job_title=Lead Data Engineer<br>work_year=2021<br>salary_in_usd=%{marker.size}<br>experience_level=%{y}<extra></extra>",
           "hovertext": [
            "Lead Data Engineer",
            "Lead Data Engineer",
            "Lead Data Engineer"
           ],
           "legendgroup": "Lead Data Engineer",
           "marker": {
            "color": "#E2E2E2",
            "size": [
             276000,
             103160,
             160000
            ],
            "sizemode": "area",
            "sizeref": 1500,
            "symbol": "circle"
           },
           "mode": "markers",
           "name": "Lead Data Engineer",
           "orientation": "h",
           "showlegend": true,
           "type": "scatter",
           "x": [
            276000,
            103160,
            160000
           ],
           "xaxis": "x",
           "y": [
            "Senior",
            "Senior",
            "Senior"
           ],
           "yaxis": "y"
          },
          {
           "hovertemplate": "<b>%{hovertext}</b><br><br>job_title=Lead Data Analyst<br>work_year=2021<br>salary_in_usd=%{marker.size}<br>experience_level=%{y}<extra></extra>",
           "hovertext": [
            "Lead Data Analyst",
            "Lead Data Analyst"
           ],
           "legendgroup": "Lead Data Analyst",
           "marker": {
            "color": "#1CBE4F",
            "size": [
             170000,
             19609
            ],
            "sizemode": "area",
            "sizeref": 1500,
            "symbol": "circle"
           },
           "mode": "markers",
           "name": "Lead Data Analyst",
           "orientation": "h",
           "showlegend": true,
           "type": "scatter",
           "x": [
            170000,
            19609
           ],
           "xaxis": "x",
           "y": [
            "Senior",
            "Mid"
           ],
           "yaxis": "y"
          },
          {
           "hovertemplate": "<b>%{hovertext}</b><br><br>job_title=Data Engineer<br>work_year=2021<br>salary_in_usd=%{marker.size}<br>experience_level=%{y}<extra></extra>",
           "hovertext": [
            "Data Engineer",
            "Data Engineer",
            "Data Engineer",
            "Data Engineer",
            "Data Engineer",
            "Data Engineer",
            "Data Engineer",
            "Data Engineer",
            "Data Engineer",
            "Data Engineer",
            "Data Engineer",
            "Data Engineer",
            "Data Engineer",
            "Data Engineer",
            "Data Engineer",
            "Data Engineer",
            "Data Engineer",
            "Data Engineer",
            "Data Engineer",
            "Data Engineer",
            "Data Engineer",
            "Data Engineer",
            "Data Engineer",
            "Data Engineer",
            "Data Engineer",
            "Data Engineer",
            "Data Engineer",
            "Data Engineer",
            "Data Engineer",
            "Data Engineer",
            "Data Engineer",
            "Data Engineer"
           ],
           "legendgroup": "Data Engineer",
           "marker": {
            "color": "#C4451C",
            "size": [
             140000,
             28476,
             150000,
             115000,
             150000,
             30428,
             45391,
             200000,
             100000,
             90000,
             28369,
             80000,
             82528,
             26005,
             4000,
             76833,
             165000,
             20000,
             66022,
             21637,
             110000,
             72212,
             12103,
             96282,
             200000,
             93150,
             111775,
             28016,
             65013,
             72500,
             112000,
             69741
            ],
            "sizemode": "area",
            "sizeref": 1500,
            "symbol": "circle"
           },
           "mode": "markers",
           "name": "Data Engineer",
           "orientation": "h",
           "showlegend": true,
           "type": "scatter",
           "x": [
            140000,
            28476,
            150000,
            115000,
            150000,
            30428,
            45391,
            200000,
            100000,
            90000,
            28369,
            80000,
            82528,
            26005,
            4000,
            76833,
            165000,
            20000,
            66022,
            21637,
            110000,
            72212,
            12103,
            96282,
            200000,
            93150,
            111775,
            28016,
            65013,
            72500,
            112000,
            69741
           ],
           "xaxis": "x",
           "y": [
            "Mid",
            "Mid",
            "Senior",
            "Senior",
            "Senior",
            "Entry",
            "Mid",
            "Mid",
            "Mid",
            "Mid",
            "Mid",
            "Entry",
            "Mid",
            "Mid",
            "Mid",
            "Senior",
            "Senior",
            "Mid",
            "Mid",
            "Entry",
            "Mid",
            "Mid",
            "Mid",
            "Senior",
            "Mid",
            "Mid",
            "Mid",
            "Mid",
            "Entry",
            "Entry",
            "Mid",
            "Mid"
           ],
           "yaxis": "y"
          },
          {
           "hovertemplate": "<b>%{hovertext}</b><br><br>job_title=Data Science Consultant<br>work_year=2021<br>salary_in_usd=%{marker.size}<br>experience_level=%{y}<extra></extra>",
           "hovertext": [
            "Data Science Consultant",
            "Data Science Consultant",
            "Data Science Consultant",
            "Data Science Consultant",
            "Data Science Consultant"
           ],
           "legendgroup": "Data Science Consultant",
           "marker": {
            "color": "#DEA0FD",
            "size": [
             76833,
             63831,
             69741,
             90000,
             76833
            ],
            "sizemode": "area",
            "sizeref": 1500,
            "symbol": "circle"
           },
           "mode": "markers",
           "name": "Data Science Consultant",
           "orientation": "h",
           "showlegend": true,
           "type": "scatter",
           "x": [
            76833,
            63831,
            69741,
            90000,
            76833
           ],
           "xaxis": "x",
           "y": [
            "Entry",
            "Entry",
            "Executive",
            "Entry",
            "Entry"
           ],
           "yaxis": "y"
          },
          {
           "hovertemplate": "<b>%{hovertext}</b><br><br>job_title=BI Data Analyst<br>work_year=2021<br>salary_in_usd=%{marker.size}<br>experience_level=%{y}<extra></extra>",
           "hovertext": [
            "BI Data Analyst",
            "BI Data Analyst",
            "BI Data Analyst",
            "BI Data Analyst",
            "BI Data Analyst"
           ],
           "legendgroup": "BI Data Analyst",
           "marker": {
            "color": "#FE00FA",
            "size": [
             150000,
             100000,
             36259,
             55000,
             9272
            ],
            "sizemode": "area",
            "sizeref": 1500,
            "symbol": "circle"
           },
           "mode": "markers",
           "name": "BI Data Analyst",
           "orientation": "h",
           "showlegend": true,
           "type": "scatter",
           "x": [
            150000,
            100000,
            36259,
            55000,
            9272
           ],
           "xaxis": "x",
           "y": [
            "Executive",
            "Mid",
            "Mid",
            "Entry",
            "Entry"
           ],
           "yaxis": "y"
          },
          {
           "hovertemplate": "<b>%{hovertext}</b><br><br>job_title=Director of Data Science<br>work_year=2021<br>salary_in_usd=%{marker.size}<br>experience_level=%{y}<extra></extra>",
           "hovertext": [
            "Director of Data Science",
            "Director of Data Science",
            "Director of Data Science",
            "Director of Data Science",
            "Director of Data Science"
           ],
           "legendgroup": "Director of Data Science",
           "marker": {
            "color": "#325A9B",
            "size": [
             153667,
             168000,
             130026,
             250000,
             141846
            ],
            "sizemode": "area",
            "sizeref": 1500,
            "symbol": "circle"
           },
           "mode": "markers",
           "name": "Director of Data Science",
           "orientation": "h",
           "showlegend": true,
           "type": "scatter",
           "x": [
            153667,
            168000,
            130026,
            250000,
            141846
           ],
           "xaxis": "x",
           "y": [
            "Executive",
            "Senior",
            "Executive",
            "Executive",
            "Executive"
           ],
           "yaxis": "y"
          },
          {
           "hovertemplate": "<b>%{hovertext}</b><br><br>job_title=Research Scientist<br>work_year=2021<br>salary_in_usd=%{marker.size}<br>experience_level=%{y}<extra></extra>",
           "hovertext": [
            "Research Scientist",
            "Research Scientist",
            "Research Scientist",
            "Research Scientist",
            "Research Scientist",
            "Research Scientist",
            "Research Scientist",
            "Research Scientist",
            "Research Scientist",
            "Research Scientist"
           ],
           "legendgroup": "Research Scientist",
           "marker": {
            "color": "#FEAF16",
            "size": [
             82528,
             187442,
             62649,
             60757,
             96113,
             50000,
             56738,
             63810,
             100000,
             69999
            ],
            "sizemode": "area",
            "sizeref": 1500,
            "symbol": "circle"
           },
           "mode": "markers",
           "name": "Research Scientist",
           "orientation": "h",
           "showlegend": true,
           "type": "scatter",
           "x": [
            82528,
            187442,
            62649,
            60757,
            96113,
            50000,
            56738,
            63810,
            100000,
            69999
           ],
           "xaxis": "x",
           "y": [
            "Entry",
            "Mid",
            "Mid",
            "Senior",
            "Senior",
            "Senior",
            "Mid",
            "Mid",
            "Entry",
            "Mid"
           ],
           "yaxis": "y"
          },
          {
           "hovertemplate": "<b>%{hovertext}</b><br><br>job_title=Data Engineering Manager<br>work_year=2021<br>salary_in_usd=%{marker.size}<br>experience_level=%{y}<extra></extra>",
           "hovertext": [
            "Data Engineering Manager",
            "Data Engineering Manager",
            "Data Engineering Manager"
           ],
           "legendgroup": "Data Engineering Manager",
           "marker": {
            "color": "#90AD1C",
            "size": [
             150000,
             153000,
             174000
            ],
            "sizemode": "area",
            "sizeref": 1500,
            "symbol": "circle"
           },
           "mode": "markers",
           "name": "Data Engineering Manager",
           "orientation": "h",
           "showlegend": true,
           "type": "scatter",
           "x": [
            150000,
            153000,
            174000
           ],
           "xaxis": "x",
           "y": [
            "Senior",
            "Senior",
            "Senior"
           ],
           "yaxis": "y"
          },
          {
           "hovertemplate": "<b>%{hovertext}</b><br><br>job_title=Machine Learning Infrastructure Engineer<br>work_year=2021<br>salary_in_usd=%{marker.size}<br>experience_level=%{y}<extra></extra>",
           "hovertext": [
            "Machine Learning Infrastructure Engineer"
           ],
           "legendgroup": "Machine Learning Infrastructure Engineer",
           "marker": {
            "color": "#F6222E",
            "size": [
             195000
            ],
            "sizemode": "area",
            "sizeref": 1500,
            "symbol": "circle"
           },
           "mode": "markers",
           "name": "Machine Learning Infrastructure Engineer",
           "orientation": "h",
           "showlegend": true,
           "type": "scatter",
           "x": [
            195000
           ],
           "xaxis": "x",
           "y": [
            "Senior"
           ],
           "yaxis": "y"
          },
          {
           "hovertemplate": "<b>%{hovertext}</b><br><br>job_title=ML Engineer<br>work_year=2021<br>salary_in_usd=%{marker.size}<br>experience_level=%{y}<extra></extra>",
           "hovertext": [
            "ML Engineer",
            "ML Engineer",
            "ML Engineer",
            "ML Engineer"
           ],
           "legendgroup": "ML Engineer",
           "marker": {
            "color": "#1CFFCE",
            "size": [
             270000,
             63711,
             77364,
             256000
            ],
            "sizemode": "area",
            "sizeref": 1500,
            "symbol": "circle"
           },
           "mode": "markers",
           "name": "ML Engineer",
           "orientation": "h",
           "showlegend": true,
           "type": "scatter",
           "x": [
            270000,
            63711,
            77364,
            256000
           ],
           "xaxis": "x",
           "y": [
            "Mid",
            "Mid",
            "Mid",
            "Senior"
           ],
           "yaxis": "y"
          },
          {
           "hovertemplate": "<b>%{hovertext}</b><br><br>job_title=AI Scientist<br>work_year=2021<br>salary_in_usd=%{marker.size}<br>experience_level=%{y}<extra></extra>",
           "hovertext": [
            "AI Scientist",
            "AI Scientist",
            "AI Scientist",
            "AI Scientist"
           ],
           "legendgroup": "AI Scientist",
           "marker": {
            "color": "#2ED9FF",
            "size": [
             12000,
             12000,
             18053,
             55000
            ],
            "sizemode": "area",
            "sizeref": 1500,
            "symbol": "circle"
           },
           "mode": "markers",
           "name": "AI Scientist",
           "orientation": "h",
           "showlegend": true,
           "type": "scatter",
           "x": [
            12000,
            12000,
            18053,
            55000
           ],
           "xaxis": "x",
           "y": [
            "Entry",
            "Entry",
            "Entry",
            "Senior"
           ],
           "yaxis": "y"
          },
          {
           "hovertemplate": "<b>%{hovertext}</b><br><br>job_title=Computer Vision Engineer<br>work_year=2021<br>salary_in_usd=%{marker.size}<br>experience_level=%{y}<extra></extra>",
           "hovertext": [
            "Computer Vision Engineer",
            "Computer Vision Engineer",
            "Computer Vision Engineer"
           ],
           "legendgroup": "Computer Vision Engineer",
           "marker": {
            "color": "#B10DA1",
            "size": [
             24000,
             28609,
             18907
            ],
            "sizemode": "area",
            "sizeref": 1500,
            "symbol": "circle"
           },
           "mode": "markers",
           "name": "Computer Vision Engineer",
           "orientation": "h",
           "showlegend": true,
           "type": "scatter",
           "x": [
            24000,
            28609,
            18907
           ],
           "xaxis": "x",
           "y": [
            "Senior",
            "Entry",
            "Senior"
           ],
           "yaxis": "y"
          },
          {
           "hovertemplate": "<b>%{hovertext}</b><br><br>job_title=Principal Data Scientist<br>work_year=2021<br>salary_in_usd=%{marker.size}<br>experience_level=%{y}<extra></extra>",
           "hovertext": [
            "Principal Data Scientist",
            "Principal Data Scientist",
            "Principal Data Scientist",
            "Principal Data Scientist",
            "Principal Data Scientist"
           ],
           "legendgroup": "Principal Data Scientist",
           "marker": {
            "color": "#C075A6",
            "size": [
             151000,
             220000,
             235000,
             416000,
             173762
            ],
            "sizemode": "area",
            "sizeref": 1500,
            "symbol": "circle"
           },
           "mode": "markers",
           "name": "Principal Data Scientist",
           "orientation": "h",
           "showlegend": true,
           "type": "scatter",
           "x": [
            151000,
            220000,
            235000,
            416000,
            173762
           ],
           "xaxis": "x",
           "y": [
            "Mid",
            "Senior",
            "Senior",
            "Executive",
            "Senior"
           ],
           "yaxis": "y"
          },
          {
           "hovertemplate": "<b>%{hovertext}</b><br><br>job_title=Data Science Manager<br>work_year=2021<br>salary_in_usd=%{marker.size}<br>experience_level=%{y}<extra></extra>",
           "hovertext": [
            "Data Science Manager",
            "Data Science Manager",
            "Data Science Manager",
            "Data Science Manager",
            "Data Science Manager",
            "Data Science Manager"
           ],
           "legendgroup": "Data Science Manager",
           "marker": {
            "color": "#FC1CBF",
            "size": [
             240000,
             144000,
             152000,
             174000,
             54094,
             94665
            ],
            "sizemode": "area",
            "sizeref": 1500,
            "symbol": "circle"
           },
           "mode": "markers",
           "name": "Data Science Manager",
           "orientation": "h",
           "showlegend": true,
           "type": "scatter",
           "x": [
            240000,
            144000,
            152000,
            174000,
            54094,
            94665
           ],
           "xaxis": "x",
           "y": [
            "Senior",
            "Senior",
            "Senior",
            "Senior",
            "Senior",
            "Senior"
           ],
           "yaxis": "y"
          },
          {
           "hovertemplate": "<b>%{hovertext}</b><br><br>job_title=Head of Data<br>work_year=2021<br>salary_in_usd=%{marker.size}<br>experience_level=%{y}<extra></extra>",
           "hovertext": [
            "Head of Data",
            "Head of Data",
            "Head of Data"
           ],
           "legendgroup": "Head of Data",
           "marker": {
            "color": "#B00068",
            "size": [
             235000,
             230000,
             102839
            ],
            "sizemode": "area",
            "sizeref": 1500,
            "symbol": "circle"
           },
           "mode": "markers",
           "name": "Head of Data",
           "orientation": "h",
           "showlegend": true,
           "type": "scatter",
           "x": [
            235000,
            230000,
            102839
           ],
           "xaxis": "x",
           "y": [
            "Executive",
            "Executive",
            "Senior"
           ],
           "yaxis": "y"
          },
          {
           "hovertemplate": "<b>%{hovertext}</b><br><br>job_title=3D Computer Vision Researcher<br>work_year=2021<br>salary_in_usd=%{marker.size}<br>experience_level=%{y}<extra></extra>",
           "hovertext": [
            "3D Computer Vision Researcher"
           ],
           "legendgroup": "3D Computer Vision Researcher",
           "marker": {
            "color": "#FBE426",
            "size": [
             5409
            ],
            "sizemode": "area",
            "sizeref": 1500,
            "symbol": "circle"
           },
           "mode": "markers",
           "name": "3D Computer Vision Researcher",
           "orientation": "h",
           "showlegend": true,
           "type": "scatter",
           "x": [
            5409
           ],
           "xaxis": "x",
           "y": [
            "Mid"
           ],
           "yaxis": "y"
          },
          {
           "hovertemplate": "<b>%{hovertext}</b><br><br>job_title=Data Analytics Engineer<br>work_year=2021<br>salary_in_usd=%{marker.size}<br>experience_level=%{y}<extra></extra>",
           "hovertext": [
            "Data Analytics Engineer",
            "Data Analytics Engineer",
            "Data Analytics Engineer"
           ],
           "legendgroup": "Data Analytics Engineer",
           "marker": {
            "color": "#FA0087",
            "size": [
             79197,
             110000,
             50000
            ],
            "sizemode": "area",
            "sizeref": 1500,
            "symbol": "circle"
           },
           "mode": "markers",
           "name": "Data Analytics Engineer",
           "orientation": "h",
           "showlegend": true,
           "type": "scatter",
           "x": [
            79197,
            110000,
            50000
           ],
           "xaxis": "x",
           "y": [
            "Senior",
            "Mid",
            "Senior"
           ],
           "yaxis": "y"
          },
          {
           "hovertemplate": "<b>%{hovertext}</b><br><br>job_title=Applied Data Scientist<br>work_year=2021<br>salary_in_usd=%{marker.size}<br>experience_level=%{y}<extra></extra>",
           "hovertext": [
            "Applied Data Scientist",
            "Applied Data Scientist"
           ],
           "legendgroup": "Applied Data Scientist",
           "marker": {
            "color": "#AA0DFE",
            "size": [
             54238,
             110037
            ],
            "sizemode": "area",
            "sizeref": 1500,
            "symbol": "circle"
           },
           "mode": "markers",
           "name": "Applied Data Scientist",
           "orientation": "h",
           "showlegend": true,
           "type": "scatter",
           "x": [
            54238,
            110037
           ],
           "xaxis": "x",
           "y": [
            "Mid",
            "Entry"
           ],
           "yaxis": "y"
          },
          {
           "hovertemplate": "<b>%{hovertext}</b><br><br>job_title=Marketing Data Analyst<br>work_year=2021<br>salary_in_usd=%{marker.size}<br>experience_level=%{y}<extra></extra>",
           "hovertext": [
            "Marketing Data Analyst"
           ],
           "legendgroup": "Marketing Data Analyst",
           "marker": {
            "color": "#3283FE",
            "size": [
             88654
            ],
            "sizemode": "area",
            "sizeref": 1500,
            "symbol": "circle"
           },
           "mode": "markers",
           "name": "Marketing Data Analyst",
           "orientation": "h",
           "showlegend": true,
           "type": "scatter",
           "x": [
            88654
           ],
           "xaxis": "x",
           "y": [
            "Senior"
           ],
           "yaxis": "y"
          },
          {
           "hovertemplate": "<b>%{hovertext}</b><br><br>job_title=Cloud Data Engineer<br>work_year=2021<br>salary_in_usd=%{marker.size}<br>experience_level=%{y}<extra></extra>",
           "hovertext": [
            "Cloud Data Engineer",
            "Cloud Data Engineer"
           ],
           "legendgroup": "Cloud Data Engineer",
           "marker": {
            "color": "#85660D",
            "size": [
             89294,
             160000
            ],
            "sizemode": "area",
            "sizeref": 1500,
            "symbol": "circle"
           },
           "mode": "markers",
           "name": "Cloud Data Engineer",
           "orientation": "h",
           "showlegend": true,
           "type": "scatter",
           "x": [
            89294,
            160000
           ],
           "xaxis": "x",
           "y": [
            "Mid",
            "Senior"
           ],
           "yaxis": "y"
          },
          {
           "hovertemplate": "<b>%{hovertext}</b><br><br>job_title=Financial Data Analyst<br>work_year=2021<br>salary_in_usd=%{marker.size}<br>experience_level=%{y}<extra></extra>",
           "hovertext": [
            "Financial Data Analyst"
           ],
           "legendgroup": "Financial Data Analyst",
           "marker": {
            "color": "#782AB6",
            "size": [
             450000
            ],
            "sizemode": "area",
            "sizeref": 1500,
            "symbol": "circle"
           },
           "mode": "markers",
           "name": "Financial Data Analyst",
           "orientation": "h",
           "showlegend": true,
           "type": "scatter",
           "x": [
            450000
           ],
           "xaxis": "x",
           "y": [
            "Mid"
           ],
           "yaxis": "y"
          },
          {
           "hovertemplate": "<b>%{hovertext}</b><br><br>job_title=Computer Vision Software Engineer<br>work_year=2021<br>salary_in_usd=%{marker.size}<br>experience_level=%{y}<extra></extra>",
           "hovertext": [
            "Computer Vision Software Engineer",
            "Computer Vision Software Engineer"
           ],
           "legendgroup": "Computer Vision Software Engineer",
           "marker": {
            "color": "#565656",
            "size": [
             70000,
             95746
            ],
            "sizemode": "area",
            "sizeref": 1500,
            "symbol": "circle"
           },
           "mode": "markers",
           "name": "Computer Vision Software Engineer",
           "orientation": "h",
           "showlegend": true,
           "type": "scatter",
           "x": [
            70000,
            95746
           ],
           "xaxis": "x",
           "y": [
            "Entry",
            "Mid"
           ],
           "yaxis": "y"
          },
          {
           "hovertemplate": "<b>%{hovertext}</b><br><br>job_title=Director of Data Engineering<br>work_year=2021<br>salary_in_usd=%{marker.size}<br>experience_level=%{y}<extra></extra>",
           "hovertext": [
            "Director of Data Engineering",
            "Director of Data Engineering"
           ],
           "legendgroup": "Director of Data Engineering",
           "marker": {
            "color": "#1C8356",
            "size": [
             113476,
             200000
            ],
            "sizemode": "area",
            "sizeref": 1500,
            "symbol": "circle"
           },
           "mode": "markers",
           "name": "Director of Data Engineering",
           "orientation": "h",
           "showlegend": true,
           "type": "scatter",
           "x": [
            113476,
            200000
           ],
           "xaxis": "x",
           "y": [
            "Senior",
            "Senior"
           ],
           "yaxis": "y"
          },
          {
           "hovertemplate": "<b>%{hovertext}</b><br><br>job_title=Data Science Engineer<br>work_year=2021<br>salary_in_usd=%{marker.size}<br>experience_level=%{y}<extra></extra>",
           "hovertext": [
            "Data Science Engineer",
            "Data Science Engineer"
           ],
           "legendgroup": "Data Science Engineer",
           "marker": {
            "color": "#16FF32",
            "size": [
             40189,
             127221
            ],
            "sizemode": "area",
            "sizeref": 1500,
            "symbol": "circle"
           },
           "mode": "markers",
           "name": "Data Science Engineer",
           "orientation": "h",
           "showlegend": true,
           "type": "scatter",
           "x": [
            40189,
            127221
           ],
           "xaxis": "x",
           "y": [
            "Mid",
            "Senior"
           ],
           "yaxis": "y"
          },
          {
           "hovertemplate": "<b>%{hovertext}</b><br><br>job_title=Principal Data Engineer<br>work_year=2021<br>salary_in_usd=%{marker.size}<br>experience_level=%{y}<extra></extra>",
           "hovertext": [
            "Principal Data Engineer",
            "Principal Data Engineer",
            "Principal Data Engineer"
           ],
           "legendgroup": "Principal Data Engineer",
           "marker": {
            "color": "#F7E1A0",
            "size": [
             200000,
             185000,
             600000
            ],
            "sizemode": "area",
            "sizeref": 1500,
            "symbol": "circle"
           },
           "mode": "markers",
           "name": "Principal Data Engineer",
           "orientation": "h",
           "showlegend": true,
           "type": "scatter",
           "x": [
            200000,
            185000,
            600000
           ],
           "xaxis": "x",
           "y": [
            "Senior",
            "Senior",
            "Executive"
           ],
           "yaxis": "y"
          },
          {
           "hovertemplate": "<b>%{hovertext}</b><br><br>job_title=Machine Learning Developer<br>work_year=2021<br>salary_in_usd=%{marker.size}<br>experience_level=%{y}<extra></extra>",
           "hovertext": [
            "Machine Learning Developer"
           ],
           "legendgroup": "Machine Learning Developer",
           "marker": {
            "color": "#E2E2E2",
            "size": [
             100000
            ],
            "sizemode": "area",
            "sizeref": 1500,
            "symbol": "circle"
           },
           "mode": "markers",
           "name": "Machine Learning Developer",
           "orientation": "h",
           "showlegend": true,
           "type": "scatter",
           "x": [
            100000
           ],
           "xaxis": "x",
           "y": [
            "Entry"
           ],
           "yaxis": "y"
          },
          {
           "hovertemplate": "<b>%{hovertext}</b><br><br>job_title=Applied Machine Learning Scientist<br>work_year=2021<br>salary_in_usd=%{marker.size}<br>experience_level=%{y}<extra></extra>",
           "hovertext": [
            "Applied Machine Learning Scientist",
            "Applied Machine Learning Scientist"
           ],
           "legendgroup": "Applied Machine Learning Scientist",
           "marker": {
            "color": "#1CBE4F",
            "size": [
             38400,
             423000
            ],
            "sizemode": "area",
            "sizeref": 1500,
            "symbol": "circle"
           },
           "mode": "markers",
           "name": "Applied Machine Learning Scientist",
           "orientation": "h",
           "showlegend": true,
           "type": "scatter",
           "x": [
            38400,
            423000
           ],
           "xaxis": "x",
           "y": [
            "Mid",
            "Mid"
           ],
           "yaxis": "y"
          },
          {
           "hovertemplate": "<b>%{hovertext}</b><br><br>job_title=Data Analytics Manager<br>work_year=2021<br>salary_in_usd=%{marker.size}<br>experience_level=%{y}<extra></extra>",
           "hovertext": [
            "Data Analytics Manager",
            "Data Analytics Manager",
            "Data Analytics Manager"
           ],
           "legendgroup": "Data Analytics Manager",
           "marker": {
            "color": "#C4451C",
            "size": [
             120000,
             120000,
             140000
            ],
            "sizemode": "area",
            "sizeref": 1500,
            "symbol": "circle"
           },
           "mode": "markers",
           "name": "Data Analytics Manager",
           "orientation": "h",
           "showlegend": true,
           "type": "scatter",
           "x": [
            120000,
            120000,
            140000
           ],
           "xaxis": "x",
           "y": [
            "Senior",
            "Senior",
            "Senior"
           ],
           "yaxis": "y"
          },
          {
           "hovertemplate": "<b>%{hovertext}</b><br><br>job_title=Head of Data Science<br>work_year=2021<br>salary_in_usd=%{marker.size}<br>experience_level=%{y}<extra></extra>",
           "hovertext": [
            "Head of Data Science",
            "Head of Data Science"
           ],
           "legendgroup": "Head of Data Science",
           "marker": {
            "color": "#DEA0FD",
            "size": [
             85000,
             110000
            ],
            "sizemode": "area",
            "sizeref": 1500,
            "symbol": "circle"
           },
           "mode": "markers",
           "name": "Head of Data Science",
           "orientation": "h",
           "showlegend": true,
           "type": "scatter",
           "x": [
            85000,
            110000
           ],
           "xaxis": "x",
           "y": [
            "Executive",
            "Mid"
           ],
           "yaxis": "y"
          },
          {
           "hovertemplate": "<b>%{hovertext}</b><br><br>job_title=Data Specialist<br>work_year=2021<br>salary_in_usd=%{marker.size}<br>experience_level=%{y}<extra></extra>",
           "hovertext": [
            "Data Specialist"
           ],
           "legendgroup": "Data Specialist",
           "marker": {
            "color": "#FE00FA",
            "size": [
             165000
            ],
            "sizemode": "area",
            "sizeref": 1500,
            "symbol": "circle"
           },
           "mode": "markers",
           "name": "Data Specialist",
           "orientation": "h",
           "showlegend": true,
           "type": "scatter",
           "x": [
            165000
           ],
           "xaxis": "x",
           "y": [
            "Senior"
           ],
           "yaxis": "y"
          },
          {
           "hovertemplate": "<b>%{hovertext}</b><br><br>job_title=Data Architect<br>work_year=2021<br>salary_in_usd=%{marker.size}<br>experience_level=%{y}<extra></extra>",
           "hovertext": [
            "Data Architect",
            "Data Architect",
            "Data Architect"
           ],
           "legendgroup": "Data Architect",
           "marker": {
            "color": "#325A9B",
            "size": [
             150000,
             170000,
             180000
            ],
            "sizemode": "area",
            "sizeref": 1500,
            "symbol": "circle"
           },
           "mode": "markers",
           "name": "Data Architect",
           "orientation": "h",
           "showlegend": true,
           "type": "scatter",
           "x": [
            150000,
            170000,
            180000
           ],
           "xaxis": "x",
           "y": [
            "Mid",
            "Mid",
            "Mid"
           ],
           "yaxis": "y"
          },
          {
           "hovertemplate": "<b>%{hovertext}</b><br><br>job_title=Finance Data Analyst<br>work_year=2021<br>salary_in_usd=%{marker.size}<br>experience_level=%{y}<extra></extra>",
           "hovertext": [
            "Finance Data Analyst"
           ],
           "legendgroup": "Finance Data Analyst",
           "marker": {
            "color": "#FEAF16",
            "size": [
             61896
            ],
            "sizemode": "area",
            "sizeref": 1500,
            "symbol": "circle"
           },
           "mode": "markers",
           "name": "Finance Data Analyst",
           "orientation": "h",
           "showlegend": true,
           "type": "scatter",
           "x": [
            61896
           ],
           "xaxis": "x",
           "y": [
            "Senior"
           ],
           "yaxis": "y"
          },
          {
           "hovertemplate": "<b>%{hovertext}</b><br><br>job_title=Principal Data Analyst<br>work_year=2021<br>salary_in_usd=%{marker.size}<br>experience_level=%{y}<extra></extra>",
           "hovertext": [
            "Principal Data Analyst"
           ],
           "legendgroup": "Principal Data Analyst",
           "marker": {
            "color": "#F8A19F",
            "size": [
             170000
            ],
            "sizemode": "area",
            "sizeref": 1500,
            "symbol": "circle"
           },
           "mode": "markers",
           "name": "Principal Data Analyst",
           "orientation": "h",
           "showlegend": true,
           "type": "scatter",
           "x": [
            170000
           ],
           "xaxis": "x",
           "y": [
            "Senior"
           ],
           "yaxis": "y"
          },
          {
           "hovertemplate": "<b>%{hovertext}</b><br><br>job_title=Big Data Architect<br>work_year=2021<br>salary_in_usd=%{marker.size}<br>experience_level=%{y}<extra></extra>",
           "hovertext": [
            "Big Data Architect"
           ],
           "legendgroup": "Big Data Architect",
           "marker": {
            "color": "#90AD1C",
            "size": [
             99703
            ],
            "sizemode": "area",
            "sizeref": 1500,
            "symbol": "circle"
           },
           "mode": "markers",
           "name": "Big Data Architect",
           "orientation": "h",
           "showlegend": true,
           "type": "scatter",
           "x": [
            99703
           ],
           "xaxis": "x",
           "y": [
            "Senior"
           ],
           "yaxis": "y"
          },
          {
           "hovertemplate": "<b>%{hovertext}</b><br><br>job_title=Staff Data Scientist<br>work_year=2021<br>salary_in_usd=%{marker.size}<br>experience_level=%{y}<extra></extra>",
           "hovertext": [
            "Staff Data Scientist"
           ],
           "legendgroup": "Staff Data Scientist",
           "marker": {
            "color": "#F6222E",
            "size": [
             105000
            ],
            "sizemode": "area",
            "sizeref": 1500,
            "symbol": "circle"
           },
           "mode": "markers",
           "name": "Staff Data Scientist",
           "orientation": "h",
           "showlegend": true,
           "type": "scatter",
           "x": [
            105000
           ],
           "xaxis": "x",
           "y": [
            "Senior"
           ],
           "yaxis": "y"
          }
         ],
         "name": "2021"
        },
        {
         "data": [
          {
           "hovertemplate": "<b>%{hovertext}</b><br><br>job_title=Data Scientist<br>work_year=2022<br>salary_in_usd=%{marker.size}<br>experience_level=%{y}<extra></extra>",
           "hovertext": [
            "Data Scientist",
            "Data Scientist",
            "Data Scientist",
            "Data Scientist",
            "Data Scientist",
            "Data Scientist",
            "Data Scientist",
            "Data Scientist",
            "Data Scientist",
            "Data Scientist",
            "Data Scientist",
            "Data Scientist",
            "Data Scientist",
            "Data Scientist",
            "Data Scientist",
            "Data Scientist",
            "Data Scientist",
            "Data Scientist",
            "Data Scientist",
            "Data Scientist",
            "Data Scientist",
            "Data Scientist",
            "Data Scientist",
            "Data Scientist",
            "Data Scientist",
            "Data Scientist",
            "Data Scientist",
            "Data Scientist",
            "Data Scientist",
            "Data Scientist",
            "Data Scientist",
            "Data Scientist",
            "Data Scientist",
            "Data Scientist",
            "Data Scientist",
            "Data Scientist",
            "Data Scientist",
            "Data Scientist",
            "Data Scientist",
            "Data Scientist",
            "Data Scientist",
            "Data Scientist",
            "Data Scientist",
            "Data Scientist",
            "Data Scientist",
            "Data Scientist",
            "Data Scientist",
            "Data Scientist",
            "Data Scientist",
            "Data Scientist",
            "Data Scientist",
            "Data Scientist",
            "Data Scientist",
            "Data Scientist",
            "Data Scientist",
            "Data Scientist",
            "Data Scientist",
            "Data Scientist",
            "Data Scientist",
            "Data Scientist",
            "Data Scientist",
            "Data Scientist",
            "Data Scientist",
            "Data Scientist",
            "Data Scientist",
            "Data Scientist",
            "Data Scientist",
            "Data Scientist",
            "Data Scientist",
            "Data Scientist",
            "Data Scientist",
            "Data Scientist",
            "Data Scientist",
            "Data Scientist",
            "Data Scientist",
            "Data Scientist",
            "Data Scientist"
           ],
           "legendgroup": "Data Scientist",
           "marker": {
            "color": "#AA0DFE",
            "size": [
             130000,
             90000,
             136620,
             99360,
             117789,
             104702,
             146000,
             123000,
             65438,
             39263,
             165220,
             120160,
             180000,
             120000,
             95550,
             167000,
             123000,
             150000,
             211500,
             138600,
             170000,
             123000,
             215300,
             158200,
             180000,
             71982,
             45807,
             260000,
             180000,
             80000,
             140400,
             215300,
             31615,
             18442,
             104890,
             140000,
             220000,
             140000,
             183228,
             91614,
             185100,
             200000,
             120000,
             230000,
             100000,
             100000,
             35590,
             100000,
             165000,
             52396,
             40000,
             86703,
             48000,
             122346,
             69336,
             135000,
             78000,
             141300,
             102100,
             205300,
             140400,
             176000,
             144000,
             205300,
             140400,
             140000,
             210000,
             140000,
             210000,
             140000,
             210000,
             140000,
             230000,
             150000,
             210000,
             160000,
             130000
            ],
            "sizemode": "area",
            "sizeref": 1500,
            "symbol": "circle"
           },
           "mode": "markers",
           "name": "Data Scientist",
           "orientation": "h",
           "showlegend": true,
           "type": "scatter",
           "x": [
            130000,
            90000,
            136620,
            99360,
            117789,
            104702,
            146000,
            123000,
            65438,
            39263,
            165220,
            120160,
            180000,
            120000,
            95550,
            167000,
            123000,
            150000,
            211500,
            138600,
            170000,
            123000,
            215300,
            158200,
            180000,
            71982,
            45807,
            260000,
            180000,
            80000,
            140400,
            215300,
            31615,
            18442,
            104890,
            140000,
            220000,
            140000,
            183228,
            91614,
            185100,
            200000,
            120000,
            230000,
            100000,
            100000,
            35590,
            100000,
            165000,
            52396,
            40000,
            86703,
            48000,
            122346,
            69336,
            135000,
            78000,
            141300,
            102100,
            205300,
            140400,
            176000,
            144000,
            205300,
            140400,
            140000,
            210000,
            140000,
            210000,
            140000,
            210000,
            140000,
            230000,
            150000,
            210000,
            160000,
            130000
           ],
           "xaxis": "x",
           "y": [
            "Mid",
            "Mid",
            "Senior",
            "Senior",
            "Senior",
            "Senior",
            "Senior",
            "Senior",
            "Mid",
            "Mid",
            "Senior",
            "Senior",
            "Senior",
            "Senior",
            "Senior",
            "Senior",
            "Senior",
            "Senior",
            "Senior",
            "Senior",
            "Senior",
            "Senior",
            "Senior",
            "Senior",
            "Senior",
            "Mid",
            "Mid",
            "Senior",
            "Senior",
            "Senior",
            "Senior",
            "Senior",
            "Mid",
            "Entry",
            "Senior",
            "Senior",
            "Senior",
            "Senior",
            "Mid",
            "Mid",
            "Senior",
            "Mid",
            "Mid",
            "Senior",
            "Entry",
            "Mid",
            "Mid",
            "Senior",
            "Senior",
            "Entry",
            "Entry",
            "Entry",
            "Mid",
            "Mid",
            "Mid",
            "Mid",
            "Mid",
            "Mid",
            "Mid",
            "Senior",
            "Senior",
            "Senior",
            "Senior",
            "Senior",
            "Senior",
            "Senior",
            "Senior",
            "Senior",
            "Senior",
            "Senior",
            "Senior",
            "Senior",
            "Senior",
            "Senior",
            "Senior",
            "Mid",
            "Mid"
           ],
           "yaxis": "y"
          },
          {
           "hovertemplate": "<b>%{hovertext}</b><br><br>job_title=Machine Learning Scientist<br>work_year=2022<br>salary_in_usd=%{marker.size}<br>experience_level=%{y}<extra></extra>",
           "hovertext": [
            "Machine Learning Scientist",
            "Machine Learning Scientist",
            "Machine Learning Scientist"
           ],
           "legendgroup": "Machine Learning Scientist",
           "marker": {
            "color": "#3283FE",
            "size": [
             160000,
             112300,
             153000
            ],
            "sizemode": "area",
            "sizeref": 1500,
            "symbol": "circle"
           },
           "mode": "markers",
           "name": "Machine Learning Scientist",
           "orientation": "h",
           "showlegend": true,
           "type": "scatter",
           "x": [
            160000,
            112300,
            153000
           ],
           "xaxis": "x",
           "y": [
            "Mid",
            "Mid",
            "Mid"
           ],
           "yaxis": "y"
          },
          {
           "hovertemplate": "<b>%{hovertext}</b><br><br>job_title=Machine Learning Engineer<br>work_year=2022<br>salary_in_usd=%{marker.size}<br>experience_level=%{y}<extra></extra>",
           "hovertext": [
            "Machine Learning Engineer",
            "Machine Learning Engineer",
            "Machine Learning Engineer",
            "Machine Learning Engineer",
            "Machine Learning Engineer",
            "Machine Learning Engineer",
            "Machine Learning Engineer",
            "Machine Learning Engineer",
            "Machine Learning Engineer",
            "Machine Learning Engineer",
            "Machine Learning Engineer",
            "Machine Learning Engineer",
            "Machine Learning Engineer",
            "Machine Learning Engineer",
            "Machine Learning Engineer",
            "Machine Learning Engineer",
            "Machine Learning Engineer",
            "Machine Learning Engineer"
           ],
           "legendgroup": "Machine Learning Engineer",
           "marker": {
            "color": "#565656",
            "size": [
             189650,
             164996,
             37300,
             124333,
             98158,
             87932,
             189650,
             164996,
             120000,
             220000,
             120000,
             65000,
             120000,
             62651,
             87425,
             71444,
             214000,
             192600
            ],
            "sizemode": "area",
            "sizeref": 1500,
            "symbol": "circle"
           },
           "mode": "markers",
           "name": "Machine Learning Engineer",
           "orientation": "h",
           "showlegend": true,
           "type": "scatter",
           "x": [
            189650,
            164996,
            37300,
            124333,
            98158,
            87932,
            189650,
            164996,
            120000,
            220000,
            120000,
            65000,
            120000,
            62651,
            87425,
            71444,
            214000,
            192600
           ],
           "xaxis": "x",
           "y": [
            "Senior",
            "Senior",
            "Entry",
            "Mid",
            "Mid",
            "Mid",
            "Senior",
            "Senior",
            "Mid",
            "Senior",
            "Senior",
            "Senior",
            "Senior",
            "Senior",
            "Mid",
            "Senior",
            "Senior",
            "Senior"
           ],
           "yaxis": "y"
          },
          {
           "hovertemplate": "<b>%{hovertext}</b><br><br>job_title=Data Analyst<br>work_year=2022<br>salary_in_usd=%{marker.size}<br>experience_level=%{y}<extra></extra>",
           "hovertext": [
            "Data Analyst",
            "Data Analyst",
            "Data Analyst",
            "Data Analyst",
            "Data Analyst",
            "Data Analyst",
            "Data Analyst",
            "Data Analyst",
            "Data Analyst",
            "Data Analyst",
            "Data Analyst",
            "Data Analyst",
            "Data Analyst",
            "Data Analyst",
            "Data Analyst",
            "Data Analyst",
            "Data Analyst",
            "Data Analyst",
            "Data Analyst",
            "Data Analyst",
            "Data Analyst",
            "Data Analyst",
            "Data Analyst",
            "Data Analyst",
            "Data Analyst",
            "Data Analyst",
            "Data Analyst",
            "Data Analyst",
            "Data Analyst",
            "Data Analyst",
            "Data Analyst",
            "Data Analyst",
            "Data Analyst",
            "Data Analyst",
            "Data Analyst",
            "Data Analyst",
            "Data Analyst",
            "Data Analyst",
            "Data Analyst",
            "Data Analyst",
            "Data Analyst",
            "Data Analyst",
            "Data Analyst",
            "Data Analyst",
            "Data Analyst",
            "Data Analyst",
            "Data Analyst",
            "Data Analyst",
            "Data Analyst",
            "Data Analyst",
            "Data Analyst",
            "Data Analyst",
            "Data Analyst",
            "Data Analyst",
            "Data Analyst",
            "Data Analyst",
            "Data Analyst",
            "Data Analyst",
            "Data Analyst",
            "Data Analyst",
            "Data Analyst",
            "Data Analyst",
            "Data Analyst",
            "Data Analyst",
            "Data Analyst",
            "Data Analyst",
            "Data Analyst",
            "Data Analyst",
            "Data Analyst",
            "Data Analyst",
            "Data Analyst",
            "Data Analyst",
            "Data Analyst"
           ],
           "legendgroup": "Data Analyst",
           "marker": {
            "color": "#1C8356",
            "size": [
             155000,
             120600,
             102100,
             84900,
             99000,
             116000,
             106260,
             126500,
             90320,
             124190,
             130000,
             110000,
             170000,
             115500,
             112900,
             90320,
             112900,
             90320,
             167000,
             136600,
             109280,
             135000,
             130000,
             61300,
             130000,
             61300,
             58000,
             132000,
             128875,
             93700,
             164000,
             112900,
             90320,
             115934,
             81666,
             58000,
             52351,
             39263,
             43966,
             32974,
             43966,
             32974,
             135000,
             50000,
             20000,
             135000,
             100000,
             90320,
             85000,
             75000,
             112900,
             115934,
             81666,
             99050,
             116150,
             170000,
             65438,
             80000,
             100000,
             69000,
             150075,
             126500,
             106260,
             105000,
             110925,
             45807,
             99000,
             60000,
             170000,
             67000,
             52000,
             129000,
             150000
            ],
            "sizemode": "area",
            "sizeref": 1500,
            "symbol": "circle"
           },
           "mode": "markers",
           "name": "Data Analyst",
           "orientation": "h",
           "showlegend": true,
           "type": "scatter",
           "x": [
            155000,
            120600,
            102100,
            84900,
            99000,
            116000,
            106260,
            126500,
            90320,
            124190,
            130000,
            110000,
            170000,
            115500,
            112900,
            90320,
            112900,
            90320,
            167000,
            136600,
            109280,
            135000,
            130000,
            61300,
            130000,
            61300,
            58000,
            132000,
            128875,
            93700,
            164000,
            112900,
            90320,
            115934,
            81666,
            58000,
            52351,
            39263,
            43966,
            32974,
            43966,
            32974,
            135000,
            50000,
            20000,
            135000,
            100000,
            90320,
            85000,
            75000,
            112900,
            115934,
            81666,
            99050,
            116150,
            170000,
            65438,
            80000,
            100000,
            69000,
            150075,
            126500,
            106260,
            105000,
            110925,
            45807,
            99000,
            60000,
            170000,
            67000,
            52000,
            129000,
            150000
           ],
           "xaxis": "x",
           "y": [
            "Senior",
            "Senior",
            "Senior",
            "Senior",
            "Senior",
            "Senior",
            "Mid",
            "Mid",
            "Senior",
            "Senior",
            "Executive",
            "Executive",
            "Senior",
            "Mid",
            "Senior",
            "Senior",
            "Senior",
            "Senior",
            "Mid",
            "Senior",
            "Senior",
            "Senior",
            "Senior",
            "Senior",
            "Senior",
            "Senior",
            "Mid",
            "Senior",
            "Senior",
            "Senior",
            "Senior",
            "Senior",
            "Senior",
            "Senior",
            "Senior",
            "Mid",
            "Mid",
            "Mid",
            "Mid",
            "Mid",
            "Mid",
            "Mid",
            "Mid",
            "Mid",
            "Mid",
            "Senior",
            "Senior",
            "Senior",
            "Mid",
            "Mid",
            "Senior",
            "Senior",
            "Senior",
            "Senior",
            "Senior",
            "Senior",
            "Mid",
            "Senior",
            "Senior",
            "Senior",
            "Senior",
            "Senior",
            "Senior",
            "Senior",
            "Senior",
            "Mid",
            "Senior",
            "Senior",
            "Senior",
            "Entry",
            "Entry",
            "Senior",
            "Senior"
           ],
           "yaxis": "y"
          },
          {
           "hovertemplate": "<b>%{hovertext}</b><br><br>job_title=Business Data Analyst<br>work_year=2022<br>salary_in_usd=%{marker.size}<br>experience_level=%{y}<extra></extra>",
           "hovertext": [
            "Business Data Analyst",
            "Business Data Analyst"
           ],
           "legendgroup": "Business Data Analyst",
           "marker": {
            "color": "#F7E1A0",
            "size": [
             18442,
             70912
            ],
            "sizemode": "area",
            "sizeref": 1500,
            "symbol": "circle"
           },
           "mode": "markers",
           "name": "Business Data Analyst",
           "orientation": "h",
           "showlegend": true,
           "type": "scatter",
           "x": [
            18442,
            70912
           ],
           "xaxis": "x",
           "y": [
            "Mid",
            "Mid"
           ],
           "yaxis": "y"
          },
          {
           "hovertemplate": "<b>%{hovertext}</b><br><br>job_title=Lead Data Engineer<br>work_year=2022<br>salary_in_usd=%{marker.size}<br>experience_level=%{y}<extra></extra>",
           "hovertext": [
            "Lead Data Engineer"
           ],
           "legendgroup": "Lead Data Engineer",
           "marker": {
            "color": "#E2E2E2",
            "size": [
             118187
            ],
            "sizemode": "area",
            "sizeref": 1500,
            "symbol": "circle"
           },
           "mode": "markers",
           "name": "Lead Data Engineer",
           "orientation": "h",
           "showlegend": true,
           "type": "scatter",
           "x": [
            118187
           ],
           "xaxis": "x",
           "y": [
            "Executive"
           ],
           "yaxis": "y"
          },
          {
           "hovertemplate": "<b>%{hovertext}</b><br><br>job_title=Data Engineer<br>work_year=2022<br>salary_in_usd=%{marker.size}<br>experience_level=%{y}<extra></extra>",
           "hovertext": [
            "Data Engineer",
            "Data Engineer",
            "Data Engineer",
            "Data Engineer",
            "Data Engineer",
            "Data Engineer",
            "Data Engineer",
            "Data Engineer",
            "Data Engineer",
            "Data Engineer",
            "Data Engineer",
            "Data Engineer",
            "Data Engineer",
            "Data Engineer",
            "Data Engineer",
            "Data Engineer",
            "Data Engineer",
            "Data Engineer",
            "Data Engineer",
            "Data Engineer",
            "Data Engineer",
            "Data Engineer",
            "Data Engineer",
            "Data Engineer",
            "Data Engineer",
            "Data Engineer",
            "Data Engineer",
            "Data Engineer",
            "Data Engineer",
            "Data Engineer",
            "Data Engineer",
            "Data Engineer",
            "Data Engineer",
            "Data Engineer",
            "Data Engineer",
            "Data Engineer",
            "Data Engineer",
            "Data Engineer",
            "Data Engineer",
            "Data Engineer",
            "Data Engineer",
            "Data Engineer",
            "Data Engineer",
            "Data Engineer",
            "Data Engineer",
            "Data Engineer",
            "Data Engineer",
            "Data Engineer",
            "Data Engineer",
            "Data Engineer",
            "Data Engineer",
            "Data Engineer",
            "Data Engineer",
            "Data Engineer",
            "Data Engineer",
            "Data Engineer",
            "Data Engineer",
            "Data Engineer",
            "Data Engineer",
            "Data Engineer",
            "Data Engineer",
            "Data Engineer",
            "Data Engineer",
            "Data Engineer",
            "Data Engineer",
            "Data Engineer",
            "Data Engineer",
            "Data Engineer",
            "Data Engineer",
            "Data Engineer",
            "Data Engineer",
            "Data Engineer",
            "Data Engineer",
            "Data Engineer",
            "Data Engineer",
            "Data Engineer",
            "Data Engineer",
            "Data Engineer",
            "Data Engineer",
            "Data Engineer",
            "Data Engineer",
            "Data Engineer",
            "Data Engineer",
            "Data Engineer",
            "Data Engineer",
            "Data Engineer",
            "Data Engineer",
            "Data Engineer",
            "Data Engineer"
           ],
           "legendgroup": "Data Engineer",
           "marker": {
            "color": "#C4451C",
            "size": [
             135000,
             170000,
             150000,
             52351,
             242000,
             200000,
             78526,
             52351,
             45807,
             181940,
             132320,
             220110,
             160080,
             165400,
             132320,
             243900,
             128875,
             93700,
             156600,
             108800,
             113000,
             78526,
             65438,
             160000,
             136000,
             165400,
             136994,
             101570,
             132320,
             155000,
             117789,
             209100,
             154600,
             175000,
             98158,
             183600,
             65949,
             49461,
             78526,
             58894,
             63900,
             82900,
             100800,
             49461,
             87932,
             76940,
             104702,
             91614,
             65949,
             87932,
             98158,
             78526,
             76940,
             209100,
             154600,
             180000,
             80000,
             105000,
             54957,
             120000,
             100000,
             324000,
             216000,
             210000,
             58035,
             115000,
             65000,
             68147,
             155000,
             206699,
             99100,
             130000,
             115000,
             110500,
             130000,
             160000,
             200100,
             160000,
             145000,
             70500,
             175100,
             140250,
             54000,
             100000,
             25000,
             220110,
             160080,
             154000,
             126000
            ],
            "sizemode": "area",
            "sizeref": 1500,
            "symbol": "circle"
           },
           "mode": "markers",
           "name": "Data Engineer",
           "orientation": "h",
           "showlegend": true,
           "type": "scatter",
           "x": [
            135000,
            170000,
            150000,
            52351,
            242000,
            200000,
            78526,
            52351,
            45807,
            181940,
            132320,
            220110,
            160080,
            165400,
            132320,
            243900,
            128875,
            93700,
            156600,
            108800,
            113000,
            78526,
            65438,
            160000,
            136000,
            165400,
            136994,
            101570,
            132320,
            155000,
            117789,
            209100,
            154600,
            175000,
            98158,
            183600,
            65949,
            49461,
            78526,
            58894,
            63900,
            82900,
            100800,
            49461,
            87932,
            76940,
            104702,
            91614,
            65949,
            87932,
            98158,
            78526,
            76940,
            209100,
            154600,
            180000,
            80000,
            105000,
            54957,
            120000,
            100000,
            324000,
            216000,
            210000,
            58035,
            115000,
            65000,
            68147,
            155000,
            206699,
            99100,
            130000,
            115000,
            110500,
            130000,
            160000,
            200100,
            160000,
            145000,
            70500,
            175100,
            140250,
            54000,
            100000,
            25000,
            220110,
            160080,
            154000,
            126000
           ],
           "xaxis": "x",
           "y": [
            "Senior",
            "Mid",
            "Mid",
            "Entry",
            "Executive",
            "Executive",
            "Mid",
            "Mid",
            "Entry",
            "Senior",
            "Senior",
            "Senior",
            "Senior",
            "Senior",
            "Senior",
            "Senior",
            "Senior",
            "Senior",
            "Senior",
            "Senior",
            "Senior",
            "Senior",
            "Senior",
            "Senior",
            "Senior",
            "Senior",
            "Senior",
            "Senior",
            "Senior",
            "Senior",
            "Mid",
            "Senior",
            "Senior",
            "Senior",
            "Mid",
            "Senior",
            "Mid",
            "Mid",
            "Mid",
            "Mid",
            "Mid",
            "Mid",
            "Senior",
            "Mid",
            "Mid",
            "Mid",
            "Mid",
            "Mid",
            "Mid",
            "Mid",
            "Mid",
            "Mid",
            "Mid",
            "Senior",
            "Senior",
            "Senior",
            "Senior",
            "Senior",
            "Mid",
            "Entry",
            "Senior",
            "Executive",
            "Executive",
            "Senior",
            "Entry",
            "Senior",
            "Entry",
            "Mid",
            "Senior",
            "Mid",
            "Mid",
            "Senior",
            "Senior",
            "Senior",
            "Senior",
            "Senior",
            "Senior",
            "Senior",
            "Senior",
            "Senior",
            "Senior",
            "Senior",
            "Senior",
            "Senior",
            "Senior",
            "Senior",
            "Senior",
            "Senior",
            "Senior"
           ],
           "yaxis": "y"
          },
          {
           "hovertemplate": "<b>%{hovertext}</b><br><br>job_title=Director of Data Science<br>work_year=2022<br>salary_in_usd=%{marker.size}<br>experience_level=%{y}<extra></extra>",
           "hovertext": [
            "Director of Data Science"
           ],
           "legendgroup": "Director of Data Science",
           "marker": {
            "color": "#325A9B",
            "size": [
             196979
            ],
            "sizemode": "area",
            "sizeref": 1500,
            "symbol": "circle"
           },
           "mode": "markers",
           "name": "Director of Data Science",
           "orientation": "h",
           "showlegend": true,
           "type": "scatter",
           "x": [
            196979
           ],
           "xaxis": "x",
           "y": [
            "Executive"
           ],
           "yaxis": "y"
          },
          {
           "hovertemplate": "<b>%{hovertext}</b><br><br>job_title=Research Scientist<br>work_year=2022<br>salary_in_usd=%{marker.size}<br>experience_level=%{y}<extra></extra>",
           "hovertext": [
            "Research Scientist",
            "Research Scientist",
            "Research Scientist",
            "Research Scientist"
           ],
           "legendgroup": "Research Scientist",
           "marker": {
            "color": "#FEAF16",
            "size": [
             144000,
             93427,
             64849,
             120000
            ],
            "sizemode": "area",
            "sizeref": 1500,
            "symbol": "circle"
           },
           "mode": "markers",
           "name": "Research Scientist",
           "orientation": "h",
           "showlegend": true,
           "type": "scatter",
           "x": [
            144000,
            93427,
            64849,
            120000
           ],
           "xaxis": "x",
           "y": [
            "Senior",
            "Senior",
            "Mid",
            "Entry"
           ],
           "yaxis": "y"
          },
          {
           "hovertemplate": "<b>%{hovertext}</b><br><br>job_title=Machine Learning Infrastructure Engineer<br>work_year=2022<br>salary_in_usd=%{marker.size}<br>experience_level=%{y}<extra></extra>",
           "hovertext": [
            "Machine Learning Infrastructure Engineer"
           ],
           "legendgroup": "Machine Learning Infrastructure Engineer",
           "marker": {
            "color": "#F6222E",
            "size": [
             58255
            ],
            "sizemode": "area",
            "sizeref": 1500,
            "symbol": "circle"
           },
           "mode": "markers",
           "name": "Machine Learning Infrastructure Engineer",
           "orientation": "h",
           "showlegend": true,
           "type": "scatter",
           "x": [
            58255
           ],
           "xaxis": "x",
           "y": [
            "Mid"
           ],
           "yaxis": "y"
          },
          {
           "hovertemplate": "<b>%{hovertext}</b><br><br>job_title=ML Engineer<br>work_year=2022<br>salary_in_usd=%{marker.size}<br>experience_level=%{y}<extra></extra>",
           "hovertext": [
            "ML Engineer"
           ],
           "legendgroup": "ML Engineer",
           "marker": {
            "color": "#1CFFCE",
            "size": [
             21983
            ],
            "sizemode": "area",
            "sizeref": 1500,
            "symbol": "circle"
           },
           "mode": "markers",
           "name": "ML Engineer",
           "orientation": "h",
           "showlegend": true,
           "type": "scatter",
           "x": [
            21983
           ],
           "xaxis": "x",
           "y": [
            "Entry"
           ],
           "yaxis": "y"
          },
          {
           "hovertemplate": "<b>%{hovertext}</b><br><br>job_title=AI Scientist<br>work_year=2022<br>salary_in_usd=%{marker.size}<br>experience_level=%{y}<extra></extra>",
           "hovertext": [
            "AI Scientist",
            "AI Scientist"
           ],
           "legendgroup": "AI Scientist",
           "marker": {
            "color": "#2ED9FF",
            "size": [
             120000,
             200000
            ],
            "sizemode": "area",
            "sizeref": 1500,
            "symbol": "circle"
           },
           "mode": "markers",
           "name": "AI Scientist",
           "orientation": "h",
           "showlegend": true,
           "type": "scatter",
           "x": [
            120000,
            200000
           ],
           "xaxis": "x",
           "y": [
            "Mid",
            "Mid"
           ],
           "yaxis": "y"
          },
          {
           "hovertemplate": "<b>%{hovertext}</b><br><br>job_title=Computer Vision Engineer<br>work_year=2022<br>salary_in_usd=%{marker.size}<br>experience_level=%{y}<extra></extra>",
           "hovertext": [
            "Computer Vision Engineer",
            "Computer Vision Engineer"
           ],
           "legendgroup": "Computer Vision Engineer",
           "marker": {
            "color": "#B10DA1",
            "size": [
             125000,
             10000
            ],
            "sizemode": "area",
            "sizeref": 1500,
            "symbol": "circle"
           },
           "mode": "markers",
           "name": "Computer Vision Engineer",
           "orientation": "h",
           "showlegend": true,
           "type": "scatter",
           "x": [
            125000,
            10000
           ],
           "xaxis": "x",
           "y": [
            "Entry",
            "Entry"
           ],
           "yaxis": "y"
          },
          {
           "hovertemplate": "<b>%{hovertext}</b><br><br>job_title=Principal Data Scientist<br>work_year=2022<br>salary_in_usd=%{marker.size}<br>experience_level=%{y}<extra></extra>",
           "hovertext": [
            "Principal Data Scientist"
           ],
           "legendgroup": "Principal Data Scientist",
           "marker": {
            "color": "#C075A6",
            "size": [
             162674
            ],
            "sizemode": "area",
            "sizeref": 1500,
            "symbol": "circle"
           },
           "mode": "markers",
           "name": "Principal Data Scientist",
           "orientation": "h",
           "showlegend": true,
           "type": "scatter",
           "x": [
            162674
           ],
           "xaxis": "x",
           "y": [
            "Senior"
           ],
           "yaxis": "y"
          },
          {
           "hovertemplate": "<b>%{hovertext}</b><br><br>job_title=Data Science Manager<br>work_year=2022<br>salary_in_usd=%{marker.size}<br>experience_level=%{y}<extra></extra>",
           "hovertext": [
            "Data Science Manager",
            "Data Science Manager",
            "Data Science Manager",
            "Data Science Manager",
            "Data Science Manager"
           ],
           "legendgroup": "Data Science Manager",
           "marker": {
            "color": "#FC1CBF",
            "size": [
             161342,
             137141,
             241000,
             159000,
             152500
            ],
            "sizemode": "area",
            "sizeref": 1500,
            "symbol": "circle"
           },
           "mode": "markers",
           "name": "Data Science Manager",
           "orientation": "h",
           "showlegend": true,
           "type": "scatter",
           "x": [
            161342,
            137141,
            241000,
            159000,
            152500
           ],
           "xaxis": "x",
           "y": [
            "Senior",
            "Senior",
            "Mid",
            "Mid",
            "Senior"
           ],
           "yaxis": "y"
          },
          {
           "hovertemplate": "<b>%{hovertext}</b><br><br>job_title=Head of Data<br>work_year=2022<br>salary_in_usd=%{marker.size}<br>experience_level=%{y}<extra></extra>",
           "hovertext": [
            "Head of Data",
            "Head of Data"
           ],
           "legendgroup": "Head of Data",
           "marker": {
            "color": "#B00068",
            "size": [
             200000,
             32974
            ],
            "sizemode": "area",
            "sizeref": 1500,
            "symbol": "circle"
           },
           "mode": "markers",
           "name": "Head of Data",
           "orientation": "h",
           "showlegend": true,
           "type": "scatter",
           "x": [
            200000,
            32974
           ],
           "xaxis": "x",
           "y": [
            "Senior",
            "Mid"
           ],
           "yaxis": "y"
          },
          {
           "hovertemplate": "<b>%{hovertext}</b><br><br>job_title=Data Analytics Engineer<br>work_year=2022<br>salary_in_usd=%{marker.size}<br>experience_level=%{y}<extra></extra>",
           "hovertext": [
            "Data Analytics Engineer"
           ],
           "legendgroup": "Data Analytics Engineer",
           "marker": {
            "color": "#FA0087",
            "size": [
             20000
            ],
            "sizemode": "area",
            "sizeref": 1500,
            "symbol": "circle"
           },
           "mode": "markers",
           "name": "Data Analytics Engineer",
           "orientation": "h",
           "showlegend": true,
           "type": "scatter",
           "x": [
            20000
           ],
           "xaxis": "x",
           "y": [
            "Entry"
           ],
           "yaxis": "y"
          },
          {
           "hovertemplate": "<b>%{hovertext}</b><br><br>job_title=Applied Data Scientist<br>work_year=2022<br>salary_in_usd=%{marker.size}<br>experience_level=%{y}<extra></extra>",
           "hovertext": [
            "Applied Data Scientist",
            "Applied Data Scientist",
            "Applied Data Scientist"
           ],
           "legendgroup": "Applied Data Scientist",
           "marker": {
            "color": "#AA0DFE",
            "size": [
             157000,
             380000,
             177000
            ],
            "sizemode": "area",
            "sizeref": 1500,
            "symbol": "circle"
           },
           "mode": "markers",
           "name": "Applied Data Scientist",
           "orientation": "h",
           "showlegend": true,
           "type": "scatter",
           "x": [
            157000,
            380000,
            177000
           ],
           "xaxis": "x",
           "y": [
            "Mid",
            "Senior",
            "Senior"
           ],
           "yaxis": "y"
          },
          {
           "hovertemplate": "<b>%{hovertext}</b><br><br>job_title=Financial Data Analyst<br>work_year=2022<br>salary_in_usd=%{marker.size}<br>experience_level=%{y}<extra></extra>",
           "hovertext": [
            "Financial Data Analyst"
           ],
           "legendgroup": "Financial Data Analyst",
           "marker": {
            "color": "#782AB6",
            "size": [
             100000
            ],
            "sizemode": "area",
            "sizeref": 1500,
            "symbol": "circle"
           },
           "mode": "markers",
           "name": "Financial Data Analyst",
           "orientation": "h",
           "showlegend": true,
           "type": "scatter",
           "x": [
            100000
           ],
           "xaxis": "x",
           "y": [
            "Entry"
           ],
           "yaxis": "y"
          },
          {
           "hovertemplate": "<b>%{hovertext}</b><br><br>job_title=Computer Vision Software Engineer<br>work_year=2022<br>salary_in_usd=%{marker.size}<br>experience_level=%{y}<extra></extra>",
           "hovertext": [
            "Computer Vision Software Engineer"
           ],
           "legendgroup": "Computer Vision Software Engineer",
           "marker": {
            "color": "#565656",
            "size": [
             150000
            ],
            "sizemode": "area",
            "sizeref": 1500,
            "symbol": "circle"
           },
           "mode": "markers",
           "name": "Computer Vision Software Engineer",
           "orientation": "h",
           "showlegend": true,
           "type": "scatter",
           "x": [
            150000
           ],
           "xaxis": "x",
           "y": [
            "Entry"
           ],
           "yaxis": "y"
          },
          {
           "hovertemplate": "<b>%{hovertext}</b><br><br>job_title=Data Science Engineer<br>work_year=2022<br>salary_in_usd=%{marker.size}<br>experience_level=%{y}<extra></extra>",
           "hovertext": [
            "Data Science Engineer"
           ],
           "legendgroup": "Data Science Engineer",
           "marker": {
            "color": "#16FF32",
            "size": [
             60000
            ],
            "sizemode": "area",
            "sizeref": 1500,
            "symbol": "circle"
           },
           "mode": "markers",
           "name": "Data Science Engineer",
           "orientation": "h",
           "showlegend": true,
           "type": "scatter",
           "x": [
            60000
           ],
           "xaxis": "x",
           "y": [
            "Senior"
           ],
           "yaxis": "y"
          },
          {
           "hovertemplate": "<b>%{hovertext}</b><br><br>job_title=Machine Learning Developer<br>work_year=2022<br>salary_in_usd=%{marker.size}<br>experience_level=%{y}<extra></extra>",
           "hovertext": [
            "Machine Learning Developer",
            "Machine Learning Developer"
           ],
           "legendgroup": "Machine Learning Developer",
           "marker": {
            "color": "#E2E2E2",
            "size": [
             78791,
             78791
            ],
            "sizemode": "area",
            "sizeref": 1500,
            "symbol": "circle"
           },
           "mode": "markers",
           "name": "Machine Learning Developer",
           "orientation": "h",
           "showlegend": true,
           "type": "scatter",
           "x": [
            78791,
            78791
           ],
           "xaxis": "x",
           "y": [
            "Mid",
            "Senior"
           ],
           "yaxis": "y"
          },
          {
           "hovertemplate": "<b>%{hovertext}</b><br><br>job_title=Applied Machine Learning Scientist<br>work_year=2022<br>salary_in_usd=%{marker.size}<br>experience_level=%{y}<extra></extra>",
           "hovertext": [
            "Applied Machine Learning Scientist",
            "Applied Machine Learning Scientist"
           ],
           "legendgroup": "Applied Machine Learning Scientist",
           "marker": {
            "color": "#1CBE4F",
            "size": [
             31875,
             75000
            ],
            "sizemode": "area",
            "sizeref": 1500,
            "symbol": "circle"
           },
           "mode": "markers",
           "name": "Applied Machine Learning Scientist",
           "orientation": "h",
           "showlegend": true,
           "type": "scatter",
           "x": [
            31875,
            75000
           ],
           "xaxis": "x",
           "y": [
            "Entry",
            "Mid"
           ],
           "yaxis": "y"
          },
          {
           "hovertemplate": "<b>%{hovertext}</b><br><br>job_title=Data Analytics Manager<br>work_year=2022<br>salary_in_usd=%{marker.size}<br>experience_level=%{y}<extra></extra>",
           "hovertext": [
            "Data Analytics Manager",
            "Data Analytics Manager",
            "Data Analytics Manager",
            "Data Analytics Manager"
           ],
           "legendgroup": "Data Analytics Manager",
           "marker": {
            "color": "#C4451C",
            "size": [
             145000,
             105400,
             150260,
             109280
            ],
            "sizemode": "area",
            "sizeref": 1500,
            "symbol": "circle"
           },
           "mode": "markers",
           "name": "Data Analytics Manager",
           "orientation": "h",
           "showlegend": true,
           "type": "scatter",
           "x": [
            145000,
            105400,
            150260,
            109280
           ],
           "xaxis": "x",
           "y": [
            "Senior",
            "Senior",
            "Senior",
            "Senior"
           ],
           "yaxis": "y"
          },
          {
           "hovertemplate": "<b>%{hovertext}</b><br><br>job_title=Head of Data Science<br>work_year=2022<br>salary_in_usd=%{marker.size}<br>experience_level=%{y}<extra></extra>",
           "hovertext": [
            "Head of Data Science",
            "Head of Data Science"
           ],
           "legendgroup": "Head of Data Science",
           "marker": {
            "color": "#DEA0FD",
            "size": [
             224000,
             167875
            ],
            "sizemode": "area",
            "sizeref": 1500,
            "symbol": "circle"
           },
           "mode": "markers",
           "name": "Head of Data Science",
           "orientation": "h",
           "showlegend": true,
           "type": "scatter",
           "x": [
            224000,
            167875
           ],
           "xaxis": "x",
           "y": [
            "Executive",
            "Executive"
           ],
           "yaxis": "y"
          },
          {
           "hovertemplate": "<b>%{hovertext}</b><br><br>job_title=Data Architect<br>work_year=2022<br>salary_in_usd=%{marker.size}<br>experience_level=%{y}<extra></extra>",
           "hovertext": [
            "Data Architect",
            "Data Architect",
            "Data Architect",
            "Data Architect",
            "Data Architect",
            "Data Architect",
            "Data Architect",
            "Data Architect"
           ],
           "legendgroup": "Data Architect",
           "marker": {
            "color": "#325A9B",
            "size": [
             192400,
             90700,
             208775,
             147800,
             266400,
             213120,
             192564,
             144854
            ],
            "sizemode": "area",
            "sizeref": 1500,
            "symbol": "circle"
           },
           "mode": "markers",
           "name": "Data Architect",
           "orientation": "h",
           "showlegend": true,
           "type": "scatter",
           "x": [
            192400,
            90700,
            208775,
            147800,
            266400,
            213120,
            192564,
            144854
           ],
           "xaxis": "x",
           "y": [
            "Senior",
            "Senior",
            "Senior",
            "Senior",
            "Senior",
            "Senior",
            "Senior",
            "Senior"
           ],
           "yaxis": "y"
          },
          {
           "hovertemplate": "<b>%{hovertext}</b><br><br>job_title=Principal Data Analyst<br>work_year=2022<br>salary_in_usd=%{marker.size}<br>experience_level=%{y}<extra></extra>",
           "hovertext": [
            "Principal Data Analyst"
           ],
           "legendgroup": "Principal Data Analyst",
           "marker": {
            "color": "#F8A19F",
            "size": [
             75000
            ],
            "sizemode": "area",
            "sizeref": 1500,
            "symbol": "circle"
           },
           "mode": "markers",
           "name": "Principal Data Analyst",
           "orientation": "h",
           "showlegend": true,
           "type": "scatter",
           "x": [
            75000
           ],
           "xaxis": "x",
           "y": [
            "Mid"
           ],
           "yaxis": "y"
          },
          {
           "hovertemplate": "<b>%{hovertext}</b><br><br>job_title=Analytics Engineer<br>work_year=2022<br>salary_in_usd=%{marker.size}<br>experience_level=%{y}<extra></extra>",
           "hovertext": [
            "Analytics Engineer",
            "Analytics Engineer",
            "Analytics Engineer",
            "Analytics Engineer"
           ],
           "legendgroup": "Analytics Engineer",
           "marker": {
            "color": "#1CFFCE",
            "size": [
             175000,
             135000,
             205300,
             184700
            ],
            "sizemode": "area",
            "sizeref": 1500,
            "symbol": "circle"
           },
           "mode": "markers",
           "name": "Analytics Engineer",
           "orientation": "h",
           "showlegend": true,
           "type": "scatter",
           "x": [
            175000,
            135000,
            205300,
            184700
           ],
           "xaxis": "x",
           "y": [
            "Executive",
            "Executive",
            "Senior",
            "Senior"
           ],
           "yaxis": "y"
          },
          {
           "hovertemplate": "<b>%{hovertext}</b><br><br>job_title=ETL Developer<br>work_year=2022<br>salary_in_usd=%{marker.size}<br>experience_level=%{y}<extra></extra>",
           "hovertext": [
            "ETL Developer",
            "ETL Developer"
           ],
           "legendgroup": "ETL Developer",
           "marker": {
            "color": "#2ED9FF",
            "size": [
             54957,
             54957
            ],
            "sizemode": "area",
            "sizeref": 1500,
            "symbol": "circle"
           },
           "mode": "markers",
           "name": "ETL Developer",
           "orientation": "h",
           "showlegend": true,
           "type": "scatter",
           "x": [
            54957,
            54957
           ],
           "xaxis": "x",
           "y": [
            "Mid",
            "Mid"
           ],
           "yaxis": "y"
          },
          {
           "hovertemplate": "<b>%{hovertext}</b><br><br>job_title=Head of Machine Learning<br>work_year=2022<br>salary_in_usd=%{marker.size}<br>experience_level=%{y}<extra></extra>",
           "hovertext": [
            "Head of Machine Learning"
           ],
           "legendgroup": "Head of Machine Learning",
           "marker": {
            "color": "#B10DA1",
            "size": [
             79039
            ],
            "sizemode": "area",
            "sizeref": 1500,
            "symbol": "circle"
           },
           "mode": "markers",
           "name": "Head of Machine Learning",
           "orientation": "h",
           "showlegend": true,
           "type": "scatter",
           "x": [
            79039
           ],
           "xaxis": "x",
           "y": [
            "Executive"
           ],
           "yaxis": "y"
          },
          {
           "hovertemplate": "<b>%{hovertext}</b><br><br>job_title=NLP Engineer<br>work_year=2022<br>salary_in_usd=%{marker.size}<br>experience_level=%{y}<extra></extra>",
           "hovertext": [
            "NLP Engineer"
           ],
           "legendgroup": "NLP Engineer",
           "marker": {
            "color": "#C075A6",
            "size": [
             37236
            ],
            "sizemode": "area",
            "sizeref": 1500,
            "symbol": "circle"
           },
           "mode": "markers",
           "name": "NLP Engineer",
           "orientation": "h",
           "showlegend": true,
           "type": "scatter",
           "x": [
            37236
           ],
           "xaxis": "x",
           "y": [
            "Mid"
           ],
           "yaxis": "y"
          },
          {
           "hovertemplate": "<b>%{hovertext}</b><br><br>job_title=Lead Machine Learning Engineer<br>work_year=2022<br>salary_in_usd=%{marker.size}<br>experience_level=%{y}<extra></extra>",
           "hovertext": [
            "Lead Machine Learning Engineer"
           ],
           "legendgroup": "Lead Machine Learning Engineer",
           "marker": {
            "color": "#FC1CBF",
            "size": [
             87932
            ],
            "sizemode": "area",
            "sizeref": 1500,
            "symbol": "circle"
           },
           "mode": "markers",
           "name": "Lead Machine Learning Engineer",
           "orientation": "h",
           "showlegend": true,
           "type": "scatter",
           "x": [
            87932
           ],
           "xaxis": "x",
           "y": [
            "Senior"
           ],
           "yaxis": "y"
          },
          {
           "hovertemplate": "<b>%{hovertext}</b><br><br>job_title=Data Analytics Lead<br>work_year=2022<br>salary_in_usd=%{marker.size}<br>experience_level=%{y}<extra></extra>",
           "hovertext": [
            "Data Analytics Lead"
           ],
           "legendgroup": "Data Analytics Lead",
           "marker": {
            "color": "#B00068",
            "size": [
             405000
            ],
            "sizemode": "area",
            "sizeref": 1500,
            "symbol": "circle"
           },
           "mode": "markers",
           "name": "Data Analytics Lead",
           "orientation": "h",
           "showlegend": true,
           "type": "scatter",
           "x": [
            405000
           ],
           "xaxis": "x",
           "y": [
            "Senior"
           ],
           "yaxis": "y"
          }
         ],
         "name": "2022"
        }
       ],
       "layout": {
        "legend": {
         "itemsizing": "constant",
         "title": {
          "text": "job_title"
         },
         "tracegroupgap": 0
        },
        "sliders": [
         {
          "active": 0,
          "currentvalue": {
           "prefix": "work_year="
          },
          "len": 0.9,
          "pad": {
           "b": 10,
           "t": 60
          },
          "steps": [
           {
            "args": [
             [
              "2020"
             ],
             {
              "frame": {
               "duration": 0,
               "redraw": false
              },
              "fromcurrent": true,
              "mode": "immediate",
              "transition": {
               "duration": 0,
               "easing": "linear"
              }
             }
            ],
            "label": "2020",
            "method": "animate"
           },
           {
            "args": [
             [
              "2021"
             ],
             {
              "frame": {
               "duration": 0,
               "redraw": false
              },
              "fromcurrent": true,
              "mode": "immediate",
              "transition": {
               "duration": 0,
               "easing": "linear"
              }
             }
            ],
            "label": "2021",
            "method": "animate"
           },
           {
            "args": [
             [
              "2022"
             ],
             {
              "frame": {
               "duration": 0,
               "redraw": false
              },
              "fromcurrent": true,
              "mode": "immediate",
              "transition": {
               "duration": 0,
               "easing": "linear"
              }
             }
            ],
            "label": "2022",
            "method": "animate"
           }
          ],
          "x": 0.1,
          "xanchor": "left",
          "y": 0,
          "yanchor": "top"
         }
        ],
        "template": {
         "data": {
          "bar": [
           {
            "error_x": {
             "color": "rgb(51,51,51)"
            },
            "error_y": {
             "color": "rgb(51,51,51)"
            },
            "marker": {
             "line": {
              "color": "rgb(237,237,237)",
              "width": 0.5
             },
             "pattern": {
              "fillmode": "overlay",
              "size": 10,
              "solidity": 0.2
             }
            },
            "type": "bar"
           }
          ],
          "barpolar": [
           {
            "marker": {
             "line": {
              "color": "rgb(237,237,237)",
              "width": 0.5
             },
             "pattern": {
              "fillmode": "overlay",
              "size": 10,
              "solidity": 0.2
             }
            },
            "type": "barpolar"
           }
          ],
          "carpet": [
           {
            "aaxis": {
             "endlinecolor": "rgb(51,51,51)",
             "gridcolor": "white",
             "linecolor": "white",
             "minorgridcolor": "white",
             "startlinecolor": "rgb(51,51,51)"
            },
            "baxis": {
             "endlinecolor": "rgb(51,51,51)",
             "gridcolor": "white",
             "linecolor": "white",
             "minorgridcolor": "white",
             "startlinecolor": "rgb(51,51,51)"
            },
            "type": "carpet"
           }
          ],
          "choropleth": [
           {
            "colorbar": {
             "outlinewidth": 0,
             "tickcolor": "rgb(237,237,237)",
             "ticklen": 6,
             "ticks": "inside"
            },
            "type": "choropleth"
           }
          ],
          "contour": [
           {
            "colorbar": {
             "outlinewidth": 0,
             "tickcolor": "rgb(237,237,237)",
             "ticklen": 6,
             "ticks": "inside"
            },
            "colorscale": [
             [
              0,
              "rgb(20,44,66)"
             ],
             [
              1,
              "rgb(90,179,244)"
             ]
            ],
            "type": "contour"
           }
          ],
          "contourcarpet": [
           {
            "colorbar": {
             "outlinewidth": 0,
             "tickcolor": "rgb(237,237,237)",
             "ticklen": 6,
             "ticks": "inside"
            },
            "type": "contourcarpet"
           }
          ],
          "heatmap": [
           {
            "colorbar": {
             "outlinewidth": 0,
             "tickcolor": "rgb(237,237,237)",
             "ticklen": 6,
             "ticks": "inside"
            },
            "colorscale": [
             [
              0,
              "rgb(20,44,66)"
             ],
             [
              1,
              "rgb(90,179,244)"
             ]
            ],
            "type": "heatmap"
           }
          ],
          "heatmapgl": [
           {
            "colorbar": {
             "outlinewidth": 0,
             "tickcolor": "rgb(237,237,237)",
             "ticklen": 6,
             "ticks": "inside"
            },
            "colorscale": [
             [
              0,
              "rgb(20,44,66)"
             ],
             [
              1,
              "rgb(90,179,244)"
             ]
            ],
            "type": "heatmapgl"
           }
          ],
          "histogram": [
           {
            "marker": {
             "pattern": {
              "fillmode": "overlay",
              "size": 10,
              "solidity": 0.2
             }
            },
            "type": "histogram"
           }
          ],
          "histogram2d": [
           {
            "colorbar": {
             "outlinewidth": 0,
             "tickcolor": "rgb(237,237,237)",
             "ticklen": 6,
             "ticks": "inside"
            },
            "colorscale": [
             [
              0,
              "rgb(20,44,66)"
             ],
             [
              1,
              "rgb(90,179,244)"
             ]
            ],
            "type": "histogram2d"
           }
          ],
          "histogram2dcontour": [
           {
            "colorbar": {
             "outlinewidth": 0,
             "tickcolor": "rgb(237,237,237)",
             "ticklen": 6,
             "ticks": "inside"
            },
            "colorscale": [
             [
              0,
              "rgb(20,44,66)"
             ],
             [
              1,
              "rgb(90,179,244)"
             ]
            ],
            "type": "histogram2dcontour"
           }
          ],
          "mesh3d": [
           {
            "colorbar": {
             "outlinewidth": 0,
             "tickcolor": "rgb(237,237,237)",
             "ticklen": 6,
             "ticks": "inside"
            },
            "type": "mesh3d"
           }
          ],
          "parcoords": [
           {
            "line": {
             "colorbar": {
              "outlinewidth": 0,
              "tickcolor": "rgb(237,237,237)",
              "ticklen": 6,
              "ticks": "inside"
             }
            },
            "type": "parcoords"
           }
          ],
          "pie": [
           {
            "automargin": true,
            "type": "pie"
           }
          ],
          "scatter": [
           {
            "marker": {
             "colorbar": {
              "outlinewidth": 0,
              "tickcolor": "rgb(237,237,237)",
              "ticklen": 6,
              "ticks": "inside"
             }
            },
            "type": "scatter"
           }
          ],
          "scatter3d": [
           {
            "line": {
             "colorbar": {
              "outlinewidth": 0,
              "tickcolor": "rgb(237,237,237)",
              "ticklen": 6,
              "ticks": "inside"
             }
            },
            "marker": {
             "colorbar": {
              "outlinewidth": 0,
              "tickcolor": "rgb(237,237,237)",
              "ticklen": 6,
              "ticks": "inside"
             }
            },
            "type": "scatter3d"
           }
          ],
          "scattercarpet": [
           {
            "marker": {
             "colorbar": {
              "outlinewidth": 0,
              "tickcolor": "rgb(237,237,237)",
              "ticklen": 6,
              "ticks": "inside"
             }
            },
            "type": "scattercarpet"
           }
          ],
          "scattergeo": [
           {
            "marker": {
             "colorbar": {
              "outlinewidth": 0,
              "tickcolor": "rgb(237,237,237)",
              "ticklen": 6,
              "ticks": "inside"
             }
            },
            "type": "scattergeo"
           }
          ],
          "scattergl": [
           {
            "marker": {
             "colorbar": {
              "outlinewidth": 0,
              "tickcolor": "rgb(237,237,237)",
              "ticklen": 6,
              "ticks": "inside"
             }
            },
            "type": "scattergl"
           }
          ],
          "scattermapbox": [
           {
            "marker": {
             "colorbar": {
              "outlinewidth": 0,
              "tickcolor": "rgb(237,237,237)",
              "ticklen": 6,
              "ticks": "inside"
             }
            },
            "type": "scattermapbox"
           }
          ],
          "scatterpolar": [
           {
            "marker": {
             "colorbar": {
              "outlinewidth": 0,
              "tickcolor": "rgb(237,237,237)",
              "ticklen": 6,
              "ticks": "inside"
             }
            },
            "type": "scatterpolar"
           }
          ],
          "scatterpolargl": [
           {
            "marker": {
             "colorbar": {
              "outlinewidth": 0,
              "tickcolor": "rgb(237,237,237)",
              "ticklen": 6,
              "ticks": "inside"
             }
            },
            "type": "scatterpolargl"
           }
          ],
          "scatterternary": [
           {
            "marker": {
             "colorbar": {
              "outlinewidth": 0,
              "tickcolor": "rgb(237,237,237)",
              "ticklen": 6,
              "ticks": "inside"
             }
            },
            "type": "scatterternary"
           }
          ],
          "surface": [
           {
            "colorbar": {
             "outlinewidth": 0,
             "tickcolor": "rgb(237,237,237)",
             "ticklen": 6,
             "ticks": "inside"
            },
            "colorscale": [
             [
              0,
              "rgb(20,44,66)"
             ],
             [
              1,
              "rgb(90,179,244)"
             ]
            ],
            "type": "surface"
           }
          ],
          "table": [
           {
            "cells": {
             "fill": {
              "color": "rgb(237,237,237)"
             },
             "line": {
              "color": "white"
             }
            },
            "header": {
             "fill": {
              "color": "rgb(217,217,217)"
             },
             "line": {
              "color": "white"
             }
            },
            "type": "table"
           }
          ]
         },
         "layout": {
          "annotationdefaults": {
           "arrowhead": 0,
           "arrowwidth": 1
          },
          "autotypenumbers": "strict",
          "coloraxis": {
           "colorbar": {
            "outlinewidth": 0,
            "tickcolor": "rgb(237,237,237)",
            "ticklen": 6,
            "ticks": "inside"
           }
          },
          "colorscale": {
           "sequential": [
            [
             0,
             "rgb(20,44,66)"
            ],
            [
             1,
             "rgb(90,179,244)"
            ]
           ],
           "sequentialminus": [
            [
             0,
             "rgb(20,44,66)"
            ],
            [
             1,
             "rgb(90,179,244)"
            ]
           ]
          },
          "colorway": [
           "#F8766D",
           "#A3A500",
           "#00BF7D",
           "#00B0F6",
           "#E76BF3"
          ],
          "font": {
           "color": "rgb(51,51,51)"
          },
          "geo": {
           "bgcolor": "white",
           "lakecolor": "white",
           "landcolor": "rgb(237,237,237)",
           "showlakes": true,
           "showland": true,
           "subunitcolor": "white"
          },
          "hoverlabel": {
           "align": "left"
          },
          "hovermode": "closest",
          "paper_bgcolor": "white",
          "plot_bgcolor": "rgb(237,237,237)",
          "polar": {
           "angularaxis": {
            "gridcolor": "white",
            "linecolor": "white",
            "showgrid": true,
            "tickcolor": "rgb(51,51,51)",
            "ticks": "outside"
           },
           "bgcolor": "rgb(237,237,237)",
           "radialaxis": {
            "gridcolor": "white",
            "linecolor": "white",
            "showgrid": true,
            "tickcolor": "rgb(51,51,51)",
            "ticks": "outside"
           }
          },
          "scene": {
           "xaxis": {
            "backgroundcolor": "rgb(237,237,237)",
            "gridcolor": "white",
            "gridwidth": 2,
            "linecolor": "white",
            "showbackground": true,
            "showgrid": true,
            "tickcolor": "rgb(51,51,51)",
            "ticks": "outside",
            "zerolinecolor": "white"
           },
           "yaxis": {
            "backgroundcolor": "rgb(237,237,237)",
            "gridcolor": "white",
            "gridwidth": 2,
            "linecolor": "white",
            "showbackground": true,
            "showgrid": true,
            "tickcolor": "rgb(51,51,51)",
            "ticks": "outside",
            "zerolinecolor": "white"
           },
           "zaxis": {
            "backgroundcolor": "rgb(237,237,237)",
            "gridcolor": "white",
            "gridwidth": 2,
            "linecolor": "white",
            "showbackground": true,
            "showgrid": true,
            "tickcolor": "rgb(51,51,51)",
            "ticks": "outside",
            "zerolinecolor": "white"
           }
          },
          "shapedefaults": {
           "fillcolor": "black",
           "line": {
            "width": 0
           },
           "opacity": 0.3
          },
          "ternary": {
           "aaxis": {
            "gridcolor": "white",
            "linecolor": "white",
            "showgrid": true,
            "tickcolor": "rgb(51,51,51)",
            "ticks": "outside"
           },
           "baxis": {
            "gridcolor": "white",
            "linecolor": "white",
            "showgrid": true,
            "tickcolor": "rgb(51,51,51)",
            "ticks": "outside"
           },
           "bgcolor": "rgb(237,237,237)",
           "caxis": {
            "gridcolor": "white",
            "linecolor": "white",
            "showgrid": true,
            "tickcolor": "rgb(51,51,51)",
            "ticks": "outside"
           }
          },
          "xaxis": {
           "automargin": true,
           "gridcolor": "white",
           "linecolor": "white",
           "showgrid": true,
           "tickcolor": "rgb(51,51,51)",
           "ticks": "outside",
           "title": {
            "standoff": 15
           },
           "zerolinecolor": "white"
          },
          "yaxis": {
           "automargin": true,
           "gridcolor": "white",
           "linecolor": "white",
           "showgrid": true,
           "tickcolor": "rgb(51,51,51)",
           "ticks": "outside",
           "title": {
            "standoff": 15
           },
           "zerolinecolor": "white"
          }
         }
        },
        "title": {
         "text": "Experience level VS Salary"
        },
        "updatemenus": [
         {
          "buttons": [
           {
            "args": [
             null,
             {
              "frame": {
               "duration": 500,
               "redraw": false
              },
              "fromcurrent": true,
              "mode": "immediate",
              "transition": {
               "duration": 500,
               "easing": "linear"
              }
             }
            ],
            "label": "&#9654;",
            "method": "animate"
           },
           {
            "args": [
             [
              null
             ],
             {
              "frame": {
               "duration": 0,
               "redraw": false
              },
              "fromcurrent": true,
              "mode": "immediate",
              "transition": {
               "duration": 0,
               "easing": "linear"
              }
             }
            ],
            "label": "&#9724;",
            "method": "animate"
           }
          ],
          "direction": "left",
          "pad": {
           "r": 10,
           "t": 70
          },
          "showactive": false,
          "type": "buttons",
          "x": 0.1,
          "xanchor": "right",
          "y": 0,
          "yanchor": "top"
         }
        ],
        "xaxis": {
         "anchor": "y",
         "domain": [
          0,
          1
         ],
         "title": {
          "text": "salary_in_usd"
         }
        },
        "yaxis": {
         "anchor": "x",
         "categoryarray": [
          "Entry",
          "Mid",
          "Senior",
          "Executive"
         ],
         "domain": [
          0,
          1
         ],
         "title": {
          "text": "experience_level"
         }
        }
       }
      },
      "text/html": [
       "<div>                            <div id=\"4fedeec8-1312-4304-a18c-24c2789864b2\" class=\"plotly-graph-div\" style=\"height:525px; width:100%;\"></div>            <script type=\"text/javascript\">                require([\"plotly\"], function(Plotly) {                    window.PLOTLYENV=window.PLOTLYENV || {};                                    if (document.getElementById(\"4fedeec8-1312-4304-a18c-24c2789864b2\")) {                    Plotly.newPlot(                        \"4fedeec8-1312-4304-a18c-24c2789864b2\",                        [{\"hovertemplate\":\"<b>%{hovertext}</b><br><br>job_title=Data Scientist<br>work_year=2020<br>salary_in_usd=%{marker.size}<br>experience_level=%{y}<extra></extra>\",\"hovertext\":[\"Data Scientist\",\"Data Scientist\",\"Data Scientist\",\"Data Scientist\",\"Data Scientist\",\"Data Scientist\",\"Data Scientist\",\"Data Scientist\",\"Data Scientist\",\"Data Scientist\",\"Data Scientist\",\"Data Scientist\",\"Data Scientist\",\"Data Scientist\",\"Data Scientist\",\"Data Scientist\",\"Data Scientist\",\"Data Scientist\",\"Data Scientist\",\"Data Scientist\",\"Data Scientist\"],\"legendgroup\":\"Data Scientist\",\"marker\":{\"color\":\"#AA0DFE\",\"size\":[79833,35735,51321,40481,39916,68428,45760,76958,105000,38776,118000,120000,138350,21669,412000,62726,49268,105000,91237,62726,42197],\"sizemode\":\"area\",\"sizeref\":1500.0,\"symbol\":\"circle\"},\"mode\":\"markers\",\"name\":\"Data Scientist\",\"orientation\":\"h\",\"showlegend\":true,\"x\":[79833,35735,51321,40481,39916,68428,45760,76958,105000,38776,118000,120000,138350,21669,412000,62726,49268,105000,91237,62726,42197],\"xaxis\":\"x\",\"y\":[\"Mid\",\"Mid\",\"Entry\",\"Mid\",\"Entry\",\"Senior\",\"Mid\",\"Mid\",\"Mid\",\"Mid\",\"Mid\",\"Senior\",\"Mid\",\"Entry\",\"Senior\",\"Entry\",\"Entry\",\"Entry\",\"Senior\",\"Mid\",\"Mid\"],\"yaxis\":\"y\",\"type\":\"scatter\"},{\"hovertemplate\":\"<b>%{hovertext}</b><br><br>job_title=Machine Learning Scientist<br>work_year=2020<br>salary_in_usd=%{marker.size}<br>experience_level=%{y}<extra></extra>\",\"hovertext\":[\"Machine Learning Scientist\"],\"legendgroup\":\"Machine Learning Scientist\",\"marker\":{\"color\":\"#3283FE\",\"size\":[260000],\"sizemode\":\"area\",\"sizeref\":1500.0,\"symbol\":\"circle\"},\"mode\":\"markers\",\"name\":\"Machine Learning Scientist\",\"orientation\":\"h\",\"showlegend\":true,\"x\":[260000],\"xaxis\":\"x\",\"y\":[\"Senior\"],\"yaxis\":\"y\",\"type\":\"scatter\"},{\"hovertemplate\":\"<b>%{hovertext}</b><br><br>job_title=Big Data Engineer<br>work_year=2020<br>salary_in_usd=%{marker.size}<br>experience_level=%{y}<extra></extra>\",\"hovertext\":[\"Big Data Engineer\",\"Big Data Engineer\",\"Big Data Engineer\"],\"legendgroup\":\"Big Data Engineer\",\"marker\":{\"color\":\"#85660D\",\"size\":[109024,114047,70000],\"sizemode\":\"area\",\"sizeref\":1500.0,\"symbol\":\"circle\"},\"mode\":\"markers\",\"name\":\"Big Data Engineer\",\"orientation\":\"h\",\"showlegend\":true,\"x\":[109024,114047,70000],\"xaxis\":\"x\",\"y\":[\"Senior\",\"Senior\",\"Entry\"],\"yaxis\":\"y\",\"type\":\"scatter\"},{\"hovertemplate\":\"<b>%{hovertext}</b><br><br>job_title=Product Data Analyst<br>work_year=2020<br>salary_in_usd=%{marker.size}<br>experience_level=%{y}<extra></extra>\",\"hovertext\":[\"Product Data Analyst\",\"Product Data Analyst\"],\"legendgroup\":\"Product Data Analyst\",\"marker\":{\"color\":\"#782AB6\",\"size\":[20000,6072],\"sizemode\":\"area\",\"sizeref\":1500.0,\"symbol\":\"circle\"},\"mode\":\"markers\",\"name\":\"Product Data Analyst\",\"orientation\":\"h\",\"showlegend\":true,\"x\":[20000,6072],\"xaxis\":\"x\",\"y\":[\"Mid\",\"Mid\"],\"yaxis\":\"y\",\"type\":\"scatter\"},{\"hovertemplate\":\"<b>%{hovertext}</b><br><br>job_title=Machine Learning Engineer<br>work_year=2020<br>salary_in_usd=%{marker.size}<br>experience_level=%{y}<extra></extra>\",\"hovertext\":[\"Machine Learning Engineer\",\"Machine Learning Engineer\",\"Machine Learning Engineer\",\"Machine Learning Engineer\",\"Machine Learning Engineer\"],\"legendgroup\":\"Machine Learning Engineer\",\"marker\":{\"color\":\"#565656\",\"size\":[150000,43331,250000,138000,45618],\"sizemode\":\"area\",\"sizeref\":1500.0,\"symbol\":\"circle\"},\"mode\":\"markers\",\"name\":\"Machine Learning Engineer\",\"orientation\":\"h\",\"showlegend\":true,\"x\":[150000,43331,250000,138000,45618],\"xaxis\":\"x\",\"y\":[\"Senior\",\"Mid\",\"Entry\",\"Entry\",\"Senior\"],\"yaxis\":\"y\",\"type\":\"scatter\"},{\"hovertemplate\":\"<b>%{hovertext}</b><br><br>job_title=Data Analyst<br>work_year=2020<br>salary_in_usd=%{marker.size}<br>experience_level=%{y}<extra></extra>\",\"hovertext\":[\"Data Analyst\",\"Data Analyst\",\"Data Analyst\",\"Data Analyst\",\"Data Analyst\",\"Data Analyst\",\"Data Analyst\"],\"legendgroup\":\"Data Analyst\",\"marker\":{\"color\":\"#1C8356\",\"size\":[72000,85000,8000,46759,10000,6072,91000],\"sizemode\":\"area\",\"sizeref\":1500.0,\"symbol\":\"circle\"},\"mode\":\"markers\",\"name\":\"Data Analyst\",\"orientation\":\"h\",\"showlegend\":true,\"x\":[72000,85000,8000,46759,10000,6072,91000],\"xaxis\":\"x\",\"y\":[\"Entry\",\"Mid\",\"Mid\",\"Mid\",\"Entry\",\"Entry\",\"Entry\"],\"yaxis\":\"y\",\"type\":\"scatter\"},{\"hovertemplate\":\"<b>%{hovertext}</b><br><br>job_title=Lead Data Scientist<br>work_year=2020<br>salary_in_usd=%{marker.size}<br>experience_level=%{y}<extra></extra>\",\"hovertext\":[\"Lead Data Scientist\",\"Lead Data Scientist\"],\"legendgroup\":\"Lead Data Scientist\",\"marker\":{\"color\":\"#16FF32\",\"size\":[190000,115000],\"sizemode\":\"area\",\"sizeref\":1500.0,\"symbol\":\"circle\"},\"mode\":\"markers\",\"name\":\"Lead Data Scientist\",\"orientation\":\"h\",\"showlegend\":true,\"x\":[190000,115000],\"xaxis\":\"x\",\"y\":[\"Senior\",\"Mid\"],\"yaxis\":\"y\",\"type\":\"scatter\"},{\"hovertemplate\":\"<b>%{hovertext}</b><br><br>job_title=Business Data Analyst<br>work_year=2020<br>salary_in_usd=%{marker.size}<br>experience_level=%{y}<extra></extra>\",\"hovertext\":[\"Business Data Analyst\",\"Business Data Analyst\"],\"legendgroup\":\"Business Data Analyst\",\"marker\":{\"color\":\"#F7E1A0\",\"size\":[135000,100000],\"sizemode\":\"area\",\"sizeref\":1500.0,\"symbol\":\"circle\"},\"mode\":\"markers\",\"name\":\"Business Data Analyst\",\"orientation\":\"h\",\"showlegend\":true,\"x\":[135000,100000],\"xaxis\":\"x\",\"y\":[\"Mid\",\"Entry\"],\"yaxis\":\"y\",\"type\":\"scatter\"},{\"hovertemplate\":\"<b>%{hovertext}</b><br><br>job_title=Lead Data Engineer<br>work_year=2020<br>salary_in_usd=%{marker.size}<br>experience_level=%{y}<extra></extra>\",\"hovertext\":[\"Lead Data Engineer\",\"Lead Data Engineer\"],\"legendgroup\":\"Lead Data Engineer\",\"marker\":{\"color\":\"#E2E2E2\",\"size\":[125000,56000],\"sizemode\":\"area\",\"sizeref\":1500.0,\"symbol\":\"circle\"},\"mode\":\"markers\",\"name\":\"Lead Data Engineer\",\"orientation\":\"h\",\"showlegend\":true,\"x\":[125000,56000],\"xaxis\":\"x\",\"y\":[\"Senior\",\"Mid\"],\"yaxis\":\"y\",\"type\":\"scatter\"},{\"hovertemplate\":\"<b>%{hovertext}</b><br><br>job_title=Lead Data Analyst<br>work_year=2020<br>salary_in_usd=%{marker.size}<br>experience_level=%{y}<extra></extra>\",\"hovertext\":[\"Lead Data Analyst\"],\"legendgroup\":\"Lead Data Analyst\",\"marker\":{\"color\":\"#1CBE4F\",\"size\":[87000],\"sizemode\":\"area\",\"sizeref\":1500.0,\"symbol\":\"circle\"},\"mode\":\"markers\",\"name\":\"Lead Data Analyst\",\"orientation\":\"h\",\"showlegend\":true,\"x\":[87000],\"xaxis\":\"x\",\"y\":[\"Mid\"],\"yaxis\":\"y\",\"type\":\"scatter\"},{\"hovertemplate\":\"<b>%{hovertext}</b><br><br>job_title=Data Engineer<br>work_year=2020<br>salary_in_usd=%{marker.size}<br>experience_level=%{y}<extra></extra>\",\"hovertext\":[\"Data Engineer\",\"Data Engineer\",\"Data Engineer\",\"Data Engineer\",\"Data Engineer\",\"Data Engineer\",\"Data Engineer\",\"Data Engineer\",\"Data Engineer\",\"Data Engineer\",\"Data Engineer\"],\"legendgroup\":\"Data Engineer\",\"marker\":{\"color\":\"#C4451C\",\"size\":[41689,47899,33511,74130,106000,112872,188000,70139,54742,110000,130800],\"sizemode\":\"area\",\"sizeref\":1500.0,\"symbol\":\"circle\"},\"mode\":\"markers\",\"name\":\"Data Engineer\",\"orientation\":\"h\",\"showlegend\":true,\"x\":[41689,47899,33511,74130,106000,112872,188000,70139,54742,110000,130800],\"xaxis\":\"x\",\"y\":[\"Entry\",\"Senior\",\"Senior\",\"Mid\",\"Mid\",\"Mid\",\"Senior\",\"Mid\",\"Entry\",\"Mid\",\"Mid\"],\"yaxis\":\"y\",\"type\":\"scatter\"},{\"hovertemplate\":\"<b>%{hovertext}</b><br><br>job_title=Data Science Consultant<br>work_year=2020<br>salary_in_usd=%{marker.size}<br>experience_level=%{y}<extra></extra>\",\"hovertext\":[\"Data Science Consultant\",\"Data Science Consultant\"],\"legendgroup\":\"Data Science Consultant\",\"marker\":{\"color\":\"#DEA0FD\",\"size\":[5707,103000],\"sizemode\":\"area\",\"sizeref\":1500.0,\"symbol\":\"circle\"},\"mode\":\"markers\",\"name\":\"Data Science Consultant\",\"orientation\":\"h\",\"showlegend\":true,\"x\":[5707,103000],\"xaxis\":\"x\",\"y\":[\"Entry\",\"Mid\"],\"yaxis\":\"y\",\"type\":\"scatter\"},{\"hovertemplate\":\"<b>%{hovertext}</b><br><br>job_title=BI Data Analyst<br>work_year=2020<br>salary_in_usd=%{marker.size}<br>experience_level=%{y}<extra></extra>\",\"hovertext\":[\"BI Data Analyst\"],\"legendgroup\":\"BI Data Analyst\",\"marker\":{\"color\":\"#FE00FA\",\"size\":[98000],\"sizemode\":\"area\",\"sizeref\":1500.0,\"symbol\":\"circle\"},\"mode\":\"markers\",\"name\":\"BI Data Analyst\",\"orientation\":\"h\",\"showlegend\":true,\"x\":[98000],\"xaxis\":\"x\",\"y\":[\"Mid\"],\"yaxis\":\"y\",\"type\":\"scatter\"},{\"hovertemplate\":\"<b>%{hovertext}</b><br><br>job_title=Director of Data Science<br>work_year=2020<br>salary_in_usd=%{marker.size}<br>experience_level=%{y}<extra></extra>\",\"hovertext\":[\"Director of Data Science\"],\"legendgroup\":\"Director of Data Science\",\"marker\":{\"color\":\"#325A9B\",\"size\":[325000],\"sizemode\":\"area\",\"sizeref\":1500.0,\"symbol\":\"circle\"},\"mode\":\"markers\",\"name\":\"Director of Data Science\",\"orientation\":\"h\",\"showlegend\":true,\"x\":[325000],\"xaxis\":\"x\",\"y\":[\"Executive\"],\"yaxis\":\"y\",\"type\":\"scatter\"},{\"hovertemplate\":\"<b>%{hovertext}</b><br><br>job_title=Research Scientist<br>work_year=2020<br>salary_in_usd=%{marker.size}<br>experience_level=%{y}<extra></extra>\",\"hovertext\":[\"Research Scientist\",\"Research Scientist\"],\"legendgroup\":\"Research Scientist\",\"marker\":{\"color\":\"#FEAF16\",\"size\":[42000,450000],\"sizemode\":\"area\",\"sizeref\":1500.0,\"symbol\":\"circle\"},\"mode\":\"markers\",\"name\":\"Research Scientist\",\"orientation\":\"h\",\"showlegend\":true,\"x\":[42000,450000],\"xaxis\":\"x\",\"y\":[\"Entry\",\"Mid\"],\"yaxis\":\"y\",\"type\":\"scatter\"},{\"hovertemplate\":\"<b>%{hovertext}</b><br><br>job_title=Machine Learning Manager<br>work_year=2020<br>salary_in_usd=%{marker.size}<br>experience_level=%{y}<extra></extra>\",\"hovertext\":[\"Machine Learning Manager\"],\"legendgroup\":\"Machine Learning Manager\",\"marker\":{\"color\":\"#F8A19F\",\"size\":[117104],\"sizemode\":\"area\",\"sizeref\":1500.0,\"symbol\":\"circle\"},\"mode\":\"markers\",\"name\":\"Machine Learning Manager\",\"orientation\":\"h\",\"showlegend\":true,\"x\":[117104],\"xaxis\":\"x\",\"y\":[\"Senior\"],\"yaxis\":\"y\",\"type\":\"scatter\"},{\"hovertemplate\":\"<b>%{hovertext}</b><br><br>job_title=Data Engineering Manager<br>work_year=2020<br>salary_in_usd=%{marker.size}<br>experience_level=%{y}<extra></extra>\",\"hovertext\":[\"Data Engineering Manager\",\"Data Engineering Manager\"],\"legendgroup\":\"Data Engineering Manager\",\"marker\":{\"color\":\"#90AD1C\",\"size\":[59303,79833],\"sizemode\":\"area\",\"sizeref\":1500.0,\"symbol\":\"circle\"},\"mode\":\"markers\",\"name\":\"Data Engineering Manager\",\"orientation\":\"h\",\"showlegend\":true,\"x\":[59303,79833],\"xaxis\":\"x\",\"y\":[\"Mid\",\"Executive\"],\"yaxis\":\"y\",\"type\":\"scatter\"},{\"hovertemplate\":\"<b>%{hovertext}</b><br><br>job_title=Machine Learning Infrastructure Engineer<br>work_year=2020<br>salary_in_usd=%{marker.size}<br>experience_level=%{y}<extra></extra>\",\"hovertext\":[\"Machine Learning Infrastructure Engineer\"],\"legendgroup\":\"Machine Learning Infrastructure Engineer\",\"marker\":{\"color\":\"#F6222E\",\"size\":[50180],\"sizemode\":\"area\",\"sizeref\":1500.0,\"symbol\":\"circle\"},\"mode\":\"markers\",\"name\":\"Machine Learning Infrastructure Engineer\",\"orientation\":\"h\",\"showlegend\":true,\"x\":[50180],\"xaxis\":\"x\",\"y\":[\"Mid\"],\"yaxis\":\"y\",\"type\":\"scatter\"},{\"hovertemplate\":\"<b>%{hovertext}</b><br><br>job_title=ML Engineer<br>work_year=2020<br>salary_in_usd=%{marker.size}<br>experience_level=%{y}<extra></extra>\",\"hovertext\":[\"ML Engineer\"],\"legendgroup\":\"ML Engineer\",\"marker\":{\"color\":\"#1CFFCE\",\"size\":[15966],\"sizemode\":\"area\",\"sizeref\":1500.0,\"symbol\":\"circle\"},\"mode\":\"markers\",\"name\":\"ML Engineer\",\"orientation\":\"h\",\"showlegend\":true,\"x\":[15966],\"xaxis\":\"x\",\"y\":[\"Entry\"],\"yaxis\":\"y\",\"type\":\"scatter\"},{\"hovertemplate\":\"<b>%{hovertext}</b><br><br>job_title=AI Scientist<br>work_year=2020<br>salary_in_usd=%{marker.size}<br>experience_level=%{y}<extra></extra>\",\"hovertext\":[\"AI Scientist\"],\"legendgroup\":\"AI Scientist\",\"marker\":{\"color\":\"#2ED9FF\",\"size\":[45896],\"sizemode\":\"area\",\"sizeref\":1500.0,\"symbol\":\"circle\"},\"mode\":\"markers\",\"name\":\"AI Scientist\",\"orientation\":\"h\",\"showlegend\":true,\"x\":[45896],\"xaxis\":\"x\",\"y\":[\"Entry\"],\"yaxis\":\"y\",\"type\":\"scatter\"},{\"hovertemplate\":\"<b>%{hovertext}</b><br><br>job_title=Computer Vision Engineer<br>work_year=2020<br>salary_in_usd=%{marker.size}<br>experience_level=%{y}<extra></extra>\",\"hovertext\":[\"Computer Vision Engineer\"],\"legendgroup\":\"Computer Vision Engineer\",\"marker\":{\"color\":\"#B10DA1\",\"size\":[60000],\"sizemode\":\"area\",\"sizeref\":1500.0,\"symbol\":\"circle\"},\"mode\":\"markers\",\"name\":\"Computer Vision Engineer\",\"orientation\":\"h\",\"showlegend\":true,\"x\":[60000],\"xaxis\":\"x\",\"y\":[\"Senior\"],\"yaxis\":\"y\",\"type\":\"scatter\"},{\"hovertemplate\":\"<b>%{hovertext}</b><br><br>job_title=Principal Data Scientist<br>work_year=2020<br>salary_in_usd=%{marker.size}<br>experience_level=%{y}<extra></extra>\",\"hovertext\":[\"Principal Data Scientist\"],\"legendgroup\":\"Principal Data Scientist\",\"marker\":{\"color\":\"#C075A6\",\"size\":[148261],\"sizemode\":\"area\",\"sizeref\":1500.0,\"symbol\":\"circle\"},\"mode\":\"markers\",\"name\":\"Principal Data Scientist\",\"orientation\":\"h\",\"showlegend\":true,\"x\":[148261],\"xaxis\":\"x\",\"y\":[\"Senior\"],\"yaxis\":\"y\",\"type\":\"scatter\"},{\"hovertemplate\":\"<b>%{hovertext}</b><br><br>job_title=Data Science Manager<br>work_year=2020<br>salary_in_usd=%{marker.size}<br>experience_level=%{y}<extra></extra>\",\"hovertext\":[\"Data Science Manager\"],\"legendgroup\":\"Data Science Manager\",\"marker\":{\"color\":\"#FC1CBF\",\"size\":[190200],\"sizemode\":\"area\",\"sizeref\":1500.0,\"symbol\":\"circle\"},\"mode\":\"markers\",\"name\":\"Data Science Manager\",\"orientation\":\"h\",\"showlegend\":true,\"x\":[190200],\"xaxis\":\"x\",\"y\":[\"Senior\"],\"yaxis\":\"y\",\"type\":\"scatter\"}],                        {\"template\":{\"data\":{\"barpolar\":[{\"marker\":{\"line\":{\"color\":\"rgb(237,237,237)\",\"width\":0.5},\"pattern\":{\"fillmode\":\"overlay\",\"size\":10,\"solidity\":0.2}},\"type\":\"barpolar\"}],\"bar\":[{\"error_x\":{\"color\":\"rgb(51,51,51)\"},\"error_y\":{\"color\":\"rgb(51,51,51)\"},\"marker\":{\"line\":{\"color\":\"rgb(237,237,237)\",\"width\":0.5},\"pattern\":{\"fillmode\":\"overlay\",\"size\":10,\"solidity\":0.2}},\"type\":\"bar\"}],\"carpet\":[{\"aaxis\":{\"endlinecolor\":\"rgb(51,51,51)\",\"gridcolor\":\"white\",\"linecolor\":\"white\",\"minorgridcolor\":\"white\",\"startlinecolor\":\"rgb(51,51,51)\"},\"baxis\":{\"endlinecolor\":\"rgb(51,51,51)\",\"gridcolor\":\"white\",\"linecolor\":\"white\",\"minorgridcolor\":\"white\",\"startlinecolor\":\"rgb(51,51,51)\"},\"type\":\"carpet\"}],\"choropleth\":[{\"colorbar\":{\"outlinewidth\":0,\"tickcolor\":\"rgb(237,237,237)\",\"ticklen\":6,\"ticks\":\"inside\"},\"type\":\"choropleth\"}],\"contourcarpet\":[{\"colorbar\":{\"outlinewidth\":0,\"tickcolor\":\"rgb(237,237,237)\",\"ticklen\":6,\"ticks\":\"inside\"},\"type\":\"contourcarpet\"}],\"contour\":[{\"colorbar\":{\"outlinewidth\":0,\"tickcolor\":\"rgb(237,237,237)\",\"ticklen\":6,\"ticks\":\"inside\"},\"colorscale\":[[0,\"rgb(20,44,66)\"],[1,\"rgb(90,179,244)\"]],\"type\":\"contour\"}],\"heatmapgl\":[{\"colorbar\":{\"outlinewidth\":0,\"tickcolor\":\"rgb(237,237,237)\",\"ticklen\":6,\"ticks\":\"inside\"},\"colorscale\":[[0,\"rgb(20,44,66)\"],[1,\"rgb(90,179,244)\"]],\"type\":\"heatmapgl\"}],\"heatmap\":[{\"colorbar\":{\"outlinewidth\":0,\"tickcolor\":\"rgb(237,237,237)\",\"ticklen\":6,\"ticks\":\"inside\"},\"colorscale\":[[0,\"rgb(20,44,66)\"],[1,\"rgb(90,179,244)\"]],\"type\":\"heatmap\"}],\"histogram2dcontour\":[{\"colorbar\":{\"outlinewidth\":0,\"tickcolor\":\"rgb(237,237,237)\",\"ticklen\":6,\"ticks\":\"inside\"},\"colorscale\":[[0,\"rgb(20,44,66)\"],[1,\"rgb(90,179,244)\"]],\"type\":\"histogram2dcontour\"}],\"histogram2d\":[{\"colorbar\":{\"outlinewidth\":0,\"tickcolor\":\"rgb(237,237,237)\",\"ticklen\":6,\"ticks\":\"inside\"},\"colorscale\":[[0,\"rgb(20,44,66)\"],[1,\"rgb(90,179,244)\"]],\"type\":\"histogram2d\"}],\"histogram\":[{\"marker\":{\"pattern\":{\"fillmode\":\"overlay\",\"size\":10,\"solidity\":0.2}},\"type\":\"histogram\"}],\"mesh3d\":[{\"colorbar\":{\"outlinewidth\":0,\"tickcolor\":\"rgb(237,237,237)\",\"ticklen\":6,\"ticks\":\"inside\"},\"type\":\"mesh3d\"}],\"parcoords\":[{\"line\":{\"colorbar\":{\"outlinewidth\":0,\"tickcolor\":\"rgb(237,237,237)\",\"ticklen\":6,\"ticks\":\"inside\"}},\"type\":\"parcoords\"}],\"pie\":[{\"automargin\":true,\"type\":\"pie\"}],\"scatter3d\":[{\"line\":{\"colorbar\":{\"outlinewidth\":0,\"tickcolor\":\"rgb(237,237,237)\",\"ticklen\":6,\"ticks\":\"inside\"}},\"marker\":{\"colorbar\":{\"outlinewidth\":0,\"tickcolor\":\"rgb(237,237,237)\",\"ticklen\":6,\"ticks\":\"inside\"}},\"type\":\"scatter3d\"}],\"scattercarpet\":[{\"marker\":{\"colorbar\":{\"outlinewidth\":0,\"tickcolor\":\"rgb(237,237,237)\",\"ticklen\":6,\"ticks\":\"inside\"}},\"type\":\"scattercarpet\"}],\"scattergeo\":[{\"marker\":{\"colorbar\":{\"outlinewidth\":0,\"tickcolor\":\"rgb(237,237,237)\",\"ticklen\":6,\"ticks\":\"inside\"}},\"type\":\"scattergeo\"}],\"scattergl\":[{\"marker\":{\"colorbar\":{\"outlinewidth\":0,\"tickcolor\":\"rgb(237,237,237)\",\"ticklen\":6,\"ticks\":\"inside\"}},\"type\":\"scattergl\"}],\"scattermapbox\":[{\"marker\":{\"colorbar\":{\"outlinewidth\":0,\"tickcolor\":\"rgb(237,237,237)\",\"ticklen\":6,\"ticks\":\"inside\"}},\"type\":\"scattermapbox\"}],\"scatterpolargl\":[{\"marker\":{\"colorbar\":{\"outlinewidth\":0,\"tickcolor\":\"rgb(237,237,237)\",\"ticklen\":6,\"ticks\":\"inside\"}},\"type\":\"scatterpolargl\"}],\"scatterpolar\":[{\"marker\":{\"colorbar\":{\"outlinewidth\":0,\"tickcolor\":\"rgb(237,237,237)\",\"ticklen\":6,\"ticks\":\"inside\"}},\"type\":\"scatterpolar\"}],\"scatter\":[{\"marker\":{\"colorbar\":{\"outlinewidth\":0,\"tickcolor\":\"rgb(237,237,237)\",\"ticklen\":6,\"ticks\":\"inside\"}},\"type\":\"scatter\"}],\"scatterternary\":[{\"marker\":{\"colorbar\":{\"outlinewidth\":0,\"tickcolor\":\"rgb(237,237,237)\",\"ticklen\":6,\"ticks\":\"inside\"}},\"type\":\"scatterternary\"}],\"surface\":[{\"colorbar\":{\"outlinewidth\":0,\"tickcolor\":\"rgb(237,237,237)\",\"ticklen\":6,\"ticks\":\"inside\"},\"colorscale\":[[0,\"rgb(20,44,66)\"],[1,\"rgb(90,179,244)\"]],\"type\":\"surface\"}],\"table\":[{\"cells\":{\"fill\":{\"color\":\"rgb(237,237,237)\"},\"line\":{\"color\":\"white\"}},\"header\":{\"fill\":{\"color\":\"rgb(217,217,217)\"},\"line\":{\"color\":\"white\"}},\"type\":\"table\"}]},\"layout\":{\"annotationdefaults\":{\"arrowhead\":0,\"arrowwidth\":1},\"autotypenumbers\":\"strict\",\"coloraxis\":{\"colorbar\":{\"outlinewidth\":0,\"tickcolor\":\"rgb(237,237,237)\",\"ticklen\":6,\"ticks\":\"inside\"}},\"colorscale\":{\"sequential\":[[0,\"rgb(20,44,66)\"],[1,\"rgb(90,179,244)\"]],\"sequentialminus\":[[0,\"rgb(20,44,66)\"],[1,\"rgb(90,179,244)\"]]},\"colorway\":[\"#F8766D\",\"#A3A500\",\"#00BF7D\",\"#00B0F6\",\"#E76BF3\"],\"font\":{\"color\":\"rgb(51,51,51)\"},\"geo\":{\"bgcolor\":\"white\",\"lakecolor\":\"white\",\"landcolor\":\"rgb(237,237,237)\",\"showlakes\":true,\"showland\":true,\"subunitcolor\":\"white\"},\"hoverlabel\":{\"align\":\"left\"},\"hovermode\":\"closest\",\"paper_bgcolor\":\"white\",\"plot_bgcolor\":\"rgb(237,237,237)\",\"polar\":{\"angularaxis\":{\"gridcolor\":\"white\",\"linecolor\":\"white\",\"showgrid\":true,\"tickcolor\":\"rgb(51,51,51)\",\"ticks\":\"outside\"},\"bgcolor\":\"rgb(237,237,237)\",\"radialaxis\":{\"gridcolor\":\"white\",\"linecolor\":\"white\",\"showgrid\":true,\"tickcolor\":\"rgb(51,51,51)\",\"ticks\":\"outside\"}},\"scene\":{\"xaxis\":{\"backgroundcolor\":\"rgb(237,237,237)\",\"gridcolor\":\"white\",\"gridwidth\":2,\"linecolor\":\"white\",\"showbackground\":true,\"showgrid\":true,\"tickcolor\":\"rgb(51,51,51)\",\"ticks\":\"outside\",\"zerolinecolor\":\"white\"},\"yaxis\":{\"backgroundcolor\":\"rgb(237,237,237)\",\"gridcolor\":\"white\",\"gridwidth\":2,\"linecolor\":\"white\",\"showbackground\":true,\"showgrid\":true,\"tickcolor\":\"rgb(51,51,51)\",\"ticks\":\"outside\",\"zerolinecolor\":\"white\"},\"zaxis\":{\"backgroundcolor\":\"rgb(237,237,237)\",\"gridcolor\":\"white\",\"gridwidth\":2,\"linecolor\":\"white\",\"showbackground\":true,\"showgrid\":true,\"tickcolor\":\"rgb(51,51,51)\",\"ticks\":\"outside\",\"zerolinecolor\":\"white\"}},\"shapedefaults\":{\"fillcolor\":\"black\",\"line\":{\"width\":0},\"opacity\":0.3},\"ternary\":{\"aaxis\":{\"gridcolor\":\"white\",\"linecolor\":\"white\",\"showgrid\":true,\"tickcolor\":\"rgb(51,51,51)\",\"ticks\":\"outside\"},\"baxis\":{\"gridcolor\":\"white\",\"linecolor\":\"white\",\"showgrid\":true,\"tickcolor\":\"rgb(51,51,51)\",\"ticks\":\"outside\"},\"bgcolor\":\"rgb(237,237,237)\",\"caxis\":{\"gridcolor\":\"white\",\"linecolor\":\"white\",\"showgrid\":true,\"tickcolor\":\"rgb(51,51,51)\",\"ticks\":\"outside\"}},\"xaxis\":{\"automargin\":true,\"gridcolor\":\"white\",\"linecolor\":\"white\",\"showgrid\":true,\"tickcolor\":\"rgb(51,51,51)\",\"ticks\":\"outside\",\"title\":{\"standoff\":15},\"zerolinecolor\":\"white\"},\"yaxis\":{\"automargin\":true,\"gridcolor\":\"white\",\"linecolor\":\"white\",\"showgrid\":true,\"tickcolor\":\"rgb(51,51,51)\",\"ticks\":\"outside\",\"title\":{\"standoff\":15},\"zerolinecolor\":\"white\"}}},\"xaxis\":{\"anchor\":\"y\",\"domain\":[0.0,1.0],\"title\":{\"text\":\"salary_in_usd\"}},\"yaxis\":{\"anchor\":\"x\",\"domain\":[0.0,1.0],\"title\":{\"text\":\"experience_level\"},\"categoryarray\":[\"Entry\",\"Mid\",\"Senior\",\"Executive\"]},\"legend\":{\"title\":{\"text\":\"job_title\"},\"tracegroupgap\":0,\"itemsizing\":\"constant\"},\"title\":{\"text\":\"Experience level VS Salary\"},\"updatemenus\":[{\"buttons\":[{\"args\":[null,{\"frame\":{\"duration\":500,\"redraw\":false},\"mode\":\"immediate\",\"fromcurrent\":true,\"transition\":{\"duration\":500,\"easing\":\"linear\"}}],\"label\":\"&#9654;\",\"method\":\"animate\"},{\"args\":[[null],{\"frame\":{\"duration\":0,\"redraw\":false},\"mode\":\"immediate\",\"fromcurrent\":true,\"transition\":{\"duration\":0,\"easing\":\"linear\"}}],\"label\":\"&#9724;\",\"method\":\"animate\"}],\"direction\":\"left\",\"pad\":{\"r\":10,\"t\":70},\"showactive\":false,\"type\":\"buttons\",\"x\":0.1,\"xanchor\":\"right\",\"y\":0,\"yanchor\":\"top\"}],\"sliders\":[{\"active\":0,\"currentvalue\":{\"prefix\":\"work_year=\"},\"len\":0.9,\"pad\":{\"b\":10,\"t\":60},\"steps\":[{\"args\":[[\"2020\"],{\"frame\":{\"duration\":0,\"redraw\":false},\"mode\":\"immediate\",\"fromcurrent\":true,\"transition\":{\"duration\":0,\"easing\":\"linear\"}}],\"label\":\"2020\",\"method\":\"animate\"},{\"args\":[[\"2021\"],{\"frame\":{\"duration\":0,\"redraw\":false},\"mode\":\"immediate\",\"fromcurrent\":true,\"transition\":{\"duration\":0,\"easing\":\"linear\"}}],\"label\":\"2021\",\"method\":\"animate\"},{\"args\":[[\"2022\"],{\"frame\":{\"duration\":0,\"redraw\":false},\"mode\":\"immediate\",\"fromcurrent\":true,\"transition\":{\"duration\":0,\"easing\":\"linear\"}}],\"label\":\"2022\",\"method\":\"animate\"}],\"x\":0.1,\"xanchor\":\"left\",\"y\":0,\"yanchor\":\"top\"}]},                        {\"responsive\": true}                    ).then(function(){\n",
       "                            Plotly.addFrames('4fedeec8-1312-4304-a18c-24c2789864b2', [{\"data\":[{\"hovertemplate\":\"<b>%{hovertext}</b><br><br>job_title=Data Scientist<br>work_year=2020<br>salary_in_usd=%{marker.size}<br>experience_level=%{y}<extra></extra>\",\"hovertext\":[\"Data Scientist\",\"Data Scientist\",\"Data Scientist\",\"Data Scientist\",\"Data Scientist\",\"Data Scientist\",\"Data Scientist\",\"Data Scientist\",\"Data Scientist\",\"Data Scientist\",\"Data Scientist\",\"Data Scientist\",\"Data Scientist\",\"Data Scientist\",\"Data Scientist\",\"Data Scientist\",\"Data Scientist\",\"Data Scientist\",\"Data Scientist\",\"Data Scientist\",\"Data Scientist\"],\"legendgroup\":\"Data Scientist\",\"marker\":{\"color\":\"#AA0DFE\",\"size\":[79833,35735,51321,40481,39916,68428,45760,76958,105000,38776,118000,120000,138350,21669,412000,62726,49268,105000,91237,62726,42197],\"sizemode\":\"area\",\"sizeref\":1500.0,\"symbol\":\"circle\"},\"mode\":\"markers\",\"name\":\"Data Scientist\",\"orientation\":\"h\",\"showlegend\":true,\"x\":[79833,35735,51321,40481,39916,68428,45760,76958,105000,38776,118000,120000,138350,21669,412000,62726,49268,105000,91237,62726,42197],\"xaxis\":\"x\",\"y\":[\"Mid\",\"Mid\",\"Entry\",\"Mid\",\"Entry\",\"Senior\",\"Mid\",\"Mid\",\"Mid\",\"Mid\",\"Mid\",\"Senior\",\"Mid\",\"Entry\",\"Senior\",\"Entry\",\"Entry\",\"Entry\",\"Senior\",\"Mid\",\"Mid\"],\"yaxis\":\"y\",\"type\":\"scatter\"},{\"hovertemplate\":\"<b>%{hovertext}</b><br><br>job_title=Machine Learning Scientist<br>work_year=2020<br>salary_in_usd=%{marker.size}<br>experience_level=%{y}<extra></extra>\",\"hovertext\":[\"Machine Learning Scientist\"],\"legendgroup\":\"Machine Learning Scientist\",\"marker\":{\"color\":\"#3283FE\",\"size\":[260000],\"sizemode\":\"area\",\"sizeref\":1500.0,\"symbol\":\"circle\"},\"mode\":\"markers\",\"name\":\"Machine Learning Scientist\",\"orientation\":\"h\",\"showlegend\":true,\"x\":[260000],\"xaxis\":\"x\",\"y\":[\"Senior\"],\"yaxis\":\"y\",\"type\":\"scatter\"},{\"hovertemplate\":\"<b>%{hovertext}</b><br><br>job_title=Big Data Engineer<br>work_year=2020<br>salary_in_usd=%{marker.size}<br>experience_level=%{y}<extra></extra>\",\"hovertext\":[\"Big Data Engineer\",\"Big Data Engineer\",\"Big Data Engineer\"],\"legendgroup\":\"Big Data Engineer\",\"marker\":{\"color\":\"#85660D\",\"size\":[109024,114047,70000],\"sizemode\":\"area\",\"sizeref\":1500.0,\"symbol\":\"circle\"},\"mode\":\"markers\",\"name\":\"Big Data Engineer\",\"orientation\":\"h\",\"showlegend\":true,\"x\":[109024,114047,70000],\"xaxis\":\"x\",\"y\":[\"Senior\",\"Senior\",\"Entry\"],\"yaxis\":\"y\",\"type\":\"scatter\"},{\"hovertemplate\":\"<b>%{hovertext}</b><br><br>job_title=Product Data Analyst<br>work_year=2020<br>salary_in_usd=%{marker.size}<br>experience_level=%{y}<extra></extra>\",\"hovertext\":[\"Product Data Analyst\",\"Product Data Analyst\"],\"legendgroup\":\"Product Data Analyst\",\"marker\":{\"color\":\"#782AB6\",\"size\":[20000,6072],\"sizemode\":\"area\",\"sizeref\":1500.0,\"symbol\":\"circle\"},\"mode\":\"markers\",\"name\":\"Product Data Analyst\",\"orientation\":\"h\",\"showlegend\":true,\"x\":[20000,6072],\"xaxis\":\"x\",\"y\":[\"Mid\",\"Mid\"],\"yaxis\":\"y\",\"type\":\"scatter\"},{\"hovertemplate\":\"<b>%{hovertext}</b><br><br>job_title=Machine Learning Engineer<br>work_year=2020<br>salary_in_usd=%{marker.size}<br>experience_level=%{y}<extra></extra>\",\"hovertext\":[\"Machine Learning Engineer\",\"Machine Learning Engineer\",\"Machine Learning Engineer\",\"Machine Learning Engineer\",\"Machine Learning Engineer\"],\"legendgroup\":\"Machine Learning Engineer\",\"marker\":{\"color\":\"#565656\",\"size\":[150000,43331,250000,138000,45618],\"sizemode\":\"area\",\"sizeref\":1500.0,\"symbol\":\"circle\"},\"mode\":\"markers\",\"name\":\"Machine Learning Engineer\",\"orientation\":\"h\",\"showlegend\":true,\"x\":[150000,43331,250000,138000,45618],\"xaxis\":\"x\",\"y\":[\"Senior\",\"Mid\",\"Entry\",\"Entry\",\"Senior\"],\"yaxis\":\"y\",\"type\":\"scatter\"},{\"hovertemplate\":\"<b>%{hovertext}</b><br><br>job_title=Data Analyst<br>work_year=2020<br>salary_in_usd=%{marker.size}<br>experience_level=%{y}<extra></extra>\",\"hovertext\":[\"Data Analyst\",\"Data Analyst\",\"Data Analyst\",\"Data Analyst\",\"Data Analyst\",\"Data Analyst\",\"Data Analyst\"],\"legendgroup\":\"Data Analyst\",\"marker\":{\"color\":\"#1C8356\",\"size\":[72000,85000,8000,46759,10000,6072,91000],\"sizemode\":\"area\",\"sizeref\":1500.0,\"symbol\":\"circle\"},\"mode\":\"markers\",\"name\":\"Data Analyst\",\"orientation\":\"h\",\"showlegend\":true,\"x\":[72000,85000,8000,46759,10000,6072,91000],\"xaxis\":\"x\",\"y\":[\"Entry\",\"Mid\",\"Mid\",\"Mid\",\"Entry\",\"Entry\",\"Entry\"],\"yaxis\":\"y\",\"type\":\"scatter\"},{\"hovertemplate\":\"<b>%{hovertext}</b><br><br>job_title=Lead Data Scientist<br>work_year=2020<br>salary_in_usd=%{marker.size}<br>experience_level=%{y}<extra></extra>\",\"hovertext\":[\"Lead Data Scientist\",\"Lead Data Scientist\"],\"legendgroup\":\"Lead Data Scientist\",\"marker\":{\"color\":\"#16FF32\",\"size\":[190000,115000],\"sizemode\":\"area\",\"sizeref\":1500.0,\"symbol\":\"circle\"},\"mode\":\"markers\",\"name\":\"Lead Data Scientist\",\"orientation\":\"h\",\"showlegend\":true,\"x\":[190000,115000],\"xaxis\":\"x\",\"y\":[\"Senior\",\"Mid\"],\"yaxis\":\"y\",\"type\":\"scatter\"},{\"hovertemplate\":\"<b>%{hovertext}</b><br><br>job_title=Business Data Analyst<br>work_year=2020<br>salary_in_usd=%{marker.size}<br>experience_level=%{y}<extra></extra>\",\"hovertext\":[\"Business Data Analyst\",\"Business Data Analyst\"],\"legendgroup\":\"Business Data Analyst\",\"marker\":{\"color\":\"#F7E1A0\",\"size\":[135000,100000],\"sizemode\":\"area\",\"sizeref\":1500.0,\"symbol\":\"circle\"},\"mode\":\"markers\",\"name\":\"Business Data Analyst\",\"orientation\":\"h\",\"showlegend\":true,\"x\":[135000,100000],\"xaxis\":\"x\",\"y\":[\"Mid\",\"Entry\"],\"yaxis\":\"y\",\"type\":\"scatter\"},{\"hovertemplate\":\"<b>%{hovertext}</b><br><br>job_title=Lead Data Engineer<br>work_year=2020<br>salary_in_usd=%{marker.size}<br>experience_level=%{y}<extra></extra>\",\"hovertext\":[\"Lead Data Engineer\",\"Lead Data Engineer\"],\"legendgroup\":\"Lead Data Engineer\",\"marker\":{\"color\":\"#E2E2E2\",\"size\":[125000,56000],\"sizemode\":\"area\",\"sizeref\":1500.0,\"symbol\":\"circle\"},\"mode\":\"markers\",\"name\":\"Lead Data Engineer\",\"orientation\":\"h\",\"showlegend\":true,\"x\":[125000,56000],\"xaxis\":\"x\",\"y\":[\"Senior\",\"Mid\"],\"yaxis\":\"y\",\"type\":\"scatter\"},{\"hovertemplate\":\"<b>%{hovertext}</b><br><br>job_title=Lead Data Analyst<br>work_year=2020<br>salary_in_usd=%{marker.size}<br>experience_level=%{y}<extra></extra>\",\"hovertext\":[\"Lead Data Analyst\"],\"legendgroup\":\"Lead Data Analyst\",\"marker\":{\"color\":\"#1CBE4F\",\"size\":[87000],\"sizemode\":\"area\",\"sizeref\":1500.0,\"symbol\":\"circle\"},\"mode\":\"markers\",\"name\":\"Lead Data Analyst\",\"orientation\":\"h\",\"showlegend\":true,\"x\":[87000],\"xaxis\":\"x\",\"y\":[\"Mid\"],\"yaxis\":\"y\",\"type\":\"scatter\"},{\"hovertemplate\":\"<b>%{hovertext}</b><br><br>job_title=Data Engineer<br>work_year=2020<br>salary_in_usd=%{marker.size}<br>experience_level=%{y}<extra></extra>\",\"hovertext\":[\"Data Engineer\",\"Data Engineer\",\"Data Engineer\",\"Data Engineer\",\"Data Engineer\",\"Data Engineer\",\"Data Engineer\",\"Data Engineer\",\"Data Engineer\",\"Data Engineer\",\"Data Engineer\"],\"legendgroup\":\"Data Engineer\",\"marker\":{\"color\":\"#C4451C\",\"size\":[41689,47899,33511,74130,106000,112872,188000,70139,54742,110000,130800],\"sizemode\":\"area\",\"sizeref\":1500.0,\"symbol\":\"circle\"},\"mode\":\"markers\",\"name\":\"Data Engineer\",\"orientation\":\"h\",\"showlegend\":true,\"x\":[41689,47899,33511,74130,106000,112872,188000,70139,54742,110000,130800],\"xaxis\":\"x\",\"y\":[\"Entry\",\"Senior\",\"Senior\",\"Mid\",\"Mid\",\"Mid\",\"Senior\",\"Mid\",\"Entry\",\"Mid\",\"Mid\"],\"yaxis\":\"y\",\"type\":\"scatter\"},{\"hovertemplate\":\"<b>%{hovertext}</b><br><br>job_title=Data Science Consultant<br>work_year=2020<br>salary_in_usd=%{marker.size}<br>experience_level=%{y}<extra></extra>\",\"hovertext\":[\"Data Science Consultant\",\"Data Science Consultant\"],\"legendgroup\":\"Data Science Consultant\",\"marker\":{\"color\":\"#DEA0FD\",\"size\":[5707,103000],\"sizemode\":\"area\",\"sizeref\":1500.0,\"symbol\":\"circle\"},\"mode\":\"markers\",\"name\":\"Data Science Consultant\",\"orientation\":\"h\",\"showlegend\":true,\"x\":[5707,103000],\"xaxis\":\"x\",\"y\":[\"Entry\",\"Mid\"],\"yaxis\":\"y\",\"type\":\"scatter\"},{\"hovertemplate\":\"<b>%{hovertext}</b><br><br>job_title=BI Data Analyst<br>work_year=2020<br>salary_in_usd=%{marker.size}<br>experience_level=%{y}<extra></extra>\",\"hovertext\":[\"BI Data Analyst\"],\"legendgroup\":\"BI Data Analyst\",\"marker\":{\"color\":\"#FE00FA\",\"size\":[98000],\"sizemode\":\"area\",\"sizeref\":1500.0,\"symbol\":\"circle\"},\"mode\":\"markers\",\"name\":\"BI Data Analyst\",\"orientation\":\"h\",\"showlegend\":true,\"x\":[98000],\"xaxis\":\"x\",\"y\":[\"Mid\"],\"yaxis\":\"y\",\"type\":\"scatter\"},{\"hovertemplate\":\"<b>%{hovertext}</b><br><br>job_title=Director of Data Science<br>work_year=2020<br>salary_in_usd=%{marker.size}<br>experience_level=%{y}<extra></extra>\",\"hovertext\":[\"Director of Data Science\"],\"legendgroup\":\"Director of Data Science\",\"marker\":{\"color\":\"#325A9B\",\"size\":[325000],\"sizemode\":\"area\",\"sizeref\":1500.0,\"symbol\":\"circle\"},\"mode\":\"markers\",\"name\":\"Director of Data Science\",\"orientation\":\"h\",\"showlegend\":true,\"x\":[325000],\"xaxis\":\"x\",\"y\":[\"Executive\"],\"yaxis\":\"y\",\"type\":\"scatter\"},{\"hovertemplate\":\"<b>%{hovertext}</b><br><br>job_title=Research Scientist<br>work_year=2020<br>salary_in_usd=%{marker.size}<br>experience_level=%{y}<extra></extra>\",\"hovertext\":[\"Research Scientist\",\"Research Scientist\"],\"legendgroup\":\"Research Scientist\",\"marker\":{\"color\":\"#FEAF16\",\"size\":[42000,450000],\"sizemode\":\"area\",\"sizeref\":1500.0,\"symbol\":\"circle\"},\"mode\":\"markers\",\"name\":\"Research Scientist\",\"orientation\":\"h\",\"showlegend\":true,\"x\":[42000,450000],\"xaxis\":\"x\",\"y\":[\"Entry\",\"Mid\"],\"yaxis\":\"y\",\"type\":\"scatter\"},{\"hovertemplate\":\"<b>%{hovertext}</b><br><br>job_title=Machine Learning Manager<br>work_year=2020<br>salary_in_usd=%{marker.size}<br>experience_level=%{y}<extra></extra>\",\"hovertext\":[\"Machine Learning Manager\"],\"legendgroup\":\"Machine Learning Manager\",\"marker\":{\"color\":\"#F8A19F\",\"size\":[117104],\"sizemode\":\"area\",\"sizeref\":1500.0,\"symbol\":\"circle\"},\"mode\":\"markers\",\"name\":\"Machine Learning Manager\",\"orientation\":\"h\",\"showlegend\":true,\"x\":[117104],\"xaxis\":\"x\",\"y\":[\"Senior\"],\"yaxis\":\"y\",\"type\":\"scatter\"},{\"hovertemplate\":\"<b>%{hovertext}</b><br><br>job_title=Data Engineering Manager<br>work_year=2020<br>salary_in_usd=%{marker.size}<br>experience_level=%{y}<extra></extra>\",\"hovertext\":[\"Data Engineering Manager\",\"Data Engineering Manager\"],\"legendgroup\":\"Data Engineering Manager\",\"marker\":{\"color\":\"#90AD1C\",\"size\":[59303,79833],\"sizemode\":\"area\",\"sizeref\":1500.0,\"symbol\":\"circle\"},\"mode\":\"markers\",\"name\":\"Data Engineering Manager\",\"orientation\":\"h\",\"showlegend\":true,\"x\":[59303,79833],\"xaxis\":\"x\",\"y\":[\"Mid\",\"Executive\"],\"yaxis\":\"y\",\"type\":\"scatter\"},{\"hovertemplate\":\"<b>%{hovertext}</b><br><br>job_title=Machine Learning Infrastructure Engineer<br>work_year=2020<br>salary_in_usd=%{marker.size}<br>experience_level=%{y}<extra></extra>\",\"hovertext\":[\"Machine Learning Infrastructure Engineer\"],\"legendgroup\":\"Machine Learning Infrastructure Engineer\",\"marker\":{\"color\":\"#F6222E\",\"size\":[50180],\"sizemode\":\"area\",\"sizeref\":1500.0,\"symbol\":\"circle\"},\"mode\":\"markers\",\"name\":\"Machine Learning Infrastructure Engineer\",\"orientation\":\"h\",\"showlegend\":true,\"x\":[50180],\"xaxis\":\"x\",\"y\":[\"Mid\"],\"yaxis\":\"y\",\"type\":\"scatter\"},{\"hovertemplate\":\"<b>%{hovertext}</b><br><br>job_title=ML Engineer<br>work_year=2020<br>salary_in_usd=%{marker.size}<br>experience_level=%{y}<extra></extra>\",\"hovertext\":[\"ML Engineer\"],\"legendgroup\":\"ML Engineer\",\"marker\":{\"color\":\"#1CFFCE\",\"size\":[15966],\"sizemode\":\"area\",\"sizeref\":1500.0,\"symbol\":\"circle\"},\"mode\":\"markers\",\"name\":\"ML Engineer\",\"orientation\":\"h\",\"showlegend\":true,\"x\":[15966],\"xaxis\":\"x\",\"y\":[\"Entry\"],\"yaxis\":\"y\",\"type\":\"scatter\"},{\"hovertemplate\":\"<b>%{hovertext}</b><br><br>job_title=AI Scientist<br>work_year=2020<br>salary_in_usd=%{marker.size}<br>experience_level=%{y}<extra></extra>\",\"hovertext\":[\"AI Scientist\"],\"legendgroup\":\"AI Scientist\",\"marker\":{\"color\":\"#2ED9FF\",\"size\":[45896],\"sizemode\":\"area\",\"sizeref\":1500.0,\"symbol\":\"circle\"},\"mode\":\"markers\",\"name\":\"AI Scientist\",\"orientation\":\"h\",\"showlegend\":true,\"x\":[45896],\"xaxis\":\"x\",\"y\":[\"Entry\"],\"yaxis\":\"y\",\"type\":\"scatter\"},{\"hovertemplate\":\"<b>%{hovertext}</b><br><br>job_title=Computer Vision Engineer<br>work_year=2020<br>salary_in_usd=%{marker.size}<br>experience_level=%{y}<extra></extra>\",\"hovertext\":[\"Computer Vision Engineer\"],\"legendgroup\":\"Computer Vision Engineer\",\"marker\":{\"color\":\"#B10DA1\",\"size\":[60000],\"sizemode\":\"area\",\"sizeref\":1500.0,\"symbol\":\"circle\"},\"mode\":\"markers\",\"name\":\"Computer Vision Engineer\",\"orientation\":\"h\",\"showlegend\":true,\"x\":[60000],\"xaxis\":\"x\",\"y\":[\"Senior\"],\"yaxis\":\"y\",\"type\":\"scatter\"},{\"hovertemplate\":\"<b>%{hovertext}</b><br><br>job_title=Principal Data Scientist<br>work_year=2020<br>salary_in_usd=%{marker.size}<br>experience_level=%{y}<extra></extra>\",\"hovertext\":[\"Principal Data Scientist\"],\"legendgroup\":\"Principal Data Scientist\",\"marker\":{\"color\":\"#C075A6\",\"size\":[148261],\"sizemode\":\"area\",\"sizeref\":1500.0,\"symbol\":\"circle\"},\"mode\":\"markers\",\"name\":\"Principal Data Scientist\",\"orientation\":\"h\",\"showlegend\":true,\"x\":[148261],\"xaxis\":\"x\",\"y\":[\"Senior\"],\"yaxis\":\"y\",\"type\":\"scatter\"},{\"hovertemplate\":\"<b>%{hovertext}</b><br><br>job_title=Data Science Manager<br>work_year=2020<br>salary_in_usd=%{marker.size}<br>experience_level=%{y}<extra></extra>\",\"hovertext\":[\"Data Science Manager\"],\"legendgroup\":\"Data Science Manager\",\"marker\":{\"color\":\"#FC1CBF\",\"size\":[190200],\"sizemode\":\"area\",\"sizeref\":1500.0,\"symbol\":\"circle\"},\"mode\":\"markers\",\"name\":\"Data Science Manager\",\"orientation\":\"h\",\"showlegend\":true,\"x\":[190200],\"xaxis\":\"x\",\"y\":[\"Senior\"],\"yaxis\":\"y\",\"type\":\"scatter\"}],\"name\":\"2020\"},{\"data\":[{\"hovertemplate\":\"<b>%{hovertext}</b><br><br>job_title=Data Scientist<br>work_year=2021<br>salary_in_usd=%{marker.size}<br>experience_level=%{y}<extra></extra>\",\"hovertext\":[\"Data Scientist\",\"Data Scientist\",\"Data Scientist\",\"Data Scientist\",\"Data Scientist\",\"Data Scientist\",\"Data Scientist\",\"Data Scientist\",\"Data Scientist\",\"Data Scientist\",\"Data Scientist\",\"Data Scientist\",\"Data Scientist\",\"Data Scientist\",\"Data Scientist\",\"Data Scientist\",\"Data Scientist\",\"Data Scientist\",\"Data Scientist\",\"Data Scientist\",\"Data Scientist\",\"Data Scientist\",\"Data Scientist\",\"Data Scientist\",\"Data Scientist\",\"Data Scientist\",\"Data Scientist\",\"Data Scientist\",\"Data Scientist\",\"Data Scientist\",\"Data Scientist\",\"Data Scientist\",\"Data Scientist\",\"Data Scientist\",\"Data Scientist\",\"Data Scientist\",\"Data Scientist\",\"Data Scientist\",\"Data Scientist\",\"Data Scientist\",\"Data Scientist\",\"Data Scientist\",\"Data Scientist\",\"Data Scientist\",\"Data Scientist\"],\"legendgroup\":\"Data Scientist\",\"marker\":{\"color\":\"#AA0DFE\",\"size\":[53192,29751,73000,50000,9466,49646,100000,80000,82500,150000,75774,13400,119059,2859,40038,5679,90734,147000,61467,37825,160000,12901,90734,116914,33808,56256,87738,88654,135000,46809,4000,103691,165000,36643,115000,90000,28399,130000,16904,25532,77684,100000,58000,20171,109000],\"sizemode\":\"area\",\"sizeref\":1500.0,\"symbol\":\"circle\"},\"mode\":\"markers\",\"name\":\"Data Scientist\",\"orientation\":\"h\",\"showlegend\":true,\"x\":[53192,29751,73000,50000,9466,49646,100000,80000,82500,150000,75774,13400,119059,2859,40038,5679,90734,147000,61467,37825,160000,12901,90734,116914,33808,56256,87738,88654,135000,46809,4000,103691,165000,36643,115000,90000,28399,130000,16904,25532,77684,100000,58000,20171,109000],\"xaxis\":\"x\",\"y\":[\"Senior\",\"Entry\",\"Mid\",\"Mid\",\"Mid\",\"Entry\",\"Entry\",\"Entry\",\"Mid\",\"Mid\",\"Mid\",\"Entry\",\"Mid\",\"Mid\",\"Mid\",\"Mid\",\"Mid\",\"Mid\",\"Mid\",\"Mid\",\"Mid\",\"Mid\",\"Mid\",\"Mid\",\"Mid\",\"Mid\",\"Senior\",\"Mid\",\"Senior\",\"Mid\",\"Entry\",\"Senior\",\"Senior\",\"Entry\",\"Mid\",\"Entry\",\"Entry\",\"Mid\",\"Mid\",\"Mid\",\"Senior\",\"Entry\",\"Entry\",\"Senior\",\"Mid\"],\"yaxis\":\"y\",\"type\":\"scatter\"},{\"hovertemplate\":\"<b>%{hovertext}</b><br><br>job_title=Machine Learning Scientist<br>work_year=2021<br>salary_in_usd=%{marker.size}<br>experience_level=%{y}<extra></extra>\",\"hovertext\":[\"Machine Learning Scientist\",\"Machine Learning Scientist\",\"Machine Learning Scientist\",\"Machine Learning Scientist\"],\"legendgroup\":\"Machine Learning Scientist\",\"marker\":{\"color\":\"#3283FE\",\"size\":[225000,120000,12000,225000],\"sizemode\":\"area\",\"sizeref\":1500.0,\"symbol\":\"circle\"},\"mode\":\"markers\",\"name\":\"Machine Learning Scientist\",\"orientation\":\"h\",\"showlegend\":true,\"x\":[225000,120000,12000,225000],\"xaxis\":\"x\",\"y\":[\"Entry\",\"Senior\",\"Mid\",\"Senior\"],\"yaxis\":\"y\",\"type\":\"scatter\"},{\"hovertemplate\":\"<b>%{hovertext}</b><br><br>job_title=Big Data Engineer<br>work_year=2021<br>salary_in_usd=%{marker.size}<br>experience_level=%{y}<extra></extra>\",\"hovertext\":[\"Big Data Engineer\",\"Big Data Engineer\",\"Big Data Engineer\",\"Big Data Engineer\",\"Big Data Engineer\"],\"legendgroup\":\"Big Data Engineer\",\"marker\":{\"color\":\"#85660D\",\"size\":[60000,22611,18000,5882,16228],\"sizemode\":\"area\",\"sizeref\":1500.0,\"symbol\":\"circle\"},\"mode\":\"markers\",\"name\":\"Big Data Engineer\",\"orientation\":\"h\",\"showlegend\":true,\"x\":[60000,22611,18000,5882,16228],\"xaxis\":\"x\",\"y\":[\"Mid\",\"Mid\",\"Mid\",\"Entry\",\"Entry\"],\"yaxis\":\"y\",\"type\":\"scatter\"},{\"hovertemplate\":\"<b>%{hovertext}</b><br><br>job_title=Machine Learning Engineer<br>work_year=2021<br>salary_in_usd=%{marker.size}<br>experience_level=%{y}<extra></extra>\",\"hovertext\":[\"Machine Learning Engineer\",\"Machine Learning Engineer\",\"Machine Learning Engineer\",\"Machine Learning Engineer\",\"Machine Learning Engineer\",\"Machine Learning Engineer\",\"Machine Learning Engineer\",\"Machine Learning Engineer\",\"Machine Learning Engineer\",\"Machine Learning Engineer\",\"Machine Learning Engineer\",\"Machine Learning Engineer\",\"Machine Learning Engineer\",\"Machine Learning Engineer\",\"Machine Learning Engineer\",\"Machine Learning Engineer\",\"Machine Learning Engineer\",\"Machine Learning Engineer\"],\"legendgroup\":\"Machine Learning Engineer\",\"marker\":{\"color\":\"#565656\",\"size\":[47282,94564,20000,82744,125000,81000,74000,21844,24342,200000,24823,24823,88654,46597,185000,66265,85000,51064],\"sizemode\":\"area\",\"sizeref\":1500.0,\"symbol\":\"circle\"},\"mode\":\"markers\",\"name\":\"Machine Learning Engineer\",\"orientation\":\"h\",\"showlegend\":true,\"x\":[47282,94564,20000,82744,125000,81000,74000,21844,24342,200000,24823,24823,88654,46597,185000,66265,85000,51064],\"xaxis\":\"x\",\"y\":[\"Mid\",\"Senior\",\"Entry\",\"Senior\",\"Entry\",\"Entry\",\"Mid\",\"Entry\",\"Senior\",\"Senior\",\"Mid\",\"Entry\",\"Mid\",\"Mid\",\"Senior\",\"Senior\",\"Entry\",\"Mid\"],\"yaxis\":\"y\",\"type\":\"scatter\"},{\"hovertemplate\":\"<b>%{hovertext}</b><br><br>job_title=Data Analyst<br>work_year=2021<br>salary_in_usd=%{marker.size}<br>experience_level=%{y}<extra></extra>\",\"hovertext\":[\"Data Analyst\",\"Data Analyst\",\"Data Analyst\",\"Data Analyst\",\"Data Analyst\",\"Data Analyst\",\"Data Analyst\",\"Data Analyst\",\"Data Analyst\",\"Data Analyst\",\"Data Analyst\",\"Data Analyst\",\"Data Analyst\",\"Data Analyst\",\"Data Analyst\",\"Data Analyst\",\"Data Analyst\"],\"legendgroup\":\"Data Analyst\",\"marker\":{\"color\":\"#1C8356\",\"size\":[80000,59102,80000,75000,62000,51519,90000,50000,10354,90000,135000,60000,71786,200000,80000,93000,63831],\"sizemode\":\"area\",\"sizeref\":1500.0,\"symbol\":\"circle\"},\"mode\":\"markers\",\"name\":\"Data Analyst\",\"orientation\":\"h\",\"showlegend\":true,\"x\":[80000,59102,80000,75000,62000,51519,90000,50000,10354,90000,135000,60000,71786,200000,80000,93000,63831],\"xaxis\":\"x\",\"y\":[\"Entry\",\"Entry\",\"Senior\",\"Mid\",\"Mid\",\"Mid\",\"Entry\",\"Entry\",\"Entry\",\"Mid\",\"Mid\",\"Entry\",\"Senior\",\"Senior\",\"Mid\",\"Mid\",\"Senior\"],\"yaxis\":\"y\",\"type\":\"scatter\"},{\"hovertemplate\":\"<b>%{hovertext}</b><br><br>job_title=Lead Data Scientist<br>work_year=2021<br>salary_in_usd=%{marker.size}<br>experience_level=%{y}<extra></extra>\",\"hovertext\":[\"Lead Data Scientist\"],\"legendgroup\":\"Lead Data Scientist\",\"marker\":{\"color\":\"#16FF32\",\"size\":[40570],\"sizemode\":\"area\",\"sizeref\":1500.0,\"symbol\":\"circle\"},\"mode\":\"markers\",\"name\":\"Lead Data Scientist\",\"orientation\":\"h\",\"showlegend\":true,\"x\":[40570],\"xaxis\":\"x\",\"y\":[\"Senior\"],\"yaxis\":\"y\",\"type\":\"scatter\"},{\"hovertemplate\":\"<b>%{hovertext}</b><br><br>job_title=Business Data Analyst<br>work_year=2021<br>salary_in_usd=%{marker.size}<br>experience_level=%{y}<extra></extra>\",\"hovertext\":[\"Business Data Analyst\"],\"legendgroup\":\"Business Data Analyst\",\"marker\":{\"color\":\"#F7E1A0\",\"size\":[59102],\"sizemode\":\"area\",\"sizeref\":1500.0,\"symbol\":\"circle\"},\"mode\":\"markers\",\"name\":\"Business Data Analyst\",\"orientation\":\"h\",\"showlegend\":true,\"x\":[59102],\"xaxis\":\"x\",\"y\":[\"Entry\"],\"yaxis\":\"y\",\"type\":\"scatter\"},{\"hovertemplate\":\"<b>%{hovertext}</b><br><br>job_title=Lead Data Engineer<br>work_year=2021<br>salary_in_usd=%{marker.size}<br>experience_level=%{y}<extra></extra>\",\"hovertext\":[\"Lead Data Engineer\",\"Lead Data Engineer\",\"Lead Data Engineer\"],\"legendgroup\":\"Lead Data Engineer\",\"marker\":{\"color\":\"#E2E2E2\",\"size\":[276000,103160,160000],\"sizemode\":\"area\",\"sizeref\":1500.0,\"symbol\":\"circle\"},\"mode\":\"markers\",\"name\":\"Lead Data Engineer\",\"orientation\":\"h\",\"showlegend\":true,\"x\":[276000,103160,160000],\"xaxis\":\"x\",\"y\":[\"Senior\",\"Senior\",\"Senior\"],\"yaxis\":\"y\",\"type\":\"scatter\"},{\"hovertemplate\":\"<b>%{hovertext}</b><br><br>job_title=Lead Data Analyst<br>work_year=2021<br>salary_in_usd=%{marker.size}<br>experience_level=%{y}<extra></extra>\",\"hovertext\":[\"Lead Data Analyst\",\"Lead Data Analyst\"],\"legendgroup\":\"Lead Data Analyst\",\"marker\":{\"color\":\"#1CBE4F\",\"size\":[170000,19609],\"sizemode\":\"area\",\"sizeref\":1500.0,\"symbol\":\"circle\"},\"mode\":\"markers\",\"name\":\"Lead Data Analyst\",\"orientation\":\"h\",\"showlegend\":true,\"x\":[170000,19609],\"xaxis\":\"x\",\"y\":[\"Senior\",\"Mid\"],\"yaxis\":\"y\",\"type\":\"scatter\"},{\"hovertemplate\":\"<b>%{hovertext}</b><br><br>job_title=Data Engineer<br>work_year=2021<br>salary_in_usd=%{marker.size}<br>experience_level=%{y}<extra></extra>\",\"hovertext\":[\"Data Engineer\",\"Data Engineer\",\"Data Engineer\",\"Data Engineer\",\"Data Engineer\",\"Data Engineer\",\"Data Engineer\",\"Data Engineer\",\"Data Engineer\",\"Data Engineer\",\"Data Engineer\",\"Data Engineer\",\"Data Engineer\",\"Data Engineer\",\"Data Engineer\",\"Data Engineer\",\"Data Engineer\",\"Data Engineer\",\"Data Engineer\",\"Data Engineer\",\"Data Engineer\",\"Data Engineer\",\"Data Engineer\",\"Data Engineer\",\"Data Engineer\",\"Data Engineer\",\"Data Engineer\",\"Data Engineer\",\"Data Engineer\",\"Data Engineer\",\"Data Engineer\",\"Data Engineer\"],\"legendgroup\":\"Data Engineer\",\"marker\":{\"color\":\"#C4451C\",\"size\":[140000,28476,150000,115000,150000,30428,45391,200000,100000,90000,28369,80000,82528,26005,4000,76833,165000,20000,66022,21637,110000,72212,12103,96282,200000,93150,111775,28016,65013,72500,112000,69741],\"sizemode\":\"area\",\"sizeref\":1500.0,\"symbol\":\"circle\"},\"mode\":\"markers\",\"name\":\"Data Engineer\",\"orientation\":\"h\",\"showlegend\":true,\"x\":[140000,28476,150000,115000,150000,30428,45391,200000,100000,90000,28369,80000,82528,26005,4000,76833,165000,20000,66022,21637,110000,72212,12103,96282,200000,93150,111775,28016,65013,72500,112000,69741],\"xaxis\":\"x\",\"y\":[\"Mid\",\"Mid\",\"Senior\",\"Senior\",\"Senior\",\"Entry\",\"Mid\",\"Mid\",\"Mid\",\"Mid\",\"Mid\",\"Entry\",\"Mid\",\"Mid\",\"Mid\",\"Senior\",\"Senior\",\"Mid\",\"Mid\",\"Entry\",\"Mid\",\"Mid\",\"Mid\",\"Senior\",\"Mid\",\"Mid\",\"Mid\",\"Mid\",\"Entry\",\"Entry\",\"Mid\",\"Mid\"],\"yaxis\":\"y\",\"type\":\"scatter\"},{\"hovertemplate\":\"<b>%{hovertext}</b><br><br>job_title=Data Science Consultant<br>work_year=2021<br>salary_in_usd=%{marker.size}<br>experience_level=%{y}<extra></extra>\",\"hovertext\":[\"Data Science Consultant\",\"Data Science Consultant\",\"Data Science Consultant\",\"Data Science Consultant\",\"Data Science Consultant\"],\"legendgroup\":\"Data Science Consultant\",\"marker\":{\"color\":\"#DEA0FD\",\"size\":[76833,63831,69741,90000,76833],\"sizemode\":\"area\",\"sizeref\":1500.0,\"symbol\":\"circle\"},\"mode\":\"markers\",\"name\":\"Data Science Consultant\",\"orientation\":\"h\",\"showlegend\":true,\"x\":[76833,63831,69741,90000,76833],\"xaxis\":\"x\",\"y\":[\"Entry\",\"Entry\",\"Executive\",\"Entry\",\"Entry\"],\"yaxis\":\"y\",\"type\":\"scatter\"},{\"hovertemplate\":\"<b>%{hovertext}</b><br><br>job_title=BI Data Analyst<br>work_year=2021<br>salary_in_usd=%{marker.size}<br>experience_level=%{y}<extra></extra>\",\"hovertext\":[\"BI Data Analyst\",\"BI Data Analyst\",\"BI Data Analyst\",\"BI Data Analyst\",\"BI Data Analyst\"],\"legendgroup\":\"BI Data Analyst\",\"marker\":{\"color\":\"#FE00FA\",\"size\":[150000,100000,36259,55000,9272],\"sizemode\":\"area\",\"sizeref\":1500.0,\"symbol\":\"circle\"},\"mode\":\"markers\",\"name\":\"BI Data Analyst\",\"orientation\":\"h\",\"showlegend\":true,\"x\":[150000,100000,36259,55000,9272],\"xaxis\":\"x\",\"y\":[\"Executive\",\"Mid\",\"Mid\",\"Entry\",\"Entry\"],\"yaxis\":\"y\",\"type\":\"scatter\"},{\"hovertemplate\":\"<b>%{hovertext}</b><br><br>job_title=Director of Data Science<br>work_year=2021<br>salary_in_usd=%{marker.size}<br>experience_level=%{y}<extra></extra>\",\"hovertext\":[\"Director of Data Science\",\"Director of Data Science\",\"Director of Data Science\",\"Director of Data Science\",\"Director of Data Science\"],\"legendgroup\":\"Director of Data Science\",\"marker\":{\"color\":\"#325A9B\",\"size\":[153667,168000,130026,250000,141846],\"sizemode\":\"area\",\"sizeref\":1500.0,\"symbol\":\"circle\"},\"mode\":\"markers\",\"name\":\"Director of Data Science\",\"orientation\":\"h\",\"showlegend\":true,\"x\":[153667,168000,130026,250000,141846],\"xaxis\":\"x\",\"y\":[\"Executive\",\"Senior\",\"Executive\",\"Executive\",\"Executive\"],\"yaxis\":\"y\",\"type\":\"scatter\"},{\"hovertemplate\":\"<b>%{hovertext}</b><br><br>job_title=Research Scientist<br>work_year=2021<br>salary_in_usd=%{marker.size}<br>experience_level=%{y}<extra></extra>\",\"hovertext\":[\"Research Scientist\",\"Research Scientist\",\"Research Scientist\",\"Research Scientist\",\"Research Scientist\",\"Research Scientist\",\"Research Scientist\",\"Research Scientist\",\"Research Scientist\",\"Research Scientist\"],\"legendgroup\":\"Research Scientist\",\"marker\":{\"color\":\"#FEAF16\",\"size\":[82528,187442,62649,60757,96113,50000,56738,63810,100000,69999],\"sizemode\":\"area\",\"sizeref\":1500.0,\"symbol\":\"circle\"},\"mode\":\"markers\",\"name\":\"Research Scientist\",\"orientation\":\"h\",\"showlegend\":true,\"x\":[82528,187442,62649,60757,96113,50000,56738,63810,100000,69999],\"xaxis\":\"x\",\"y\":[\"Entry\",\"Mid\",\"Mid\",\"Senior\",\"Senior\",\"Senior\",\"Mid\",\"Mid\",\"Entry\",\"Mid\"],\"yaxis\":\"y\",\"type\":\"scatter\"},{\"hovertemplate\":\"<b>%{hovertext}</b><br><br>job_title=Data Engineering Manager<br>work_year=2021<br>salary_in_usd=%{marker.size}<br>experience_level=%{y}<extra></extra>\",\"hovertext\":[\"Data Engineering Manager\",\"Data Engineering Manager\",\"Data Engineering Manager\"],\"legendgroup\":\"Data Engineering Manager\",\"marker\":{\"color\":\"#90AD1C\",\"size\":[150000,153000,174000],\"sizemode\":\"area\",\"sizeref\":1500.0,\"symbol\":\"circle\"},\"mode\":\"markers\",\"name\":\"Data Engineering Manager\",\"orientation\":\"h\",\"showlegend\":true,\"x\":[150000,153000,174000],\"xaxis\":\"x\",\"y\":[\"Senior\",\"Senior\",\"Senior\"],\"yaxis\":\"y\",\"type\":\"scatter\"},{\"hovertemplate\":\"<b>%{hovertext}</b><br><br>job_title=Machine Learning Infrastructure Engineer<br>work_year=2021<br>salary_in_usd=%{marker.size}<br>experience_level=%{y}<extra></extra>\",\"hovertext\":[\"Machine Learning Infrastructure Engineer\"],\"legendgroup\":\"Machine Learning Infrastructure Engineer\",\"marker\":{\"color\":\"#F6222E\",\"size\":[195000],\"sizemode\":\"area\",\"sizeref\":1500.0,\"symbol\":\"circle\"},\"mode\":\"markers\",\"name\":\"Machine Learning Infrastructure Engineer\",\"orientation\":\"h\",\"showlegend\":true,\"x\":[195000],\"xaxis\":\"x\",\"y\":[\"Senior\"],\"yaxis\":\"y\",\"type\":\"scatter\"},{\"hovertemplate\":\"<b>%{hovertext}</b><br><br>job_title=ML Engineer<br>work_year=2021<br>salary_in_usd=%{marker.size}<br>experience_level=%{y}<extra></extra>\",\"hovertext\":[\"ML Engineer\",\"ML Engineer\",\"ML Engineer\",\"ML Engineer\"],\"legendgroup\":\"ML Engineer\",\"marker\":{\"color\":\"#1CFFCE\",\"size\":[270000,63711,77364,256000],\"sizemode\":\"area\",\"sizeref\":1500.0,\"symbol\":\"circle\"},\"mode\":\"markers\",\"name\":\"ML Engineer\",\"orientation\":\"h\",\"showlegend\":true,\"x\":[270000,63711,77364,256000],\"xaxis\":\"x\",\"y\":[\"Mid\",\"Mid\",\"Mid\",\"Senior\"],\"yaxis\":\"y\",\"type\":\"scatter\"},{\"hovertemplate\":\"<b>%{hovertext}</b><br><br>job_title=AI Scientist<br>work_year=2021<br>salary_in_usd=%{marker.size}<br>experience_level=%{y}<extra></extra>\",\"hovertext\":[\"AI Scientist\",\"AI Scientist\",\"AI Scientist\",\"AI Scientist\"],\"legendgroup\":\"AI Scientist\",\"marker\":{\"color\":\"#2ED9FF\",\"size\":[12000,12000,18053,55000],\"sizemode\":\"area\",\"sizeref\":1500.0,\"symbol\":\"circle\"},\"mode\":\"markers\",\"name\":\"AI Scientist\",\"orientation\":\"h\",\"showlegend\":true,\"x\":[12000,12000,18053,55000],\"xaxis\":\"x\",\"y\":[\"Entry\",\"Entry\",\"Entry\",\"Senior\"],\"yaxis\":\"y\",\"type\":\"scatter\"},{\"hovertemplate\":\"<b>%{hovertext}</b><br><br>job_title=Computer Vision Engineer<br>work_year=2021<br>salary_in_usd=%{marker.size}<br>experience_level=%{y}<extra></extra>\",\"hovertext\":[\"Computer Vision Engineer\",\"Computer Vision Engineer\",\"Computer Vision Engineer\"],\"legendgroup\":\"Computer Vision Engineer\",\"marker\":{\"color\":\"#B10DA1\",\"size\":[24000,28609,18907],\"sizemode\":\"area\",\"sizeref\":1500.0,\"symbol\":\"circle\"},\"mode\":\"markers\",\"name\":\"Computer Vision Engineer\",\"orientation\":\"h\",\"showlegend\":true,\"x\":[24000,28609,18907],\"xaxis\":\"x\",\"y\":[\"Senior\",\"Entry\",\"Senior\"],\"yaxis\":\"y\",\"type\":\"scatter\"},{\"hovertemplate\":\"<b>%{hovertext}</b><br><br>job_title=Principal Data Scientist<br>work_year=2021<br>salary_in_usd=%{marker.size}<br>experience_level=%{y}<extra></extra>\",\"hovertext\":[\"Principal Data Scientist\",\"Principal Data Scientist\",\"Principal Data Scientist\",\"Principal Data Scientist\",\"Principal Data Scientist\"],\"legendgroup\":\"Principal Data Scientist\",\"marker\":{\"color\":\"#C075A6\",\"size\":[151000,220000,235000,416000,173762],\"sizemode\":\"area\",\"sizeref\":1500.0,\"symbol\":\"circle\"},\"mode\":\"markers\",\"name\":\"Principal Data Scientist\",\"orientation\":\"h\",\"showlegend\":true,\"x\":[151000,220000,235000,416000,173762],\"xaxis\":\"x\",\"y\":[\"Mid\",\"Senior\",\"Senior\",\"Executive\",\"Senior\"],\"yaxis\":\"y\",\"type\":\"scatter\"},{\"hovertemplate\":\"<b>%{hovertext}</b><br><br>job_title=Data Science Manager<br>work_year=2021<br>salary_in_usd=%{marker.size}<br>experience_level=%{y}<extra></extra>\",\"hovertext\":[\"Data Science Manager\",\"Data Science Manager\",\"Data Science Manager\",\"Data Science Manager\",\"Data Science Manager\",\"Data Science Manager\"],\"legendgroup\":\"Data Science Manager\",\"marker\":{\"color\":\"#FC1CBF\",\"size\":[240000,144000,152000,174000,54094,94665],\"sizemode\":\"area\",\"sizeref\":1500.0,\"symbol\":\"circle\"},\"mode\":\"markers\",\"name\":\"Data Science Manager\",\"orientation\":\"h\",\"showlegend\":true,\"x\":[240000,144000,152000,174000,54094,94665],\"xaxis\":\"x\",\"y\":[\"Senior\",\"Senior\",\"Senior\",\"Senior\",\"Senior\",\"Senior\"],\"yaxis\":\"y\",\"type\":\"scatter\"},{\"hovertemplate\":\"<b>%{hovertext}</b><br><br>job_title=Head of Data<br>work_year=2021<br>salary_in_usd=%{marker.size}<br>experience_level=%{y}<extra></extra>\",\"hovertext\":[\"Head of Data\",\"Head of Data\",\"Head of Data\"],\"legendgroup\":\"Head of Data\",\"marker\":{\"color\":\"#B00068\",\"size\":[235000,230000,102839],\"sizemode\":\"area\",\"sizeref\":1500.0,\"symbol\":\"circle\"},\"mode\":\"markers\",\"name\":\"Head of Data\",\"orientation\":\"h\",\"showlegend\":true,\"x\":[235000,230000,102839],\"xaxis\":\"x\",\"y\":[\"Executive\",\"Executive\",\"Senior\"],\"yaxis\":\"y\",\"type\":\"scatter\"},{\"hovertemplate\":\"<b>%{hovertext}</b><br><br>job_title=3D Computer Vision Researcher<br>work_year=2021<br>salary_in_usd=%{marker.size}<br>experience_level=%{y}<extra></extra>\",\"hovertext\":[\"3D Computer Vision Researcher\"],\"legendgroup\":\"3D Computer Vision Researcher\",\"marker\":{\"color\":\"#FBE426\",\"size\":[5409],\"sizemode\":\"area\",\"sizeref\":1500.0,\"symbol\":\"circle\"},\"mode\":\"markers\",\"name\":\"3D Computer Vision Researcher\",\"orientation\":\"h\",\"showlegend\":true,\"x\":[5409],\"xaxis\":\"x\",\"y\":[\"Mid\"],\"yaxis\":\"y\",\"type\":\"scatter\"},{\"hovertemplate\":\"<b>%{hovertext}</b><br><br>job_title=Data Analytics Engineer<br>work_year=2021<br>salary_in_usd=%{marker.size}<br>experience_level=%{y}<extra></extra>\",\"hovertext\":[\"Data Analytics Engineer\",\"Data Analytics Engineer\",\"Data Analytics Engineer\"],\"legendgroup\":\"Data Analytics Engineer\",\"marker\":{\"color\":\"#FA0087\",\"size\":[79197,110000,50000],\"sizemode\":\"area\",\"sizeref\":1500.0,\"symbol\":\"circle\"},\"mode\":\"markers\",\"name\":\"Data Analytics Engineer\",\"orientation\":\"h\",\"showlegend\":true,\"x\":[79197,110000,50000],\"xaxis\":\"x\",\"y\":[\"Senior\",\"Mid\",\"Senior\"],\"yaxis\":\"y\",\"type\":\"scatter\"},{\"hovertemplate\":\"<b>%{hovertext}</b><br><br>job_title=Applied Data Scientist<br>work_year=2021<br>salary_in_usd=%{marker.size}<br>experience_level=%{y}<extra></extra>\",\"hovertext\":[\"Applied Data Scientist\",\"Applied Data Scientist\"],\"legendgroup\":\"Applied Data Scientist\",\"marker\":{\"color\":\"#AA0DFE\",\"size\":[54238,110037],\"sizemode\":\"area\",\"sizeref\":1500.0,\"symbol\":\"circle\"},\"mode\":\"markers\",\"name\":\"Applied Data Scientist\",\"orientation\":\"h\",\"showlegend\":true,\"x\":[54238,110037],\"xaxis\":\"x\",\"y\":[\"Mid\",\"Entry\"],\"yaxis\":\"y\",\"type\":\"scatter\"},{\"hovertemplate\":\"<b>%{hovertext}</b><br><br>job_title=Marketing Data Analyst<br>work_year=2021<br>salary_in_usd=%{marker.size}<br>experience_level=%{y}<extra></extra>\",\"hovertext\":[\"Marketing Data Analyst\"],\"legendgroup\":\"Marketing Data Analyst\",\"marker\":{\"color\":\"#3283FE\",\"size\":[88654],\"sizemode\":\"area\",\"sizeref\":1500.0,\"symbol\":\"circle\"},\"mode\":\"markers\",\"name\":\"Marketing Data Analyst\",\"orientation\":\"h\",\"showlegend\":true,\"x\":[88654],\"xaxis\":\"x\",\"y\":[\"Senior\"],\"yaxis\":\"y\",\"type\":\"scatter\"},{\"hovertemplate\":\"<b>%{hovertext}</b><br><br>job_title=Cloud Data Engineer<br>work_year=2021<br>salary_in_usd=%{marker.size}<br>experience_level=%{y}<extra></extra>\",\"hovertext\":[\"Cloud Data Engineer\",\"Cloud Data Engineer\"],\"legendgroup\":\"Cloud Data Engineer\",\"marker\":{\"color\":\"#85660D\",\"size\":[89294,160000],\"sizemode\":\"area\",\"sizeref\":1500.0,\"symbol\":\"circle\"},\"mode\":\"markers\",\"name\":\"Cloud Data Engineer\",\"orientation\":\"h\",\"showlegend\":true,\"x\":[89294,160000],\"xaxis\":\"x\",\"y\":[\"Mid\",\"Senior\"],\"yaxis\":\"y\",\"type\":\"scatter\"},{\"hovertemplate\":\"<b>%{hovertext}</b><br><br>job_title=Financial Data Analyst<br>work_year=2021<br>salary_in_usd=%{marker.size}<br>experience_level=%{y}<extra></extra>\",\"hovertext\":[\"Financial Data Analyst\"],\"legendgroup\":\"Financial Data Analyst\",\"marker\":{\"color\":\"#782AB6\",\"size\":[450000],\"sizemode\":\"area\",\"sizeref\":1500.0,\"symbol\":\"circle\"},\"mode\":\"markers\",\"name\":\"Financial Data Analyst\",\"orientation\":\"h\",\"showlegend\":true,\"x\":[450000],\"xaxis\":\"x\",\"y\":[\"Mid\"],\"yaxis\":\"y\",\"type\":\"scatter\"},{\"hovertemplate\":\"<b>%{hovertext}</b><br><br>job_title=Computer Vision Software Engineer<br>work_year=2021<br>salary_in_usd=%{marker.size}<br>experience_level=%{y}<extra></extra>\",\"hovertext\":[\"Computer Vision Software Engineer\",\"Computer Vision Software Engineer\"],\"legendgroup\":\"Computer Vision Software Engineer\",\"marker\":{\"color\":\"#565656\",\"size\":[70000,95746],\"sizemode\":\"area\",\"sizeref\":1500.0,\"symbol\":\"circle\"},\"mode\":\"markers\",\"name\":\"Computer Vision Software Engineer\",\"orientation\":\"h\",\"showlegend\":true,\"x\":[70000,95746],\"xaxis\":\"x\",\"y\":[\"Entry\",\"Mid\"],\"yaxis\":\"y\",\"type\":\"scatter\"},{\"hovertemplate\":\"<b>%{hovertext}</b><br><br>job_title=Director of Data Engineering<br>work_year=2021<br>salary_in_usd=%{marker.size}<br>experience_level=%{y}<extra></extra>\",\"hovertext\":[\"Director of Data Engineering\",\"Director of Data Engineering\"],\"legendgroup\":\"Director of Data Engineering\",\"marker\":{\"color\":\"#1C8356\",\"size\":[113476,200000],\"sizemode\":\"area\",\"sizeref\":1500.0,\"symbol\":\"circle\"},\"mode\":\"markers\",\"name\":\"Director of Data Engineering\",\"orientation\":\"h\",\"showlegend\":true,\"x\":[113476,200000],\"xaxis\":\"x\",\"y\":[\"Senior\",\"Senior\"],\"yaxis\":\"y\",\"type\":\"scatter\"},{\"hovertemplate\":\"<b>%{hovertext}</b><br><br>job_title=Data Science Engineer<br>work_year=2021<br>salary_in_usd=%{marker.size}<br>experience_level=%{y}<extra></extra>\",\"hovertext\":[\"Data Science Engineer\",\"Data Science Engineer\"],\"legendgroup\":\"Data Science Engineer\",\"marker\":{\"color\":\"#16FF32\",\"size\":[40189,127221],\"sizemode\":\"area\",\"sizeref\":1500.0,\"symbol\":\"circle\"},\"mode\":\"markers\",\"name\":\"Data Science Engineer\",\"orientation\":\"h\",\"showlegend\":true,\"x\":[40189,127221],\"xaxis\":\"x\",\"y\":[\"Mid\",\"Senior\"],\"yaxis\":\"y\",\"type\":\"scatter\"},{\"hovertemplate\":\"<b>%{hovertext}</b><br><br>job_title=Principal Data Engineer<br>work_year=2021<br>salary_in_usd=%{marker.size}<br>experience_level=%{y}<extra></extra>\",\"hovertext\":[\"Principal Data Engineer\",\"Principal Data Engineer\",\"Principal Data Engineer\"],\"legendgroup\":\"Principal Data Engineer\",\"marker\":{\"color\":\"#F7E1A0\",\"size\":[200000,185000,600000],\"sizemode\":\"area\",\"sizeref\":1500.0,\"symbol\":\"circle\"},\"mode\":\"markers\",\"name\":\"Principal Data Engineer\",\"orientation\":\"h\",\"showlegend\":true,\"x\":[200000,185000,600000],\"xaxis\":\"x\",\"y\":[\"Senior\",\"Senior\",\"Executive\"],\"yaxis\":\"y\",\"type\":\"scatter\"},{\"hovertemplate\":\"<b>%{hovertext}</b><br><br>job_title=Machine Learning Developer<br>work_year=2021<br>salary_in_usd=%{marker.size}<br>experience_level=%{y}<extra></extra>\",\"hovertext\":[\"Machine Learning Developer\"],\"legendgroup\":\"Machine Learning Developer\",\"marker\":{\"color\":\"#E2E2E2\",\"size\":[100000],\"sizemode\":\"area\",\"sizeref\":1500.0,\"symbol\":\"circle\"},\"mode\":\"markers\",\"name\":\"Machine Learning Developer\",\"orientation\":\"h\",\"showlegend\":true,\"x\":[100000],\"xaxis\":\"x\",\"y\":[\"Entry\"],\"yaxis\":\"y\",\"type\":\"scatter\"},{\"hovertemplate\":\"<b>%{hovertext}</b><br><br>job_title=Applied Machine Learning Scientist<br>work_year=2021<br>salary_in_usd=%{marker.size}<br>experience_level=%{y}<extra></extra>\",\"hovertext\":[\"Applied Machine Learning Scientist\",\"Applied Machine Learning Scientist\"],\"legendgroup\":\"Applied Machine Learning Scientist\",\"marker\":{\"color\":\"#1CBE4F\",\"size\":[38400,423000],\"sizemode\":\"area\",\"sizeref\":1500.0,\"symbol\":\"circle\"},\"mode\":\"markers\",\"name\":\"Applied Machine Learning Scientist\",\"orientation\":\"h\",\"showlegend\":true,\"x\":[38400,423000],\"xaxis\":\"x\",\"y\":[\"Mid\",\"Mid\"],\"yaxis\":\"y\",\"type\":\"scatter\"},{\"hovertemplate\":\"<b>%{hovertext}</b><br><br>job_title=Data Analytics Manager<br>work_year=2021<br>salary_in_usd=%{marker.size}<br>experience_level=%{y}<extra></extra>\",\"hovertext\":[\"Data Analytics Manager\",\"Data Analytics Manager\",\"Data Analytics Manager\"],\"legendgroup\":\"Data Analytics Manager\",\"marker\":{\"color\":\"#C4451C\",\"size\":[120000,120000,140000],\"sizemode\":\"area\",\"sizeref\":1500.0,\"symbol\":\"circle\"},\"mode\":\"markers\",\"name\":\"Data Analytics Manager\",\"orientation\":\"h\",\"showlegend\":true,\"x\":[120000,120000,140000],\"xaxis\":\"x\",\"y\":[\"Senior\",\"Senior\",\"Senior\"],\"yaxis\":\"y\",\"type\":\"scatter\"},{\"hovertemplate\":\"<b>%{hovertext}</b><br><br>job_title=Head of Data Science<br>work_year=2021<br>salary_in_usd=%{marker.size}<br>experience_level=%{y}<extra></extra>\",\"hovertext\":[\"Head of Data Science\",\"Head of Data Science\"],\"legendgroup\":\"Head of Data Science\",\"marker\":{\"color\":\"#DEA0FD\",\"size\":[85000,110000],\"sizemode\":\"area\",\"sizeref\":1500.0,\"symbol\":\"circle\"},\"mode\":\"markers\",\"name\":\"Head of Data Science\",\"orientation\":\"h\",\"showlegend\":true,\"x\":[85000,110000],\"xaxis\":\"x\",\"y\":[\"Executive\",\"Mid\"],\"yaxis\":\"y\",\"type\":\"scatter\"},{\"hovertemplate\":\"<b>%{hovertext}</b><br><br>job_title=Data Specialist<br>work_year=2021<br>salary_in_usd=%{marker.size}<br>experience_level=%{y}<extra></extra>\",\"hovertext\":[\"Data Specialist\"],\"legendgroup\":\"Data Specialist\",\"marker\":{\"color\":\"#FE00FA\",\"size\":[165000],\"sizemode\":\"area\",\"sizeref\":1500.0,\"symbol\":\"circle\"},\"mode\":\"markers\",\"name\":\"Data Specialist\",\"orientation\":\"h\",\"showlegend\":true,\"x\":[165000],\"xaxis\":\"x\",\"y\":[\"Senior\"],\"yaxis\":\"y\",\"type\":\"scatter\"},{\"hovertemplate\":\"<b>%{hovertext}</b><br><br>job_title=Data Architect<br>work_year=2021<br>salary_in_usd=%{marker.size}<br>experience_level=%{y}<extra></extra>\",\"hovertext\":[\"Data Architect\",\"Data Architect\",\"Data Architect\"],\"legendgroup\":\"Data Architect\",\"marker\":{\"color\":\"#325A9B\",\"size\":[150000,170000,180000],\"sizemode\":\"area\",\"sizeref\":1500.0,\"symbol\":\"circle\"},\"mode\":\"markers\",\"name\":\"Data Architect\",\"orientation\":\"h\",\"showlegend\":true,\"x\":[150000,170000,180000],\"xaxis\":\"x\",\"y\":[\"Mid\",\"Mid\",\"Mid\"],\"yaxis\":\"y\",\"type\":\"scatter\"},{\"hovertemplate\":\"<b>%{hovertext}</b><br><br>job_title=Finance Data Analyst<br>work_year=2021<br>salary_in_usd=%{marker.size}<br>experience_level=%{y}<extra></extra>\",\"hovertext\":[\"Finance Data Analyst\"],\"legendgroup\":\"Finance Data Analyst\",\"marker\":{\"color\":\"#FEAF16\",\"size\":[61896],\"sizemode\":\"area\",\"sizeref\":1500.0,\"symbol\":\"circle\"},\"mode\":\"markers\",\"name\":\"Finance Data Analyst\",\"orientation\":\"h\",\"showlegend\":true,\"x\":[61896],\"xaxis\":\"x\",\"y\":[\"Senior\"],\"yaxis\":\"y\",\"type\":\"scatter\"},{\"hovertemplate\":\"<b>%{hovertext}</b><br><br>job_title=Principal Data Analyst<br>work_year=2021<br>salary_in_usd=%{marker.size}<br>experience_level=%{y}<extra></extra>\",\"hovertext\":[\"Principal Data Analyst\"],\"legendgroup\":\"Principal Data Analyst\",\"marker\":{\"color\":\"#F8A19F\",\"size\":[170000],\"sizemode\":\"area\",\"sizeref\":1500.0,\"symbol\":\"circle\"},\"mode\":\"markers\",\"name\":\"Principal Data Analyst\",\"orientation\":\"h\",\"showlegend\":true,\"x\":[170000],\"xaxis\":\"x\",\"y\":[\"Senior\"],\"yaxis\":\"y\",\"type\":\"scatter\"},{\"hovertemplate\":\"<b>%{hovertext}</b><br><br>job_title=Big Data Architect<br>work_year=2021<br>salary_in_usd=%{marker.size}<br>experience_level=%{y}<extra></extra>\",\"hovertext\":[\"Big Data Architect\"],\"legendgroup\":\"Big Data Architect\",\"marker\":{\"color\":\"#90AD1C\",\"size\":[99703],\"sizemode\":\"area\",\"sizeref\":1500.0,\"symbol\":\"circle\"},\"mode\":\"markers\",\"name\":\"Big Data Architect\",\"orientation\":\"h\",\"showlegend\":true,\"x\":[99703],\"xaxis\":\"x\",\"y\":[\"Senior\"],\"yaxis\":\"y\",\"type\":\"scatter\"},{\"hovertemplate\":\"<b>%{hovertext}</b><br><br>job_title=Staff Data Scientist<br>work_year=2021<br>salary_in_usd=%{marker.size}<br>experience_level=%{y}<extra></extra>\",\"hovertext\":[\"Staff Data Scientist\"],\"legendgroup\":\"Staff Data Scientist\",\"marker\":{\"color\":\"#F6222E\",\"size\":[105000],\"sizemode\":\"area\",\"sizeref\":1500.0,\"symbol\":\"circle\"},\"mode\":\"markers\",\"name\":\"Staff Data Scientist\",\"orientation\":\"h\",\"showlegend\":true,\"x\":[105000],\"xaxis\":\"x\",\"y\":[\"Senior\"],\"yaxis\":\"y\",\"type\":\"scatter\"}],\"name\":\"2021\"},{\"data\":[{\"hovertemplate\":\"<b>%{hovertext}</b><br><br>job_title=Data Scientist<br>work_year=2022<br>salary_in_usd=%{marker.size}<br>experience_level=%{y}<extra></extra>\",\"hovertext\":[\"Data Scientist\",\"Data Scientist\",\"Data Scientist\",\"Data Scientist\",\"Data Scientist\",\"Data Scientist\",\"Data Scientist\",\"Data Scientist\",\"Data Scientist\",\"Data Scientist\",\"Data Scientist\",\"Data Scientist\",\"Data Scientist\",\"Data Scientist\",\"Data Scientist\",\"Data Scientist\",\"Data Scientist\",\"Data Scientist\",\"Data Scientist\",\"Data Scientist\",\"Data Scientist\",\"Data Scientist\",\"Data Scientist\",\"Data Scientist\",\"Data Scientist\",\"Data Scientist\",\"Data Scientist\",\"Data Scientist\",\"Data Scientist\",\"Data Scientist\",\"Data Scientist\",\"Data Scientist\",\"Data Scientist\",\"Data Scientist\",\"Data Scientist\",\"Data Scientist\",\"Data Scientist\",\"Data Scientist\",\"Data Scientist\",\"Data Scientist\",\"Data Scientist\",\"Data Scientist\",\"Data Scientist\",\"Data Scientist\",\"Data Scientist\",\"Data Scientist\",\"Data Scientist\",\"Data Scientist\",\"Data Scientist\",\"Data Scientist\",\"Data Scientist\",\"Data Scientist\",\"Data Scientist\",\"Data Scientist\",\"Data Scientist\",\"Data Scientist\",\"Data Scientist\",\"Data Scientist\",\"Data Scientist\",\"Data Scientist\",\"Data Scientist\",\"Data Scientist\",\"Data Scientist\",\"Data Scientist\",\"Data Scientist\",\"Data Scientist\",\"Data Scientist\",\"Data Scientist\",\"Data Scientist\",\"Data Scientist\",\"Data Scientist\",\"Data Scientist\",\"Data Scientist\",\"Data Scientist\",\"Data Scientist\",\"Data Scientist\",\"Data Scientist\"],\"legendgroup\":\"Data Scientist\",\"marker\":{\"color\":\"#AA0DFE\",\"size\":[130000,90000,136620,99360,117789,104702,146000,123000,65438,39263,165220,120160,180000,120000,95550,167000,123000,150000,211500,138600,170000,123000,215300,158200,180000,71982,45807,260000,180000,80000,140400,215300,31615,18442,104890,140000,220000,140000,183228,91614,185100,200000,120000,230000,100000,100000,35590,100000,165000,52396,40000,86703,48000,122346,69336,135000,78000,141300,102100,205300,140400,176000,144000,205300,140400,140000,210000,140000,210000,140000,210000,140000,230000,150000,210000,160000,130000],\"sizemode\":\"area\",\"sizeref\":1500.0,\"symbol\":\"circle\"},\"mode\":\"markers\",\"name\":\"Data Scientist\",\"orientation\":\"h\",\"showlegend\":true,\"x\":[130000,90000,136620,99360,117789,104702,146000,123000,65438,39263,165220,120160,180000,120000,95550,167000,123000,150000,211500,138600,170000,123000,215300,158200,180000,71982,45807,260000,180000,80000,140400,215300,31615,18442,104890,140000,220000,140000,183228,91614,185100,200000,120000,230000,100000,100000,35590,100000,165000,52396,40000,86703,48000,122346,69336,135000,78000,141300,102100,205300,140400,176000,144000,205300,140400,140000,210000,140000,210000,140000,210000,140000,230000,150000,210000,160000,130000],\"xaxis\":\"x\",\"y\":[\"Mid\",\"Mid\",\"Senior\",\"Senior\",\"Senior\",\"Senior\",\"Senior\",\"Senior\",\"Mid\",\"Mid\",\"Senior\",\"Senior\",\"Senior\",\"Senior\",\"Senior\",\"Senior\",\"Senior\",\"Senior\",\"Senior\",\"Senior\",\"Senior\",\"Senior\",\"Senior\",\"Senior\",\"Senior\",\"Mid\",\"Mid\",\"Senior\",\"Senior\",\"Senior\",\"Senior\",\"Senior\",\"Mid\",\"Entry\",\"Senior\",\"Senior\",\"Senior\",\"Senior\",\"Mid\",\"Mid\",\"Senior\",\"Mid\",\"Mid\",\"Senior\",\"Entry\",\"Mid\",\"Mid\",\"Senior\",\"Senior\",\"Entry\",\"Entry\",\"Entry\",\"Mid\",\"Mid\",\"Mid\",\"Mid\",\"Mid\",\"Mid\",\"Mid\",\"Senior\",\"Senior\",\"Senior\",\"Senior\",\"Senior\",\"Senior\",\"Senior\",\"Senior\",\"Senior\",\"Senior\",\"Senior\",\"Senior\",\"Senior\",\"Senior\",\"Senior\",\"Senior\",\"Mid\",\"Mid\"],\"yaxis\":\"y\",\"type\":\"scatter\"},{\"hovertemplate\":\"<b>%{hovertext}</b><br><br>job_title=Machine Learning Scientist<br>work_year=2022<br>salary_in_usd=%{marker.size}<br>experience_level=%{y}<extra></extra>\",\"hovertext\":[\"Machine Learning Scientist\",\"Machine Learning Scientist\",\"Machine Learning Scientist\"],\"legendgroup\":\"Machine Learning Scientist\",\"marker\":{\"color\":\"#3283FE\",\"size\":[160000,112300,153000],\"sizemode\":\"area\",\"sizeref\":1500.0,\"symbol\":\"circle\"},\"mode\":\"markers\",\"name\":\"Machine Learning Scientist\",\"orientation\":\"h\",\"showlegend\":true,\"x\":[160000,112300,153000],\"xaxis\":\"x\",\"y\":[\"Mid\",\"Mid\",\"Mid\"],\"yaxis\":\"y\",\"type\":\"scatter\"},{\"hovertemplate\":\"<b>%{hovertext}</b><br><br>job_title=Machine Learning Engineer<br>work_year=2022<br>salary_in_usd=%{marker.size}<br>experience_level=%{y}<extra></extra>\",\"hovertext\":[\"Machine Learning Engineer\",\"Machine Learning Engineer\",\"Machine Learning Engineer\",\"Machine Learning Engineer\",\"Machine Learning Engineer\",\"Machine Learning Engineer\",\"Machine Learning Engineer\",\"Machine Learning Engineer\",\"Machine Learning Engineer\",\"Machine Learning Engineer\",\"Machine Learning Engineer\",\"Machine Learning Engineer\",\"Machine Learning Engineer\",\"Machine Learning Engineer\",\"Machine Learning Engineer\",\"Machine Learning Engineer\",\"Machine Learning Engineer\",\"Machine Learning Engineer\"],\"legendgroup\":\"Machine Learning Engineer\",\"marker\":{\"color\":\"#565656\",\"size\":[189650,164996,37300,124333,98158,87932,189650,164996,120000,220000,120000,65000,120000,62651,87425,71444,214000,192600],\"sizemode\":\"area\",\"sizeref\":1500.0,\"symbol\":\"circle\"},\"mode\":\"markers\",\"name\":\"Machine Learning Engineer\",\"orientation\":\"h\",\"showlegend\":true,\"x\":[189650,164996,37300,124333,98158,87932,189650,164996,120000,220000,120000,65000,120000,62651,87425,71444,214000,192600],\"xaxis\":\"x\",\"y\":[\"Senior\",\"Senior\",\"Entry\",\"Mid\",\"Mid\",\"Mid\",\"Senior\",\"Senior\",\"Mid\",\"Senior\",\"Senior\",\"Senior\",\"Senior\",\"Senior\",\"Mid\",\"Senior\",\"Senior\",\"Senior\"],\"yaxis\":\"y\",\"type\":\"scatter\"},{\"hovertemplate\":\"<b>%{hovertext}</b><br><br>job_title=Data Analyst<br>work_year=2022<br>salary_in_usd=%{marker.size}<br>experience_level=%{y}<extra></extra>\",\"hovertext\":[\"Data Analyst\",\"Data Analyst\",\"Data Analyst\",\"Data Analyst\",\"Data Analyst\",\"Data Analyst\",\"Data Analyst\",\"Data Analyst\",\"Data Analyst\",\"Data Analyst\",\"Data Analyst\",\"Data Analyst\",\"Data Analyst\",\"Data Analyst\",\"Data Analyst\",\"Data Analyst\",\"Data Analyst\",\"Data Analyst\",\"Data Analyst\",\"Data Analyst\",\"Data Analyst\",\"Data Analyst\",\"Data Analyst\",\"Data Analyst\",\"Data Analyst\",\"Data Analyst\",\"Data Analyst\",\"Data Analyst\",\"Data Analyst\",\"Data Analyst\",\"Data Analyst\",\"Data Analyst\",\"Data Analyst\",\"Data Analyst\",\"Data Analyst\",\"Data Analyst\",\"Data Analyst\",\"Data Analyst\",\"Data Analyst\",\"Data Analyst\",\"Data Analyst\",\"Data Analyst\",\"Data Analyst\",\"Data Analyst\",\"Data Analyst\",\"Data Analyst\",\"Data Analyst\",\"Data Analyst\",\"Data Analyst\",\"Data Analyst\",\"Data Analyst\",\"Data Analyst\",\"Data Analyst\",\"Data Analyst\",\"Data Analyst\",\"Data Analyst\",\"Data Analyst\",\"Data Analyst\",\"Data Analyst\",\"Data Analyst\",\"Data Analyst\",\"Data Analyst\",\"Data Analyst\",\"Data Analyst\",\"Data Analyst\",\"Data Analyst\",\"Data Analyst\",\"Data Analyst\",\"Data Analyst\",\"Data Analyst\",\"Data Analyst\",\"Data Analyst\",\"Data Analyst\"],\"legendgroup\":\"Data Analyst\",\"marker\":{\"color\":\"#1C8356\",\"size\":[155000,120600,102100,84900,99000,116000,106260,126500,90320,124190,130000,110000,170000,115500,112900,90320,112900,90320,167000,136600,109280,135000,130000,61300,130000,61300,58000,132000,128875,93700,164000,112900,90320,115934,81666,58000,52351,39263,43966,32974,43966,32974,135000,50000,20000,135000,100000,90320,85000,75000,112900,115934,81666,99050,116150,170000,65438,80000,100000,69000,150075,126500,106260,105000,110925,45807,99000,60000,170000,67000,52000,129000,150000],\"sizemode\":\"area\",\"sizeref\":1500.0,\"symbol\":\"circle\"},\"mode\":\"markers\",\"name\":\"Data Analyst\",\"orientation\":\"h\",\"showlegend\":true,\"x\":[155000,120600,102100,84900,99000,116000,106260,126500,90320,124190,130000,110000,170000,115500,112900,90320,112900,90320,167000,136600,109280,135000,130000,61300,130000,61300,58000,132000,128875,93700,164000,112900,90320,115934,81666,58000,52351,39263,43966,32974,43966,32974,135000,50000,20000,135000,100000,90320,85000,75000,112900,115934,81666,99050,116150,170000,65438,80000,100000,69000,150075,126500,106260,105000,110925,45807,99000,60000,170000,67000,52000,129000,150000],\"xaxis\":\"x\",\"y\":[\"Senior\",\"Senior\",\"Senior\",\"Senior\",\"Senior\",\"Senior\",\"Mid\",\"Mid\",\"Senior\",\"Senior\",\"Executive\",\"Executive\",\"Senior\",\"Mid\",\"Senior\",\"Senior\",\"Senior\",\"Senior\",\"Mid\",\"Senior\",\"Senior\",\"Senior\",\"Senior\",\"Senior\",\"Senior\",\"Senior\",\"Mid\",\"Senior\",\"Senior\",\"Senior\",\"Senior\",\"Senior\",\"Senior\",\"Senior\",\"Senior\",\"Mid\",\"Mid\",\"Mid\",\"Mid\",\"Mid\",\"Mid\",\"Mid\",\"Mid\",\"Mid\",\"Mid\",\"Senior\",\"Senior\",\"Senior\",\"Mid\",\"Mid\",\"Senior\",\"Senior\",\"Senior\",\"Senior\",\"Senior\",\"Senior\",\"Mid\",\"Senior\",\"Senior\",\"Senior\",\"Senior\",\"Senior\",\"Senior\",\"Senior\",\"Senior\",\"Mid\",\"Senior\",\"Senior\",\"Senior\",\"Entry\",\"Entry\",\"Senior\",\"Senior\"],\"yaxis\":\"y\",\"type\":\"scatter\"},{\"hovertemplate\":\"<b>%{hovertext}</b><br><br>job_title=Business Data Analyst<br>work_year=2022<br>salary_in_usd=%{marker.size}<br>experience_level=%{y}<extra></extra>\",\"hovertext\":[\"Business Data Analyst\",\"Business Data Analyst\"],\"legendgroup\":\"Business Data Analyst\",\"marker\":{\"color\":\"#F7E1A0\",\"size\":[18442,70912],\"sizemode\":\"area\",\"sizeref\":1500.0,\"symbol\":\"circle\"},\"mode\":\"markers\",\"name\":\"Business Data Analyst\",\"orientation\":\"h\",\"showlegend\":true,\"x\":[18442,70912],\"xaxis\":\"x\",\"y\":[\"Mid\",\"Mid\"],\"yaxis\":\"y\",\"type\":\"scatter\"},{\"hovertemplate\":\"<b>%{hovertext}</b><br><br>job_title=Lead Data Engineer<br>work_year=2022<br>salary_in_usd=%{marker.size}<br>experience_level=%{y}<extra></extra>\",\"hovertext\":[\"Lead Data Engineer\"],\"legendgroup\":\"Lead Data Engineer\",\"marker\":{\"color\":\"#E2E2E2\",\"size\":[118187],\"sizemode\":\"area\",\"sizeref\":1500.0,\"symbol\":\"circle\"},\"mode\":\"markers\",\"name\":\"Lead Data Engineer\",\"orientation\":\"h\",\"showlegend\":true,\"x\":[118187],\"xaxis\":\"x\",\"y\":[\"Executive\"],\"yaxis\":\"y\",\"type\":\"scatter\"},{\"hovertemplate\":\"<b>%{hovertext}</b><br><br>job_title=Data Engineer<br>work_year=2022<br>salary_in_usd=%{marker.size}<br>experience_level=%{y}<extra></extra>\",\"hovertext\":[\"Data Engineer\",\"Data Engineer\",\"Data Engineer\",\"Data Engineer\",\"Data Engineer\",\"Data Engineer\",\"Data Engineer\",\"Data Engineer\",\"Data Engineer\",\"Data Engineer\",\"Data Engineer\",\"Data Engineer\",\"Data Engineer\",\"Data Engineer\",\"Data Engineer\",\"Data Engineer\",\"Data Engineer\",\"Data Engineer\",\"Data Engineer\",\"Data Engineer\",\"Data Engineer\",\"Data Engineer\",\"Data Engineer\",\"Data Engineer\",\"Data Engineer\",\"Data Engineer\",\"Data Engineer\",\"Data Engineer\",\"Data Engineer\",\"Data Engineer\",\"Data Engineer\",\"Data Engineer\",\"Data Engineer\",\"Data Engineer\",\"Data Engineer\",\"Data Engineer\",\"Data Engineer\",\"Data Engineer\",\"Data Engineer\",\"Data Engineer\",\"Data Engineer\",\"Data Engineer\",\"Data Engineer\",\"Data Engineer\",\"Data Engineer\",\"Data Engineer\",\"Data Engineer\",\"Data Engineer\",\"Data Engineer\",\"Data Engineer\",\"Data Engineer\",\"Data Engineer\",\"Data Engineer\",\"Data Engineer\",\"Data Engineer\",\"Data Engineer\",\"Data Engineer\",\"Data Engineer\",\"Data Engineer\",\"Data Engineer\",\"Data Engineer\",\"Data Engineer\",\"Data Engineer\",\"Data Engineer\",\"Data Engineer\",\"Data Engineer\",\"Data Engineer\",\"Data Engineer\",\"Data Engineer\",\"Data Engineer\",\"Data Engineer\",\"Data Engineer\",\"Data Engineer\",\"Data Engineer\",\"Data Engineer\",\"Data Engineer\",\"Data Engineer\",\"Data Engineer\",\"Data Engineer\",\"Data Engineer\",\"Data Engineer\",\"Data Engineer\",\"Data Engineer\",\"Data Engineer\",\"Data Engineer\",\"Data Engineer\",\"Data Engineer\",\"Data Engineer\",\"Data Engineer\"],\"legendgroup\":\"Data Engineer\",\"marker\":{\"color\":\"#C4451C\",\"size\":[135000,170000,150000,52351,242000,200000,78526,52351,45807,181940,132320,220110,160080,165400,132320,243900,128875,93700,156600,108800,113000,78526,65438,160000,136000,165400,136994,101570,132320,155000,117789,209100,154600,175000,98158,183600,65949,49461,78526,58894,63900,82900,100800,49461,87932,76940,104702,91614,65949,87932,98158,78526,76940,209100,154600,180000,80000,105000,54957,120000,100000,324000,216000,210000,58035,115000,65000,68147,155000,206699,99100,130000,115000,110500,130000,160000,200100,160000,145000,70500,175100,140250,54000,100000,25000,220110,160080,154000,126000],\"sizemode\":\"area\",\"sizeref\":1500.0,\"symbol\":\"circle\"},\"mode\":\"markers\",\"name\":\"Data Engineer\",\"orientation\":\"h\",\"showlegend\":true,\"x\":[135000,170000,150000,52351,242000,200000,78526,52351,45807,181940,132320,220110,160080,165400,132320,243900,128875,93700,156600,108800,113000,78526,65438,160000,136000,165400,136994,101570,132320,155000,117789,209100,154600,175000,98158,183600,65949,49461,78526,58894,63900,82900,100800,49461,87932,76940,104702,91614,65949,87932,98158,78526,76940,209100,154600,180000,80000,105000,54957,120000,100000,324000,216000,210000,58035,115000,65000,68147,155000,206699,99100,130000,115000,110500,130000,160000,200100,160000,145000,70500,175100,140250,54000,100000,25000,220110,160080,154000,126000],\"xaxis\":\"x\",\"y\":[\"Senior\",\"Mid\",\"Mid\",\"Entry\",\"Executive\",\"Executive\",\"Mid\",\"Mid\",\"Entry\",\"Senior\",\"Senior\",\"Senior\",\"Senior\",\"Senior\",\"Senior\",\"Senior\",\"Senior\",\"Senior\",\"Senior\",\"Senior\",\"Senior\",\"Senior\",\"Senior\",\"Senior\",\"Senior\",\"Senior\",\"Senior\",\"Senior\",\"Senior\",\"Senior\",\"Mid\",\"Senior\",\"Senior\",\"Senior\",\"Mid\",\"Senior\",\"Mid\",\"Mid\",\"Mid\",\"Mid\",\"Mid\",\"Mid\",\"Senior\",\"Mid\",\"Mid\",\"Mid\",\"Mid\",\"Mid\",\"Mid\",\"Mid\",\"Mid\",\"Mid\",\"Mid\",\"Senior\",\"Senior\",\"Senior\",\"Senior\",\"Senior\",\"Mid\",\"Entry\",\"Senior\",\"Executive\",\"Executive\",\"Senior\",\"Entry\",\"Senior\",\"Entry\",\"Mid\",\"Senior\",\"Mid\",\"Mid\",\"Senior\",\"Senior\",\"Senior\",\"Senior\",\"Senior\",\"Senior\",\"Senior\",\"Senior\",\"Senior\",\"Senior\",\"Senior\",\"Senior\",\"Senior\",\"Senior\",\"Senior\",\"Senior\",\"Senior\",\"Senior\"],\"yaxis\":\"y\",\"type\":\"scatter\"},{\"hovertemplate\":\"<b>%{hovertext}</b><br><br>job_title=Director of Data Science<br>work_year=2022<br>salary_in_usd=%{marker.size}<br>experience_level=%{y}<extra></extra>\",\"hovertext\":[\"Director of Data Science\"],\"legendgroup\":\"Director of Data Science\",\"marker\":{\"color\":\"#325A9B\",\"size\":[196979],\"sizemode\":\"area\",\"sizeref\":1500.0,\"symbol\":\"circle\"},\"mode\":\"markers\",\"name\":\"Director of Data Science\",\"orientation\":\"h\",\"showlegend\":true,\"x\":[196979],\"xaxis\":\"x\",\"y\":[\"Executive\"],\"yaxis\":\"y\",\"type\":\"scatter\"},{\"hovertemplate\":\"<b>%{hovertext}</b><br><br>job_title=Research Scientist<br>work_year=2022<br>salary_in_usd=%{marker.size}<br>experience_level=%{y}<extra></extra>\",\"hovertext\":[\"Research Scientist\",\"Research Scientist\",\"Research Scientist\",\"Research Scientist\"],\"legendgroup\":\"Research Scientist\",\"marker\":{\"color\":\"#FEAF16\",\"size\":[144000,93427,64849,120000],\"sizemode\":\"area\",\"sizeref\":1500.0,\"symbol\":\"circle\"},\"mode\":\"markers\",\"name\":\"Research Scientist\",\"orientation\":\"h\",\"showlegend\":true,\"x\":[144000,93427,64849,120000],\"xaxis\":\"x\",\"y\":[\"Senior\",\"Senior\",\"Mid\",\"Entry\"],\"yaxis\":\"y\",\"type\":\"scatter\"},{\"hovertemplate\":\"<b>%{hovertext}</b><br><br>job_title=Machine Learning Infrastructure Engineer<br>work_year=2022<br>salary_in_usd=%{marker.size}<br>experience_level=%{y}<extra></extra>\",\"hovertext\":[\"Machine Learning Infrastructure Engineer\"],\"legendgroup\":\"Machine Learning Infrastructure Engineer\",\"marker\":{\"color\":\"#F6222E\",\"size\":[58255],\"sizemode\":\"area\",\"sizeref\":1500.0,\"symbol\":\"circle\"},\"mode\":\"markers\",\"name\":\"Machine Learning Infrastructure Engineer\",\"orientation\":\"h\",\"showlegend\":true,\"x\":[58255],\"xaxis\":\"x\",\"y\":[\"Mid\"],\"yaxis\":\"y\",\"type\":\"scatter\"},{\"hovertemplate\":\"<b>%{hovertext}</b><br><br>job_title=ML Engineer<br>work_year=2022<br>salary_in_usd=%{marker.size}<br>experience_level=%{y}<extra></extra>\",\"hovertext\":[\"ML Engineer\"],\"legendgroup\":\"ML Engineer\",\"marker\":{\"color\":\"#1CFFCE\",\"size\":[21983],\"sizemode\":\"area\",\"sizeref\":1500.0,\"symbol\":\"circle\"},\"mode\":\"markers\",\"name\":\"ML Engineer\",\"orientation\":\"h\",\"showlegend\":true,\"x\":[21983],\"xaxis\":\"x\",\"y\":[\"Entry\"],\"yaxis\":\"y\",\"type\":\"scatter\"},{\"hovertemplate\":\"<b>%{hovertext}</b><br><br>job_title=AI Scientist<br>work_year=2022<br>salary_in_usd=%{marker.size}<br>experience_level=%{y}<extra></extra>\",\"hovertext\":[\"AI Scientist\",\"AI Scientist\"],\"legendgroup\":\"AI Scientist\",\"marker\":{\"color\":\"#2ED9FF\",\"size\":[120000,200000],\"sizemode\":\"area\",\"sizeref\":1500.0,\"symbol\":\"circle\"},\"mode\":\"markers\",\"name\":\"AI Scientist\",\"orientation\":\"h\",\"showlegend\":true,\"x\":[120000,200000],\"xaxis\":\"x\",\"y\":[\"Mid\",\"Mid\"],\"yaxis\":\"y\",\"type\":\"scatter\"},{\"hovertemplate\":\"<b>%{hovertext}</b><br><br>job_title=Computer Vision Engineer<br>work_year=2022<br>salary_in_usd=%{marker.size}<br>experience_level=%{y}<extra></extra>\",\"hovertext\":[\"Computer Vision Engineer\",\"Computer Vision Engineer\"],\"legendgroup\":\"Computer Vision Engineer\",\"marker\":{\"color\":\"#B10DA1\",\"size\":[125000,10000],\"sizemode\":\"area\",\"sizeref\":1500.0,\"symbol\":\"circle\"},\"mode\":\"markers\",\"name\":\"Computer Vision Engineer\",\"orientation\":\"h\",\"showlegend\":true,\"x\":[125000,10000],\"xaxis\":\"x\",\"y\":[\"Entry\",\"Entry\"],\"yaxis\":\"y\",\"type\":\"scatter\"},{\"hovertemplate\":\"<b>%{hovertext}</b><br><br>job_title=Principal Data Scientist<br>work_year=2022<br>salary_in_usd=%{marker.size}<br>experience_level=%{y}<extra></extra>\",\"hovertext\":[\"Principal Data Scientist\"],\"legendgroup\":\"Principal Data Scientist\",\"marker\":{\"color\":\"#C075A6\",\"size\":[162674],\"sizemode\":\"area\",\"sizeref\":1500.0,\"symbol\":\"circle\"},\"mode\":\"markers\",\"name\":\"Principal Data Scientist\",\"orientation\":\"h\",\"showlegend\":true,\"x\":[162674],\"xaxis\":\"x\",\"y\":[\"Senior\"],\"yaxis\":\"y\",\"type\":\"scatter\"},{\"hovertemplate\":\"<b>%{hovertext}</b><br><br>job_title=Data Science Manager<br>work_year=2022<br>salary_in_usd=%{marker.size}<br>experience_level=%{y}<extra></extra>\",\"hovertext\":[\"Data Science Manager\",\"Data Science Manager\",\"Data Science Manager\",\"Data Science Manager\",\"Data Science Manager\"],\"legendgroup\":\"Data Science Manager\",\"marker\":{\"color\":\"#FC1CBF\",\"size\":[161342,137141,241000,159000,152500],\"sizemode\":\"area\",\"sizeref\":1500.0,\"symbol\":\"circle\"},\"mode\":\"markers\",\"name\":\"Data Science Manager\",\"orientation\":\"h\",\"showlegend\":true,\"x\":[161342,137141,241000,159000,152500],\"xaxis\":\"x\",\"y\":[\"Senior\",\"Senior\",\"Mid\",\"Mid\",\"Senior\"],\"yaxis\":\"y\",\"type\":\"scatter\"},{\"hovertemplate\":\"<b>%{hovertext}</b><br><br>job_title=Head of Data<br>work_year=2022<br>salary_in_usd=%{marker.size}<br>experience_level=%{y}<extra></extra>\",\"hovertext\":[\"Head of Data\",\"Head of Data\"],\"legendgroup\":\"Head of Data\",\"marker\":{\"color\":\"#B00068\",\"size\":[200000,32974],\"sizemode\":\"area\",\"sizeref\":1500.0,\"symbol\":\"circle\"},\"mode\":\"markers\",\"name\":\"Head of Data\",\"orientation\":\"h\",\"showlegend\":true,\"x\":[200000,32974],\"xaxis\":\"x\",\"y\":[\"Senior\",\"Mid\"],\"yaxis\":\"y\",\"type\":\"scatter\"},{\"hovertemplate\":\"<b>%{hovertext}</b><br><br>job_title=Data Analytics Engineer<br>work_year=2022<br>salary_in_usd=%{marker.size}<br>experience_level=%{y}<extra></extra>\",\"hovertext\":[\"Data Analytics Engineer\"],\"legendgroup\":\"Data Analytics Engineer\",\"marker\":{\"color\":\"#FA0087\",\"size\":[20000],\"sizemode\":\"area\",\"sizeref\":1500.0,\"symbol\":\"circle\"},\"mode\":\"markers\",\"name\":\"Data Analytics Engineer\",\"orientation\":\"h\",\"showlegend\":true,\"x\":[20000],\"xaxis\":\"x\",\"y\":[\"Entry\"],\"yaxis\":\"y\",\"type\":\"scatter\"},{\"hovertemplate\":\"<b>%{hovertext}</b><br><br>job_title=Applied Data Scientist<br>work_year=2022<br>salary_in_usd=%{marker.size}<br>experience_level=%{y}<extra></extra>\",\"hovertext\":[\"Applied Data Scientist\",\"Applied Data Scientist\",\"Applied Data Scientist\"],\"legendgroup\":\"Applied Data Scientist\",\"marker\":{\"color\":\"#AA0DFE\",\"size\":[157000,380000,177000],\"sizemode\":\"area\",\"sizeref\":1500.0,\"symbol\":\"circle\"},\"mode\":\"markers\",\"name\":\"Applied Data Scientist\",\"orientation\":\"h\",\"showlegend\":true,\"x\":[157000,380000,177000],\"xaxis\":\"x\",\"y\":[\"Mid\",\"Senior\",\"Senior\"],\"yaxis\":\"y\",\"type\":\"scatter\"},{\"hovertemplate\":\"<b>%{hovertext}</b><br><br>job_title=Financial Data Analyst<br>work_year=2022<br>salary_in_usd=%{marker.size}<br>experience_level=%{y}<extra></extra>\",\"hovertext\":[\"Financial Data Analyst\"],\"legendgroup\":\"Financial Data Analyst\",\"marker\":{\"color\":\"#782AB6\",\"size\":[100000],\"sizemode\":\"area\",\"sizeref\":1500.0,\"symbol\":\"circle\"},\"mode\":\"markers\",\"name\":\"Financial Data Analyst\",\"orientation\":\"h\",\"showlegend\":true,\"x\":[100000],\"xaxis\":\"x\",\"y\":[\"Entry\"],\"yaxis\":\"y\",\"type\":\"scatter\"},{\"hovertemplate\":\"<b>%{hovertext}</b><br><br>job_title=Computer Vision Software Engineer<br>work_year=2022<br>salary_in_usd=%{marker.size}<br>experience_level=%{y}<extra></extra>\",\"hovertext\":[\"Computer Vision Software Engineer\"],\"legendgroup\":\"Computer Vision Software Engineer\",\"marker\":{\"color\":\"#565656\",\"size\":[150000],\"sizemode\":\"area\",\"sizeref\":1500.0,\"symbol\":\"circle\"},\"mode\":\"markers\",\"name\":\"Computer Vision Software Engineer\",\"orientation\":\"h\",\"showlegend\":true,\"x\":[150000],\"xaxis\":\"x\",\"y\":[\"Entry\"],\"yaxis\":\"y\",\"type\":\"scatter\"},{\"hovertemplate\":\"<b>%{hovertext}</b><br><br>job_title=Data Science Engineer<br>work_year=2022<br>salary_in_usd=%{marker.size}<br>experience_level=%{y}<extra></extra>\",\"hovertext\":[\"Data Science Engineer\"],\"legendgroup\":\"Data Science Engineer\",\"marker\":{\"color\":\"#16FF32\",\"size\":[60000],\"sizemode\":\"area\",\"sizeref\":1500.0,\"symbol\":\"circle\"},\"mode\":\"markers\",\"name\":\"Data Science Engineer\",\"orientation\":\"h\",\"showlegend\":true,\"x\":[60000],\"xaxis\":\"x\",\"y\":[\"Senior\"],\"yaxis\":\"y\",\"type\":\"scatter\"},{\"hovertemplate\":\"<b>%{hovertext}</b><br><br>job_title=Machine Learning Developer<br>work_year=2022<br>salary_in_usd=%{marker.size}<br>experience_level=%{y}<extra></extra>\",\"hovertext\":[\"Machine Learning Developer\",\"Machine Learning Developer\"],\"legendgroup\":\"Machine Learning Developer\",\"marker\":{\"color\":\"#E2E2E2\",\"size\":[78791,78791],\"sizemode\":\"area\",\"sizeref\":1500.0,\"symbol\":\"circle\"},\"mode\":\"markers\",\"name\":\"Machine Learning Developer\",\"orientation\":\"h\",\"showlegend\":true,\"x\":[78791,78791],\"xaxis\":\"x\",\"y\":[\"Mid\",\"Senior\"],\"yaxis\":\"y\",\"type\":\"scatter\"},{\"hovertemplate\":\"<b>%{hovertext}</b><br><br>job_title=Applied Machine Learning Scientist<br>work_year=2022<br>salary_in_usd=%{marker.size}<br>experience_level=%{y}<extra></extra>\",\"hovertext\":[\"Applied Machine Learning Scientist\",\"Applied Machine Learning Scientist\"],\"legendgroup\":\"Applied Machine Learning Scientist\",\"marker\":{\"color\":\"#1CBE4F\",\"size\":[31875,75000],\"sizemode\":\"area\",\"sizeref\":1500.0,\"symbol\":\"circle\"},\"mode\":\"markers\",\"name\":\"Applied Machine Learning Scientist\",\"orientation\":\"h\",\"showlegend\":true,\"x\":[31875,75000],\"xaxis\":\"x\",\"y\":[\"Entry\",\"Mid\"],\"yaxis\":\"y\",\"type\":\"scatter\"},{\"hovertemplate\":\"<b>%{hovertext}</b><br><br>job_title=Data Analytics Manager<br>work_year=2022<br>salary_in_usd=%{marker.size}<br>experience_level=%{y}<extra></extra>\",\"hovertext\":[\"Data Analytics Manager\",\"Data Analytics Manager\",\"Data Analytics Manager\",\"Data Analytics Manager\"],\"legendgroup\":\"Data Analytics Manager\",\"marker\":{\"color\":\"#C4451C\",\"size\":[145000,105400,150260,109280],\"sizemode\":\"area\",\"sizeref\":1500.0,\"symbol\":\"circle\"},\"mode\":\"markers\",\"name\":\"Data Analytics Manager\",\"orientation\":\"h\",\"showlegend\":true,\"x\":[145000,105400,150260,109280],\"xaxis\":\"x\",\"y\":[\"Senior\",\"Senior\",\"Senior\",\"Senior\"],\"yaxis\":\"y\",\"type\":\"scatter\"},{\"hovertemplate\":\"<b>%{hovertext}</b><br><br>job_title=Head of Data Science<br>work_year=2022<br>salary_in_usd=%{marker.size}<br>experience_level=%{y}<extra></extra>\",\"hovertext\":[\"Head of Data Science\",\"Head of Data Science\"],\"legendgroup\":\"Head of Data Science\",\"marker\":{\"color\":\"#DEA0FD\",\"size\":[224000,167875],\"sizemode\":\"area\",\"sizeref\":1500.0,\"symbol\":\"circle\"},\"mode\":\"markers\",\"name\":\"Head of Data Science\",\"orientation\":\"h\",\"showlegend\":true,\"x\":[224000,167875],\"xaxis\":\"x\",\"y\":[\"Executive\",\"Executive\"],\"yaxis\":\"y\",\"type\":\"scatter\"},{\"hovertemplate\":\"<b>%{hovertext}</b><br><br>job_title=Data Architect<br>work_year=2022<br>salary_in_usd=%{marker.size}<br>experience_level=%{y}<extra></extra>\",\"hovertext\":[\"Data Architect\",\"Data Architect\",\"Data Architect\",\"Data Architect\",\"Data Architect\",\"Data Architect\",\"Data Architect\",\"Data Architect\"],\"legendgroup\":\"Data Architect\",\"marker\":{\"color\":\"#325A9B\",\"size\":[192400,90700,208775,147800,266400,213120,192564,144854],\"sizemode\":\"area\",\"sizeref\":1500.0,\"symbol\":\"circle\"},\"mode\":\"markers\",\"name\":\"Data Architect\",\"orientation\":\"h\",\"showlegend\":true,\"x\":[192400,90700,208775,147800,266400,213120,192564,144854],\"xaxis\":\"x\",\"y\":[\"Senior\",\"Senior\",\"Senior\",\"Senior\",\"Senior\",\"Senior\",\"Senior\",\"Senior\"],\"yaxis\":\"y\",\"type\":\"scatter\"},{\"hovertemplate\":\"<b>%{hovertext}</b><br><br>job_title=Principal Data Analyst<br>work_year=2022<br>salary_in_usd=%{marker.size}<br>experience_level=%{y}<extra></extra>\",\"hovertext\":[\"Principal Data Analyst\"],\"legendgroup\":\"Principal Data Analyst\",\"marker\":{\"color\":\"#F8A19F\",\"size\":[75000],\"sizemode\":\"area\",\"sizeref\":1500.0,\"symbol\":\"circle\"},\"mode\":\"markers\",\"name\":\"Principal Data Analyst\",\"orientation\":\"h\",\"showlegend\":true,\"x\":[75000],\"xaxis\":\"x\",\"y\":[\"Mid\"],\"yaxis\":\"y\",\"type\":\"scatter\"},{\"hovertemplate\":\"<b>%{hovertext}</b><br><br>job_title=Analytics Engineer<br>work_year=2022<br>salary_in_usd=%{marker.size}<br>experience_level=%{y}<extra></extra>\",\"hovertext\":[\"Analytics Engineer\",\"Analytics Engineer\",\"Analytics Engineer\",\"Analytics Engineer\"],\"legendgroup\":\"Analytics Engineer\",\"marker\":{\"color\":\"#1CFFCE\",\"size\":[175000,135000,205300,184700],\"sizemode\":\"area\",\"sizeref\":1500.0,\"symbol\":\"circle\"},\"mode\":\"markers\",\"name\":\"Analytics Engineer\",\"orientation\":\"h\",\"showlegend\":true,\"x\":[175000,135000,205300,184700],\"xaxis\":\"x\",\"y\":[\"Executive\",\"Executive\",\"Senior\",\"Senior\"],\"yaxis\":\"y\",\"type\":\"scatter\"},{\"hovertemplate\":\"<b>%{hovertext}</b><br><br>job_title=ETL Developer<br>work_year=2022<br>salary_in_usd=%{marker.size}<br>experience_level=%{y}<extra></extra>\",\"hovertext\":[\"ETL Developer\",\"ETL Developer\"],\"legendgroup\":\"ETL Developer\",\"marker\":{\"color\":\"#2ED9FF\",\"size\":[54957,54957],\"sizemode\":\"area\",\"sizeref\":1500.0,\"symbol\":\"circle\"},\"mode\":\"markers\",\"name\":\"ETL Developer\",\"orientation\":\"h\",\"showlegend\":true,\"x\":[54957,54957],\"xaxis\":\"x\",\"y\":[\"Mid\",\"Mid\"],\"yaxis\":\"y\",\"type\":\"scatter\"},{\"hovertemplate\":\"<b>%{hovertext}</b><br><br>job_title=Head of Machine Learning<br>work_year=2022<br>salary_in_usd=%{marker.size}<br>experience_level=%{y}<extra></extra>\",\"hovertext\":[\"Head of Machine Learning\"],\"legendgroup\":\"Head of Machine Learning\",\"marker\":{\"color\":\"#B10DA1\",\"size\":[79039],\"sizemode\":\"area\",\"sizeref\":1500.0,\"symbol\":\"circle\"},\"mode\":\"markers\",\"name\":\"Head of Machine Learning\",\"orientation\":\"h\",\"showlegend\":true,\"x\":[79039],\"xaxis\":\"x\",\"y\":[\"Executive\"],\"yaxis\":\"y\",\"type\":\"scatter\"},{\"hovertemplate\":\"<b>%{hovertext}</b><br><br>job_title=NLP Engineer<br>work_year=2022<br>salary_in_usd=%{marker.size}<br>experience_level=%{y}<extra></extra>\",\"hovertext\":[\"NLP Engineer\"],\"legendgroup\":\"NLP Engineer\",\"marker\":{\"color\":\"#C075A6\",\"size\":[37236],\"sizemode\":\"area\",\"sizeref\":1500.0,\"symbol\":\"circle\"},\"mode\":\"markers\",\"name\":\"NLP Engineer\",\"orientation\":\"h\",\"showlegend\":true,\"x\":[37236],\"xaxis\":\"x\",\"y\":[\"Mid\"],\"yaxis\":\"y\",\"type\":\"scatter\"},{\"hovertemplate\":\"<b>%{hovertext}</b><br><br>job_title=Lead Machine Learning Engineer<br>work_year=2022<br>salary_in_usd=%{marker.size}<br>experience_level=%{y}<extra></extra>\",\"hovertext\":[\"Lead Machine Learning Engineer\"],\"legendgroup\":\"Lead Machine Learning Engineer\",\"marker\":{\"color\":\"#FC1CBF\",\"size\":[87932],\"sizemode\":\"area\",\"sizeref\":1500.0,\"symbol\":\"circle\"},\"mode\":\"markers\",\"name\":\"Lead Machine Learning Engineer\",\"orientation\":\"h\",\"showlegend\":true,\"x\":[87932],\"xaxis\":\"x\",\"y\":[\"Senior\"],\"yaxis\":\"y\",\"type\":\"scatter\"},{\"hovertemplate\":\"<b>%{hovertext}</b><br><br>job_title=Data Analytics Lead<br>work_year=2022<br>salary_in_usd=%{marker.size}<br>experience_level=%{y}<extra></extra>\",\"hovertext\":[\"Data Analytics Lead\"],\"legendgroup\":\"Data Analytics Lead\",\"marker\":{\"color\":\"#B00068\",\"size\":[405000],\"sizemode\":\"area\",\"sizeref\":1500.0,\"symbol\":\"circle\"},\"mode\":\"markers\",\"name\":\"Data Analytics Lead\",\"orientation\":\"h\",\"showlegend\":true,\"x\":[405000],\"xaxis\":\"x\",\"y\":[\"Senior\"],\"yaxis\":\"y\",\"type\":\"scatter\"}],\"name\":\"2022\"}]);\n",
       "                        }).then(function(){\n",
       "                            \n",
       "var gd = document.getElementById('4fedeec8-1312-4304-a18c-24c2789864b2');\n",
       "var x = new MutationObserver(function (mutations, observer) {{\n",
       "        var display = window.getComputedStyle(gd).display;\n",
       "        if (!display || display === 'none') {{\n",
       "            console.log([gd, 'removed!']);\n",
       "            Plotly.purge(gd);\n",
       "            observer.disconnect();\n",
       "        }}\n",
       "}});\n",
       "\n",
       "// Listen for the removal of the full notebook cells\n",
       "var notebookContainer = gd.closest('#notebook-container');\n",
       "if (notebookContainer) {{\n",
       "    x.observe(notebookContainer, {childList: true});\n",
       "}}\n",
       "\n",
       "// Listen for the clearing of the current output cell\n",
       "var outputEl = gd.closest('.output');\n",
       "if (outputEl) {{\n",
       "    x.observe(outputEl, {childList: true});\n",
       "}}\n",
       "\n",
       "                        })                };                });            </script>        </div>"
      ]
     },
     "metadata": {},
     "output_type": "display_data"
    }
   ],
   "source": [
    "#checking the distribution of salaries across different experince levels\n",
    "px.scatter(df, x = 'salary_in_usd', y = 'experience_level', size = 'salary_in_usd', hover_name = 'job_title',\n",
    "           color = 'job_title', \n",
    "           color_discrete_sequence=px.colors.qualitative.Alphabet, template = 'ggplot2',\n",
    "           animation_frame = 'work_year', \n",
    "           title = 'Experience level VS Salary').update_yaxes(categoryarray = ['Entry', 'Mid', 'Senior', 'Executive'])"
   ]
  },
  {
   "cell_type": "markdown",
   "id": "ffb3eb05",
   "metadata": {},
   "source": [
    "Data scientists earn th most followed by Data Engineer and BI Data Analyst"
   ]
  },
  {
   "cell_type": "code",
   "execution_count": null,
   "id": "1f55a021",
   "metadata": {},
   "outputs": [],
   "source": []
  }
 ],
 "metadata": {
  "kernelspec": {
   "display_name": "Python 3 (ipykernel)",
   "language": "python",
   "name": "python3"
  },
  "language_info": {
   "codemirror_mode": {
    "name": "ipython",
    "version": 3
   },
   "file_extension": ".py",
   "mimetype": "text/x-python",
   "name": "python",
   "nbconvert_exporter": "python",
   "pygments_lexer": "ipython3",
   "version": "3.9.12"
  }
 },
 "nbformat": 4,
 "nbformat_minor": 5
}
